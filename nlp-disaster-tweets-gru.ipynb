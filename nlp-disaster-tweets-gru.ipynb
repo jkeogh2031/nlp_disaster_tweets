{
 "cells": [
  {
   "cell_type": "code",
   "execution_count": 1,
   "id": "7ae2f93b",
   "metadata": {
    "_cell_guid": "b1076dfc-b9ad-4769-8c92-a6c4dae69d19",
    "_uuid": "8f2839f25d086af736a60e9eeb907d3b93b6e0e5",
    "execution": {
     "iopub.execute_input": "2022-08-10T08:52:18.280688Z",
     "iopub.status.busy": "2022-08-10T08:52:18.280029Z",
     "iopub.status.idle": "2022-08-10T08:52:25.805324Z",
     "shell.execute_reply": "2022-08-10T08:52:25.804118Z"
    },
    "papermill": {
     "duration": 7.535617,
     "end_time": "2022-08-10T08:52:25.808483",
     "exception": false,
     "start_time": "2022-08-10T08:52:18.272866",
     "status": "completed"
    },
    "tags": []
   },
   "outputs": [
    {
     "name": "stderr",
     "output_type": "stream",
     "text": [
      "[nltk_data] Downloading package stopwords to /usr/share/nltk_data...\n",
      "[nltk_data]   Package stopwords is already up-to-date!\n",
      "[nltk_data] Downloading package omw-1.4 to /usr/share/nltk_data...\n"
     ]
    }
   ],
   "source": [
    "import numpy as np\n",
    "import pandas as pd\n",
    "import matplotlib.pyplot as plt\n",
    "import nltk\n",
    "from nltk.tokenize import RegexpTokenizer\n",
    "from nltk.stem import WordNetLemmatizer,PorterStemmer\n",
    "from nltk.corpus import stopwords\n",
    "nltk.download('stopwords')\n",
    "nltk.download('omw-1.4')\n",
    "import re\n",
    "from collections import Counter\n",
    "import random\n",
    "\n",
    "import tensorflow as tf\n",
    "from sklearn.model_selection import train_test_split"
   ]
  },
  {
   "cell_type": "code",
   "execution_count": 2,
   "id": "49473699",
   "metadata": {
    "execution": {
     "iopub.execute_input": "2022-08-10T08:52:25.820136Z",
     "iopub.status.busy": "2022-08-10T08:52:25.819222Z",
     "iopub.status.idle": "2022-08-10T08:52:25.903037Z",
     "shell.execute_reply": "2022-08-10T08:52:25.901865Z"
    },
    "papermill": {
     "duration": 0.092571,
     "end_time": "2022-08-10T08:52:25.905864",
     "exception": false,
     "start_time": "2022-08-10T08:52:25.813293",
     "status": "completed"
    },
    "tags": []
   },
   "outputs": [],
   "source": [
    "TRAIN_FP = '../input/nlp-getting-started/train.csv'\n",
    "TEST_FP = '../input/nlp-getting-started/test.csv'\n",
    "\n",
    "train = pd.read_csv(TRAIN_FP)\n",
    "test = pd.read_csv(TEST_FP)"
   ]
  },
  {
   "cell_type": "code",
   "execution_count": 3,
   "id": "05808b05",
   "metadata": {
    "execution": {
     "iopub.execute_input": "2022-08-10T08:52:25.916803Z",
     "iopub.status.busy": "2022-08-10T08:52:25.916374Z",
     "iopub.status.idle": "2022-08-10T08:52:25.932943Z",
     "shell.execute_reply": "2022-08-10T08:52:25.932088Z"
    },
    "papermill": {
     "duration": 0.025042,
     "end_time": "2022-08-10T08:52:25.935591",
     "exception": false,
     "start_time": "2022-08-10T08:52:25.910549",
     "status": "completed"
    },
    "tags": []
   },
   "outputs": [
    {
     "name": "stdout",
     "output_type": "stream",
     "text": [
      "3271 disasters, 42.97% of training set\n"
     ]
    }
   ],
   "source": [
    "disaster_tweets = train.loc[train['target'] == 1, :].shape[0]\n",
    "total_tweets = train.shape[0]\n",
    "print(f'{disaster_tweets} disasters, {(disaster_tweets/total_tweets)*100:.2f}% of training set')"
   ]
  },
  {
   "cell_type": "code",
   "execution_count": 4,
   "id": "c88f5be2",
   "metadata": {
    "execution": {
     "iopub.execute_input": "2022-08-10T08:52:25.947076Z",
     "iopub.status.busy": "2022-08-10T08:52:25.946683Z",
     "iopub.status.idle": "2022-08-10T08:52:25.961170Z",
     "shell.execute_reply": "2022-08-10T08:52:25.959947Z"
    },
    "papermill": {
     "duration": 0.023263,
     "end_time": "2022-08-10T08:52:25.963759",
     "exception": false,
     "start_time": "2022-08-10T08:52:25.940496",
     "status": "completed"
    },
    "tags": []
   },
   "outputs": [
    {
     "name": "stdout",
     "output_type": "stream",
     "text": [
      "69 tweets duplicated, 179 total duplicates\n"
     ]
    }
   ],
   "source": [
    "train_duplicates = train.loc[train.duplicated(subset='text', keep=False), :]\n",
    "num_unique_duplicated_tweets = train_duplicates.loc(axis=1)['text'].unique().shape[0]\n",
    "num_total_duplicated_tweets = train_duplicates.shape[0]\n",
    "\n",
    "print(f'{num_unique_duplicated_tweets} tweets duplicated, {num_total_duplicated_tweets} total duplicates')"
   ]
  },
  {
   "cell_type": "code",
   "execution_count": 5,
   "id": "b1122886",
   "metadata": {
    "execution": {
     "iopub.execute_input": "2022-08-10T08:52:25.975408Z",
     "iopub.status.busy": "2022-08-10T08:52:25.974997Z",
     "iopub.status.idle": "2022-08-10T08:52:26.135699Z",
     "shell.execute_reply": "2022-08-10T08:52:26.134440Z"
    },
    "papermill": {
     "duration": 0.169741,
     "end_time": "2022-08-10T08:52:26.138301",
     "exception": false,
     "start_time": "2022-08-10T08:52:25.968560",
     "status": "completed"
    },
    "tags": []
   },
   "outputs": [
    {
     "name": "stdout",
     "output_type": "stream",
     "text": [
      "Remaining duplicates in training set: 0\n"
     ]
    }
   ],
   "source": [
    "# For the duplicated entries, if not marked the same => drop altogether\n",
    "duplicated_tweets = train_duplicates.loc(axis=1)['text'].unique()\n",
    "train_first_of_duplicate = pd.DataFrame(columns=train.columns)\n",
    "\n",
    "for tweet in duplicated_tweets:\n",
    "    if train_duplicates.loc(axis=0)[train_duplicates['text'] == tweet]['target'].unique().shape[0] == 1:\n",
    "        train_first_of_duplicate = pd.concat([\n",
    "            train_first_of_duplicate,\n",
    "            pd.DataFrame(train_duplicates.loc(axis=0)[train_duplicates['text'] == tweet].iloc[0]).T\n",
    "        ],\n",
    "            ignore_index=True\n",
    "        )\n",
    "\n",
    "# All of training set with none of the duplicates\n",
    "train_unduplicated = train.drop_duplicates(subset='text', keep=False)\n",
    "\n",
    "# All of training set with first instance of each duplicate included\n",
    "train_all_no_duplicates = pd.concat([\n",
    "    train_first_of_duplicate,\n",
    "    train_unduplicated     \n",
    "],\n",
    "    ignore_index=True\n",
    ")\n",
    "\n",
    "# Check no duplicates remain\n",
    "remaining_duplicates = train_all_no_duplicates.loc[train_all_no_duplicates.duplicated(subset='text', keep=False), :]\n",
    "print(f'Remaining duplicates in training set: {remaining_duplicates.shape[0]}')"
   ]
  },
  {
   "cell_type": "code",
   "execution_count": 6,
   "id": "2b4aad66",
   "metadata": {
    "execution": {
     "iopub.execute_input": "2022-08-10T08:52:26.150530Z",
     "iopub.status.busy": "2022-08-10T08:52:26.149506Z",
     "iopub.status.idle": "2022-08-10T08:52:26.155104Z",
     "shell.execute_reply": "2022-08-10T08:52:26.153888Z"
    },
    "papermill": {
     "duration": 0.014194,
     "end_time": "2022-08-10T08:52:26.157586",
     "exception": false,
     "start_time": "2022-08-10T08:52:26.143392",
     "status": "completed"
    },
    "tags": []
   },
   "outputs": [],
   "source": [
    "train_set = train_all_no_duplicates\n",
    "test_set = test"
   ]
  },
  {
   "cell_type": "markdown",
   "id": "e5ee188f",
   "metadata": {
    "papermill": {
     "duration": 0.004752,
     "end_time": "2022-08-10T08:52:26.167513",
     "exception": false,
     "start_time": "2022-08-10T08:52:26.162761",
     "status": "completed"
    },
    "tags": []
   },
   "source": [
    "### Pre-Processing"
   ]
  },
  {
   "cell_type": "code",
   "execution_count": 7,
   "id": "344b4da2",
   "metadata": {
    "execution": {
     "iopub.execute_input": "2022-08-10T08:52:26.180306Z",
     "iopub.status.busy": "2022-08-10T08:52:26.179923Z",
     "iopub.status.idle": "2022-08-10T08:52:42.292463Z",
     "shell.execute_reply": "2022-08-10T08:52:42.291370Z"
    },
    "papermill": {
     "duration": 16.121686,
     "end_time": "2022-08-10T08:52:42.295130",
     "exception": false,
     "start_time": "2022-08-10T08:52:26.173444",
     "status": "completed"
    },
    "tags": []
   },
   "outputs": [],
   "source": [
    "# Clean up tweet content\n",
    "\n",
    "lemmatizer = WordNetLemmatizer()\n",
    "stemmer = PorterStemmer() \n",
    "\n",
    "def preprocess_text(sentence):\n",
    "    sentence = str(sentence)\n",
    "    sentence = sentence.lower()\n",
    "    sentence = sentence.replace('{html}', \"\") \n",
    "    rem_url = re.sub(r'http\\S+', '', sentence)\n",
    "    cleanr = re.compile('[^A-Za-z ]+')\n",
    "    rem_num_non_alpha = re.sub(cleanr, '', rem_url)\n",
    "    tokenizer = RegexpTokenizer(r'\\w+')\n",
    "    tokens = tokenizer.tokenize(rem_num_non_alpha)\n",
    "    filtered_words = [w for w in tokens if len(w) > 2 if not w in stopwords.words('english')]\n",
    "    stem_words = [stemmer.stem(w) for w in filtered_words]\n",
    "    lemma_words=[lemmatizer.lemmatize(w) for w in stem_words]\n",
    "    return \" \".join(lemma_words)\n",
    "\n",
    "train_set['clean_text'] = train_set['text'].map(lambda s:preprocess_text(s))"
   ]
  },
  {
   "cell_type": "code",
   "execution_count": 8,
   "id": "f5d728ed",
   "metadata": {
    "execution": {
     "iopub.execute_input": "2022-08-10T08:52:42.308241Z",
     "iopub.status.busy": "2022-08-10T08:52:42.307838Z",
     "iopub.status.idle": "2022-08-10T08:52:42.497390Z",
     "shell.execute_reply": "2022-08-10T08:52:42.496177Z"
    },
    "papermill": {
     "duration": 0.199547,
     "end_time": "2022-08-10T08:52:42.500054",
     "exception": false,
     "start_time": "2022-08-10T08:52:42.300507",
     "status": "completed"
    },
    "tags": []
   },
   "outputs": [],
   "source": [
    "# Create vocab list and word index\n",
    "\n",
    "vocab = []\n",
    "for i in range(train_set.shape[0]):\n",
    "    vocab.extend(train_set.loc(axis=1)['clean_text'].iloc(axis=0)[i].split(\" \"))\n",
    "    \n",
    "vocab_counter = Counter(vocab)\n",
    "word_index = {word:index for index, word in enumerate(map(lambda v: v[0], vocab_counter.most_common()), 2)}\n",
    "word_index['<OOV>'] = 1\n",
    "vocab_size = max(word_index.values()) + 1"
   ]
  },
  {
   "cell_type": "code",
   "execution_count": 9,
   "id": "92efbd72",
   "metadata": {
    "execution": {
     "iopub.execute_input": "2022-08-10T08:52:42.512699Z",
     "iopub.status.busy": "2022-08-10T08:52:42.511558Z",
     "iopub.status.idle": "2022-08-10T08:52:42.520601Z",
     "shell.execute_reply": "2022-08-10T08:52:42.519739Z"
    },
    "papermill": {
     "duration": 0.017845,
     "end_time": "2022-08-10T08:52:42.523028",
     "exception": false,
     "start_time": "2022-08-10T08:52:42.505183",
     "status": "completed"
    },
    "tags": []
   },
   "outputs": [],
   "source": [
    "SEQ_LENGTH = 20\n",
    "\n",
    "def words_to_integer_sequence(sequence, word_index):\n",
    "    sequence_integer_vector = np.zeros([SEQ_LENGTH])\n",
    "    for i, word in enumerate(sequence):\n",
    "        if i < SEQ_LENGTH:\n",
    "            sequence_integer_vector[i] = word_index[word] if word in word_index else 1\n",
    "    \n",
    "    return sequence_integer_vector\n",
    "\n",
    "def integer_to_words_sequence(sequence, word_index):\n",
    "    index_list = list(word_index.values())\n",
    "    word_list = list(word_index.keys())\n",
    "    word_sequence = []\n",
    "    for i in sequence:\n",
    "        if i > 0:\n",
    "            word_loc = index_list.index(i)\n",
    "            word_sequence.append(word_list[word_loc])\n",
    "    \n",
    "    return word_sequence\n",
    "        "
   ]
  },
  {
   "cell_type": "code",
   "execution_count": 10,
   "id": "e110de5f",
   "metadata": {
    "execution": {
     "iopub.execute_input": "2022-08-10T08:52:42.535276Z",
     "iopub.status.busy": "2022-08-10T08:52:42.534872Z",
     "iopub.status.idle": "2022-08-10T08:52:42.717122Z",
     "shell.execute_reply": "2022-08-10T08:52:42.715817Z"
    },
    "papermill": {
     "duration": 0.191644,
     "end_time": "2022-08-10T08:52:42.719889",
     "exception": false,
     "start_time": "2022-08-10T08:52:42.528245",
     "status": "completed"
    },
    "tags": []
   },
   "outputs": [
    {
     "name": "stdout",
     "output_type": "stream",
     "text": [
      "Training Set X: (6736, 20), y: (6736,)\n",
      "Validation Set X: (749, 20), y: (749,)\n"
     ]
    }
   ],
   "source": [
    "X = []\n",
    "\n",
    "for i in range(train_set.shape[0]):\n",
    "    sequence_tokenized = train_set['clean_text'].iloc(axis=0)[i].split(\" \")\n",
    "    integer_vector = words_to_integer_sequence(sequence_tokenized, word_index)\n",
    "    X.append(integer_vector)\n",
    "\n",
    "y = train_set.loc(axis=1)['target'].astype('int').to_list()\n",
    "\n",
    "X = np.array(X)\n",
    "y = np.array(y)\n",
    "\n",
    "X_train, X_val, y_train, y_val = train_test_split(X, y, test_size=0.1, random_state=42)\n",
    "\n",
    "print(f'Training Set X: {X_train.shape}, y: {y_train.shape}')\n",
    "print(f'Validation Set X: {X_val.shape}, y: {y_val.shape}')"
   ]
  },
  {
   "cell_type": "code",
   "execution_count": 11,
   "id": "04509f52",
   "metadata": {
    "execution": {
     "iopub.execute_input": "2022-08-10T08:52:42.732491Z",
     "iopub.status.busy": "2022-08-10T08:52:42.732043Z",
     "iopub.status.idle": "2022-08-10T08:52:42.745552Z",
     "shell.execute_reply": "2022-08-10T08:52:42.744251Z"
    },
    "papermill": {
     "duration": 0.023085,
     "end_time": "2022-08-10T08:52:42.748412",
     "exception": false,
     "start_time": "2022-08-10T08:52:42.725327",
     "status": "completed"
    },
    "tags": []
   },
   "outputs": [
    {
     "name": "stdout",
     "output_type": "stream",
     "text": [
      "[3.4700e+02 5.3000e+01 1.7600e+02 8.5000e+01 1.3647e+04 3.4520e+03\n",
      " 3.6700e+02 4.7300e+02 2.9600e+02 5.4200e+02 4.8200e+02 4.8160e+03\n",
      " 1.3000e+01 1.1000e+01 0.0000e+00 0.0000e+00 0.0000e+00 0.0000e+00\n",
      " 0.0000e+00 0.0000e+00]\n",
      "['group', 'suicid', 'bomber', 'deton', 'explosivespack', 'vest', 'mosqu', 'insid', 'saudi', 'special', 'forc', 'headquart', 'kill', 'peopl']\n",
      "1\n"
     ]
    }
   ],
   "source": [
    "example_num = random.randint(0, y_train.shape[0])\n",
    "print(X_train[example_num])\n",
    "print(integer_to_words_sequence(X_train[example_num], word_index))\n",
    "print(y_train[example_num])"
   ]
  },
  {
   "cell_type": "markdown",
   "id": "94761625",
   "metadata": {
    "papermill": {
     "duration": 0.005063,
     "end_time": "2022-08-10T08:52:42.758981",
     "exception": false,
     "start_time": "2022-08-10T08:52:42.753918",
     "status": "completed"
    },
    "tags": []
   },
   "source": [
    "### Validation Model"
   ]
  },
  {
   "cell_type": "code",
   "execution_count": 12,
   "id": "3ff02a8c",
   "metadata": {
    "execution": {
     "iopub.execute_input": "2022-08-10T08:52:42.771899Z",
     "iopub.status.busy": "2022-08-10T08:52:42.771491Z",
     "iopub.status.idle": "2022-08-10T08:52:44.545160Z",
     "shell.execute_reply": "2022-08-10T08:52:44.543309Z"
    },
    "papermill": {
     "duration": 1.784058,
     "end_time": "2022-08-10T08:52:44.548759",
     "exception": false,
     "start_time": "2022-08-10T08:52:42.764701",
     "status": "completed"
    },
    "tags": []
   },
   "outputs": [
    {
     "name": "stderr",
     "output_type": "stream",
     "text": [
      "2022-08-10 08:52:43.989765: I tensorflow/core/common_runtime/process_util.cc:146] Creating new thread pool with default inter op setting: 2. Tune using inter_op_parallelism_threads for best performance.\n"
     ]
    },
    {
     "name": "stdout",
     "output_type": "stream",
     "text": [
      "Model: \"sequential\"\n",
      "_________________________________________________________________\n",
      "Layer (type)                 Output Shape              Param #   \n",
      "=================================================================\n",
      "embedding (Embedding)        (None, 20, 8)             109232    \n",
      "_________________________________________________________________\n",
      "bidirectional (Bidirectional (None, 16)                864       \n",
      "_________________________________________________________________\n",
      "dense (Dense)                (None, 4)                 68        \n",
      "_________________________________________________________________\n",
      "dense_1 (Dense)              (None, 1)                 5         \n",
      "=================================================================\n",
      "Total params: 110,169\n",
      "Trainable params: 110,169\n",
      "Non-trainable params: 0\n",
      "_________________________________________________________________\n"
     ]
    }
   ],
   "source": [
    "vocab_size = max(word_index.values()) + 1\n",
    "embedding_dim = 8\n",
    "gru_dim = 8\n",
    "\n",
    "model = tf.keras.Sequential([\n",
    "    tf.keras.layers.Embedding(vocab_size, embedding_dim, input_length=SEQ_LENGTH),\n",
    "    tf.keras.layers.Bidirectional(tf.keras.layers.GRU(gru_dim)),\n",
    "    tf.keras.layers.Dense(4, activation='relu'),\n",
    "    tf.keras.layers.Dense(1, activation='sigmoid')\n",
    "])\n",
    "\n",
    "model.compile(loss='binary_crossentropy', optimizer='adam', metrics=['accuracy'])\n",
    "model.summary()"
   ]
  },
  {
   "cell_type": "code",
   "execution_count": 13,
   "id": "90ddb515",
   "metadata": {
    "execution": {
     "iopub.execute_input": "2022-08-10T08:52:44.562476Z",
     "iopub.status.busy": "2022-08-10T08:52:44.562039Z",
     "iopub.status.idle": "2022-08-10T08:52:44.568619Z",
     "shell.execute_reply": "2022-08-10T08:52:44.567444Z"
    },
    "papermill": {
     "duration": 0.015985,
     "end_time": "2022-08-10T08:52:44.571048",
     "exception": false,
     "start_time": "2022-08-10T08:52:44.555063",
     "status": "completed"
    },
    "tags": []
   },
   "outputs": [],
   "source": [
    "checkpoint = tf.keras.callbacks.ModelCheckpoint('disaster_dense.h5', monitor='val_loss', mode='min', save_best_only=True)\n",
    "early_stopping = tf.keras.callbacks.EarlyStopping(monitor='val_loss', mode='min', patience=10, restore_best_weights=True)\n",
    "\n",
    "callback = [checkpoint, early_stopping]"
   ]
  },
  {
   "cell_type": "code",
   "execution_count": 14,
   "id": "a78e95f6",
   "metadata": {
    "execution": {
     "iopub.execute_input": "2022-08-10T08:52:44.584835Z",
     "iopub.status.busy": "2022-08-10T08:52:44.584016Z",
     "iopub.status.idle": "2022-08-10T08:53:52.676643Z",
     "shell.execute_reply": "2022-08-10T08:53:52.675007Z"
    },
    "papermill": {
     "duration": 68.102784,
     "end_time": "2022-08-10T08:53:52.679768",
     "exception": false,
     "start_time": "2022-08-10T08:52:44.576984",
     "status": "completed"
    },
    "tags": []
   },
   "outputs": [
    {
     "name": "stdout",
     "output_type": "stream",
     "text": [
      "Epoch 1/100\n"
     ]
    },
    {
     "name": "stderr",
     "output_type": "stream",
     "text": [
      "2022-08-10 08:52:44.641592: I tensorflow/compiler/mlir/mlir_graph_optimization_pass.cc:185] None of the MLIR Optimization Passes are enabled (registered 2)\n"
     ]
    },
    {
     "name": "stdout",
     "output_type": "stream",
     "text": [
      "421/421 [==============================] - 9s 14ms/step - loss: 0.5762 - accuracy: 0.6951 - val_loss: 0.4295 - val_accuracy: 0.8117\n",
      "Epoch 2/100\n",
      "421/421 [==============================] - 6s 14ms/step - loss: 0.3325 - accuracy: 0.8643 - val_loss: 0.4188 - val_accuracy: 0.8304\n",
      "Epoch 3/100\n",
      "421/421 [==============================] - 5s 13ms/step - loss: 0.2078 - accuracy: 0.9222 - val_loss: 0.4692 - val_accuracy: 0.8291\n",
      "Epoch 4/100\n",
      "421/421 [==============================] - 5s 12ms/step - loss: 0.1360 - accuracy: 0.9537 - val_loss: 0.5521 - val_accuracy: 0.8104\n",
      "Epoch 5/100\n",
      "421/421 [==============================] - 5s 12ms/step - loss: 0.0960 - accuracy: 0.9687 - val_loss: 0.6271 - val_accuracy: 0.7770\n",
      "Epoch 6/100\n",
      "421/421 [==============================] - 5s 12ms/step - loss: 0.0732 - accuracy: 0.9758 - val_loss: 0.6870 - val_accuracy: 0.7984\n",
      "Epoch 7/100\n",
      "421/421 [==============================] - 5s 12ms/step - loss: 0.0683 - accuracy: 0.9761 - val_loss: 0.7032 - val_accuracy: 0.7757\n",
      "Epoch 8/100\n",
      "421/421 [==============================] - 6s 14ms/step - loss: 0.0578 - accuracy: 0.9785 - val_loss: 0.7154 - val_accuracy: 0.7944\n",
      "Epoch 9/100\n",
      "421/421 [==============================] - 5s 12ms/step - loss: 0.0519 - accuracy: 0.9801 - val_loss: 0.7691 - val_accuracy: 0.7864\n",
      "Epoch 10/100\n",
      "421/421 [==============================] - 5s 12ms/step - loss: 0.0492 - accuracy: 0.9813 - val_loss: 0.7809 - val_accuracy: 0.7810\n",
      "Epoch 11/100\n",
      "421/421 [==============================] - 5s 12ms/step - loss: 0.0488 - accuracy: 0.9814 - val_loss: 0.7672 - val_accuracy: 0.7784\n",
      "Epoch 12/100\n",
      "421/421 [==============================] - 5s 12ms/step - loss: 0.0448 - accuracy: 0.9814 - val_loss: 0.8070 - val_accuracy: 0.7904\n"
     ]
    }
   ],
   "source": [
    "NUM_EPOCHS = 100\n",
    "BATCH_SIZE = 16\n",
    "\n",
    "history = model.fit(\n",
    "    X_train, y_train, batch_size=BATCH_SIZE,\n",
    "    epochs=NUM_EPOCHS, validation_data=(X_val, y_val),\n",
    "    callbacks=callback\n",
    ")"
   ]
  },
  {
   "cell_type": "code",
   "execution_count": 15,
   "id": "36bd2262",
   "metadata": {
    "execution": {
     "iopub.execute_input": "2022-08-10T08:53:52.823125Z",
     "iopub.status.busy": "2022-08-10T08:53:52.822274Z",
     "iopub.status.idle": "2022-08-10T08:54:09.755416Z",
     "shell.execute_reply": "2022-08-10T08:54:09.754127Z"
    },
    "papermill": {
     "duration": 17.008642,
     "end_time": "2022-08-10T08:54:09.758075",
     "exception": false,
     "start_time": "2022-08-10T08:53:52.749433",
     "status": "completed"
    },
    "tags": []
   },
   "outputs": [
    {
     "data": {
      "text/plain": [
       "<matplotlib.legend.Legend at 0x7f78f2ea1e90>"
      ]
     },
     "execution_count": 15,
     "metadata": {},
     "output_type": "execute_result"
    },
    {
     "data": {
      "image/png": "[encoded data removed]",
      "text/plain": [
       "<Figure size 1008x432 with 2 Axes>"
      ]
     },
     "metadata": {
      "needs_background": "light"
     },
     "output_type": "display_data"
    }
   ],
   "source": [
    "fig, axs = plt.subplots(ncols=2, nrows=1, figsize=(14,6))\n",
    "axs[0].plot(history.history['loss'], color='blue')\n",
    "axs[0].plot(history.history['val_loss'], color='red')\n",
    "axs[0].legend(['loss', 'val_loss'])\n",
    "\n",
    "axs[1].plot(history.history['accuracy'], color='blue')\n",
    "axs[1].plot(history.history['val_accuracy'], color='red')\n",
    "axs[1].legend(['accuracy', 'val_accuracy'])"
   ]
  },
  {
   "cell_type": "markdown",
   "id": "e6411a30",
   "metadata": {
    "papermill": {
     "duration": 0.071725,
     "end_time": "2022-08-10T08:54:09.901468",
     "exception": false,
     "start_time": "2022-08-10T08:54:09.829743",
     "status": "completed"
    },
    "tags": []
   },
   "source": [
    "### Test Model"
   ]
  },
  {
   "cell_type": "code",
   "execution_count": 16,
   "id": "937fc1b2",
   "metadata": {
    "execution": {
     "iopub.execute_input": "2022-08-10T08:54:10.046948Z",
     "iopub.status.busy": "2022-08-10T08:54:10.046558Z",
     "iopub.status.idle": "2022-08-10T08:54:16.565383Z",
     "shell.execute_reply": "2022-08-10T08:54:16.564112Z"
    },
    "papermill": {
     "duration": 6.594579,
     "end_time": "2022-08-10T08:54:16.568149",
     "exception": false,
     "start_time": "2022-08-10T08:54:09.973570",
     "status": "completed"
    },
    "tags": []
   },
   "outputs": [],
   "source": [
    "test_set['clean_text'] = test_set['text'].map(lambda s:preprocess_text(s))\n",
    "\n",
    "X_test = []\n",
    "\n",
    "for i in range(test_set.shape[0]):\n",
    "    sequence_tokenized = test_set['clean_text'].iloc(axis=0)[i].split(\" \")\n",
    "    integer_vector = words_to_integer_sequence(sequence_tokenized, word_index)\n",
    "    X_test.append(integer_vector)\n",
    "\n",
    "X_test = np.array(X_test)\n",
    "test_ids = test.loc(axis=1)['id']"
   ]
  },
  {
   "cell_type": "code",
   "execution_count": 17,
   "id": "bdf1fb67",
   "metadata": {
    "execution": {
     "iopub.execute_input": "2022-08-10T08:54:16.711873Z",
     "iopub.status.busy": "2022-08-10T08:54:16.711450Z",
     "iopub.status.idle": "2022-08-10T08:54:18.112061Z",
     "shell.execute_reply": "2022-08-10T08:54:18.110850Z"
    },
    "papermill": {
     "duration": 1.474978,
     "end_time": "2022-08-10T08:54:18.115017",
     "exception": false,
     "start_time": "2022-08-10T08:54:16.640039",
     "status": "completed"
    },
    "tags": []
   },
   "outputs": [
    {
     "data": {
      "text/html": [
       "<div>\n",
       "<style scoped>\n",
       "    .dataframe tbody tr th:only-of-type {\n",
       "        vertical-align: middle;\n",
       "    }\n",
       "\n",
       "    .dataframe tbody tr th {\n",
       "        vertical-align: top;\n",
       "    }\n",
       "\n",
       "    .dataframe thead th {\n",
       "        text-align: right;\n",
       "    }\n",
       "</style>\n",
       "<table border=\"1\" class=\"dataframe\">\n",
       "  <thead>\n",
       "    <tr style=\"text-align: right;\">\n",
       "      <th></th>\n",
       "      <th>id</th>\n",
       "      <th>target</th>\n",
       "    </tr>\n",
       "  </thead>\n",
       "  <tbody>\n",
       "    <tr>\n",
       "      <th>3258</th>\n",
       "      <td>10861</td>\n",
       "      <td>1</td>\n",
       "    </tr>\n",
       "    <tr>\n",
       "      <th>3259</th>\n",
       "      <td>10865</td>\n",
       "      <td>1</td>\n",
       "    </tr>\n",
       "    <tr>\n",
       "      <th>3260</th>\n",
       "      <td>10868</td>\n",
       "      <td>1</td>\n",
       "    </tr>\n",
       "    <tr>\n",
       "      <th>3261</th>\n",
       "      <td>10874</td>\n",
       "      <td>1</td>\n",
       "    </tr>\n",
       "    <tr>\n",
       "      <th>3262</th>\n",
       "      <td>10875</td>\n",
       "      <td>1</td>\n",
       "    </tr>\n",
       "  </tbody>\n",
       "</table>\n",
       "</div>"
      ],
      "text/plain": [
       "         id  target\n",
       "3258  10861       1\n",
       "3259  10865       1\n",
       "3260  10868       1\n",
       "3261  10874       1\n",
       "3262  10875       1"
      ]
     },
     "execution_count": 17,
     "metadata": {},
     "output_type": "execute_result"
    }
   ],
   "source": [
    "y_test_pred = pd.DataFrame(data=test_ids, columns=['id'])\n",
    "y_test_pred['target'] = np.round(model.predict(X_test)).astype('int')\n",
    "y_test_pred.to_csv('./submission.csv', index=False)\n",
    "y_test_pred.tail()"
   ]
  }
 ],
 "metadata": {
  "kernelspec": {
   "display_name": "Python 3",
   "language": "python",
   "name": "python3"
  },
  "language_info": {
   "codemirror_mode": {
    "name": "ipython",
    "version": 3
   },
   "file_extension": ".py",
   "mimetype": "text/x-python",
   "name": "python",
   "nbconvert_exporter": "python",
   "pygments_lexer": "ipython3",
   "version": "3.7.12"
  },
  "papermill": {
   "default_parameters": {},
   "duration": 132.388339,
   "end_time": "2022-08-10T08:54:21.156673",
   "environment_variables": {},
   "exception": null,
   "input_path": "__notebook__.ipynb",
   "output_path": "__notebook__.ipynb",
   "parameters": {},
   "start_time": "2022-08-10T08:52:08.768334",
   "version": "2.3.4"
  }
 },
 "nbformat": 4,
 "nbformat_minor": 5
}
