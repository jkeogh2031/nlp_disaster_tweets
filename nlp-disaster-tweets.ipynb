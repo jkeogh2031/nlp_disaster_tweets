{
 "cells": [
  {
   "cell_type": "code",
   "execution_count": 1,
   "id": "a53adad2",
   "metadata": {
    "_cell_guid": "b1076dfc-b9ad-4769-8c92-a6c4dae69d19",
    "_uuid": "8f2839f25d086af736a60e9eeb907d3b93b6e0e5",
    "execution": {
     "iopub.execute_input": "2022-08-10T09:26:34.099441Z",
     "iopub.status.busy": "2022-08-10T09:26:34.098892Z",
     "iopub.status.idle": "2022-08-10T09:26:36.420732Z",
     "shell.execute_reply": "2022-08-10T09:26:36.419195Z"
    },
    "papermill": {
     "duration": 2.334624,
     "end_time": "2022-08-10T09:26:36.424155",
     "exception": false,
     "start_time": "2022-08-10T09:26:34.089531",
     "status": "completed"
    },
    "tags": []
   },
   "outputs": [
    {
     "name": "stderr",
     "output_type": "stream",
     "text": [
      "[nltk_data] Downloading package stopwords to /usr/share/nltk_data...\n",
      "[nltk_data]   Package stopwords is already up-to-date!\n",
      "[nltk_data] Downloading package omw-1.4 to /usr/share/nltk_data...\n"
     ]
    }
   ],
   "source": [
    "import numpy as np\n",
    "import pandas as pd\n",
    "import matplotlib.pyplot as plt\n",
    "import nltk\n",
    "from nltk.tokenize import RegexpTokenizer\n",
    "from nltk.stem import WordNetLemmatizer,PorterStemmer\n",
    "from nltk.corpus import stopwords\n",
    "nltk.download('stopwords')\n",
    "nltk.download('omw-1.4')\n",
    "import re\n",
    "\n",
    "from sklearn.feature_extraction.text import CountVectorizer\n",
    "from sklearn.model_selection import train_test_split\n",
    "from sklearn.linear_model import LogisticRegression\n",
    "from sklearn.metrics import accuracy_score"
   ]
  },
  {
   "cell_type": "code",
   "execution_count": 2,
   "id": "fdaec1a6",
   "metadata": {
    "execution": {
     "iopub.execute_input": "2022-08-10T09:26:36.437443Z",
     "iopub.status.busy": "2022-08-10T09:26:36.436858Z",
     "iopub.status.idle": "2022-08-10T09:26:36.522283Z",
     "shell.execute_reply": "2022-08-10T09:26:36.520757Z"
    },
    "papermill": {
     "duration": 0.096065,
     "end_time": "2022-08-10T09:26:36.525673",
     "exception": false,
     "start_time": "2022-08-10T09:26:36.429608",
     "status": "completed"
    },
    "tags": []
   },
   "outputs": [],
   "source": [
    "TRAIN_FP = '../input/nlp-getting-started/train.csv'\n",
    "TEST_FP = '../input/nlp-getting-started/test.csv'\n",
    "\n",
    "train = pd.read_csv(TRAIN_FP)\n",
    "test = pd.read_csv(TEST_FP)"
   ]
  },
  {
   "cell_type": "code",
   "execution_count": 3,
   "id": "9f6d00b3",
   "metadata": {
    "execution": {
     "iopub.execute_input": "2022-08-10T09:26:36.538753Z",
     "iopub.status.busy": "2022-08-10T09:26:36.538021Z",
     "iopub.status.idle": "2022-08-10T09:26:36.555098Z",
     "shell.execute_reply": "2022-08-10T09:26:36.553648Z"
    },
    "papermill": {
     "duration": 0.027814,
     "end_time": "2022-08-10T09:26:36.558917",
     "exception": false,
     "start_time": "2022-08-10T09:26:36.531103",
     "status": "completed"
    },
    "tags": []
   },
   "outputs": [
    {
     "name": "stdout",
     "output_type": "stream",
     "text": [
      "3271 disasters, 42.97% of training set\n"
     ]
    }
   ],
   "source": [
    "disaster_tweets = train.loc[train['target'] == 1, :].shape[0]\n",
    "total_tweets = train.shape[0]\n",
    "print(f'{disaster_tweets} disasters, {(disaster_tweets/total_tweets)*100:.2f}% of training set')"
   ]
  },
  {
   "cell_type": "code",
   "execution_count": 4,
   "id": "fd35d5dd",
   "metadata": {
    "execution": {
     "iopub.execute_input": "2022-08-10T09:26:36.571009Z",
     "iopub.status.busy": "2022-08-10T09:26:36.570580Z",
     "iopub.status.idle": "2022-08-10T09:26:36.590862Z",
     "shell.execute_reply": "2022-08-10T09:26:36.589239Z"
    },
    "papermill": {
     "duration": 0.030433,
     "end_time": "2022-08-10T09:26:36.594631",
     "exception": false,
     "start_time": "2022-08-10T09:26:36.564198",
     "status": "completed"
    },
    "tags": []
   },
   "outputs": [
    {
     "name": "stdout",
     "output_type": "stream",
     "text": [
      "69 tweets duplicated, 179 total duplicates\n"
     ]
    }
   ],
   "source": [
    "train_duplicates = train.loc[train.duplicated(subset='text', keep=False), :]\n",
    "num_unique_duplicated_tweets = train_duplicates.loc(axis=1)['text'].unique().shape[0]\n",
    "num_total_duplicated_tweets = train_duplicates.shape[0]\n",
    "\n",
    "print(f'{num_unique_duplicated_tweets} tweets duplicated, {num_total_duplicated_tweets} total duplicates')"
   ]
  },
  {
   "cell_type": "code",
   "execution_count": 5,
   "id": "b3d1a354",
   "metadata": {
    "execution": {
     "iopub.execute_input": "2022-08-10T09:26:36.606849Z",
     "iopub.status.busy": "2022-08-10T09:26:36.606118Z",
     "iopub.status.idle": "2022-08-10T09:26:36.752822Z",
     "shell.execute_reply": "2022-08-10T09:26:36.751252Z"
    },
    "papermill": {
     "duration": 0.156944,
     "end_time": "2022-08-10T09:26:36.756673",
     "exception": false,
     "start_time": "2022-08-10T09:26:36.599729",
     "status": "completed"
    },
    "tags": []
   },
   "outputs": [],
   "source": [
    "# For the duplicated entries, if not marked the same => drop altogether\n",
    "duplicated_tweets = train_duplicates.loc(axis=1)['text'].unique()\n",
    "train_first_of_duplicate = pd.DataFrame(columns=train.columns)\n",
    "\n",
    "for tweet in duplicated_tweets:\n",
    "    if train_duplicates.loc(axis=0)[train_duplicates['text'] == tweet]['target'].unique().shape[0] == 1:\n",
    "        train_first_of_duplicate = pd.concat([\n",
    "            train_first_of_duplicate,\n",
    "            pd.DataFrame(train_duplicates.loc(axis=0)[train_duplicates['text'] == tweet].iloc[0]).T\n",
    "        ],\n",
    "            ignore_index=True\n",
    "        )\n",
    "\n",
    "# All of training set with none of the duplicates\n",
    "train_unduplicated = train.drop_duplicates(subset='text', keep=False)\n",
    "\n",
    "# All of training set with first instance of each duplicate included\n",
    "train_all_no_duplicates = pd.concat([\n",
    "    train_first_of_duplicate,\n",
    "    train_unduplicated     \n",
    "],\n",
    "    ignore_index=True\n",
    ")"
   ]
  },
  {
   "cell_type": "code",
   "execution_count": 6,
   "id": "10750f65",
   "metadata": {
    "execution": {
     "iopub.execute_input": "2022-08-10T09:26:36.769665Z",
     "iopub.status.busy": "2022-08-10T09:26:36.769227Z",
     "iopub.status.idle": "2022-08-10T09:26:36.782672Z",
     "shell.execute_reply": "2022-08-10T09:26:36.780721Z"
    },
    "papermill": {
     "duration": 0.023101,
     "end_time": "2022-08-10T09:26:36.785374",
     "exception": false,
     "start_time": "2022-08-10T09:26:36.762273",
     "status": "completed"
    },
    "tags": []
   },
   "outputs": [
    {
     "name": "stdout",
     "output_type": "stream",
     "text": [
      "Remaining duplicates in training set: 0\n"
     ]
    }
   ],
   "source": [
    "# Check no duplicates remain\n",
    "remaining_duplicates = train_all_no_duplicates.loc[train_all_no_duplicates.duplicated(subset='text', keep=False), :]\n",
    "print(f'Remaining duplicates in training set: {remaining_duplicates.shape[0]}')"
   ]
  },
  {
   "cell_type": "code",
   "execution_count": 7,
   "id": "82c9ec63",
   "metadata": {
    "execution": {
     "iopub.execute_input": "2022-08-10T09:26:36.797878Z",
     "iopub.status.busy": "2022-08-10T09:26:36.797466Z",
     "iopub.status.idle": "2022-08-10T09:26:36.803559Z",
     "shell.execute_reply": "2022-08-10T09:26:36.802036Z"
    },
    "papermill": {
     "duration": 0.015367,
     "end_time": "2022-08-10T09:26:36.806190",
     "exception": false,
     "start_time": "2022-08-10T09:26:36.790823",
     "status": "completed"
    },
    "tags": []
   },
   "outputs": [],
   "source": [
    "train_set = train_all_no_duplicates\n",
    "test_set = test"
   ]
  },
  {
   "cell_type": "markdown",
   "id": "860d563a",
   "metadata": {
    "papermill": {
     "duration": 0.004966,
     "end_time": "2022-08-10T09:26:36.816478",
     "exception": false,
     "start_time": "2022-08-10T09:26:36.811512",
     "status": "completed"
    },
    "tags": []
   },
   "source": [
    "### Pre-Processing"
   ]
  },
  {
   "cell_type": "code",
   "execution_count": 8,
   "id": "bd0d624a",
   "metadata": {
    "execution": {
     "iopub.execute_input": "2022-08-10T09:26:36.829305Z",
     "iopub.status.busy": "2022-08-10T09:26:36.828315Z",
     "iopub.status.idle": "2022-08-10T09:26:36.840867Z",
     "shell.execute_reply": "2022-08-10T09:26:36.839408Z"
    },
    "papermill": {
     "duration": 0.021874,
     "end_time": "2022-08-10T09:26:36.843584",
     "exception": false,
     "start_time": "2022-08-10T09:26:36.821710",
     "status": "completed"
    },
    "tags": []
   },
   "outputs": [],
   "source": [
    "lemmatizer = WordNetLemmatizer()\n",
    "stemmer = PorterStemmer() \n",
    "\n",
    "def preprocess_text(sentence):\n",
    "    sentence = str(sentence)\n",
    "    sentence = sentence.lower()\n",
    "    sentence = sentence.replace('{html}', \"\") \n",
    "    rem_url = re.sub(r'http\\S+', '', sentence)\n",
    "    cleanr = re.compile('[^A-Za-z ]+')\n",
    "    rem_num_non_alpha = re.sub(cleanr, '', rem_url)\n",
    "    tokenizer = RegexpTokenizer(r'\\w+')\n",
    "    tokens = tokenizer.tokenize(rem_num_non_alpha)\n",
    "    filtered_words = [w for w in tokens if len(w) > 2 if not w in stopwords.words('english')]\n",
    "#     stem_words = [stemmer.stem(w) for w in filtered_words]\n",
    "#     lemma_words=[lemmatizer.lemmatize(w) for w in stem_words]\n",
    "    return \" \".join(filtered_words)\n",
    "\n",
    "def create_set(df, vocab=None):\n",
    "    df['clean_text'] = df['text'].map(lambda s:preprocess_text(s))\n",
    "    \n",
    "    if vocab is None:\n",
    "        vocab = df.loc(axis=1)['clean_text']\n",
    "        \n",
    "    vectorizer = CountVectorizer()  # TfidfVectorizer()\n",
    "    vectorizer.fit(vocab)\n",
    "    X_vec = vectorizer.transform(df.loc(axis=1)['clean_text'])\n",
    "    X = pd.DataFrame(data=X_vec.toarray(), columns=vectorizer.get_feature_names_out())\n",
    "    y = df.loc(axis=1)['target'].astype('int') if 'target' in df else None\n",
    "    return X, y, vocab"
   ]
  },
  {
   "cell_type": "code",
   "execution_count": 9,
   "id": "d34dd75e",
   "metadata": {
    "execution": {
     "iopub.execute_input": "2022-08-10T09:26:36.857496Z",
     "iopub.status.busy": "2022-08-10T09:26:36.856746Z",
     "iopub.status.idle": "2022-08-10T09:26:49.366110Z",
     "shell.execute_reply": "2022-08-10T09:26:49.364936Z"
    },
    "papermill": {
     "duration": 12.519464,
     "end_time": "2022-08-10T09:26:49.369368",
     "exception": false,
     "start_time": "2022-08-10T09:26:36.849904",
     "status": "completed"
    },
    "tags": []
   },
   "outputs": [],
   "source": [
    "X, y, train_vocab = create_set(train_set)\n",
    "X_train, X_val, y_train, y_val = train_test_split(X, y, test_size=0.2, random_state=42)"
   ]
  },
  {
   "cell_type": "markdown",
   "id": "d41a011e",
   "metadata": {
    "papermill": {
     "duration": 0.005223,
     "end_time": "2022-08-10T09:26:49.380126",
     "exception": false,
     "start_time": "2022-08-10T09:26:49.374903",
     "status": "completed"
    },
    "tags": []
   },
   "source": [
    "### Validation Model"
   ]
  },
  {
   "cell_type": "code",
   "execution_count": 10,
   "id": "38306fb0",
   "metadata": {
    "execution": {
     "iopub.execute_input": "2022-08-10T09:26:49.393352Z",
     "iopub.status.busy": "2022-08-10T09:26:49.392115Z",
     "iopub.status.idle": "2022-08-10T09:27:01.054230Z",
     "shell.execute_reply": "2022-08-10T09:27:01.052270Z"
    },
    "papermill": {
     "duration": 11.673654,
     "end_time": "2022-08-10T09:27:01.059150",
     "exception": false,
     "start_time": "2022-08-10T09:26:49.385496",
     "status": "completed"
    },
    "tags": []
   },
   "outputs": [],
   "source": [
    "model_val = LogisticRegression()\n",
    "model_val.fit(X_train, y_train)\n",
    "y_val_pred = model_val.predict(X_val)"
   ]
  },
  {
   "cell_type": "code",
   "execution_count": 11,
   "id": "de3719ee",
   "metadata": {
    "execution": {
     "iopub.execute_input": "2022-08-10T09:27:01.088116Z",
     "iopub.status.busy": "2022-08-10T09:27:01.086554Z",
     "iopub.status.idle": "2022-08-10T09:27:01.108280Z",
     "shell.execute_reply": "2022-08-10T09:27:01.106528Z"
    },
    "papermill": {
     "duration": 0.042613,
     "end_time": "2022-08-10T09:27:01.114556",
     "exception": false,
     "start_time": "2022-08-10T09:27:01.071943",
     "status": "completed"
    },
    "tags": []
   },
   "outputs": [
    {
     "name": "stdout",
     "output_type": "stream",
     "text": [
      "Validation accuracy:  {0.8022712090848363}\n"
     ]
    }
   ],
   "source": [
    "print('Validation accuracy: ',{accuracy_score(y_val, y_val_pred)})"
   ]
  },
  {
   "cell_type": "markdown",
   "id": "09a35d1d",
   "metadata": {
    "papermill": {
     "duration": 0.01225,
     "end_time": "2022-08-10T09:27:01.139899",
     "exception": false,
     "start_time": "2022-08-10T09:27:01.127649",
     "status": "completed"
    },
    "tags": []
   },
   "source": [
    "### Test Model"
   ]
  },
  {
   "cell_type": "code",
   "execution_count": 12,
   "id": "28f0b610",
   "metadata": {
    "execution": {
     "iopub.execute_input": "2022-08-10T09:27:01.167563Z",
     "iopub.status.busy": "2022-08-10T09:27:01.167045Z",
     "iopub.status.idle": "2022-08-10T09:27:06.415001Z",
     "shell.execute_reply": "2022-08-10T09:27:06.413744Z"
    },
    "papermill": {
     "duration": 5.26524,
     "end_time": "2022-08-10T09:27:06.418112",
     "exception": false,
     "start_time": "2022-08-10T09:27:01.152872",
     "status": "completed"
    },
    "tags": []
   },
   "outputs": [],
   "source": [
    "X_train, y_train = X, y\n",
    "X_test,_,_ = create_set(test, vocab=train_vocab)\n",
    "test_ids = test.loc(axis=1)['id']"
   ]
  },
  {
   "cell_type": "code",
   "execution_count": 13,
   "id": "49ffe15e",
   "metadata": {
    "execution": {
     "iopub.execute_input": "2022-08-10T09:27:06.430817Z",
     "iopub.status.busy": "2022-08-10T09:27:06.430203Z",
     "iopub.status.idle": "2022-08-10T09:27:17.765342Z",
     "shell.execute_reply": "2022-08-10T09:27:17.763494Z"
    },
    "papermill": {
     "duration": 11.347015,
     "end_time": "2022-08-10T09:27:17.770395",
     "exception": false,
     "start_time": "2022-08-10T09:27:06.423380",
     "status": "completed"
    },
    "tags": []
   },
   "outputs": [],
   "source": [
    "model_test = LogisticRegression()\n",
    "model_test.fit(X_train, y_train)\n",
    "y_test_pred = pd.DataFrame(data=test_ids, columns=['id'])\n",
    "y_test_pred['target'] = model_test.predict(X_test)\n",
    "y_test_pred.to_csv('./submission.csv', index=False)"
   ]
  },
  {
   "cell_type": "code",
   "execution_count": 14,
   "id": "728a5a69",
   "metadata": {
    "execution": {
     "iopub.execute_input": "2022-08-10T09:27:17.799272Z",
     "iopub.status.busy": "2022-08-10T09:27:17.798221Z",
     "iopub.status.idle": "2022-08-10T09:27:17.836217Z",
     "shell.execute_reply": "2022-08-10T09:27:17.834487Z"
    },
    "papermill": {
     "duration": 0.05886,
     "end_time": "2022-08-10T09:27:17.841783",
     "exception": false,
     "start_time": "2022-08-10T09:27:17.782923",
     "status": "completed"
    },
    "tags": []
   },
   "outputs": [
    {
     "data": {
      "text/html": [
       "<div>\n",
       "<style scoped>\n",
       "    .dataframe tbody tr th:only-of-type {\n",
       "        vertical-align: middle;\n",
       "    }\n",
       "\n",
       "    .dataframe tbody tr th {\n",
       "        vertical-align: top;\n",
       "    }\n",
       "\n",
       "    .dataframe thead th {\n",
       "        text-align: right;\n",
       "    }\n",
       "</style>\n",
       "<table border=\"1\" class=\"dataframe\">\n",
       "  <thead>\n",
       "    <tr style=\"text-align: right;\">\n",
       "      <th></th>\n",
       "      <th>id</th>\n",
       "      <th>target</th>\n",
       "    </tr>\n",
       "  </thead>\n",
       "  <tbody>\n",
       "    <tr>\n",
       "      <th>3258</th>\n",
       "      <td>10861</td>\n",
       "      <td>1</td>\n",
       "    </tr>\n",
       "    <tr>\n",
       "      <th>3259</th>\n",
       "      <td>10865</td>\n",
       "      <td>1</td>\n",
       "    </tr>\n",
       "    <tr>\n",
       "      <th>3260</th>\n",
       "      <td>10868</td>\n",
       "      <td>1</td>\n",
       "    </tr>\n",
       "    <tr>\n",
       "      <th>3261</th>\n",
       "      <td>10874</td>\n",
       "      <td>1</td>\n",
       "    </tr>\n",
       "    <tr>\n",
       "      <th>3262</th>\n",
       "      <td>10875</td>\n",
       "      <td>0</td>\n",
       "    </tr>\n",
       "  </tbody>\n",
       "</table>\n",
       "</div>"
      ],
      "text/plain": [
       "         id  target\n",
       "3258  10861       1\n",
       "3259  10865       1\n",
       "3260  10868       1\n",
       "3261  10874       1\n",
       "3262  10875       0"
      ]
     },
     "execution_count": 14,
     "metadata": {},
     "output_type": "execute_result"
    }
   ],
   "source": [
    "y_test_pred.tail()"
   ]
  },
  {
   "cell_type": "code",
   "execution_count": null,
   "id": "8095be2c",
   "metadata": {
    "papermill": {
     "duration": 0.010584,
     "end_time": "2022-08-10T09:27:17.866995",
     "exception": false,
     "start_time": "2022-08-10T09:27:17.856411",
     "status": "completed"
    },
    "tags": []
   },
   "outputs": [],
   "source": []
  }
 ],
 "metadata": {
  "kernelspec": {
   "display_name": "Python 3",
   "language": "python",
   "name": "python3"
  },
  "language_info": {
   "codemirror_mode": {
    "name": "ipython",
    "version": 3
   },
   "file_extension": ".py",
   "mimetype": "text/x-python",
   "name": "python",
   "nbconvert_exporter": "python",
   "pygments_lexer": "ipython3",
   "version": "3.7.12"
  },
  "papermill": {
   "default_parameters": {},
   "duration": 54.390395,
   "end_time": "2022-08-10T09:27:18.797789",
   "environment_variables": {},
   "exception": null,
   "input_path": "__notebook__.ipynb",
   "output_path": "__notebook__.ipynb",
   "parameters": {},
   "start_time": "2022-08-10T09:26:24.407394",
   "version": "2.3.4"
  }
 },
 "nbformat": 4,
 "nbformat_minor": 5
}
