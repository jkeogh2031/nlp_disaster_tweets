{
 "cells": [
  {
   "cell_type": "code",
   "execution_count": 1,
   "id": "ccf2cae8",
   "metadata": {
    "_cell_guid": "b1076dfc-b9ad-4769-8c92-a6c4dae69d19",
    "_uuid": "8f2839f25d086af736a60e9eeb907d3b93b6e0e5",
    "execution": {
     "iopub.execute_input": "2022-08-10T09:14:43.793406Z",
     "iopub.status.busy": "2022-08-10T09:14:43.792764Z",
     "iopub.status.idle": "2022-08-10T09:14:46.224273Z",
     "shell.execute_reply": "2022-08-10T09:14:46.223060Z"
    },
    "papermill": {
     "duration": 2.442454,
     "end_time": "2022-08-10T09:14:46.227133",
     "exception": false,
     "start_time": "2022-08-10T09:14:43.784679",
     "status": "completed"
    },
    "tags": []
   },
   "outputs": [
    {
     "name": "stderr",
     "output_type": "stream",
     "text": [
      "[nltk_data] Downloading package stopwords to /usr/share/nltk_data...\n",
      "[nltk_data]   Package stopwords is already up-to-date!\n",
      "[nltk_data] Downloading package omw-1.4 to /usr/share/nltk_data...\n"
     ]
    }
   ],
   "source": [
    "import numpy as np\n",
    "import pandas as pd\n",
    "import matplotlib.pyplot as plt\n",
    "import nltk\n",
    "from nltk.tokenize import RegexpTokenizer\n",
    "from nltk.stem import WordNetLemmatizer,PorterStemmer\n",
    "from nltk.corpus import stopwords\n",
    "nltk.download('stopwords')\n",
    "nltk.download('omw-1.4')\n",
    "import re\n",
    "\n",
    "from sklearn.feature_extraction.text import TfidfVectorizer\n",
    "from sklearn.model_selection import train_test_split\n",
    "from sklearn.linear_model import LogisticRegression\n",
    "from sklearn.metrics import accuracy_score"
   ]
  },
  {
   "cell_type": "code",
   "execution_count": 2,
   "id": "1346c101",
   "metadata": {
    "execution": {
     "iopub.execute_input": "2022-08-10T09:14:46.239057Z",
     "iopub.status.busy": "2022-08-10T09:14:46.238655Z",
     "iopub.status.idle": "2022-08-10T09:14:46.312570Z",
     "shell.execute_reply": "2022-08-10T09:14:46.311460Z"
    },
    "papermill": {
     "duration": 0.082536,
     "end_time": "2022-08-10T09:14:46.315047",
     "exception": false,
     "start_time": "2022-08-10T09:14:46.232511",
     "status": "completed"
    },
    "tags": []
   },
   "outputs": [],
   "source": [
    "TRAIN_FP = '../input/nlp-getting-started/train.csv'\n",
    "TEST_FP = '../input/nlp-getting-started/test.csv'\n",
    "\n",
    "train = pd.read_csv(TRAIN_FP)\n",
    "test = pd.read_csv(TEST_FP)"
   ]
  },
  {
   "cell_type": "code",
   "execution_count": 3,
   "id": "6fb8aa0c",
   "metadata": {
    "execution": {
     "iopub.execute_input": "2022-08-10T09:14:46.327031Z",
     "iopub.status.busy": "2022-08-10T09:14:46.326330Z",
     "iopub.status.idle": "2022-08-10T09:14:46.342729Z",
     "shell.execute_reply": "2022-08-10T09:14:46.340975Z"
    },
    "papermill": {
     "duration": 0.0257,
     "end_time": "2022-08-10T09:14:46.345658",
     "exception": false,
     "start_time": "2022-08-10T09:14:46.319958",
     "status": "completed"
    },
    "tags": []
   },
   "outputs": [
    {
     "name": "stdout",
     "output_type": "stream",
     "text": [
      "3271 disasters, 42.97% of training set\n"
     ]
    }
   ],
   "source": [
    "disaster_tweets = train.loc[train['target'] == 1, :].shape[0]\n",
    "total_tweets = train.shape[0]\n",
    "print(f'{disaster_tweets} disasters, {(disaster_tweets/total_tweets)*100:.2f}% of training set')"
   ]
  },
  {
   "cell_type": "code",
   "execution_count": 4,
   "id": "0677cbf2",
   "metadata": {
    "execution": {
     "iopub.execute_input": "2022-08-10T09:14:46.358163Z",
     "iopub.status.busy": "2022-08-10T09:14:46.357334Z",
     "iopub.status.idle": "2022-08-10T09:14:46.374127Z",
     "shell.execute_reply": "2022-08-10T09:14:46.372790Z"
    },
    "papermill": {
     "duration": 0.025697,
     "end_time": "2022-08-10T09:14:46.376523",
     "exception": false,
     "start_time": "2022-08-10T09:14:46.350826",
     "status": "completed"
    },
    "tags": []
   },
   "outputs": [
    {
     "name": "stdout",
     "output_type": "stream",
     "text": [
      "69 tweets duplicated, 179 total duplicates\n"
     ]
    }
   ],
   "source": [
    "train_duplicates = train.loc[train.duplicated(subset='text', keep=False), :]\n",
    "num_unique_duplicated_tweets = train_duplicates.loc(axis=1)['text'].unique().shape[0]\n",
    "num_total_duplicated_tweets = train_duplicates.shape[0]\n",
    "\n",
    "print(f'{num_unique_duplicated_tweets} tweets duplicated, {num_total_duplicated_tweets} total duplicates')"
   ]
  },
  {
   "cell_type": "code",
   "execution_count": 5,
   "id": "3405572d",
   "metadata": {
    "execution": {
     "iopub.execute_input": "2022-08-10T09:14:46.388960Z",
     "iopub.status.busy": "2022-08-10T09:14:46.388061Z",
     "iopub.status.idle": "2022-08-10T09:14:46.530033Z",
     "shell.execute_reply": "2022-08-10T09:14:46.528885Z"
    },
    "papermill": {
     "duration": 0.151187,
     "end_time": "2022-08-10T09:14:46.533036",
     "exception": false,
     "start_time": "2022-08-10T09:14:46.381849",
     "status": "completed"
    },
    "tags": []
   },
   "outputs": [],
   "source": [
    "# For the duplicated entries, if not marked the same => drop altogether\n",
    "duplicated_tweets = train_duplicates.loc(axis=1)['text'].unique()\n",
    "train_first_of_duplicate = pd.DataFrame(columns=train.columns)\n",
    "\n",
    "for tweet in duplicated_tweets:\n",
    "    if train_duplicates.loc(axis=0)[train_duplicates['text'] == tweet]['target'].unique().shape[0] == 1:\n",
    "        train_first_of_duplicate = pd.concat([\n",
    "            train_first_of_duplicate,\n",
    "            pd.DataFrame(train_duplicates.loc(axis=0)[train_duplicates['text'] == tweet].iloc[0]).T\n",
    "        ],\n",
    "            ignore_index=True\n",
    "        )\n",
    "\n",
    "# All of training set with none of the duplicates\n",
    "train_unduplicated = train.drop_duplicates(subset='text', keep=False)\n",
    "\n",
    "# All of training set with first instance of each duplicate included\n",
    "train_all_no_duplicates = pd.concat([\n",
    "    train_first_of_duplicate,\n",
    "    train_unduplicated     \n",
    "],\n",
    "    ignore_index=True\n",
    ")"
   ]
  },
  {
   "cell_type": "code",
   "execution_count": 6,
   "id": "8c46be19",
   "metadata": {
    "execution": {
     "iopub.execute_input": "2022-08-10T09:14:46.545875Z",
     "iopub.status.busy": "2022-08-10T09:14:46.545488Z",
     "iopub.status.idle": "2022-08-10T09:14:46.557890Z",
     "shell.execute_reply": "2022-08-10T09:14:46.556463Z"
    },
    "papermill": {
     "duration": 0.02232,
     "end_time": "2022-08-10T09:14:46.560401",
     "exception": false,
     "start_time": "2022-08-10T09:14:46.538081",
     "status": "completed"
    },
    "tags": []
   },
   "outputs": [
    {
     "name": "stdout",
     "output_type": "stream",
     "text": [
      "Remaining duplicates in training set: 0\n"
     ]
    }
   ],
   "source": [
    "# Check no duplicates remain\n",
    "remaining_duplicates = train_all_no_duplicates.loc[train_all_no_duplicates.duplicated(subset='text', keep=False), :]\n",
    "print(f'Remaining duplicates in training set: {remaining_duplicates.shape[0]}')"
   ]
  },
  {
   "cell_type": "code",
   "execution_count": 7,
   "id": "a7513952",
   "metadata": {
    "execution": {
     "iopub.execute_input": "2022-08-10T09:14:46.573069Z",
     "iopub.status.busy": "2022-08-10T09:14:46.572200Z",
     "iopub.status.idle": "2022-08-10T09:14:46.578193Z",
     "shell.execute_reply": "2022-08-10T09:14:46.576804Z"
    },
    "papermill": {
     "duration": 0.015362,
     "end_time": "2022-08-10T09:14:46.580950",
     "exception": false,
     "start_time": "2022-08-10T09:14:46.565588",
     "status": "completed"
    },
    "tags": []
   },
   "outputs": [],
   "source": [
    "train_set = train_all_no_duplicates\n",
    "test_set = test"
   ]
  },
  {
   "cell_type": "markdown",
   "id": "0d221a2a",
   "metadata": {
    "papermill": {
     "duration": 0.005009,
     "end_time": "2022-08-10T09:14:46.591358",
     "exception": false,
     "start_time": "2022-08-10T09:14:46.586349",
     "status": "completed"
    },
    "tags": []
   },
   "source": [
    "### Pre-Processing"
   ]
  },
  {
   "cell_type": "code",
   "execution_count": 8,
   "id": "6b367bbf",
   "metadata": {
    "execution": {
     "iopub.execute_input": "2022-08-10T09:14:46.603697Z",
     "iopub.status.busy": "2022-08-10T09:14:46.602918Z",
     "iopub.status.idle": "2022-08-10T09:14:46.613492Z",
     "shell.execute_reply": "2022-08-10T09:14:46.612550Z"
    },
    "papermill": {
     "duration": 0.01935,
     "end_time": "2022-08-10T09:14:46.615810",
     "exception": false,
     "start_time": "2022-08-10T09:14:46.596460",
     "status": "completed"
    },
    "tags": []
   },
   "outputs": [],
   "source": [
    "lemmatizer = WordNetLemmatizer()\n",
    "stemmer = PorterStemmer() \n",
    "\n",
    "def preprocess_text(sentence):\n",
    "    sentence = str(sentence)\n",
    "    sentence = sentence.lower()\n",
    "    sentence = sentence.replace('{html}', \"\") \n",
    "    rem_url = re.sub(r'http\\S+', '', sentence)\n",
    "    cleanr = re.compile('[^A-Za-z ]+')\n",
    "    rem_num_non_alpha = re.sub(cleanr, '', rem_url)\n",
    "    tokenizer = RegexpTokenizer(r'\\w+')\n",
    "    tokens = tokenizer.tokenize(rem_num_non_alpha)\n",
    "    filtered_words = [w for w in tokens if len(w) > 2 if not w in stopwords.words('english')]\n",
    "    stem_words = [stemmer.stem(w) for w in filtered_words]\n",
    "    lemma_words=[lemmatizer.lemmatize(w) for w in stem_words]\n",
    "    return \" \".join(lemma_words)\n",
    "\n",
    "def create_set(df, vocab=None):\n",
    "    df['clean_text'] = df['text'].map(lambda s:preprocess_text(s))\n",
    "    \n",
    "    if vocab is None:\n",
    "        vocab = df.loc(axis=1)['clean_text']\n",
    "        \n",
    "    vectorizer = TfidfVectorizer()\n",
    "    vectorizer.fit(vocab)\n",
    "    X_vec = vectorizer.transform(df.loc(axis=1)['clean_text'])\n",
    "    X = pd.DataFrame(data=X_vec.toarray(), columns=vectorizer.get_feature_names_out())\n",
    "    y = df.loc(axis=1)['target'].astype('int') if 'target' in df else None\n",
    "    return X, y, vocab"
   ]
  },
  {
   "cell_type": "code",
   "execution_count": 9,
   "id": "79ed49e6",
   "metadata": {
    "execution": {
     "iopub.execute_input": "2022-08-10T09:14:46.627727Z",
     "iopub.status.busy": "2022-08-10T09:14:46.627041Z",
     "iopub.status.idle": "2022-08-10T09:15:04.339378Z",
     "shell.execute_reply": "2022-08-10T09:15:04.338156Z"
    },
    "papermill": {
     "duration": 17.721483,
     "end_time": "2022-08-10T09:15:04.342260",
     "exception": false,
     "start_time": "2022-08-10T09:14:46.620777",
     "status": "completed"
    },
    "tags": []
   },
   "outputs": [],
   "source": [
    "X, y, train_vocab = create_set(train_set)\n",
    "X_train, X_val, y_train, y_val = train_test_split(X, y, test_size=0.2, random_state=42)"
   ]
  },
  {
   "cell_type": "markdown",
   "id": "b6776389",
   "metadata": {
    "papermill": {
     "duration": 0.004666,
     "end_time": "2022-08-10T09:15:04.352003",
     "exception": false,
     "start_time": "2022-08-10T09:15:04.347337",
     "status": "completed"
    },
    "tags": []
   },
   "source": [
    "### Validation Model"
   ]
  },
  {
   "cell_type": "code",
   "execution_count": 10,
   "id": "6f56c014",
   "metadata": {
    "execution": {
     "iopub.execute_input": "2022-08-10T09:15:04.363886Z",
     "iopub.status.busy": "2022-08-10T09:15:04.363269Z",
     "iopub.status.idle": "2022-08-10T09:15:10.297621Z",
     "shell.execute_reply": "2022-08-10T09:15:10.295959Z"
    },
    "papermill": {
     "duration": 5.945564,
     "end_time": "2022-08-10T09:15:10.302439",
     "exception": false,
     "start_time": "2022-08-10T09:15:04.356875",
     "status": "completed"
    },
    "tags": []
   },
   "outputs": [],
   "source": [
    "model_val = LogisticRegression()\n",
    "model_val.fit(X_train, y_train)\n",
    "y_val_pred = model_val.predict(X_val)"
   ]
  },
  {
   "cell_type": "code",
   "execution_count": 11,
   "id": "135a4dbc",
   "metadata": {
    "execution": {
     "iopub.execute_input": "2022-08-10T09:15:10.330343Z",
     "iopub.status.busy": "2022-08-10T09:15:10.329662Z",
     "iopub.status.idle": "2022-08-10T09:15:10.339034Z",
     "shell.execute_reply": "2022-08-10T09:15:10.337802Z"
    },
    "papermill": {
     "duration": 0.028475,
     "end_time": "2022-08-10T09:15:10.343423",
     "exception": false,
     "start_time": "2022-08-10T09:15:10.314948",
     "status": "completed"
    },
    "tags": []
   },
   "outputs": [
    {
     "name": "stdout",
     "output_type": "stream",
     "text": [
      "Validation accuracy:  {0.7982631930527722}\n"
     ]
    }
   ],
   "source": [
    "print('Validation accuracy: ',{accuracy_score(y_val, y_val_pred)})"
   ]
  },
  {
   "cell_type": "markdown",
   "id": "414c3003",
   "metadata": {
    "papermill": {
     "duration": 0.01196,
     "end_time": "2022-08-10T09:15:10.368077",
     "exception": false,
     "start_time": "2022-08-10T09:15:10.356117",
     "status": "completed"
    },
    "tags": []
   },
   "source": [
    "### Test Model"
   ]
  },
  {
   "cell_type": "code",
   "execution_count": 12,
   "id": "8128e5cc",
   "metadata": {
    "execution": {
     "iopub.execute_input": "2022-08-10T09:15:10.396300Z",
     "iopub.status.busy": "2022-08-10T09:15:10.395582Z",
     "iopub.status.idle": "2022-08-10T09:15:16.847395Z",
     "shell.execute_reply": "2022-08-10T09:15:16.846247Z"
    },
    "papermill": {
     "duration": 6.469455,
     "end_time": "2022-08-10T09:15:16.850299",
     "exception": false,
     "start_time": "2022-08-10T09:15:10.380844",
     "status": "completed"
    },
    "tags": []
   },
   "outputs": [],
   "source": [
    "X_train, y_train = X, y\n",
    "X_test,_,_ = create_set(test, vocab=train_vocab)\n",
    "test_ids = test.loc(axis=1)['id']"
   ]
  },
  {
   "cell_type": "code",
   "execution_count": 13,
   "id": "e53a0594",
   "metadata": {
    "execution": {
     "iopub.execute_input": "2022-08-10T09:15:16.862267Z",
     "iopub.status.busy": "2022-08-10T09:15:16.861841Z",
     "iopub.status.idle": "2022-08-10T09:15:20.679203Z",
     "shell.execute_reply": "2022-08-10T09:15:20.677563Z"
    },
    "papermill": {
     "duration": 3.828771,
     "end_time": "2022-08-10T09:15:20.684280",
     "exception": false,
     "start_time": "2022-08-10T09:15:16.855509",
     "status": "completed"
    },
    "tags": []
   },
   "outputs": [],
   "source": [
    "model_test = LogisticRegression()\n",
    "model_test.fit(X_train, y_train)\n",
    "y_test_pred = pd.DataFrame(data=test_ids, columns=['id'])\n",
    "y_test_pred['target'] = model_test.predict(X_test)\n",
    "y_test_pred.to_csv('./submission.csv', index=False)"
   ]
  },
  {
   "cell_type": "code",
   "execution_count": 14,
   "id": "617de350",
   "metadata": {
    "execution": {
     "iopub.execute_input": "2022-08-10T09:15:20.713925Z",
     "iopub.status.busy": "2022-08-10T09:15:20.713228Z",
     "iopub.status.idle": "2022-08-10T09:15:20.745098Z",
     "shell.execute_reply": "2022-08-10T09:15:20.743582Z"
    },
    "papermill": {
     "duration": 0.050772,
     "end_time": "2022-08-10T09:15:20.749061",
     "exception": false,
     "start_time": "2022-08-10T09:15:20.698289",
     "status": "completed"
    },
    "tags": []
   },
   "outputs": [
    {
     "data": {
      "text/html": [
       "<div>\n",
       "<style scoped>\n",
       "    .dataframe tbody tr th:only-of-type {\n",
       "        vertical-align: middle;\n",
       "    }\n",
       "\n",
       "    .dataframe tbody tr th {\n",
       "        vertical-align: top;\n",
       "    }\n",
       "\n",
       "    .dataframe thead th {\n",
       "        text-align: right;\n",
       "    }\n",
       "</style>\n",
       "<table border=\"1\" class=\"dataframe\">\n",
       "  <thead>\n",
       "    <tr style=\"text-align: right;\">\n",
       "      <th></th>\n",
       "      <th>id</th>\n",
       "      <th>target</th>\n",
       "    </tr>\n",
       "  </thead>\n",
       "  <tbody>\n",
       "    <tr>\n",
       "      <th>3258</th>\n",
       "      <td>10861</td>\n",
       "      <td>1</td>\n",
       "    </tr>\n",
       "    <tr>\n",
       "      <th>3259</th>\n",
       "      <td>10865</td>\n",
       "      <td>1</td>\n",
       "    </tr>\n",
       "    <tr>\n",
       "      <th>3260</th>\n",
       "      <td>10868</td>\n",
       "      <td>1</td>\n",
       "    </tr>\n",
       "    <tr>\n",
       "      <th>3261</th>\n",
       "      <td>10874</td>\n",
       "      <td>1</td>\n",
       "    </tr>\n",
       "    <tr>\n",
       "      <th>3262</th>\n",
       "      <td>10875</td>\n",
       "      <td>0</td>\n",
       "    </tr>\n",
       "  </tbody>\n",
       "</table>\n",
       "</div>"
      ],
      "text/plain": [
       "         id  target\n",
       "3258  10861       1\n",
       "3259  10865       1\n",
       "3260  10868       1\n",
       "3261  10874       1\n",
       "3262  10875       0"
      ]
     },
     "execution_count": 14,
     "metadata": {},
     "output_type": "execute_result"
    }
   ],
   "source": [
    "y_test_pred.tail()"
   ]
  },
  {
   "cell_type": "code",
   "execution_count": null,
   "id": "5636f88d",
   "metadata": {
    "papermill": {
     "duration": 0.012296,
     "end_time": "2022-08-10T09:15:20.776599",
     "exception": false,
     "start_time": "2022-08-10T09:15:20.764303",
     "status": "completed"
    },
    "tags": []
   },
   "outputs": [],
   "source": []
  }
 ],
 "metadata": {
  "kernelspec": {
   "display_name": "Python 3",
   "language": "python",
   "name": "python3"
  },
  "language_info": {
   "codemirror_mode": {
    "name": "ipython",
    "version": 3
   },
   "file_extension": ".py",
   "mimetype": "text/x-python",
   "name": "python",
   "nbconvert_exporter": "python",
   "pygments_lexer": "ipython3",
   "version": "3.7.12"
  },
  "papermill": {
   "default_parameters": {},
   "duration": 47.516127,
   "end_time": "2022-08-10T09:15:21.808030",
   "environment_variables": {},
   "exception": null,
   "input_path": "__notebook__.ipynb",
   "output_path": "__notebook__.ipynb",
   "parameters": {},
   "start_time": "2022-08-10T09:14:34.291903",
   "version": "2.3.4"
  }
 },
 "nbformat": 4,
 "nbformat_minor": 5
}
