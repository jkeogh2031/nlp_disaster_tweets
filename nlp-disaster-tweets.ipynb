{
 "cells": [
  {
   "cell_type": "code",
   "execution_count": 1,
   "id": "0d3b18cd",
   "metadata": {
    "_cell_guid": "b1076dfc-b9ad-4769-8c92-a6c4dae69d19",
    "_uuid": "8f2839f25d086af736a60e9eeb907d3b93b6e0e5",
    "execution": {
     "iopub.execute_input": "2022-08-02T05:53:01.598849Z",
     "iopub.status.busy": "2022-08-02T05:53:01.597472Z",
     "iopub.status.idle": "2022-08-02T05:53:03.984670Z",
     "shell.execute_reply": "2022-08-02T05:53:03.983544Z"
    },
    "papermill": {
     "duration": 2.398324,
     "end_time": "2022-08-02T05:53:03.987562",
     "exception": false,
     "start_time": "2022-08-02T05:53:01.589238",
     "status": "completed"
    },
    "tags": []
   },
   "outputs": [
    {
     "name": "stderr",
     "output_type": "stream",
     "text": [
      "[nltk_data] Downloading package stopwords to /usr/share/nltk_data...\n",
      "[nltk_data]   Package stopwords is already up-to-date!\n",
      "[nltk_data] Downloading package omw-1.4 to /usr/share/nltk_data...\n"
     ]
    }
   ],
   "source": [
    "import numpy as np\n",
    "import pandas as pd\n",
    "import matplotlib.pyplot as plt\n",
    "import nltk\n",
    "from nltk.tokenize import RegexpTokenizer\n",
    "from nltk.stem import WordNetLemmatizer,PorterStemmer\n",
    "from nltk.corpus import stopwords\n",
    "nltk.download('stopwords')\n",
    "nltk.download('omw-1.4')\n",
    "import re\n",
    "\n",
    "from sklearn.feature_extraction.text import CountVectorizer\n",
    "from sklearn.model_selection import train_test_split\n",
    "from sklearn.linear_model import LogisticRegression\n",
    "from sklearn.metrics import accuracy_score"
   ]
  },
  {
   "cell_type": "code",
   "execution_count": 2,
   "id": "c2fe4204",
   "metadata": {
    "execution": {
     "iopub.execute_input": "2022-08-02T05:53:03.999963Z",
     "iopub.status.busy": "2022-08-02T05:53:03.999022Z",
     "iopub.status.idle": "2022-08-02T05:53:04.081428Z",
     "shell.execute_reply": "2022-08-02T05:53:04.080238Z"
    },
    "papermill": {
     "duration": 0.091465,
     "end_time": "2022-08-02T05:53:04.084335",
     "exception": false,
     "start_time": "2022-08-02T05:53:03.992870",
     "status": "completed"
    },
    "tags": []
   },
   "outputs": [],
   "source": [
    "TRAIN_FP = '../input/nlp-getting-started/train.csv'\n",
    "TEST_FP = '../input/nlp-getting-started/test.csv'\n",
    "\n",
    "train = pd.read_csv(TRAIN_FP)\n",
    "test = pd.read_csv(TEST_FP)"
   ]
  },
  {
   "cell_type": "code",
   "execution_count": 3,
   "id": "a3bf9a41",
   "metadata": {
    "execution": {
     "iopub.execute_input": "2022-08-02T05:53:04.096206Z",
     "iopub.status.busy": "2022-08-02T05:53:04.095766Z",
     "iopub.status.idle": "2022-08-02T05:53:04.110821Z",
     "shell.execute_reply": "2022-08-02T05:53:04.109479Z"
    },
    "papermill": {
     "duration": 0.024103,
     "end_time": "2022-08-02T05:53:04.113593",
     "exception": false,
     "start_time": "2022-08-02T05:53:04.089490",
     "status": "completed"
    },
    "tags": []
   },
   "outputs": [
    {
     "name": "stdout",
     "output_type": "stream",
     "text": [
      "3271 disasters, 42.97% of training set\n"
     ]
    }
   ],
   "source": [
    "disaster_tweets = train.loc[train['target'] == 1, :].shape[0]\n",
    "total_tweets = train.shape[0]\n",
    "print(f'{disaster_tweets} disasters, {(disaster_tweets/total_tweets)*100:.2f}% of training set')"
   ]
  },
  {
   "cell_type": "code",
   "execution_count": 4,
   "id": "28dc6f0d",
   "metadata": {
    "execution": {
     "iopub.execute_input": "2022-08-02T05:53:04.125393Z",
     "iopub.status.busy": "2022-08-02T05:53:04.124992Z",
     "iopub.status.idle": "2022-08-02T05:53:04.141255Z",
     "shell.execute_reply": "2022-08-02T05:53:04.139836Z"
    },
    "papermill": {
     "duration": 0.026231,
     "end_time": "2022-08-02T05:53:04.144820",
     "exception": false,
     "start_time": "2022-08-02T05:53:04.118589",
     "status": "completed"
    },
    "tags": []
   },
   "outputs": [
    {
     "name": "stdout",
     "output_type": "stream",
     "text": [
      "69 tweets duplicated, 179 total duplicates\n"
     ]
    }
   ],
   "source": [
    "train_duplicates = train.loc[train.duplicated(subset='text', keep=False), :]\n",
    "num_unique_duplicated_tweets = train_duplicates.loc(axis=1)['text'].unique().shape[0]\n",
    "num_total_duplicated_tweets = train_duplicates.shape[0]\n",
    "\n",
    "print(f'{num_unique_duplicated_tweets} tweets duplicated, {num_total_duplicated_tweets} total duplicates')"
   ]
  },
  {
   "cell_type": "code",
   "execution_count": 5,
   "id": "8d0340d0",
   "metadata": {
    "execution": {
     "iopub.execute_input": "2022-08-02T05:53:04.157464Z",
     "iopub.status.busy": "2022-08-02T05:53:04.157077Z",
     "iopub.status.idle": "2022-08-02T05:53:04.310050Z",
     "shell.execute_reply": "2022-08-02T05:53:04.308733Z"
    },
    "papermill": {
     "duration": 0.162384,
     "end_time": "2022-08-02T05:53:04.312814",
     "exception": false,
     "start_time": "2022-08-02T05:53:04.150430",
     "status": "completed"
    },
    "tags": []
   },
   "outputs": [],
   "source": [
    "# For the duplicated entries, if not marked the same => drop altogether\n",
    "duplicated_tweets = train_duplicates.loc(axis=1)['text'].unique()\n",
    "train_first_of_duplicate = pd.DataFrame(columns=train.columns)\n",
    "\n",
    "for tweet in duplicated_tweets:\n",
    "    if train_duplicates.loc(axis=0)[train_duplicates['text'] == tweet]['target'].unique().shape[0] == 1:\n",
    "        train_first_of_duplicate = pd.concat([\n",
    "            train_first_of_duplicate,\n",
    "            pd.DataFrame(train_duplicates.loc(axis=0)[train_duplicates['text'] == tweet].iloc[0]).T\n",
    "        ],\n",
    "            ignore_index=True\n",
    "        )\n",
    "\n",
    "# All of training set with none of the duplicates\n",
    "train_unduplicated = train.drop_duplicates(subset='text', keep=False)\n",
    "\n",
    "# All of training set with first instance of each duplicate included\n",
    "train_all_no_duplicates = pd.concat([\n",
    "    train_first_of_duplicate,\n",
    "    train_unduplicated     \n",
    "],\n",
    "    ignore_index=True\n",
    ")"
   ]
  },
  {
   "cell_type": "code",
   "execution_count": 6,
   "id": "9855e912",
   "metadata": {
    "execution": {
     "iopub.execute_input": "2022-08-02T05:53:04.324955Z",
     "iopub.status.busy": "2022-08-02T05:53:04.324534Z",
     "iopub.status.idle": "2022-08-02T05:53:04.338634Z",
     "shell.execute_reply": "2022-08-02T05:53:04.336754Z"
    },
    "papermill": {
     "duration": 0.023566,
     "end_time": "2022-08-02T05:53:04.341525",
     "exception": false,
     "start_time": "2022-08-02T05:53:04.317959",
     "status": "completed"
    },
    "tags": []
   },
   "outputs": [
    {
     "name": "stdout",
     "output_type": "stream",
     "text": [
      "Remaining duplicates in training set: 0\n"
     ]
    }
   ],
   "source": [
    "# Check no duplicates remain\n",
    "remaining_duplicates = train_all_no_duplicates.loc[train_all_no_duplicates.duplicated(subset='text', keep=False), :]\n",
    "print(f'Remaining duplicates in training set: {remaining_duplicates.shape[0]}')"
   ]
  },
  {
   "cell_type": "code",
   "execution_count": 7,
   "id": "b32ce87b",
   "metadata": {
    "execution": {
     "iopub.execute_input": "2022-08-02T05:53:04.354320Z",
     "iopub.status.busy": "2022-08-02T05:53:04.353601Z",
     "iopub.status.idle": "2022-08-02T05:53:04.358536Z",
     "shell.execute_reply": "2022-08-02T05:53:04.357659Z"
    },
    "papermill": {
     "duration": 0.013926,
     "end_time": "2022-08-02T05:53:04.360876",
     "exception": false,
     "start_time": "2022-08-02T05:53:04.346950",
     "status": "completed"
    },
    "tags": []
   },
   "outputs": [],
   "source": [
    "train_set = train_all_no_duplicates\n",
    "test_set = test"
   ]
  },
  {
   "cell_type": "markdown",
   "id": "20e15d49",
   "metadata": {
    "papermill": {
     "duration": 0.00478,
     "end_time": "2022-08-02T05:53:04.370836",
     "exception": false,
     "start_time": "2022-08-02T05:53:04.366056",
     "status": "completed"
    },
    "tags": []
   },
   "source": [
    "### Pre-Processing"
   ]
  },
  {
   "cell_type": "code",
   "execution_count": 8,
   "id": "d31cb120",
   "metadata": {
    "execution": {
     "iopub.execute_input": "2022-08-02T05:53:04.382934Z",
     "iopub.status.busy": "2022-08-02T05:53:04.382160Z",
     "iopub.status.idle": "2022-08-02T05:53:04.393907Z",
     "shell.execute_reply": "2022-08-02T05:53:04.392893Z"
    },
    "papermill": {
     "duration": 0.020808,
     "end_time": "2022-08-02T05:53:04.396622",
     "exception": false,
     "start_time": "2022-08-02T05:53:04.375814",
     "status": "completed"
    },
    "tags": []
   },
   "outputs": [],
   "source": [
    "lemmatizer = WordNetLemmatizer()\n",
    "stemmer = PorterStemmer() \n",
    "\n",
    "def preprocess_text(sentence):\n",
    "    sentence = str(sentence)\n",
    "    sentence = sentence.lower()\n",
    "    sentence = sentence.replace('{html}', \"\") \n",
    "    rem_url = re.sub(r'http\\S+', '', sentence)\n",
    "    cleanr = re.compile('[^A-Za-z ]+')\n",
    "    rem_num_non_alpha = re.sub(cleanr, '', rem_url)\n",
    "    tokenizer = RegexpTokenizer(r'\\w+')\n",
    "    tokens = tokenizer.tokenize(rem_num_non_alpha)\n",
    "    filtered_words = [w for w in tokens if len(w) > 2 if not w in stopwords.words('english')]\n",
    "    stem_words = [stemmer.stem(w) for w in filtered_words]\n",
    "    lemma_words=[lemmatizer.lemmatize(w) for w in stem_words]\n",
    "    return \" \".join(lemma_words)\n",
    "\n",
    "def create_set(df, vocab=None):\n",
    "    df['clean_text'] = df['text'].map(lambda s:preprocess_text(s))\n",
    "    \n",
    "    if vocab is None:\n",
    "        vocab = df.loc(axis=1)['clean_text']\n",
    "        \n",
    "    vectorizer = CountVectorizer()  # TfidfVectorizer()\n",
    "    vectorizer.fit(vocab)\n",
    "    X_vec = vectorizer.transform(df.loc(axis=1)['clean_text'])\n",
    "    X = pd.DataFrame(data=X_vec.toarray(), columns=vectorizer.get_feature_names_out())\n",
    "    y = df.loc(axis=1)['target'].astype('int') if 'target' in df else None\n",
    "    return X, y, vocab"
   ]
  },
  {
   "cell_type": "code",
   "execution_count": 9,
   "id": "f9d0617a",
   "metadata": {
    "execution": {
     "iopub.execute_input": "2022-08-02T05:53:04.408842Z",
     "iopub.status.busy": "2022-08-02T05:53:04.408433Z",
     "iopub.status.idle": "2022-08-02T05:53:21.887440Z",
     "shell.execute_reply": "2022-08-02T05:53:21.886153Z"
    },
    "papermill": {
     "duration": 17.488569,
     "end_time": "2022-08-02T05:53:21.890376",
     "exception": false,
     "start_time": "2022-08-02T05:53:04.401807",
     "status": "completed"
    },
    "tags": []
   },
   "outputs": [],
   "source": [
    "X, y, train_vocab = create_set(train_set)\n",
    "X_train, X_val, y_train, y_val = train_test_split(X, y, test_size=0.2, random_state=42)"
   ]
  },
  {
   "cell_type": "markdown",
   "id": "5b24be55",
   "metadata": {
    "papermill": {
     "duration": 0.0047,
     "end_time": "2022-08-02T05:53:21.900497",
     "exception": false,
     "start_time": "2022-08-02T05:53:21.895797",
     "status": "completed"
    },
    "tags": []
   },
   "source": [
    "### Validation Model"
   ]
  },
  {
   "cell_type": "code",
   "execution_count": 10,
   "id": "c88f3c69",
   "metadata": {
    "execution": {
     "iopub.execute_input": "2022-08-02T05:53:21.912215Z",
     "iopub.status.busy": "2022-08-02T05:53:21.911813Z",
     "iopub.status.idle": "2022-08-02T05:53:28.752379Z",
     "shell.execute_reply": "2022-08-02T05:53:28.751105Z"
    },
    "papermill": {
     "duration": 6.850958,
     "end_time": "2022-08-02T05:53:28.756460",
     "exception": false,
     "start_time": "2022-08-02T05:53:21.905502",
     "status": "completed"
    },
    "tags": []
   },
   "outputs": [],
   "source": [
    "model_val = LogisticRegression()\n",
    "model_val.fit(X_train, y_train)\n",
    "y_val_pred = model_val.predict(X_val)"
   ]
  },
  {
   "cell_type": "code",
   "execution_count": 11,
   "id": "82fab417",
   "metadata": {
    "execution": {
     "iopub.execute_input": "2022-08-02T05:53:28.775624Z",
     "iopub.status.busy": "2022-08-02T05:53:28.774884Z",
     "iopub.status.idle": "2022-08-02T05:53:28.784997Z",
     "shell.execute_reply": "2022-08-02T05:53:28.783445Z"
    },
    "papermill": {
     "duration": 0.027453,
     "end_time": "2022-08-02T05:53:28.792062",
     "exception": false,
     "start_time": "2022-08-02T05:53:28.764609",
     "status": "completed"
    },
    "tags": []
   },
   "outputs": [
    {
     "name": "stdout",
     "output_type": "stream",
     "text": [
      "Validation accuracy:  {0.811623246492986}\n"
     ]
    }
   ],
   "source": [
    "print('Validation accuracy: ',{accuracy_score(y_val, y_val_pred)})"
   ]
  },
  {
   "cell_type": "markdown",
   "id": "aa4dd11b",
   "metadata": {
    "papermill": {
     "duration": 0.007683,
     "end_time": "2022-08-02T05:53:28.807892",
     "exception": false,
     "start_time": "2022-08-02T05:53:28.800209",
     "status": "completed"
    },
    "tags": []
   },
   "source": [
    "### Test Model"
   ]
  },
  {
   "cell_type": "code",
   "execution_count": 12,
   "id": "a8b6ad06",
   "metadata": {
    "execution": {
     "iopub.execute_input": "2022-08-02T05:53:28.826502Z",
     "iopub.status.busy": "2022-08-02T05:53:28.825743Z",
     "iopub.status.idle": "2022-08-02T05:53:35.342504Z",
     "shell.execute_reply": "2022-08-02T05:53:35.341182Z"
    },
    "papermill": {
     "duration": 6.529449,
     "end_time": "2022-08-02T05:53:35.345410",
     "exception": false,
     "start_time": "2022-08-02T05:53:28.815961",
     "status": "completed"
    },
    "tags": []
   },
   "outputs": [],
   "source": [
    "X_train, y_train = X, y\n",
    "X_test,_,_ = create_set(test, vocab=train_vocab)\n",
    "test_ids = test.loc(axis=1)['id']"
   ]
  },
  {
   "cell_type": "code",
   "execution_count": 13,
   "id": "911fd134",
   "metadata": {
    "execution": {
     "iopub.execute_input": "2022-08-02T05:53:35.358149Z",
     "iopub.status.busy": "2022-08-02T05:53:35.357081Z",
     "iopub.status.idle": "2022-08-02T05:53:44.238758Z",
     "shell.execute_reply": "2022-08-02T05:53:44.237452Z"
    },
    "papermill": {
     "duration": 8.891663,
     "end_time": "2022-08-02T05:53:44.242284",
     "exception": false,
     "start_time": "2022-08-02T05:53:35.350621",
     "status": "completed"
    },
    "tags": []
   },
   "outputs": [],
   "source": [
    "model_test = LogisticRegression()\n",
    "model_test.fit(X_train, y_train)\n",
    "y_test_pred = pd.DataFrame(data=test_ids, columns=['id'])\n",
    "y_test_pred['target'] = model_test.predict(X_test)\n",
    "y_test_pred.to_csv('./submission.csv', index=False)"
   ]
  },
  {
   "cell_type": "code",
   "execution_count": 14,
   "id": "75dedaa6",
   "metadata": {
    "execution": {
     "iopub.execute_input": "2022-08-02T05:53:44.260306Z",
     "iopub.status.busy": "2022-08-02T05:53:44.259767Z",
     "iopub.status.idle": "2022-08-02T05:53:44.282473Z",
     "shell.execute_reply": "2022-08-02T05:53:44.281325Z"
    },
    "papermill": {
     "duration": 0.035166,
     "end_time": "2022-08-02T05:53:44.285491",
     "exception": false,
     "start_time": "2022-08-02T05:53:44.250325",
     "status": "completed"
    },
    "tags": []
   },
   "outputs": [
    {
     "data": {
      "text/html": [
       "<div>\n",
       "<style scoped>\n",
       "    .dataframe tbody tr th:only-of-type {\n",
       "        vertical-align: middle;\n",
       "    }\n",
       "\n",
       "    .dataframe tbody tr th {\n",
       "        vertical-align: top;\n",
       "    }\n",
       "\n",
       "    .dataframe thead th {\n",
       "        text-align: right;\n",
       "    }\n",
       "</style>\n",
       "<table border=\"1\" class=\"dataframe\">\n",
       "  <thead>\n",
       "    <tr style=\"text-align: right;\">\n",
       "      <th></th>\n",
       "      <th>id</th>\n",
       "      <th>target</th>\n",
       "    </tr>\n",
       "  </thead>\n",
       "  <tbody>\n",
       "    <tr>\n",
       "      <th>3258</th>\n",
       "      <td>10861</td>\n",
       "      <td>1</td>\n",
       "    </tr>\n",
       "    <tr>\n",
       "      <th>3259</th>\n",
       "      <td>10865</td>\n",
       "      <td>1</td>\n",
       "    </tr>\n",
       "    <tr>\n",
       "      <th>3260</th>\n",
       "      <td>10868</td>\n",
       "      <td>1</td>\n",
       "    </tr>\n",
       "    <tr>\n",
       "      <th>3261</th>\n",
       "      <td>10874</td>\n",
       "      <td>1</td>\n",
       "    </tr>\n",
       "    <tr>\n",
       "      <th>3262</th>\n",
       "      <td>10875</td>\n",
       "      <td>0</td>\n",
       "    </tr>\n",
       "  </tbody>\n",
       "</table>\n",
       "</div>"
      ],
      "text/plain": [
       "         id  target\n",
       "3258  10861       1\n",
       "3259  10865       1\n",
       "3260  10868       1\n",
       "3261  10874       1\n",
       "3262  10875       0"
      ]
     },
     "execution_count": 14,
     "metadata": {},
     "output_type": "execute_result"
    }
   ],
   "source": [
    "y_test_pred.tail()"
   ]
  },
  {
   "cell_type": "code",
   "execution_count": null,
   "id": "6d8a153e",
   "metadata": {
    "papermill": {
     "duration": 0.007791,
     "end_time": "2022-08-02T05:53:44.302879",
     "exception": false,
     "start_time": "2022-08-02T05:53:44.295088",
     "status": "completed"
    },
    "tags": []
   },
   "outputs": [],
   "source": []
  }
 ],
 "metadata": {
  "kernelspec": {
   "display_name": "Python 3",
   "language": "python",
   "name": "python3"
  },
  "language_info": {
   "codemirror_mode": {
    "name": "ipython",
    "version": 3
   },
   "file_extension": ".py",
   "mimetype": "text/x-python",
   "name": "python",
   "nbconvert_exporter": "python",
   "pygments_lexer": "ipython3",
   "version": "3.7.12"
  },
  "papermill": {
   "default_parameters": {},
   "duration": 53.313138,
   "end_time": "2022-08-02T05:53:45.342110",
   "environment_variables": {},
   "exception": null,
   "input_path": "__notebook__.ipynb",
   "output_path": "__notebook__.ipynb",
   "parameters": {},
   "start_time": "2022-08-02T05:52:52.028972",
   "version": "2.3.4"
  }
 },
 "nbformat": 4,
 "nbformat_minor": 5
}
