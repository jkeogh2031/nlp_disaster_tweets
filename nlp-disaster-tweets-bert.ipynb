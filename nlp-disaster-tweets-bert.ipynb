{
 "cells": [
  {
   "cell_type": "code",
   "execution_count": 1,
   "id": "60bb4ed5",
   "metadata": {
    "execution": {
     "iopub.execute_input": "2022-08-15T09:58:30.417548Z",
     "iopub.status.busy": "2022-08-15T09:58:30.416537Z",
     "iopub.status.idle": "2022-08-15T09:59:47.399003Z",
     "shell.execute_reply": "2022-08-15T09:59:47.397879Z"
    },
    "papermill": {
     "duration": 76.999734,
     "end_time": "2022-08-15T09:59:47.401461",
     "exception": false,
     "start_time": "2022-08-15T09:58:30.401727",
     "status": "completed"
    },
    "tags": []
   },
   "outputs": [
    {
     "name": "stdout",
     "output_type": "stream",
     "text": [
      "\u001b[31mERROR: pip's dependency resolver does not currently take into account all the packages that are installed. This behaviour is the source of the following dependency conflicts.\r\n",
      "tfx-bsl 1.9.0 requires tensorflow!=2.0.*,!=2.1.*,!=2.2.*,!=2.3.*,!=2.4.*,!=2.5.*,!=2.6.*,!=2.7.*,!=2.8.*,<3,>=1.15.5, but you have tensorflow 2.8.2 which is incompatible.\r\n",
      "tensorflow-transform 1.9.0 requires tensorflow!=2.0.*,!=2.1.*,!=2.2.*,!=2.3.*,!=2.4.*,!=2.5.*,!=2.6.*,!=2.7.*,!=2.8.*,<2.10,>=1.15.5, but you have tensorflow 2.8.2 which is incompatible.\r\n",
      "tensorflow-serving-api 2.9.0 requires tensorflow<3,>=2.9.0, but you have tensorflow 2.8.2 which is incompatible.\r\n",
      "tensorflow-io 0.21.0 requires tensorflow<2.7.0,>=2.6.0, but you have tensorflow 2.8.2 which is incompatible.\r\n",
      "tensorflow-io 0.21.0 requires tensorflow-io-gcs-filesystem==0.21.0, but you have tensorflow-io-gcs-filesystem 0.26.0 which is incompatible.\u001b[0m\u001b[31m\r\n",
      "\u001b[0m\u001b[33mWARNING: Running pip as the 'root' user can result in broken permissions and conflicting behaviour with the system package manager. It is recommended to use a virtual environment instead: https://pip.pypa.io/warnings/venv\u001b[0m\u001b[33m\r\n",
      "\u001b[0m"
     ]
    }
   ],
   "source": [
    "!pip install -q -U \"tensorflow-text==2.8.*\""
   ]
  },
  {
   "cell_type": "code",
   "execution_count": 2,
   "id": "13871d6b",
   "metadata": {
    "execution": {
     "iopub.execute_input": "2022-08-15T09:59:47.418762Z",
     "iopub.status.busy": "2022-08-15T09:59:47.418412Z",
     "iopub.status.idle": "2022-08-15T10:00:33.404203Z",
     "shell.execute_reply": "2022-08-15T10:00:33.402780Z"
    },
    "papermill": {
     "duration": 45.997674,
     "end_time": "2022-08-15T10:00:33.407427",
     "exception": false,
     "start_time": "2022-08-15T09:59:47.409753",
     "status": "completed"
    },
    "tags": []
   },
   "outputs": [
    {
     "name": "stdout",
     "output_type": "stream",
     "text": [
      "\u001b[33mWARNING: Running pip as the 'root' user can result in broken permissions and conflicting behaviour with the system package manager. It is recommended to use a virtual environment instead: https://pip.pypa.io/warnings/venv\u001b[0m\u001b[33m\r\n",
      "\u001b[0m"
     ]
    }
   ],
   "source": [
    "!pip install -q tf-models-official==2.7.0"
   ]
  },
  {
   "cell_type": "code",
   "execution_count": 3,
   "id": "ff709902",
   "metadata": {
    "_cell_guid": "b1076dfc-b9ad-4769-8c92-a6c4dae69d19",
    "_uuid": "8f2839f25d086af736a60e9eeb907d3b93b6e0e5",
    "execution": {
     "iopub.execute_input": "2022-08-15T10:00:33.439138Z",
     "iopub.status.busy": "2022-08-15T10:00:33.438546Z",
     "iopub.status.idle": "2022-08-15T10:00:38.755670Z",
     "shell.execute_reply": "2022-08-15T10:00:38.753121Z"
    },
    "papermill": {
     "duration": 5.335964,
     "end_time": "2022-08-15T10:00:38.758558",
     "exception": false,
     "start_time": "2022-08-15T10:00:33.422594",
     "status": "completed"
    },
    "tags": []
   },
   "outputs": [
    {
     "name": "stderr",
     "output_type": "stream",
     "text": [
      "[nltk_data] Downloading package stopwords to /usr/share/nltk_data...\n",
      "[nltk_data]   Package stopwords is already up-to-date!\n",
      "[nltk_data] Downloading package omw-1.4 to /usr/share/nltk_data...\n",
      "/opt/conda/lib/python3.7/site-packages/tensorflow_addons/utils/ensure_tf_install.py:67: UserWarning: Tensorflow Addons supports using Python ops for all Tensorflow versions above or equal to 2.4.0 and strictly below 2.7.0 (nightly versions are not supported). \n",
      " The versions of TensorFlow you are currently using is 2.8.2 and is not supported. \n",
      "Some things might work, some things might not.\n",
      "If you were to encounter a bug, do not file an issue.\n",
      "If you want to make sure you're using a tested and supported configuration, either change the TensorFlow version or the TensorFlow Addons's version. \n",
      "You can find the compatibility matrix in TensorFlow Addon's readme:\n",
      "https://github.com/tensorflow/addons\n",
      "  UserWarning,\n"
     ]
    }
   ],
   "source": [
    "import os\n",
    "import shutil\n",
    "import numpy as np\n",
    "import pandas as pd\n",
    "import matplotlib.pyplot as plt\n",
    "import nltk\n",
    "from nltk.tokenize import RegexpTokenizer\n",
    "from nltk.stem import WordNetLemmatizer,PorterStemmer\n",
    "from nltk.corpus import stopwords\n",
    "nltk.download('stopwords')\n",
    "nltk.download('omw-1.4')\n",
    "import re\n",
    "from collections import Counter\n",
    "import random\n",
    "\n",
    "import tensorflow as tf\n",
    "from sklearn.model_selection import train_test_split\n",
    "import tensorflow_hub as hub\n",
    "import tensorflow_text as text\n",
    "from official.nlp import optimization\n",
    "\n",
    "tf.get_logger().setLevel('ERROR')"
   ]
  },
  {
   "cell_type": "code",
   "execution_count": 4,
   "id": "6c6d3e19",
   "metadata": {
    "execution": {
     "iopub.execute_input": "2022-08-15T10:00:38.777528Z",
     "iopub.status.busy": "2022-08-15T10:00:38.777023Z",
     "iopub.status.idle": "2022-08-15T10:00:38.831595Z",
     "shell.execute_reply": "2022-08-15T10:00:38.830684Z"
    },
    "papermill": {
     "duration": 0.065357,
     "end_time": "2022-08-15T10:00:38.833702",
     "exception": false,
     "start_time": "2022-08-15T10:00:38.768345",
     "status": "completed"
    },
    "tags": []
   },
   "outputs": [],
   "source": [
    "TRAIN_FP = '../input/nlp-getting-started/train.csv'\n",
    "TEST_FP = '../input/nlp-getting-started/test.csv'\n",
    "\n",
    "train = pd.read_csv(TRAIN_FP)\n",
    "test = pd.read_csv(TEST_FP)"
   ]
  },
  {
   "cell_type": "code",
   "execution_count": 5,
   "id": "85bce828",
   "metadata": {
    "execution": {
     "iopub.execute_input": "2022-08-15T10:00:38.851194Z",
     "iopub.status.busy": "2022-08-15T10:00:38.850230Z",
     "iopub.status.idle": "2022-08-15T10:00:38.863566Z",
     "shell.execute_reply": "2022-08-15T10:00:38.862352Z"
    },
    "papermill": {
     "duration": 0.025145,
     "end_time": "2022-08-15T10:00:38.866477",
     "exception": false,
     "start_time": "2022-08-15T10:00:38.841332",
     "status": "completed"
    },
    "tags": []
   },
   "outputs": [
    {
     "name": "stdout",
     "output_type": "stream",
     "text": [
      "3271 disasters, 42.97% of training set\n"
     ]
    }
   ],
   "source": [
    "disaster_tweets = train.loc[train['target'] == 1, :].shape[0]\n",
    "total_tweets = train.shape[0]\n",
    "print(f'{disaster_tweets} disasters, {(disaster_tweets/total_tweets)*100:.2f}% of training set')"
   ]
  },
  {
   "cell_type": "code",
   "execution_count": 6,
   "id": "5f854941",
   "metadata": {
    "execution": {
     "iopub.execute_input": "2022-08-15T10:00:38.884981Z",
     "iopub.status.busy": "2022-08-15T10:00:38.884707Z",
     "iopub.status.idle": "2022-08-15T10:00:38.898209Z",
     "shell.execute_reply": "2022-08-15T10:00:38.896792Z"
    },
    "papermill": {
     "duration": 0.025351,
     "end_time": "2022-08-15T10:00:38.900696",
     "exception": false,
     "start_time": "2022-08-15T10:00:38.875345",
     "status": "completed"
    },
    "tags": []
   },
   "outputs": [
    {
     "name": "stdout",
     "output_type": "stream",
     "text": [
      "69 tweets duplicated, 179 total duplicates\n"
     ]
    }
   ],
   "source": [
    "train_duplicates = train.loc[train.duplicated(subset='text', keep=False), :]\n",
    "num_unique_duplicated_tweets = train_duplicates.loc(axis=1)['text'].unique().shape[0]\n",
    "num_total_duplicated_tweets = train_duplicates.shape[0]\n",
    "\n",
    "print(f'{num_unique_duplicated_tweets} tweets duplicated, {num_total_duplicated_tweets} total duplicates')"
   ]
  },
  {
   "cell_type": "code",
   "execution_count": 7,
   "id": "44dfe787",
   "metadata": {
    "execution": {
     "iopub.execute_input": "2022-08-15T10:00:38.918973Z",
     "iopub.status.busy": "2022-08-15T10:00:38.918141Z",
     "iopub.status.idle": "2022-08-15T10:00:39.042044Z",
     "shell.execute_reply": "2022-08-15T10:00:39.040549Z"
    },
    "papermill": {
     "duration": 0.135873,
     "end_time": "2022-08-15T10:00:39.044763",
     "exception": false,
     "start_time": "2022-08-15T10:00:38.908890",
     "status": "completed"
    },
    "tags": []
   },
   "outputs": [
    {
     "name": "stdout",
     "output_type": "stream",
     "text": [
      "Remaining duplicates in training set: 0\n"
     ]
    }
   ],
   "source": [
    "# For the duplicated entries, if not marked the same => drop altogether\n",
    "duplicated_tweets = train_duplicates.loc(axis=1)['text'].unique()\n",
    "train_first_of_duplicate = pd.DataFrame(columns=train.columns)\n",
    "\n",
    "for tweet in duplicated_tweets:\n",
    "    if train_duplicates.loc(axis=0)[train_duplicates['text'] == tweet]['target'].unique().shape[0] == 1:\n",
    "        train_first_of_duplicate = pd.concat([\n",
    "            train_first_of_duplicate,\n",
    "            pd.DataFrame(train_duplicates.loc(axis=0)[train_duplicates['text'] == tweet].iloc[0]).T\n",
    "        ],\n",
    "            ignore_index=True\n",
    "        )\n",
    "\n",
    "# All of training set with none of the duplicates\n",
    "train_unduplicated = train.drop_duplicates(subset='text', keep=False)\n",
    "\n",
    "# All of training set with first instance of each duplicate included\n",
    "train_all_no_duplicates = pd.concat([\n",
    "    train_first_of_duplicate,\n",
    "    train_unduplicated     \n",
    "],\n",
    "    ignore_index=True\n",
    ")\n",
    "\n",
    "# Check no duplicates remain\n",
    "remaining_duplicates = train_all_no_duplicates.loc[train_all_no_duplicates.duplicated(subset='text', keep=False), :]\n",
    "print(f'Remaining duplicates in training set: {remaining_duplicates.shape[0]}')"
   ]
  },
  {
   "cell_type": "code",
   "execution_count": 8,
   "id": "98ee7d24",
   "metadata": {
    "execution": {
     "iopub.execute_input": "2022-08-15T10:00:39.061959Z",
     "iopub.status.busy": "2022-08-15T10:00:39.061678Z",
     "iopub.status.idle": "2022-08-15T10:00:39.066973Z",
     "shell.execute_reply": "2022-08-15T10:00:39.066080Z"
    },
    "papermill": {
     "duration": 0.015781,
     "end_time": "2022-08-15T10:00:39.068974",
     "exception": false,
     "start_time": "2022-08-15T10:00:39.053193",
     "status": "completed"
    },
    "tags": []
   },
   "outputs": [],
   "source": [
    "train_set = train_all_no_duplicates\n",
    "test_set = test"
   ]
  },
  {
   "cell_type": "markdown",
   "id": "0f9b69cf",
   "metadata": {
    "papermill": {
     "duration": 0.007527,
     "end_time": "2022-08-15T10:00:39.084394",
     "exception": false,
     "start_time": "2022-08-15T10:00:39.076867",
     "status": "completed"
    },
    "tags": []
   },
   "source": [
    "### BERT Import"
   ]
  },
  {
   "cell_type": "code",
   "execution_count": 9,
   "id": "75b6dab2",
   "metadata": {
    "execution": {
     "iopub.execute_input": "2022-08-15T10:00:39.102788Z",
     "iopub.status.busy": "2022-08-15T10:00:39.101127Z",
     "iopub.status.idle": "2022-08-15T10:00:43.557076Z",
     "shell.execute_reply": "2022-08-15T10:00:43.556076Z"
    },
    "papermill": {
     "duration": 4.467331,
     "end_time": "2022-08-15T10:00:43.559774",
     "exception": false,
     "start_time": "2022-08-15T10:00:39.092443",
     "status": "completed"
    },
    "tags": []
   },
   "outputs": [],
   "source": [
    "# tfhub_handle_encoder = 'https://tfhub.dev/tensorflow/small_bert/bert_en_uncased_L-4_H-512_A-8/1'\n",
    "# tfhub_handle_encoder = 'https://tfhub.dev/tensorflow/bert_en_uncased_L-24_H-1024_A-16/4'\n",
    "tfhub_handle_encoder = 'https://tfhub.dev/tensorflow/bert_en_uncased_L-12_H-768_A-12/4'\n",
    "tfhub_handle_preprocess = 'https://tfhub.dev/tensorflow/bert_en_uncased_preprocess/3'\n",
    "\n",
    "bert_preprocess_model = hub.KerasLayer(tfhub_handle_preprocess)"
   ]
  },
  {
   "cell_type": "code",
   "execution_count": 10,
   "id": "c00b7810",
   "metadata": {
    "execution": {
     "iopub.execute_input": "2022-08-15T10:00:43.577985Z",
     "iopub.status.busy": "2022-08-15T10:00:43.577067Z",
     "iopub.status.idle": "2022-08-15T10:00:43.765728Z",
     "shell.execute_reply": "2022-08-15T10:00:43.764521Z"
    },
    "papermill": {
     "duration": 0.200371,
     "end_time": "2022-08-15T10:00:43.768343",
     "exception": false,
     "start_time": "2022-08-15T10:00:43.567972",
     "status": "completed"
    },
    "tags": []
   },
   "outputs": [
    {
     "name": "stdout",
     "output_type": "stream",
     "text": [
      "['The eyes of the nation &amp; broader conservation community are on #Alaska @AKGovBillWalker reinstate emergency buffer #ProtectDenaliWolves']\n",
      "Keys       : ['input_word_ids', 'input_mask', 'input_type_ids']\n",
      "Shape      : (1, 128)\n",
      "Word Ids   : [  101  1996  2159  1997  1996  3842  1004 23713  1025 12368  5680  2451]\n",
      "Input Mask : [1 1 1 1 1 1 1 1 1 1 1 1]\n",
      "Type Ids   : [0 0 0 0 0 0 0 0 0 0 0 0]\n"
     ]
    }
   ],
   "source": [
    "example_num = random.randint(0, train_set.shape[0])\n",
    "text_test = [train_set['text'].iloc[example_num]]\n",
    "print(text_test)\n",
    "text_preprocessed = bert_preprocess_model(text_test)\n",
    "\n",
    "print(f'Keys       : {list(text_preprocessed.keys())}')\n",
    "print(f'Shape      : {text_preprocessed[\"input_word_ids\"].shape}')\n",
    "print(f'Word Ids   : {text_preprocessed[\"input_word_ids\"][0, :12]}')\n",
    "print(f'Input Mask : {text_preprocessed[\"input_mask\"][0, :12]}')\n",
    "print(f'Type Ids   : {text_preprocessed[\"input_type_ids\"][0, :12]}')"
   ]
  },
  {
   "cell_type": "code",
   "execution_count": 11,
   "id": "8aea9b73",
   "metadata": {
    "execution": {
     "iopub.execute_input": "2022-08-15T10:00:43.787392Z",
     "iopub.status.busy": "2022-08-15T10:00:43.786450Z",
     "iopub.status.idle": "2022-08-15T10:01:00.321741Z",
     "shell.execute_reply": "2022-08-15T10:01:00.320736Z"
    },
    "papermill": {
     "duration": 16.547534,
     "end_time": "2022-08-15T10:01:00.324380",
     "exception": false,
     "start_time": "2022-08-15T10:00:43.776846",
     "status": "completed"
    },
    "tags": []
   },
   "outputs": [],
   "source": [
    "bert_model = hub.KerasLayer(tfhub_handle_encoder)"
   ]
  },
  {
   "cell_type": "code",
   "execution_count": 12,
   "id": "3b2cc120",
   "metadata": {
    "execution": {
     "iopub.execute_input": "2022-08-15T10:01:00.343029Z",
     "iopub.status.busy": "2022-08-15T10:01:00.341917Z",
     "iopub.status.idle": "2022-08-15T10:01:01.843286Z",
     "shell.execute_reply": "2022-08-15T10:01:01.841178Z"
    },
    "papermill": {
     "duration": 1.512551,
     "end_time": "2022-08-15T10:01:01.845544",
     "exception": false,
     "start_time": "2022-08-15T10:01:00.332993",
     "status": "completed"
    },
    "tags": []
   },
   "outputs": [
    {
     "name": "stdout",
     "output_type": "stream",
     "text": [
      "Loaded BERT: https://tfhub.dev/tensorflow/bert_en_uncased_L-12_H-768_A-12/4\n",
      "Pooled Outputs Shape:(1, 768)\n",
      "Pooled Outputs Values:[-0.8256865  -0.574522   -0.9535409   0.6728136   0.53261596 -0.13767515\n",
      "  0.7064378   0.46194    -0.82223207 -0.99998903 -0.41850638  0.9147567 ]\n",
      "Sequence Outputs Shape:(1, 128, 768)\n",
      "Sequence Outputs Values:[[-0.2520371  -0.13047656  0.06964087 ... -0.32350984  0.17692196\n",
      "   0.07115836]\n",
      " [ 0.21061333 -0.37130985  0.18225005 ...  0.0980175   0.4900356\n",
      "  -0.45115417]\n",
      " [ 0.6601797   0.09455779  0.207233   ... -0.27213195  0.44007164\n",
      "  -0.42186764]\n",
      " ...\n",
      " [ 0.356698    0.14810887  0.23691247 ... -0.29489025  0.5052453\n",
      "  -0.5442631 ]\n",
      " [ 0.36875203  0.4312113   0.2790465  ... -0.18719606 -0.38424638\n",
      "  -0.24126163]\n",
      " [ 0.6361859  -0.07208378  0.5299068  ... -0.32650012  0.23230788\n",
      "  -0.07415278]]\n"
     ]
    }
   ],
   "source": [
    "bert_results = bert_model(text_preprocessed)\n",
    "\n",
    "print(f'Loaded BERT: {tfhub_handle_encoder}')\n",
    "print(f'Pooled Outputs Shape:{bert_results[\"pooled_output\"].shape}')\n",
    "print(f'Pooled Outputs Values:{bert_results[\"pooled_output\"][0, :12]}')\n",
    "print(f'Sequence Outputs Shape:{bert_results[\"sequence_output\"].shape}')\n",
    "print(f'Sequence Outputs Values:{bert_results[\"sequence_output\"][0, :12]}')"
   ]
  },
  {
   "cell_type": "code",
   "execution_count": 13,
   "id": "50bfe810",
   "metadata": {
    "execution": {
     "iopub.execute_input": "2022-08-15T10:01:01.865935Z",
     "iopub.status.busy": "2022-08-15T10:01:01.864449Z",
     "iopub.status.idle": "2022-08-15T10:01:01.872477Z",
     "shell.execute_reply": "2022-08-15T10:01:01.871548Z"
    },
    "papermill": {
     "duration": 0.019027,
     "end_time": "2022-08-15T10:01:01.874612",
     "exception": false,
     "start_time": "2022-08-15T10:01:01.855585",
     "status": "completed"
    },
    "tags": []
   },
   "outputs": [],
   "source": [
    "def build_classifier_model():\n",
    "    input_word_ids = tf.keras.layers.Input(shape=(None,), dtype=tf.int32, name=\"input_word_ids\")\n",
    "    input_type_ids = tf.keras.layers.Input(shape=(None,), dtype=tf.int32, name=\"input_type_ids\")\n",
    "    input_mask = tf.keras.layers.Input(shape=(None,), dtype=tf.int32, name=\"input_mask\")\n",
    "    \n",
    "    encoder_inputs = {\n",
    "        \"input_word_ids\": input_word_ids,\n",
    "        \"input_type_ids\": input_type_ids,\n",
    "        \"input_mask\": input_mask\n",
    "    }\n",
    "    \n",
    "    encoder = hub.KerasLayer(tfhub_handle_encoder, trainable=True, name='BERT_encoder')\n",
    "    outputs = encoder(encoder_inputs)\n",
    "    net = outputs['sequence_output'][:, 0, :]\n",
    "#     net = tf.keras.layers.Dropout(0.1)(net)\n",
    "    net = tf.keras.layers.Dense(1, activation='sigmoid', name='classifier')(net)\n",
    "    return tf.keras.Model(inputs=[input_word_ids, input_type_ids, input_mask], outputs=net)\n",
    "    "
   ]
  },
  {
   "cell_type": "code",
   "execution_count": 14,
   "id": "862f1bc3",
   "metadata": {
    "execution": {
     "iopub.execute_input": "2022-08-15T10:01:01.891636Z",
     "iopub.status.busy": "2022-08-15T10:01:01.891346Z",
     "iopub.status.idle": "2022-08-15T10:01:13.800799Z",
     "shell.execute_reply": "2022-08-15T10:01:13.799363Z"
    },
    "papermill": {
     "duration": 11.920975,
     "end_time": "2022-08-15T10:01:13.803438",
     "exception": false,
     "start_time": "2022-08-15T10:01:01.882463",
     "status": "completed"
    },
    "tags": []
   },
   "outputs": [
    {
     "name": "stdout",
     "output_type": "stream",
     "text": [
      "tf.Tensor([[0.5448496]], shape=(1, 1), dtype=float32)\n"
     ]
    }
   ],
   "source": [
    "classifier_model = build_classifier_model()\n",
    "bert_raw_result = classifier_model([\n",
    "    text_preprocessed[\"input_word_ids\"],\n",
    "    text_preprocessed[\"input_type_ids\"],\n",
    "    text_preprocessed[\"input_mask\"],\n",
    "])\n",
    "print(bert_raw_result)"
   ]
  },
  {
   "cell_type": "code",
   "execution_count": 15,
   "id": "15791292",
   "metadata": {
    "execution": {
     "iopub.execute_input": "2022-08-15T10:01:13.822960Z",
     "iopub.status.busy": "2022-08-15T10:01:13.822594Z",
     "iopub.status.idle": "2022-08-15T10:01:13.869699Z",
     "shell.execute_reply": "2022-08-15T10:01:13.868895Z"
    },
    "papermill": {
     "duration": 0.082917,
     "end_time": "2022-08-15T10:01:13.895879",
     "exception": false,
     "start_time": "2022-08-15T10:01:13.812962",
     "status": "completed"
    },
    "tags": []
   },
   "outputs": [
    {
     "name": "stdout",
     "output_type": "stream",
     "text": [
      "Model: \"model\"\n",
      "__________________________________________________________________________________________________\n",
      " Layer (type)                   Output Shape         Param #     Connected to                     \n",
      "==================================================================================================\n",
      " input_mask (InputLayer)        [(None, None)]       0           []                               \n",
      "                                                                                                  \n",
      " input_type_ids (InputLayer)    [(None, None)]       0           []                               \n",
      "                                                                                                  \n",
      " input_word_ids (InputLayer)    [(None, None)]       0           []                               \n",
      "                                                                                                  \n",
      " BERT_encoder (KerasLayer)      {'sequence_output':  109482241   ['input_mask[0][0]',             \n",
      "                                 (None, None, 768),               'input_type_ids[0][0]',         \n",
      "                                 'default': (None,                'input_word_ids[0][0]']         \n",
      "                                768),                                                             \n",
      "                                 'pooled_output': (                                               \n",
      "                                None, 768),                                                       \n",
      "                                 'encoder_outputs':                                               \n",
      "                                 [(None, None, 768)                                               \n",
      "                                , (None, None, 768)                                               \n",
      "                                , (None, None, 768)                                               \n",
      "                                , (None, None, 768)                                               \n",
      "                                , (None, None, 768)                                               \n",
      "                                , (None, None, 768)                                               \n",
      "                                , (None, None, 768)                                               \n",
      "                                , (None, None, 768)                                               \n",
      "                                , (None, None, 768)                                               \n",
      "                                , (None, None, 768)                                               \n",
      "                                , (None, None, 768)                                               \n",
      "                                , (None, None, 768)                                               \n",
      "                                ]}                                                                \n",
      "                                                                                                  \n",
      " tf.__operators__.getitem (Slic  (None, 768)         0           ['BERT_encoder[0][14]']          \n",
      " ingOpLambda)                                                                                     \n",
      "                                                                                                  \n",
      " classifier (Dense)             (None, 1)            769         ['tf.__operators__.getitem[0][0]'\n",
      "                                                                 ]                                \n",
      "                                                                                                  \n",
      "==================================================================================================\n",
      "Total params: 109,483,010\n",
      "Trainable params: 109,483,009\n",
      "Non-trainable params: 1\n",
      "__________________________________________________________________________________________________\n"
     ]
    }
   ],
   "source": [
    "classifier_model.summary()"
   ]
  },
  {
   "cell_type": "markdown",
   "id": "cc2da5f2",
   "metadata": {
    "papermill": {
     "duration": 0.010051,
     "end_time": "2022-08-15T10:01:13.916315",
     "exception": false,
     "start_time": "2022-08-15T10:01:13.906264",
     "status": "completed"
    },
    "tags": []
   },
   "source": [
    "### Pre-Processing"
   ]
  },
  {
   "cell_type": "code",
   "execution_count": 16,
   "id": "371bb226",
   "metadata": {
    "execution": {
     "iopub.execute_input": "2022-08-15T10:01:13.939441Z",
     "iopub.status.busy": "2022-08-15T10:01:13.938744Z",
     "iopub.status.idle": "2022-08-15T10:01:13.961415Z",
     "shell.execute_reply": "2022-08-15T10:01:13.960514Z"
    },
    "jupyter": {
     "source_hidden": true
    },
    "papermill": {
     "duration": 0.036766,
     "end_time": "2022-08-15T10:01:13.963559",
     "exception": false,
     "start_time": "2022-08-15T10:01:13.926793",
     "status": "completed"
    },
    "tags": []
   },
   "outputs": [],
   "source": [
    "abbreviations = {\n",
    "    \"$\" : \" dollar \",\n",
    "    \"€\" : \" euro \",\n",
    "    \"4ao\" : \"for adults only\",\n",
    "    \"a.m\" : \"before midday\",\n",
    "    \"a3\" : \"anytime anywhere anyplace\",\n",
    "    \"aamof\" : \"as a matter of fact\",\n",
    "    \"acct\" : \"account\",\n",
    "    \"adih\" : \"another day in hell\",\n",
    "    \"afaic\" : \"as far as i am concerned\",\n",
    "    \"afaict\" : \"as far as i can tell\",\n",
    "    \"afaik\" : \"as far as i know\",\n",
    "    \"afair\" : \"as far as i remember\",\n",
    "    \"afk\" : \"away from keyboard\",\n",
    "    \"app\" : \"application\",\n",
    "    \"approx\" : \"approximately\",\n",
    "    \"apps\" : \"applications\",\n",
    "    \"asap\" : \"as soon as possible\",\n",
    "    \"asl\" : \"age, sex, location\",\n",
    "    \"atk\" : \"at the keyboard\",\n",
    "    \"ave.\" : \"avenue\",\n",
    "    \"aymm\" : \"are you my mother\",\n",
    "    \"ayor\" : \"at your own risk\", \n",
    "    \"b&b\" : \"bed and breakfast\",\n",
    "    \"b+b\" : \"bed and breakfast\",\n",
    "    \"b.c\" : \"before christ\",\n",
    "    \"b2b\" : \"business to business\",\n",
    "    \"b2c\" : \"business to customer\",\n",
    "    \"b4\" : \"before\",\n",
    "    \"b4n\" : \"bye for now\",\n",
    "    \"b@u\" : \"back at you\",\n",
    "    \"bae\" : \"before anyone else\",\n",
    "    \"bak\" : \"back at keyboard\",\n",
    "    \"bbbg\" : \"bye bye be good\",\n",
    "    \"bbc\" : \"british broadcasting corporation\",\n",
    "    \"bbias\" : \"be back in a second\",\n",
    "    \"bbl\" : \"be back later\",\n",
    "    \"bbs\" : \"be back soon\",\n",
    "    \"be4\" : \"before\",\n",
    "    \"bfn\" : \"bye for now\",\n",
    "    \"blvd\" : \"boulevard\",\n",
    "    \"bout\" : \"about\",\n",
    "    \"brb\" : \"be right back\",\n",
    "    \"bros\" : \"brothers\",\n",
    "    \"brt\" : \"be right there\",\n",
    "    \"bsaaw\" : \"big smile and a wink\",\n",
    "    \"btw\" : \"by the way\",\n",
    "    \"bwl\" : \"bursting with laughter\",\n",
    "    \"c/o\" : \"care of\",\n",
    "    \"cet\" : \"central european time\",\n",
    "    \"cf\" : \"compare\",\n",
    "    \"cia\" : \"central intelligence agency\",\n",
    "    \"csl\" : \"can not stop laughing\",\n",
    "    \"cu\" : \"see you\",\n",
    "    \"cul8r\" : \"see you later\",\n",
    "    \"cv\" : \"curriculum vitae\",\n",
    "    \"cwot\" : \"complete waste of time\",\n",
    "    \"cya\" : \"see you\",\n",
    "    \"cyt\" : \"see you tomorrow\",\n",
    "    \"dae\" : \"does anyone else\",\n",
    "    \"dbmib\" : \"do not bother me i am busy\",\n",
    "    \"diy\" : \"do it yourself\",\n",
    "    \"dm\" : \"direct message\",\n",
    "    \"dwh\" : \"during work hours\",\n",
    "    \"e123\" : \"easy as one two three\",\n",
    "    \"eet\" : \"eastern european time\",\n",
    "    \"eg\" : \"example\",\n",
    "    \"embm\" : \"early morning business meeting\",\n",
    "    \"encl\" : \"enclosed\",\n",
    "    \"encl.\" : \"enclosed\",\n",
    "    \"etc\" : \"and so on\",\n",
    "    \"faq\" : \"frequently asked questions\",\n",
    "    \"fawc\" : \"for anyone who cares\",\n",
    "    \"fb\" : \"facebook\",\n",
    "    \"fc\" : \"fingers crossed\",\n",
    "    \"fig\" : \"figure\",\n",
    "    \"fimh\" : \"forever in my heart\", \n",
    "    \"ft.\" : \"feet\",\n",
    "    \"ft\" : \"featuring\",\n",
    "    \"ftl\" : \"for the loss\",\n",
    "    \"ftw\" : \"for the win\",\n",
    "    \"fwiw\" : \"for what it is worth\",\n",
    "    \"fyi\" : \"for your information\",\n",
    "    \"g9\" : \"genius\",\n",
    "    \"gahoy\" : \"get a hold of yourself\",\n",
    "    \"gal\" : \"get a life\",\n",
    "    \"gcse\" : \"general certificate of secondary education\",\n",
    "    \"gfn\" : \"gone for now\",\n",
    "    \"gg\" : \"good game\",\n",
    "    \"gl\" : \"good luck\",\n",
    "    \"glhf\" : \"good luck have fun\",\n",
    "    \"gmt\" : \"greenwich mean time\",\n",
    "    \"gmta\" : \"great minds think alike\",\n",
    "    \"gn\" : \"good night\",\n",
    "    \"g.o.a.t\" : \"greatest of all time\",\n",
    "    \"goat\" : \"greatest of all time\",\n",
    "    \"goi\" : \"get over it\",\n",
    "    \"gps\" : \"global positioning system\",\n",
    "    \"gr8\" : \"great\",\n",
    "    \"gratz\" : \"congratulations\",\n",
    "    \"gyal\" : \"girl\",\n",
    "    \"h&c\" : \"hot and cold\",\n",
    "    \"hp\" : \"horsepower\",\n",
    "    \"hr\" : \"hour\",\n",
    "    \"hrh\" : \"his royal highness\",\n",
    "    \"ht\" : \"height\",\n",
    "    \"ibrb\" : \"i will be right back\",\n",
    "    \"ic\" : \"i see\",\n",
    "    \"icq\" : \"i seek you\",\n",
    "    \"icymi\" : \"in case you missed it\",\n",
    "    \"idc\" : \"i do not care\",\n",
    "    \"idgadf\" : \"i do not give a damn fuck\",\n",
    "    \"idgaf\" : \"i do not give a fuck\",\n",
    "    \"idk\" : \"i do not know\",\n",
    "    \"ie\" : \"that is\",\n",
    "    \"i.e\" : \"that is\",\n",
    "    \"ifyp\" : \"i feel your pain\",\n",
    "    \"ig\" : \"instagram\",\n",
    "    \"iirc\" : \"if i remember correctly\",\n",
    "    \"ilu\" : \"i love you\",\n",
    "    \"ily\" : \"i love you\",\n",
    "    \"imho\" : \"in my humble opinion\",\n",
    "    \"imo\" : \"in my opinion\",\n",
    "    \"imu\" : \"i miss you\",\n",
    "    \"iow\" : \"in other words\",\n",
    "    \"irl\" : \"in real life\",\n",
    "    \"j4f\" : \"just for fun\",\n",
    "    \"jic\" : \"just in case\",\n",
    "    \"jk\" : \"just kidding\",\n",
    "    \"jsyk\" : \"just so you know\",\n",
    "    \"l8r\" : \"later\",\n",
    "    \"lb\" : \"pound\",\n",
    "    \"lbs\" : \"pounds\",\n",
    "    \"ldr\" : \"long distance relationship\",\n",
    "    \"lmao\" : \"laugh my ass off\",\n",
    "    \"lmfao\" : \"laugh my fucking ass off\",\n",
    "    \"lol\" : \"laughing out loud\",\n",
    "    \"ltd\" : \"limited\",\n",
    "    \"ltns\" : \"long time no see\",\n",
    "    \"m8\" : \"mate\",\n",
    "    \"mf\" : \"motherfucker\",\n",
    "    \"mfs\" : \"motherfuckers\",\n",
    "    \"mfw\" : \"my face when\",\n",
    "    \"mofo\" : \"motherfucker\",\n",
    "    \"mph\" : \"miles per hour\",\n",
    "    \"mr\" : \"mister\",\n",
    "    \"mrw\" : \"my reaction when\",\n",
    "    \"ms\" : \"miss\",\n",
    "    \"mte\" : \"my thoughts exactly\",\n",
    "    \"nagi\" : \"not a good idea\",\n",
    "    \"nbc\" : \"national broadcasting company\",\n",
    "    \"nbd\" : \"not big deal\",\n",
    "    \"nfs\" : \"not for sale\",\n",
    "    \"ngl\" : \"not going to lie\",\n",
    "    \"nhs\" : \"national health service\",\n",
    "    \"nrn\" : \"no reply necessary\",\n",
    "    \"nsfl\" : \"not safe for life\",\n",
    "    \"nsfw\" : \"not safe for work\",\n",
    "    \"nth\" : \"nice to have\",\n",
    "    \"nvr\" : \"never\",\n",
    "    \"nyc\" : \"new york city\",\n",
    "    \"oc\" : \"original content\",\n",
    "    \"og\" : \"original\",\n",
    "    \"ohp\" : \"overhead projector\",\n",
    "    \"oic\" : \"oh i see\",\n",
    "    \"omdb\" : \"over my dead body\",\n",
    "    \"omg\" : \"oh my god\",\n",
    "    \"omw\" : \"on my way\",\n",
    "    \"p.a\" : \"per annum\",\n",
    "    \"p.m\" : \"after midday\",\n",
    "    \"pm\" : \"prime minister\",\n",
    "    \"poc\" : \"people of color\",\n",
    "    \"pov\" : \"point of view\",\n",
    "    \"pp\" : \"pages\",\n",
    "    \"ppl\" : \"people\",\n",
    "    \"prw\" : \"parents are watching\",\n",
    "    \"ps\" : \"postscript\",\n",
    "    \"pt\" : \"point\",\n",
    "    \"ptb\" : \"please text back\",\n",
    "    \"pto\" : \"please turn over\",\n",
    "    \"qpsa\" : \"what happens\", #\"que pasa\",\n",
    "    \"ratchet\" : \"rude\",\n",
    "    \"rbtl\" : \"read between the lines\",\n",
    "    \"rlrt\" : \"real life retweet\", \n",
    "    \"rofl\" : \"rolling on the floor laughing\",\n",
    "    \"roflol\" : \"rolling on the floor laughing out loud\",\n",
    "    \"rotflmao\" : \"rolling on the floor laughing my ass off\",\n",
    "    \"rt\" : \"retweet\",\n",
    "    \"ruok\" : \"are you ok\",\n",
    "    \"sfw\" : \"safe for work\",\n",
    "    \"sk8\" : \"skate\",\n",
    "    \"smh\" : \"shake my head\",\n",
    "    \"sq\" : \"square\",\n",
    "    \"srsly\" : \"seriously\", \n",
    "    \"ssdd\" : \"same stuff different day\",\n",
    "    \"tbh\" : \"to be honest\",\n",
    "    \"tbs\" : \"tablespooful\",\n",
    "    \"tbsp\" : \"tablespooful\",\n",
    "    \"tfw\" : \"that feeling when\",\n",
    "    \"thks\" : \"thank you\",\n",
    "    \"tho\" : \"though\",\n",
    "    \"thx\" : \"thank you\",\n",
    "    \"tia\" : \"thanks in advance\",\n",
    "    \"til\" : \"today i learned\",\n",
    "    \"tl;dr\" : \"too long i did not read\",\n",
    "    \"tldr\" : \"too long i did not read\",\n",
    "    \"tmb\" : \"tweet me back\",\n",
    "    \"tntl\" : \"trying not to laugh\",\n",
    "    \"ttyl\" : \"talk to you later\",\n",
    "    \"u\" : \"you\",\n",
    "    \"u2\" : \"you too\",\n",
    "    \"u4e\" : \"yours for ever\",\n",
    "    \"utc\" : \"coordinated universal time\",\n",
    "    \"w/\" : \"with\",\n",
    "    \"w/o\" : \"without\",\n",
    "    \"w8\" : \"wait\",\n",
    "    \"wassup\" : \"what is up\",\n",
    "    \"wb\" : \"welcome back\",\n",
    "    \"wtf\" : \"what the fuck\",\n",
    "    \"wtg\" : \"way to go\",\n",
    "    \"wtpa\" : \"where the party at\",\n",
    "    \"wuf\" : \"where are you from\",\n",
    "    \"wuzup\" : \"what is up\",\n",
    "    \"wywh\" : \"wish you were here\",\n",
    "    \"yd\" : \"yard\",\n",
    "    \"ygtr\" : \"you got that right\",\n",
    "    \"ynk\" : \"you never know\",\n",
    "    \"zzz\" : \"sleeping bored and tired\"\n",
    "}"
   ]
  },
  {
   "cell_type": "code",
   "execution_count": 17,
   "id": "76bfb7ed",
   "metadata": {
    "execution": {
     "iopub.execute_input": "2022-08-15T10:01:13.984959Z",
     "iopub.status.busy": "2022-08-15T10:01:13.984672Z",
     "iopub.status.idle": "2022-08-15T10:01:14.006290Z",
     "shell.execute_reply": "2022-08-15T10:01:14.005343Z"
    },
    "jupyter": {
     "source_hidden": true
    },
    "papermill": {
     "duration": 0.034459,
     "end_time": "2022-08-15T10:01:14.008208",
     "exception": false,
     "start_time": "2022-08-15T10:01:13.973749",
     "status": "completed"
    },
    "tags": []
   },
   "outputs": [
    {
     "data": {
      "text/html": [
       "<div>\n",
       "<style scoped>\n",
       "    .dataframe tbody tr th:only-of-type {\n",
       "        vertical-align: middle;\n",
       "    }\n",
       "\n",
       "    .dataframe tbody tr th {\n",
       "        vertical-align: top;\n",
       "    }\n",
       "\n",
       "    .dataframe thead th {\n",
       "        text-align: right;\n",
       "    }\n",
       "</style>\n",
       "<table border=\"1\" class=\"dataframe\">\n",
       "  <thead>\n",
       "    <tr style=\"text-align: right;\">\n",
       "      <th></th>\n",
       "      <th>id</th>\n",
       "      <th>keyword</th>\n",
       "      <th>location</th>\n",
       "      <th>text</th>\n",
       "      <th>target</th>\n",
       "    </tr>\n",
       "  </thead>\n",
       "  <tbody>\n",
       "    <tr>\n",
       "      <th>0</th>\n",
       "      <td>59</td>\n",
       "      <td>ablaze</td>\n",
       "      <td>Live On Webcam</td>\n",
       "      <td>Check these out: http://t.co/rOI2NSmEJJ http:/...</td>\n",
       "      <td>0</td>\n",
       "    </tr>\n",
       "    <tr>\n",
       "      <th>1</th>\n",
       "      <td>156</td>\n",
       "      <td>aftershock</td>\n",
       "      <td>US</td>\n",
       "      <td>320 [IR] ICEMOON [AFTERSHOCK] | http://t.co/vA...</td>\n",
       "      <td>0</td>\n",
       "    </tr>\n",
       "    <tr>\n",
       "      <th>2</th>\n",
       "      <td>171</td>\n",
       "      <td>aftershock</td>\n",
       "      <td>Switzerland</td>\n",
       "      <td>320 [IR] ICEMOON [AFTERSHOCK] | http://t.co/TH...</td>\n",
       "      <td>0</td>\n",
       "    </tr>\n",
       "    <tr>\n",
       "      <th>3</th>\n",
       "      <td>211</td>\n",
       "      <td>airplane%20accident</td>\n",
       "      <td>NaN</td>\n",
       "      <td>Experts in France begin examining airplane deb...</td>\n",
       "      <td>1</td>\n",
       "    </tr>\n",
       "    <tr>\n",
       "      <th>4</th>\n",
       "      <td>1634</td>\n",
       "      <td>bombing</td>\n",
       "      <td>NaN</td>\n",
       "      <td>Japan on Thursday marks the 70th anniversary o...</td>\n",
       "      <td>1</td>\n",
       "    </tr>\n",
       "  </tbody>\n",
       "</table>\n",
       "</div>"
      ],
      "text/plain": [
       "     id              keyword        location  \\\n",
       "0    59               ablaze  Live On Webcam   \n",
       "1   156           aftershock              US   \n",
       "2   171           aftershock     Switzerland   \n",
       "3   211  airplane%20accident             NaN   \n",
       "4  1634              bombing             NaN   \n",
       "\n",
       "                                                text target  \n",
       "0  Check these out: http://t.co/rOI2NSmEJJ http:/...      0  \n",
       "1  320 [IR] ICEMOON [AFTERSHOCK] | http://t.co/vA...      0  \n",
       "2  320 [IR] ICEMOON [AFTERSHOCK] | http://t.co/TH...      0  \n",
       "3  Experts in France begin examining airplane deb...      1  \n",
       "4  Japan on Thursday marks the 70th anniversary o...      1  "
      ]
     },
     "execution_count": 17,
     "metadata": {},
     "output_type": "execute_result"
    }
   ],
   "source": [
    "# Clean up tweet content\n",
    "\n",
    "lemmatizer = WordNetLemmatizer()\n",
    "stemmer = PorterStemmer() \n",
    "\n",
    "def convert_abbrev(word):\n",
    "    return abbreviations[word] if word in abbreviations.keys() else word\n",
    "\n",
    "def preprocess_text(sentence):\n",
    "    sentence = str(sentence)\n",
    "    sentence = sentence.lower()          \n",
    "    sentence = sentence.replace('{html}', \"\") \n",
    "    rem_url = re.sub(r'http\\S+', '', sentence)\n",
    "    converted_abbrev = \" \".join([convert_abbrev(word) for word in rem_url.split(\" \")])\n",
    "    cleanr = re.compile('[^a-z ]+')\n",
    "    rem_num_non_alpha = re.sub(cleanr, '', converted_abbrev)\n",
    "    tokenizer = RegexpTokenizer(r'\\w+')\n",
    "    tokens = tokenizer.tokenize(rem_num_non_alpha)\n",
    "    filtered_words = [w for w in tokens if len(w) > 2 if not w in stopwords.words('english')]\n",
    "#     stem_words = [stemmer.stem(w) for w in filtered_words]\n",
    "#     lemma_words=[lemmatizer.lemmatize(w) for w in stem_words]\n",
    "    return \" \".join(filtered_words)\n",
    "\n",
    "# train_set['clean_text'] = train_set['text'].map(lambda s:preprocess_text(s))\n",
    "train_set.head()"
   ]
  },
  {
   "cell_type": "code",
   "execution_count": 18,
   "id": "de5767fc",
   "metadata": {
    "execution": {
     "iopub.execute_input": "2022-08-15T10:01:14.030146Z",
     "iopub.status.busy": "2022-08-15T10:01:14.029878Z",
     "iopub.status.idle": "2022-08-15T10:01:14.489043Z",
     "shell.execute_reply": "2022-08-15T10:01:14.487954Z"
    },
    "papermill": {
     "duration": 0.472432,
     "end_time": "2022-08-15T10:01:14.491091",
     "exception": false,
     "start_time": "2022-08-15T10:01:14.018659",
     "status": "completed"
    },
    "tags": []
   },
   "outputs": [
    {
     "name": "stdout",
     "output_type": "stream",
     "text": [
      "Training Set X: (6720,), y: (6720,)\n",
      "Validation Set X: (765,), y: (765,)\n"
     ]
    }
   ],
   "source": [
    "X = train_set.loc(axis=1)['text'].to_numpy()\n",
    "y = train_set.loc(axis=1)['target'].to_numpy().astype('float32')\n",
    "\n",
    "random.seed(42)\n",
    "train_indices = random.sample(range(len(y)), 6720)\n",
    "valid_indices = []\n",
    "for i in range(len(y)):\n",
    "    if i not in train_indices:\n",
    "        valid_indices.append(i)\n",
    "\n",
    "X_train, y_train = X[train_indices], y[train_indices]\n",
    "X_val, y_val = X[valid_indices], y[valid_indices]\n",
    "\n",
    "print(f'Training Set X: {X_train.shape}, y: {y_train.shape}')\n",
    "print(f'Validation Set X: {X_val.shape}, y: {y_val.shape}')"
   ]
  },
  {
   "cell_type": "code",
   "execution_count": 19,
   "id": "571bb5cf",
   "metadata": {
    "execution": {
     "iopub.execute_input": "2022-08-15T10:01:14.513025Z",
     "iopub.status.busy": "2022-08-15T10:01:14.512740Z",
     "iopub.status.idle": "2022-08-15T10:01:14.517729Z",
     "shell.execute_reply": "2022-08-15T10:01:14.516687Z"
    },
    "papermill": {
     "duration": 0.018536,
     "end_time": "2022-08-15T10:01:14.520119",
     "exception": false,
     "start_time": "2022-08-15T10:01:14.501583",
     "status": "completed"
    },
    "tags": []
   },
   "outputs": [],
   "source": [
    "def create_input(text):\n",
    "    bert_preprocess_model = hub.KerasLayer(tfhub_handle_preprocess)\n",
    "    text_preprocessed = bert_preprocess_model(text)\n",
    "    return text_preprocessed[\"input_word_ids\"], text_preprocessed[\"input_type_ids\"], text_preprocessed[\"input_mask\"]"
   ]
  },
  {
   "cell_type": "code",
   "execution_count": 20,
   "id": "7fedd00b",
   "metadata": {
    "execution": {
     "iopub.execute_input": "2022-08-15T10:01:14.541354Z",
     "iopub.status.busy": "2022-08-15T10:01:14.541095Z",
     "iopub.status.idle": "2022-08-15T10:03:40.349365Z",
     "shell.execute_reply": "2022-08-15T10:03:40.348403Z"
    },
    "papermill": {
     "duration": 145.821962,
     "end_time": "2022-08-15T10:03:40.352149",
     "exception": false,
     "start_time": "2022-08-15T10:01:14.530187",
     "status": "completed"
    },
    "tags": []
   },
   "outputs": [
    {
     "name": "stderr",
     "output_type": "stream",
     "text": [
      "/opt/conda/lib/python3.7/site-packages/ipykernel_launcher.py:10: TqdmDeprecationWarning: This function will be removed in tqdm==5.0.0\n",
      "Please use `tqdm.notebook.tqdm` instead of `tqdm.tqdm_notebook`\n",
      "  # Remove the CWD from sys.path while we load stuff.\n"
     ]
    },
    {
     "data": {
      "application/vnd.jupyter.widget-view+json": {
       "model_id": "c4b3fb2ea8a94e25b5d41fd36472a7c5",
       "version_major": 2,
       "version_minor": 0
      },
      "text/plain": [
       "  0%|          | 0/42 [00:00<?, ?it/s]"
      ]
     },
     "metadata": {},
     "output_type": "display_data"
    }
   ],
   "source": [
    "from tqdm import tqdm_notebook as tqdm\n",
    "\n",
    "train_word_ids = np.empty((0,128)).astype('float32')\n",
    "train_type_ids = np.empty((0,128)).astype('float32')\n",
    "train_mask = np.empty((0,128)).astype('float32')\n",
    "\n",
    "batch = 160\n",
    "num_steps = len(X_train) // batch\n",
    "\n",
    "for i in tqdm(range(num_steps)):\n",
    "    word_id, type_id, mask = create_input(X_train[i*batch:(i+1)*batch])\n",
    "    train_word_ids = np.append(train_word_ids, word_id, axis=0)\n",
    "    train_type_ids = np.append(train_type_ids, type_id, axis=0)\n",
    "    train_mask = np.append(train_mask, mask, axis=0)"
   ]
  },
  {
   "cell_type": "code",
   "execution_count": 21,
   "id": "e280f3ce",
   "metadata": {
    "execution": {
     "iopub.execute_input": "2022-08-15T10:03:40.386843Z",
     "iopub.status.busy": "2022-08-15T10:03:40.386367Z",
     "iopub.status.idle": "2022-08-15T10:03:40.390594Z",
     "shell.execute_reply": "2022-08-15T10:03:40.389735Z"
    },
    "papermill": {
     "duration": 0.02491,
     "end_time": "2022-08-15T10:03:40.394448",
     "exception": false,
     "start_time": "2022-08-15T10:03:40.369538",
     "status": "completed"
    },
    "tags": []
   },
   "outputs": [],
   "source": [
    "# %%time\n",
    "# train_word_ids, train_type_ids, train_mask = create_input(X_train)"
   ]
  },
  {
   "cell_type": "code",
   "execution_count": 22,
   "id": "e72de537",
   "metadata": {
    "execution": {
     "iopub.execute_input": "2022-08-15T10:03:40.427704Z",
     "iopub.status.busy": "2022-08-15T10:03:40.427289Z",
     "iopub.status.idle": "2022-08-15T10:03:40.433237Z",
     "shell.execute_reply": "2022-08-15T10:03:40.432372Z"
    },
    "papermill": {
     "duration": 0.028537,
     "end_time": "2022-08-15T10:03:40.438566",
     "exception": false,
     "start_time": "2022-08-15T10:03:40.410029",
     "status": "completed"
    },
    "tags": []
   },
   "outputs": [
    {
     "name": "stdout",
     "output_type": "stream",
     "text": [
      "Shape of train_word_ids: (6720, 128)\n",
      "Shape of train_type_ids: (6720, 128)\n",
      "Shape of train_mask: (6720, 128)\n"
     ]
    }
   ],
   "source": [
    "print('Shape of train_word_ids:', train_word_ids.shape)\n",
    "print('Shape of train_type_ids:', train_type_ids.shape)\n",
    "print('Shape of train_mask:', train_mask.shape)"
   ]
  },
  {
   "cell_type": "code",
   "execution_count": 23,
   "id": "83a17f25",
   "metadata": {
    "execution": {
     "iopub.execute_input": "2022-08-15T10:03:40.471143Z",
     "iopub.status.busy": "2022-08-15T10:03:40.470843Z",
     "iopub.status.idle": "2022-08-15T10:03:59.335728Z",
     "shell.execute_reply": "2022-08-15T10:03:59.334428Z"
    },
    "papermill": {
     "duration": 18.884481,
     "end_time": "2022-08-15T10:03:59.338864",
     "exception": false,
     "start_time": "2022-08-15T10:03:40.454383",
     "status": "completed"
    },
    "tags": []
   },
   "outputs": [
    {
     "name": "stdout",
     "output_type": "stream",
     "text": [
      "CPU times: user 27.7 s, sys: 6.09 s, total: 33.8 s\n",
      "Wall time: 18.9 s\n"
     ]
    }
   ],
   "source": [
    "%%time\n",
    "val_word_ids, val_type_ids, val_mask = create_input(X_val)"
   ]
  },
  {
   "cell_type": "code",
   "execution_count": 24,
   "id": "838e5f5f",
   "metadata": {
    "execution": {
     "iopub.execute_input": "2022-08-15T10:03:59.371530Z",
     "iopub.status.busy": "2022-08-15T10:03:59.370998Z",
     "iopub.status.idle": "2022-08-15T10:03:59.379112Z",
     "shell.execute_reply": "2022-08-15T10:03:59.378137Z"
    },
    "papermill": {
     "duration": 0.031166,
     "end_time": "2022-08-15T10:03:59.381411",
     "exception": false,
     "start_time": "2022-08-15T10:03:59.350245",
     "status": "completed"
    },
    "tags": []
   },
   "outputs": [
    {
     "name": "stdout",
     "output_type": "stream",
     "text": [
      "Shape of valid_word_ids: (765, 128)\n",
      "Shape of valid_type_ids: (765, 128)\n",
      "Shape of valid_mask: (765, 128)\n"
     ]
    }
   ],
   "source": [
    "print('Shape of valid_word_ids:', val_word_ids.shape)\n",
    "print('Shape of valid_type_ids:', val_type_ids.shape)\n",
    "print('Shape of valid_mask:', val_mask.shape)"
   ]
  },
  {
   "cell_type": "markdown",
   "id": "966be5a9",
   "metadata": {
    "papermill": {
     "duration": 0.010257,
     "end_time": "2022-08-15T10:03:59.402235",
     "exception": false,
     "start_time": "2022-08-15T10:03:59.391978",
     "status": "completed"
    },
    "tags": []
   },
   "source": [
    "### Train"
   ]
  },
  {
   "cell_type": "code",
   "execution_count": 25,
   "id": "1743efe6",
   "metadata": {
    "execution": {
     "iopub.execute_input": "2022-08-15T10:03:59.425449Z",
     "iopub.status.busy": "2022-08-15T10:03:59.425123Z",
     "iopub.status.idle": "2022-08-15T10:03:59.434970Z",
     "shell.execute_reply": "2022-08-15T10:03:59.434139Z"
    },
    "papermill": {
     "duration": 0.024347,
     "end_time": "2022-08-15T10:03:59.437080",
     "exception": false,
     "start_time": "2022-08-15T10:03:59.412733",
     "status": "completed"
    },
    "tags": []
   },
   "outputs": [],
   "source": [
    "loss = tf.keras.losses.BinaryCrossentropy()\n",
    "metrics = tf.metrics.BinaryAccuracy()"
   ]
  },
  {
   "cell_type": "code",
   "execution_count": 26,
   "id": "117a13de",
   "metadata": {
    "execution": {
     "iopub.execute_input": "2022-08-15T10:03:59.460965Z",
     "iopub.status.busy": "2022-08-15T10:03:59.459977Z",
     "iopub.status.idle": "2022-08-15T10:03:59.467094Z",
     "shell.execute_reply": "2022-08-15T10:03:59.465676Z"
    },
    "papermill": {
     "duration": 0.021752,
     "end_time": "2022-08-15T10:03:59.469693",
     "exception": false,
     "start_time": "2022-08-15T10:03:59.447941",
     "status": "completed"
    },
    "tags": []
   },
   "outputs": [
    {
     "name": "stdout",
     "output_type": "stream",
     "text": [
      "420 steps per epoch\n",
      "4200 training steps\n"
     ]
    }
   ],
   "source": [
    "NUM_EPOCHS = 10\n",
    "BATCH_SIZE = 16\n",
    "STEPS_PER_EPOCH = len(y_train) // BATCH_SIZE\n",
    "print(f'{STEPS_PER_EPOCH} steps per epoch')\n",
    "\n",
    "NUM_TRAIN_STEPS = STEPS_PER_EPOCH * NUM_EPOCHS\n",
    "NUM_WARMUP_STEPS = int(0.1*NUM_TRAIN_STEPS)\n",
    "print(f'{NUM_TRAIN_STEPS} training steps')"
   ]
  },
  {
   "cell_type": "code",
   "execution_count": 27,
   "id": "215ba685",
   "metadata": {
    "execution": {
     "iopub.execute_input": "2022-08-15T10:03:59.492752Z",
     "iopub.status.busy": "2022-08-15T10:03:59.491935Z",
     "iopub.status.idle": "2022-08-15T10:03:59.497632Z",
     "shell.execute_reply": "2022-08-15T10:03:59.496668Z"
    },
    "papermill": {
     "duration": 0.019186,
     "end_time": "2022-08-15T10:03:59.499790",
     "exception": false,
     "start_time": "2022-08-15T10:03:59.480604",
     "status": "completed"
    },
    "tags": []
   },
   "outputs": [],
   "source": [
    "init_lr = 1e-5\n",
    "optimizer = optimization.create_optimizer(init_lr=init_lr,\n",
    "                                          num_train_steps=NUM_TRAIN_STEPS,\n",
    "                                          num_warmup_steps=NUM_WARMUP_STEPS,\n",
    "                                          optimizer_type='adamw')\n"
   ]
  },
  {
   "cell_type": "code",
   "execution_count": 28,
   "id": "5722daf3",
   "metadata": {
    "execution": {
     "iopub.execute_input": "2022-08-15T10:03:59.522161Z",
     "iopub.status.busy": "2022-08-15T10:03:59.521897Z",
     "iopub.status.idle": "2022-08-15T10:03:59.534477Z",
     "shell.execute_reply": "2022-08-15T10:03:59.533655Z"
    },
    "papermill": {
     "duration": 0.025866,
     "end_time": "2022-08-15T10:03:59.536460",
     "exception": false,
     "start_time": "2022-08-15T10:03:59.510594",
     "status": "completed"
    },
    "tags": []
   },
   "outputs": [],
   "source": [
    "classifier_model.compile(optimizer=optimizer,\n",
    "                         loss=loss,\n",
    "                         metrics=metrics)"
   ]
  },
  {
   "cell_type": "code",
   "execution_count": 29,
   "id": "881a74a4",
   "metadata": {
    "execution": {
     "iopub.execute_input": "2022-08-15T10:03:59.559582Z",
     "iopub.status.busy": "2022-08-15T10:03:59.558729Z",
     "iopub.status.idle": "2022-08-15T10:03:59.563765Z",
     "shell.execute_reply": "2022-08-15T10:03:59.562916Z"
    },
    "papermill": {
     "duration": 0.018452,
     "end_time": "2022-08-15T10:03:59.565729",
     "exception": false,
     "start_time": "2022-08-15T10:03:59.547277",
     "status": "completed"
    },
    "tags": []
   },
   "outputs": [],
   "source": [
    "early_stopping = tf.keras.callbacks.EarlyStopping(monitor='val_loss', mode='min', patience=3, restore_best_weights=True)\n",
    "callback = [early_stopping]"
   ]
  },
  {
   "cell_type": "code",
   "execution_count": 30,
   "id": "e724f12f",
   "metadata": {
    "execution": {
     "iopub.execute_input": "2022-08-15T10:03:59.588199Z",
     "iopub.status.busy": "2022-08-15T10:03:59.587668Z",
     "iopub.status.idle": "2022-08-15T10:12:12.693458Z",
     "shell.execute_reply": "2022-08-15T10:12:12.692442Z"
    },
    "papermill": {
     "duration": 493.11931,
     "end_time": "2022-08-15T10:12:12.695572",
     "exception": false,
     "start_time": "2022-08-15T10:03:59.576262",
     "status": "completed"
    },
    "tags": []
   },
   "outputs": [
    {
     "name": "stdout",
     "output_type": "stream",
     "text": [
      "Epoch 1/10\n",
      "420/420 [==============================] - 137s 287ms/step - loss: 0.5130 - binary_accuracy: 0.7308 - val_loss: 0.3912 - val_binary_accuracy: 0.8183\n",
      "Epoch 2/10\n",
      "420/420 [==============================] - 119s 282ms/step - loss: 0.3672 - binary_accuracy: 0.8491 - val_loss: 0.4287 - val_binary_accuracy: 0.8222\n",
      "Epoch 3/10\n",
      "420/420 [==============================] - 118s 282ms/step - loss: 0.2921 - binary_accuracy: 0.8859 - val_loss: 0.4828 - val_binary_accuracy: 0.8065\n",
      "Epoch 4/10\n",
      "420/420 [==============================] - 119s 282ms/step - loss: 0.2208 - binary_accuracy: 0.9193 - val_loss: 0.5235 - val_binary_accuracy: 0.8340\n"
     ]
    }
   ],
   "source": [
    "history = classifier_model.fit(\n",
    "    [train_word_ids, train_type_ids, train_mask], y_train, \n",
    "    batch_size=BATCH_SIZE,\n",
    "    epochs=NUM_EPOCHS,\n",
    "    validation_data=([val_word_ids, val_type_ids, val_mask], y_val),\n",
    "    callbacks=callback\n",
    ")"
   ]
  },
  {
   "cell_type": "code",
   "execution_count": 31,
   "id": "b1ca05df",
   "metadata": {
    "execution": {
     "iopub.execute_input": "2022-08-15T10:12:12.891714Z",
     "iopub.status.busy": "2022-08-15T10:12:12.891371Z",
     "iopub.status.idle": "2022-08-15T10:12:38.650926Z",
     "shell.execute_reply": "2022-08-15T10:12:38.650029Z"
    },
    "papermill": {
     "duration": 25.859175,
     "end_time": "2022-08-15T10:12:38.652996",
     "exception": false,
     "start_time": "2022-08-15T10:12:12.793821",
     "status": "completed"
    },
    "tags": []
   },
   "outputs": [
    {
     "data": {
      "text/plain": [
       "<matplotlib.legend.Legend at 0x7f2180cbf750>"
      ]
     },
     "execution_count": 31,
     "metadata": {},
     "output_type": "execute_result"
    },
    {
     "data": {
      "image/png": "[encoded data removed]",
      "text/plain": [
       "<Figure size 1008x432 with 2 Axes>"
      ]
     },
     "metadata": {
      "needs_background": "light"
     },
     "output_type": "display_data"
    }
   ],
   "source": [
    "fig, axs = plt.subplots(ncols=2, nrows=1, figsize=(14,6))\n",
    "axs[0].plot(history.history['loss'], color='blue')\n",
    "axs[0].plot(history.history['val_loss'], color='red')\n",
    "axs[0].legend(['loss', 'val_loss'])\n",
    "\n",
    "axs[1].plot(history.history['binary_accuracy'], color='blue')\n",
    "axs[1].plot(history.history['val_binary_accuracy'], color='red')\n",
    "axs[1].legend(['binary_accuracy', 'val_binary_accuracy'])"
   ]
  },
  {
   "cell_type": "markdown",
   "id": "f022b2db",
   "metadata": {
    "papermill": {
     "duration": 0.096285,
     "end_time": "2022-08-15T10:12:38.906543",
     "exception": false,
     "start_time": "2022-08-15T10:12:38.810258",
     "status": "completed"
    },
    "tags": []
   },
   "source": [
    "### Test"
   ]
  },
  {
   "cell_type": "code",
   "execution_count": 32,
   "id": "52fd5aa9",
   "metadata": {
    "execution": {
     "iopub.execute_input": "2022-08-15T10:12:39.211122Z",
     "iopub.status.busy": "2022-08-15T10:12:39.210545Z",
     "iopub.status.idle": "2022-08-15T10:12:39.219674Z",
     "shell.execute_reply": "2022-08-15T10:12:39.218478Z"
    },
    "papermill": {
     "duration": 0.192373,
     "end_time": "2022-08-15T10:12:39.222260",
     "exception": false,
     "start_time": "2022-08-15T10:12:39.029887",
     "status": "completed"
    },
    "tags": []
   },
   "outputs": [],
   "source": [
    "# test_set['clean_text'] = test_set['text'].map(lambda s:preprocess_text(s))\n",
    "X_test = test_set.loc(axis=1)['text'].to_numpy()\n",
    "test_ids = test.loc(axis=1)['id']"
   ]
  },
  {
   "cell_type": "code",
   "execution_count": 33,
   "id": "1c17d848",
   "metadata": {
    "execution": {
     "iopub.execute_input": "2022-08-15T10:12:39.524804Z",
     "iopub.status.busy": "2022-08-15T10:12:39.524239Z",
     "iopub.status.idle": "2022-08-15T10:18:15.673732Z",
     "shell.execute_reply": "2022-08-15T10:18:15.672650Z"
    },
    "papermill": {
     "duration": 336.407642,
     "end_time": "2022-08-15T10:18:15.779962",
     "exception": false,
     "start_time": "2022-08-15T10:12:39.372320",
     "status": "completed"
    },
    "tags": []
   },
   "outputs": [
    {
     "data": {
      "text/html": [
       "<div>\n",
       "<style scoped>\n",
       "    .dataframe tbody tr th:only-of-type {\n",
       "        vertical-align: middle;\n",
       "    }\n",
       "\n",
       "    .dataframe tbody tr th {\n",
       "        vertical-align: top;\n",
       "    }\n",
       "\n",
       "    .dataframe thead th {\n",
       "        text-align: right;\n",
       "    }\n",
       "</style>\n",
       "<table border=\"1\" class=\"dataframe\">\n",
       "  <thead>\n",
       "    <tr style=\"text-align: right;\">\n",
       "      <th></th>\n",
       "      <th>id</th>\n",
       "      <th>target</th>\n",
       "    </tr>\n",
       "  </thead>\n",
       "  <tbody>\n",
       "    <tr>\n",
       "      <th>3258</th>\n",
       "      <td>10861</td>\n",
       "      <td>1</td>\n",
       "    </tr>\n",
       "    <tr>\n",
       "      <th>3259</th>\n",
       "      <td>10865</td>\n",
       "      <td>1</td>\n",
       "    </tr>\n",
       "    <tr>\n",
       "      <th>3260</th>\n",
       "      <td>10868</td>\n",
       "      <td>1</td>\n",
       "    </tr>\n",
       "    <tr>\n",
       "      <th>3261</th>\n",
       "      <td>10874</td>\n",
       "      <td>1</td>\n",
       "    </tr>\n",
       "    <tr>\n",
       "      <th>3262</th>\n",
       "      <td>10875</td>\n",
       "      <td>1</td>\n",
       "    </tr>\n",
       "  </tbody>\n",
       "</table>\n",
       "</div>"
      ],
      "text/plain": [
       "         id  target\n",
       "3258  10861       1\n",
       "3259  10865       1\n",
       "3260  10868       1\n",
       "3261  10874       1\n",
       "3262  10875       1"
      ]
     },
     "execution_count": 33,
     "metadata": {},
     "output_type": "execute_result"
    }
   ],
   "source": [
    "y_test_pred = pd.DataFrame(data=test_ids, columns=['id'])\n",
    "y_test_pred['target'] = np.round(classifier_model.predict(create_input(X_test))).astype('int')\n",
    "y_test_pred.to_csv('./submission.csv', index=False)\n",
    "y_test_pred.tail()"
   ]
  },
  {
   "cell_type": "code",
   "execution_count": null,
   "id": "2f8ab3ab",
   "metadata": {
    "papermill": {
     "duration": 0.100246,
     "end_time": "2022-08-15T10:18:15.978025",
     "exception": false,
     "start_time": "2022-08-15T10:18:15.877779",
     "status": "completed"
    },
    "tags": []
   },
   "outputs": [],
   "source": []
  }
 ],
 "metadata": {
  "kernelspec": {
   "display_name": "Python 3",
   "language": "python",
   "name": "python3"
  },
  "language_info": {
   "codemirror_mode": {
    "name": "ipython",
    "version": 3
   },
   "file_extension": ".py",
   "mimetype": "text/x-python",
   "name": "python",
   "nbconvert_exporter": "python",
   "pygments_lexer": "ipython3",
   "version": "3.7.12"
  },
  "papermill": {
   "default_parameters": {},
   "duration": 1196.849132,
   "end_time": "2022-08-15T10:18:19.416161",
   "environment_variables": {},
   "exception": null,
   "input_path": "__notebook__.ipynb",
   "output_path": "__notebook__.ipynb",
   "parameters": {},
   "start_time": "2022-08-15T09:58:22.567029",
   "version": "2.3.4"
  },
  "widgets": {
   "application/vnd.jupyter.widget-state+json": {
    "state": {
     "1f46cae19f51468ea2484b6732107009": {
      "model_module": "@jupyter-widgets/controls",
      "model_module_version": "1.5.0",
      "model_name": "DescriptionStyleModel",
      "state": {
       "_model_module": "@jupyter-widgets/controls",
       "_model_module_version": "1.5.0",
       "_model_name": "DescriptionStyleModel",
       "_view_count": null,
       "_view_module": "@jupyter-widgets/base",
       "_view_module_version": "1.2.0",
       "_view_name": "StyleView",
       "description_width": ""
      }
     },
     "2dde04fb229045b2bf4f38f67003d56f": {
      "model_module": "@jupyter-widgets/controls",
      "model_module_version": "1.5.0",
      "model_name": "HTMLModel",
      "state": {
       "_dom_classes": [],
       "_model_module": "@jupyter-widgets/controls",
       "_model_module_version": "1.5.0",
       "_model_name": "HTMLModel",
       "_view_count": null,
       "_view_module": "@jupyter-widgets/controls",
       "_view_module_version": "1.5.0",
       "_view_name": "HTMLView",
       "description": "",
       "description_tooltip": null,
       "layout": "IPY_MODEL_befb96e3be2340cc8c3dc751d1c1b7fc",
       "placeholder": "​",
       "style": "IPY_MODEL_1f46cae19f51468ea2484b6732107009",
       "value": "100%"
      }
     },
     "3d7f1ba6d16247c78baa04f256f39ff1": {
      "model_module": "@jupyter-widgets/base",
      "model_module_version": "1.2.0",
      "model_name": "LayoutModel",
      "state": {
       "_model_module": "@jupyter-widgets/base",
       "_model_module_version": "1.2.0",
       "_model_name": "LayoutModel",
       "_view_count": null,
       "_view_module": "@jupyter-widgets/base",
       "_view_module_version": "1.2.0",
       "_view_name": "LayoutView",
       "align_content": null,
       "align_items": null,
       "align_self": null,
       "border": null,
       "bottom": null,
       "display": null,
       "flex": null,
       "flex_flow": null,
       "grid_area": null,
       "grid_auto_columns": null,
       "grid_auto_flow": null,
       "grid_auto_rows": null,
       "grid_column": null,
       "grid_gap": null,
       "grid_row": null,
       "grid_template_areas": null,
       "grid_template_columns": null,
       "grid_template_rows": null,
       "height": null,
       "justify_content": null,
       "justify_items": null,
       "left": null,
       "margin": null,
       "max_height": null,
       "max_width": null,
       "min_height": null,
       "min_width": null,
       "object_fit": null,
       "object_position": null,
       "order": null,
       "overflow": null,
       "overflow_x": null,
       "overflow_y": null,
       "padding": null,
       "right": null,
       "top": null,
       "visibility": null,
       "width": null
      }
     },
     "550f556b1a9f4408bc1802a3a021f21b": {
      "model_module": "@jupyter-widgets/base",
      "model_module_version": "1.2.0",
      "model_name": "LayoutModel",
      "state": {
       "_model_module": "@jupyter-widgets/base",
       "_model_module_version": "1.2.0",
       "_model_name": "LayoutModel",
       "_view_count": null,
       "_view_module": "@jupyter-widgets/base",
       "_view_module_version": "1.2.0",
       "_view_name": "LayoutView",
       "align_content": null,
       "align_items": null,
       "align_self": null,
       "border": null,
       "bottom": null,
       "display": null,
       "flex": null,
       "flex_flow": null,
       "grid_area": null,
       "grid_auto_columns": null,
       "grid_auto_flow": null,
       "grid_auto_rows": null,
       "grid_column": null,
       "grid_gap": null,
       "grid_row": null,
       "grid_template_areas": null,
       "grid_template_columns": null,
       "grid_template_rows": null,
       "height": null,
       "justify_content": null,
       "justify_items": null,
       "left": null,
       "margin": null,
       "max_height": null,
       "max_width": null,
       "min_height": null,
       "min_width": null,
       "object_fit": null,
       "object_position": null,
       "order": null,
       "overflow": null,
       "overflow_x": null,
       "overflow_y": null,
       "padding": null,
       "right": null,
       "top": null,
       "visibility": null,
       "width": null
      }
     },
     "89b634cafc344fa1967ba285c5dd7b56": {
      "model_module": "@jupyter-widgets/controls",
      "model_module_version": "1.5.0",
      "model_name": "HTMLModel",
      "state": {
       "_dom_classes": [],
       "_model_module": "@jupyter-widgets/controls",
       "_model_module_version": "1.5.0",
       "_model_name": "HTMLModel",
       "_view_count": null,
       "_view_module": "@jupyter-widgets/controls",
       "_view_module_version": "1.5.0",
       "_view_name": "HTMLView",
       "description": "",
       "description_tooltip": null,
       "layout": "IPY_MODEL_3d7f1ba6d16247c78baa04f256f39ff1",
       "placeholder": "​",
       "style": "IPY_MODEL_ba709a974258439990c5d0efbb4a9b04",
       "value": " 42/42 [02:25&lt;00:00,  3.43s/it]"
      }
     },
     "ba709a974258439990c5d0efbb4a9b04": {
      "model_module": "@jupyter-widgets/controls",
      "model_module_version": "1.5.0",
      "model_name": "DescriptionStyleModel",
      "state": {
       "_model_module": "@jupyter-widgets/controls",
       "_model_module_version": "1.5.0",
       "_model_name": "DescriptionStyleModel",
       "_view_count": null,
       "_view_module": "@jupyter-widgets/base",
       "_view_module_version": "1.2.0",
       "_view_name": "StyleView",
       "description_width": ""
      }
     },
     "befb96e3be2340cc8c3dc751d1c1b7fc": {
      "model_module": "@jupyter-widgets/base",
      "model_module_version": "1.2.0",
      "model_name": "LayoutModel",
      "state": {
       "_model_module": "@jupyter-widgets/base",
       "_model_module_version": "1.2.0",
       "_model_name": "LayoutModel",
       "_view_count": null,
       "_view_module": "@jupyter-widgets/base",
       "_view_module_version": "1.2.0",
       "_view_name": "LayoutView",
       "align_content": null,
       "align_items": null,
       "align_self": null,
       "border": null,
       "bottom": null,
       "display": null,
       "flex": null,
       "flex_flow": null,
       "grid_area": null,
       "grid_auto_columns": null,
       "grid_auto_flow": null,
       "grid_auto_rows": null,
       "grid_column": null,
       "grid_gap": null,
       "grid_row": null,
       "grid_template_areas": null,
       "grid_template_columns": null,
       "grid_template_rows": null,
       "height": null,
       "justify_content": null,
       "justify_items": null,
       "left": null,
       "margin": null,
       "max_height": null,
       "max_width": null,
       "min_height": null,
       "min_width": null,
       "object_fit": null,
       "object_position": null,
       "order": null,
       "overflow": null,
       "overflow_x": null,
       "overflow_y": null,
       "padding": null,
       "right": null,
       "top": null,
       "visibility": null,
       "width": null
      }
     },
     "c418532d3eed422eba9de67ee3c58e03": {
      "model_module": "@jupyter-widgets/controls",
      "model_module_version": "1.5.0",
      "model_name": "FloatProgressModel",
      "state": {
       "_dom_classes": [],
       "_model_module": "@jupyter-widgets/controls",
       "_model_module_version": "1.5.0",
       "_model_name": "FloatProgressModel",
       "_view_count": null,
       "_view_module": "@jupyter-widgets/controls",
       "_view_module_version": "1.5.0",
       "_view_name": "ProgressView",
       "bar_style": "success",
       "description": "",
       "description_tooltip": null,
       "layout": "IPY_MODEL_550f556b1a9f4408bc1802a3a021f21b",
       "max": 42.0,
       "min": 0.0,
       "orientation": "horizontal",
       "style": "IPY_MODEL_fba1b68e7b1b4fca8751909658326baa",
       "value": 42.0
      }
     },
     "c4b3fb2ea8a94e25b5d41fd36472a7c5": {
      "model_module": "@jupyter-widgets/controls",
      "model_module_version": "1.5.0",
      "model_name": "HBoxModel",
      "state": {
       "_dom_classes": [],
       "_model_module": "@jupyter-widgets/controls",
       "_model_module_version": "1.5.0",
       "_model_name": "HBoxModel",
       "_view_count": null,
       "_view_module": "@jupyter-widgets/controls",
       "_view_module_version": "1.5.0",
       "_view_name": "HBoxView",
       "box_style": "",
       "children": [
        "IPY_MODEL_2dde04fb229045b2bf4f38f67003d56f",
        "IPY_MODEL_c418532d3eed422eba9de67ee3c58e03",
        "IPY_MODEL_89b634cafc344fa1967ba285c5dd7b56"
       ],
       "layout": "IPY_MODEL_f53a63962cce4a9d98910cef9e210a5f"
      }
     },
     "f53a63962cce4a9d98910cef9e210a5f": {
      "model_module": "@jupyter-widgets/base",
      "model_module_version": "1.2.0",
      "model_name": "LayoutModel",
      "state": {
       "_model_module": "@jupyter-widgets/base",
       "_model_module_version": "1.2.0",
       "_model_name": "LayoutModel",
       "_view_count": null,
       "_view_module": "@jupyter-widgets/base",
       "_view_module_version": "1.2.0",
       "_view_name": "LayoutView",
       "align_content": null,
       "align_items": null,
       "align_self": null,
       "border": null,
       "bottom": null,
       "display": null,
       "flex": null,
       "flex_flow": null,
       "grid_area": null,
       "grid_auto_columns": null,
       "grid_auto_flow": null,
       "grid_auto_rows": null,
       "grid_column": null,
       "grid_gap": null,
       "grid_row": null,
       "grid_template_areas": null,
       "grid_template_columns": null,
       "grid_template_rows": null,
       "height": null,
       "justify_content": null,
       "justify_items": null,
       "left": null,
       "margin": null,
       "max_height": null,
       "max_width": null,
       "min_height": null,
       "min_width": null,
       "object_fit": null,
       "object_position": null,
       "order": null,
       "overflow": null,
       "overflow_x": null,
       "overflow_y": null,
       "padding": null,
       "right": null,
       "top": null,
       "visibility": null,
       "width": null
      }
     },
     "fba1b68e7b1b4fca8751909658326baa": {
      "model_module": "@jupyter-widgets/controls",
      "model_module_version": "1.5.0",
      "model_name": "ProgressStyleModel",
      "state": {
       "_model_module": "@jupyter-widgets/controls",
       "_model_module_version": "1.5.0",
       "_model_name": "ProgressStyleModel",
       "_view_count": null,
       "_view_module": "@jupyter-widgets/base",
       "_view_module_version": "1.2.0",
       "_view_name": "StyleView",
       "bar_color": null,
       "description_width": ""
      }
     }
    },
    "version_major": 2,
    "version_minor": 0
   }
  }
 },
 "nbformat": 4,
 "nbformat_minor": 5
}
