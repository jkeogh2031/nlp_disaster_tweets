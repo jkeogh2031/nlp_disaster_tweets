{
 "cells": [
  {
   "cell_type": "code",
   "execution_count": 1,
   "id": "ee607d10",
   "metadata": {
    "execution": {
     "iopub.execute_input": "2022-08-15T00:22:56.476742Z",
     "iopub.status.busy": "2022-08-15T00:22:56.476206Z",
     "iopub.status.idle": "2022-08-15T00:24:02.830025Z",
     "shell.execute_reply": "2022-08-15T00:24:02.828637Z"
    },
    "papermill": {
     "duration": 66.368828,
     "end_time": "2022-08-15T00:24:02.833009",
     "exception": false,
     "start_time": "2022-08-15T00:22:56.464181",
     "status": "completed"
    },
    "tags": []
   },
   "outputs": [
    {
     "name": "stdout",
     "output_type": "stream",
     "text": [
      "\u001b[31mERROR: pip's dependency resolver does not currently take into account all the packages that are installed. This behaviour is the source of the following dependency conflicts.\r\n",
      "tfx-bsl 1.9.0 requires tensorflow!=2.0.*,!=2.1.*,!=2.2.*,!=2.3.*,!=2.4.*,!=2.5.*,!=2.6.*,!=2.7.*,!=2.8.*,<3,>=1.15.5, but you have tensorflow 2.8.2 which is incompatible.\r\n",
      "tensorflow-transform 1.9.0 requires tensorflow!=2.0.*,!=2.1.*,!=2.2.*,!=2.3.*,!=2.4.*,!=2.5.*,!=2.6.*,!=2.7.*,!=2.8.*,<2.10,>=1.15.5, but you have tensorflow 2.8.2 which is incompatible.\r\n",
      "tensorflow-serving-api 2.9.0 requires tensorflow<3,>=2.9.0, but you have tensorflow 2.8.2 which is incompatible.\r\n",
      "tensorflow-io 0.21.0 requires tensorflow<2.7.0,>=2.6.0, but you have tensorflow 2.8.2 which is incompatible.\r\n",
      "tensorflow-io 0.21.0 requires tensorflow-io-gcs-filesystem==0.21.0, but you have tensorflow-io-gcs-filesystem 0.26.0 which is incompatible.\u001b[0m\u001b[31m\r\n",
      "\u001b[0m\u001b[33mWARNING: Running pip as the 'root' user can result in broken permissions and conflicting behaviour with the system package manager. It is recommended to use a virtual environment instead: https://pip.pypa.io/warnings/venv\u001b[0m\u001b[33m\r\n",
      "\u001b[0m"
     ]
    }
   ],
   "source": [
    "!pip install -q -U \"tensorflow-text==2.8.*\""
   ]
  },
  {
   "cell_type": "code",
   "execution_count": 2,
   "id": "67bef0c6",
   "metadata": {
    "execution": {
     "iopub.execute_input": "2022-08-15T00:24:02.847480Z",
     "iopub.status.busy": "2022-08-15T00:24:02.847164Z",
     "iopub.status.idle": "2022-08-15T00:24:47.118959Z",
     "shell.execute_reply": "2022-08-15T00:24:47.117744Z"
    },
    "papermill": {
     "duration": 44.2822,
     "end_time": "2022-08-15T00:24:47.121552",
     "exception": false,
     "start_time": "2022-08-15T00:24:02.839352",
     "status": "completed"
    },
    "tags": []
   },
   "outputs": [
    {
     "name": "stdout",
     "output_type": "stream",
     "text": [
      "\u001b[33mWARNING: Running pip as the 'root' user can result in broken permissions and conflicting behaviour with the system package manager. It is recommended to use a virtual environment instead: https://pip.pypa.io/warnings/venv\u001b[0m\u001b[33m\r\n",
      "\u001b[0m"
     ]
    }
   ],
   "source": [
    "!pip install -q tf-models-official==2.7.0"
   ]
  },
  {
   "cell_type": "code",
   "execution_count": 3,
   "id": "46e0909d",
   "metadata": {
    "_cell_guid": "b1076dfc-b9ad-4769-8c92-a6c4dae69d19",
    "_uuid": "8f2839f25d086af736a60e9eeb907d3b93b6e0e5",
    "execution": {
     "iopub.execute_input": "2022-08-15T00:24:47.136254Z",
     "iopub.status.busy": "2022-08-15T00:24:47.135901Z",
     "iopub.status.idle": "2022-08-15T00:24:52.464910Z",
     "shell.execute_reply": "2022-08-15T00:24:52.462872Z"
    },
    "papermill": {
     "duration": 5.339162,
     "end_time": "2022-08-15T00:24:52.467341",
     "exception": false,
     "start_time": "2022-08-15T00:24:47.128179",
     "status": "completed"
    },
    "tags": []
   },
   "outputs": [
    {
     "name": "stderr",
     "output_type": "stream",
     "text": [
      "[nltk_data] Downloading package stopwords to /usr/share/nltk_data...\n",
      "[nltk_data]   Package stopwords is already up-to-date!\n",
      "[nltk_data] Downloading package omw-1.4 to /usr/share/nltk_data...\n",
      "/opt/conda/lib/python3.7/site-packages/tensorflow_addons/utils/ensure_tf_install.py:67: UserWarning: Tensorflow Addons supports using Python ops for all Tensorflow versions above or equal to 2.4.0 and strictly below 2.7.0 (nightly versions are not supported). \n",
      " The versions of TensorFlow you are currently using is 2.8.2 and is not supported. \n",
      "Some things might work, some things might not.\n",
      "If you were to encounter a bug, do not file an issue.\n",
      "If you want to make sure you're using a tested and supported configuration, either change the TensorFlow version or the TensorFlow Addons's version. \n",
      "You can find the compatibility matrix in TensorFlow Addon's readme:\n",
      "https://github.com/tensorflow/addons\n",
      "  UserWarning,\n"
     ]
    }
   ],
   "source": [
    "import os\n",
    "import shutil\n",
    "import numpy as np\n",
    "import pandas as pd\n",
    "import matplotlib.pyplot as plt\n",
    "import nltk\n",
    "from nltk.tokenize import RegexpTokenizer\n",
    "from nltk.stem import WordNetLemmatizer,PorterStemmer\n",
    "from nltk.corpus import stopwords\n",
    "nltk.download('stopwords')\n",
    "nltk.download('omw-1.4')\n",
    "import re\n",
    "from collections import Counter\n",
    "import random\n",
    "\n",
    "import tensorflow as tf\n",
    "from sklearn.model_selection import train_test_split\n",
    "import tensorflow_hub as hub\n",
    "import tensorflow_text as text\n",
    "from official.nlp import optimization\n",
    "\n",
    "tf.get_logger().setLevel('ERROR')"
   ]
  },
  {
   "cell_type": "code",
   "execution_count": 4,
   "id": "0a0a575f",
   "metadata": {
    "execution": {
     "iopub.execute_input": "2022-08-15T00:24:52.482368Z",
     "iopub.status.busy": "2022-08-15T00:24:52.481711Z",
     "iopub.status.idle": "2022-08-15T00:24:52.540386Z",
     "shell.execute_reply": "2022-08-15T00:24:52.539405Z"
    },
    "papermill": {
     "duration": 0.069101,
     "end_time": "2022-08-15T00:24:52.542809",
     "exception": false,
     "start_time": "2022-08-15T00:24:52.473708",
     "status": "completed"
    },
    "tags": []
   },
   "outputs": [],
   "source": [
    "TRAIN_FP = '../input/nlp-getting-started/train.csv'\n",
    "TEST_FP = '../input/nlp-getting-started/test.csv'\n",
    "\n",
    "train = pd.read_csv(TRAIN_FP)\n",
    "test = pd.read_csv(TEST_FP)"
   ]
  },
  {
   "cell_type": "code",
   "execution_count": 5,
   "id": "5e3e5f24",
   "metadata": {
    "execution": {
     "iopub.execute_input": "2022-08-15T00:24:52.557592Z",
     "iopub.status.busy": "2022-08-15T00:24:52.557150Z",
     "iopub.status.idle": "2022-08-15T00:24:52.574983Z",
     "shell.execute_reply": "2022-08-15T00:24:52.572903Z"
    },
    "papermill": {
     "duration": 0.029927,
     "end_time": "2022-08-15T00:24:52.579116",
     "exception": false,
     "start_time": "2022-08-15T00:24:52.549189",
     "status": "completed"
    },
    "tags": []
   },
   "outputs": [
    {
     "name": "stdout",
     "output_type": "stream",
     "text": [
      "3271 disasters, 42.97% of training set\n"
     ]
    }
   ],
   "source": [
    "disaster_tweets = train.loc[train['target'] == 1, :].shape[0]\n",
    "total_tweets = train.shape[0]\n",
    "print(f'{disaster_tweets} disasters, {(disaster_tweets/total_tweets)*100:.2f}% of training set')"
   ]
  },
  {
   "cell_type": "code",
   "execution_count": 6,
   "id": "38bc3496",
   "metadata": {
    "execution": {
     "iopub.execute_input": "2022-08-15T00:24:52.595887Z",
     "iopub.status.busy": "2022-08-15T00:24:52.595581Z",
     "iopub.status.idle": "2022-08-15T00:24:52.609571Z",
     "shell.execute_reply": "2022-08-15T00:24:52.608465Z"
    },
    "papermill": {
     "duration": 0.024132,
     "end_time": "2022-08-15T00:24:52.611501",
     "exception": false,
     "start_time": "2022-08-15T00:24:52.587369",
     "status": "completed"
    },
    "tags": []
   },
   "outputs": [
    {
     "name": "stdout",
     "output_type": "stream",
     "text": [
      "69 tweets duplicated, 179 total duplicates\n"
     ]
    }
   ],
   "source": [
    "train_duplicates = train.loc[train.duplicated(subset='text', keep=False), :]\n",
    "num_unique_duplicated_tweets = train_duplicates.loc(axis=1)['text'].unique().shape[0]\n",
    "num_total_duplicated_tweets = train_duplicates.shape[0]\n",
    "\n",
    "print(f'{num_unique_duplicated_tweets} tweets duplicated, {num_total_duplicated_tweets} total duplicates')"
   ]
  },
  {
   "cell_type": "code",
   "execution_count": 7,
   "id": "30212a79",
   "metadata": {
    "execution": {
     "iopub.execute_input": "2022-08-15T00:24:52.627069Z",
     "iopub.status.busy": "2022-08-15T00:24:52.625469Z",
     "iopub.status.idle": "2022-08-15T00:24:52.771132Z",
     "shell.execute_reply": "2022-08-15T00:24:52.769658Z"
    },
    "papermill": {
     "duration": 0.155631,
     "end_time": "2022-08-15T00:24:52.773824",
     "exception": false,
     "start_time": "2022-08-15T00:24:52.618193",
     "status": "completed"
    },
    "tags": []
   },
   "outputs": [
    {
     "name": "stdout",
     "output_type": "stream",
     "text": [
      "Remaining duplicates in training set: 0\n"
     ]
    }
   ],
   "source": [
    "# For the duplicated entries, if not marked the same => drop altogether\n",
    "duplicated_tweets = train_duplicates.loc(axis=1)['text'].unique()\n",
    "train_first_of_duplicate = pd.DataFrame(columns=train.columns)\n",
    "\n",
    "for tweet in duplicated_tweets:\n",
    "    if train_duplicates.loc(axis=0)[train_duplicates['text'] == tweet]['target'].unique().shape[0] == 1:\n",
    "        train_first_of_duplicate = pd.concat([\n",
    "            train_first_of_duplicate,\n",
    "            pd.DataFrame(train_duplicates.loc(axis=0)[train_duplicates['text'] == tweet].iloc[0]).T\n",
    "        ],\n",
    "            ignore_index=True\n",
    "        )\n",
    "\n",
    "# All of training set with none of the duplicates\n",
    "train_unduplicated = train.drop_duplicates(subset='text', keep=False)\n",
    "\n",
    "# All of training set with first instance of each duplicate included\n",
    "train_all_no_duplicates = pd.concat([\n",
    "    train_first_of_duplicate,\n",
    "    train_unduplicated     \n",
    "],\n",
    "    ignore_index=True\n",
    ")\n",
    "\n",
    "# Check no duplicates remain\n",
    "remaining_duplicates = train_all_no_duplicates.loc[train_all_no_duplicates.duplicated(subset='text', keep=False), :]\n",
    "print(f'Remaining duplicates in training set: {remaining_duplicates.shape[0]}')"
   ]
  },
  {
   "cell_type": "code",
   "execution_count": 8,
   "id": "46388d2f",
   "metadata": {
    "execution": {
     "iopub.execute_input": "2022-08-15T00:24:52.788465Z",
     "iopub.status.busy": "2022-08-15T00:24:52.788152Z",
     "iopub.status.idle": "2022-08-15T00:24:52.793579Z",
     "shell.execute_reply": "2022-08-15T00:24:52.792676Z"
    },
    "papermill": {
     "duration": 0.014757,
     "end_time": "2022-08-15T00:24:52.795457",
     "exception": false,
     "start_time": "2022-08-15T00:24:52.780700",
     "status": "completed"
    },
    "tags": []
   },
   "outputs": [],
   "source": [
    "train_set = train_all_no_duplicates\n",
    "test_set = test"
   ]
  },
  {
   "cell_type": "markdown",
   "id": "2311ef2d",
   "metadata": {
    "papermill": {
     "duration": 0.006099,
     "end_time": "2022-08-15T00:24:52.808236",
     "exception": false,
     "start_time": "2022-08-15T00:24:52.802137",
     "status": "completed"
    },
    "tags": []
   },
   "source": [
    "### BERT Import"
   ]
  },
  {
   "cell_type": "code",
   "execution_count": 9,
   "id": "af83f017",
   "metadata": {
    "execution": {
     "iopub.execute_input": "2022-08-15T00:24:52.822511Z",
     "iopub.status.busy": "2022-08-15T00:24:52.822241Z",
     "iopub.status.idle": "2022-08-15T00:24:56.480360Z",
     "shell.execute_reply": "2022-08-15T00:24:56.479317Z"
    },
    "papermill": {
     "duration": 3.668433,
     "end_time": "2022-08-15T00:24:56.483044",
     "exception": false,
     "start_time": "2022-08-15T00:24:52.814611",
     "status": "completed"
    },
    "tags": []
   },
   "outputs": [],
   "source": [
    "tfhub_handle_encoder = 'https://tfhub.dev/tensorflow/small_bert/bert_en_uncased_L-4_H-512_A-8/1'\n",
    "tfhub_handle_preprocess = 'https://tfhub.dev/tensorflow/bert_en_uncased_preprocess/3'\n",
    "\n",
    "bert_preprocess_model = hub.KerasLayer(tfhub_handle_preprocess)"
   ]
  },
  {
   "cell_type": "code",
   "execution_count": 10,
   "id": "0badc4f5",
   "metadata": {
    "execution": {
     "iopub.execute_input": "2022-08-15T00:24:56.498990Z",
     "iopub.status.busy": "2022-08-15T00:24:56.497286Z",
     "iopub.status.idle": "2022-08-15T00:24:56.683188Z",
     "shell.execute_reply": "2022-08-15T00:24:56.681321Z"
    },
    "papermill": {
     "duration": 0.196417,
     "end_time": "2022-08-15T00:24:56.686121",
     "exception": false,
     "start_time": "2022-08-15T00:24:56.489704",
     "status": "completed"
    },
    "tags": []
   },
   "outputs": [
    {
     "name": "stdout",
     "output_type": "stream",
     "text": [
      "['Richard returns after whirlwind few days http://t.co/L8W30WFW3R #MLB']\n",
      "Keys       : ['input_word_ids', 'input_type_ids', 'input_mask']\n",
      "Shape      : (1, 128)\n",
      "Word Ids   : [  101  2957  5651  2044  1059 11961  2140 11101  2261  2420  8299  1024]\n",
      "Input Mask : [1 1 1 1 1 1 1 1 1 1 1 1]\n",
      "Type Ids   : [0 0 0 0 0 0 0 0 0 0 0 0]\n"
     ]
    }
   ],
   "source": [
    "example_num = random.randint(0, train_set.shape[0])\n",
    "text_test = [train_set['text'].iloc[example_num]]\n",
    "print(text_test)\n",
    "text_preprocessed = bert_preprocess_model(text_test)\n",
    "\n",
    "print(f'Keys       : {list(text_preprocessed.keys())}')\n",
    "print(f'Shape      : {text_preprocessed[\"input_word_ids\"].shape}')\n",
    "print(f'Word Ids   : {text_preprocessed[\"input_word_ids\"][0, :12]}')\n",
    "print(f'Input Mask : {text_preprocessed[\"input_mask\"][0, :12]}')\n",
    "print(f'Type Ids   : {text_preprocessed[\"input_type_ids\"][0, :12]}')"
   ]
  },
  {
   "cell_type": "code",
   "execution_count": 11,
   "id": "d9c6cf48",
   "metadata": {
    "execution": {
     "iopub.execute_input": "2022-08-15T00:24:56.703603Z",
     "iopub.status.busy": "2022-08-15T00:24:56.701543Z",
     "iopub.status.idle": "2022-08-15T00:25:03.154726Z",
     "shell.execute_reply": "2022-08-15T00:25:03.153757Z"
    },
    "papermill": {
     "duration": 6.464513,
     "end_time": "2022-08-15T00:25:03.157815",
     "exception": false,
     "start_time": "2022-08-15T00:24:56.693302",
     "status": "completed"
    },
    "tags": []
   },
   "outputs": [],
   "source": [
    "bert_model = hub.KerasLayer(tfhub_handle_encoder)"
   ]
  },
  {
   "cell_type": "code",
   "execution_count": 12,
   "id": "20305d81",
   "metadata": {
    "execution": {
     "iopub.execute_input": "2022-08-15T00:25:03.180692Z",
     "iopub.status.busy": "2022-08-15T00:25:03.180205Z",
     "iopub.status.idle": "2022-08-15T00:25:04.393227Z",
     "shell.execute_reply": "2022-08-15T00:25:04.390822Z"
    },
    "papermill": {
     "duration": 1.227969,
     "end_time": "2022-08-15T00:25:04.396739",
     "exception": false,
     "start_time": "2022-08-15T00:25:03.168770",
     "status": "completed"
    },
    "tags": []
   },
   "outputs": [
    {
     "name": "stdout",
     "output_type": "stream",
     "text": [
      "Loaded BERT: https://tfhub.dev/tensorflow/small_bert/bert_en_uncased_L-4_H-512_A-8/1\n",
      "Pooled Outputs Shape:(1, 512)\n",
      "Pooled Outputs Values:[ 0.7748574   0.9953314  -0.08687783 -0.07832974 -0.23524693  0.87916607\n",
      "  0.9977928  -0.9971538  -0.09087183 -0.99747574 -0.06541783 -0.25701073]\n",
      "Sequence Outputs Shape:(1, 128, 512)\n",
      "Sequence Outputs Values:[[ 0.23227175  0.60291046  0.3811893  ... -0.02767057 -0.06595334\n",
      "   0.4650033 ]\n",
      " [-0.58993673  0.11897492 -0.36283958 ...  0.48460373  0.0969692\n",
      "   0.49153188]\n",
      " [ 0.04642453  0.59850097  0.1892773  ... -0.1908265   0.2094655\n",
      "   0.37557057]\n",
      " ...\n",
      " [-0.55421257 -0.25714248  0.24319142 ...  0.31900164  0.12208152\n",
      "   0.8130951 ]\n",
      " [ 0.6666877   0.8746017   0.22571903 ... -0.11728282  0.3876263\n",
      "   0.46714437]\n",
      " [ 0.24458137  0.21752602  0.31555396 ...  0.60422486 -0.8915297\n",
      "  -1.6175767 ]]\n"
     ]
    }
   ],
   "source": [
    "bert_results = bert_model(text_preprocessed)\n",
    "\n",
    "print(f'Loaded BERT: {tfhub_handle_encoder}')\n",
    "print(f'Pooled Outputs Shape:{bert_results[\"pooled_output\"].shape}')\n",
    "print(f'Pooled Outputs Values:{bert_results[\"pooled_output\"][0, :12]}')\n",
    "print(f'Sequence Outputs Shape:{bert_results[\"sequence_output\"].shape}')\n",
    "print(f'Sequence Outputs Values:{bert_results[\"sequence_output\"][0, :12]}')"
   ]
  },
  {
   "cell_type": "code",
   "execution_count": 13,
   "id": "c7ae82d4",
   "metadata": {
    "execution": {
     "iopub.execute_input": "2022-08-15T00:25:04.412962Z",
     "iopub.status.busy": "2022-08-15T00:25:04.412652Z",
     "iopub.status.idle": "2022-08-15T00:25:04.420980Z",
     "shell.execute_reply": "2022-08-15T00:25:04.420093Z"
    },
    "papermill": {
     "duration": 0.01819,
     "end_time": "2022-08-15T00:25:04.423014",
     "exception": false,
     "start_time": "2022-08-15T00:25:04.404824",
     "status": "completed"
    },
    "tags": []
   },
   "outputs": [],
   "source": [
    "def build_classifier_model():\n",
    "    input_word_ids = tf.keras.layers.Input(shape=(None,), dtype=tf.int32, name=\"input_word_ids\")\n",
    "    input_type_ids = tf.keras.layers.Input(shape=(None,), dtype=tf.int32, name=\"input_type_ids\")\n",
    "    input_mask = tf.keras.layers.Input(shape=(None,), dtype=tf.int32, name=\"input_mask\")\n",
    "    \n",
    "    encoder_inputs = {\n",
    "        \"input_word_ids\": input_word_ids,\n",
    "        \"input_type_ids\": input_type_ids,\n",
    "        \"input_mask\": input_mask\n",
    "    }\n",
    "    \n",
    "    encoder = hub.KerasLayer(tfhub_handle_encoder, trainable=True, name='BERT_encoder')\n",
    "    outputs = encoder(encoder_inputs)\n",
    "    net = outputs['pooled_output']\n",
    "#     net = tf.keras.layers.Dropout(0.1)(net)\n",
    "    net = tf.keras.layers.Dense(1, activation='sigmoid', name='classifier')(net)\n",
    "    return tf.keras.Model(inputs=[input_word_ids, input_type_ids, input_mask], outputs=net)\n",
    "    "
   ]
  },
  {
   "cell_type": "code",
   "execution_count": 14,
   "id": "ef3428e6",
   "metadata": {
    "execution": {
     "iopub.execute_input": "2022-08-15T00:25:04.437661Z",
     "iopub.status.busy": "2022-08-15T00:25:04.437362Z",
     "iopub.status.idle": "2022-08-15T00:25:10.545487Z",
     "shell.execute_reply": "2022-08-15T00:25:10.542835Z"
    },
    "papermill": {
     "duration": 6.118234,
     "end_time": "2022-08-15T00:25:10.547950",
     "exception": false,
     "start_time": "2022-08-15T00:25:04.429716",
     "status": "completed"
    },
    "tags": []
   },
   "outputs": [
    {
     "name": "stdout",
     "output_type": "stream",
     "text": [
      "tf.Tensor([[0.48400214]], shape=(1, 1), dtype=float32)\n"
     ]
    }
   ],
   "source": [
    "classifier_model = build_classifier_model()\n",
    "bert_raw_result = classifier_model([\n",
    "    text_preprocessed[\"input_word_ids\"],\n",
    "    text_preprocessed[\"input_type_ids\"],\n",
    "    text_preprocessed[\"input_mask\"],\n",
    "])\n",
    "print(bert_raw_result)"
   ]
  },
  {
   "cell_type": "markdown",
   "id": "85d31e84",
   "metadata": {
    "papermill": {
     "duration": 0.00723,
     "end_time": "2022-08-15T00:25:10.562642",
     "exception": false,
     "start_time": "2022-08-15T00:25:10.555412",
     "status": "completed"
    },
    "tags": []
   },
   "source": [
    "### Pre-Processing"
   ]
  },
  {
   "cell_type": "code",
   "execution_count": 15,
   "id": "eb6746c1",
   "metadata": {
    "execution": {
     "iopub.execute_input": "2022-08-15T00:25:10.578145Z",
     "iopub.status.busy": "2022-08-15T00:25:10.577814Z",
     "iopub.status.idle": "2022-08-15T00:25:10.598947Z",
     "shell.execute_reply": "2022-08-15T00:25:10.597901Z"
    },
    "jupyter": {
     "source_hidden": true
    },
    "papermill": {
     "duration": 0.031815,
     "end_time": "2022-08-15T00:25:10.601225",
     "exception": false,
     "start_time": "2022-08-15T00:25:10.569410",
     "status": "completed"
    },
    "tags": []
   },
   "outputs": [],
   "source": [
    "abbreviations = {\n",
    "    \"$\" : \" dollar \",\n",
    "    \"€\" : \" euro \",\n",
    "    \"4ao\" : \"for adults only\",\n",
    "    \"a.m\" : \"before midday\",\n",
    "    \"a3\" : \"anytime anywhere anyplace\",\n",
    "    \"aamof\" : \"as a matter of fact\",\n",
    "    \"acct\" : \"account\",\n",
    "    \"adih\" : \"another day in hell\",\n",
    "    \"afaic\" : \"as far as i am concerned\",\n",
    "    \"afaict\" : \"as far as i can tell\",\n",
    "    \"afaik\" : \"as far as i know\",\n",
    "    \"afair\" : \"as far as i remember\",\n",
    "    \"afk\" : \"away from keyboard\",\n",
    "    \"app\" : \"application\",\n",
    "    \"approx\" : \"approximately\",\n",
    "    \"apps\" : \"applications\",\n",
    "    \"asap\" : \"as soon as possible\",\n",
    "    \"asl\" : \"age, sex, location\",\n",
    "    \"atk\" : \"at the keyboard\",\n",
    "    \"ave.\" : \"avenue\",\n",
    "    \"aymm\" : \"are you my mother\",\n",
    "    \"ayor\" : \"at your own risk\", \n",
    "    \"b&b\" : \"bed and breakfast\",\n",
    "    \"b+b\" : \"bed and breakfast\",\n",
    "    \"b.c\" : \"before christ\",\n",
    "    \"b2b\" : \"business to business\",\n",
    "    \"b2c\" : \"business to customer\",\n",
    "    \"b4\" : \"before\",\n",
    "    \"b4n\" : \"bye for now\",\n",
    "    \"b@u\" : \"back at you\",\n",
    "    \"bae\" : \"before anyone else\",\n",
    "    \"bak\" : \"back at keyboard\",\n",
    "    \"bbbg\" : \"bye bye be good\",\n",
    "    \"bbc\" : \"british broadcasting corporation\",\n",
    "    \"bbias\" : \"be back in a second\",\n",
    "    \"bbl\" : \"be back later\",\n",
    "    \"bbs\" : \"be back soon\",\n",
    "    \"be4\" : \"before\",\n",
    "    \"bfn\" : \"bye for now\",\n",
    "    \"blvd\" : \"boulevard\",\n",
    "    \"bout\" : \"about\",\n",
    "    \"brb\" : \"be right back\",\n",
    "    \"bros\" : \"brothers\",\n",
    "    \"brt\" : \"be right there\",\n",
    "    \"bsaaw\" : \"big smile and a wink\",\n",
    "    \"btw\" : \"by the way\",\n",
    "    \"bwl\" : \"bursting with laughter\",\n",
    "    \"c/o\" : \"care of\",\n",
    "    \"cet\" : \"central european time\",\n",
    "    \"cf\" : \"compare\",\n",
    "    \"cia\" : \"central intelligence agency\",\n",
    "    \"csl\" : \"can not stop laughing\",\n",
    "    \"cu\" : \"see you\",\n",
    "    \"cul8r\" : \"see you later\",\n",
    "    \"cv\" : \"curriculum vitae\",\n",
    "    \"cwot\" : \"complete waste of time\",\n",
    "    \"cya\" : \"see you\",\n",
    "    \"cyt\" : \"see you tomorrow\",\n",
    "    \"dae\" : \"does anyone else\",\n",
    "    \"dbmib\" : \"do not bother me i am busy\",\n",
    "    \"diy\" : \"do it yourself\",\n",
    "    \"dm\" : \"direct message\",\n",
    "    \"dwh\" : \"during work hours\",\n",
    "    \"e123\" : \"easy as one two three\",\n",
    "    \"eet\" : \"eastern european time\",\n",
    "    \"eg\" : \"example\",\n",
    "    \"embm\" : \"early morning business meeting\",\n",
    "    \"encl\" : \"enclosed\",\n",
    "    \"encl.\" : \"enclosed\",\n",
    "    \"etc\" : \"and so on\",\n",
    "    \"faq\" : \"frequently asked questions\",\n",
    "    \"fawc\" : \"for anyone who cares\",\n",
    "    \"fb\" : \"facebook\",\n",
    "    \"fc\" : \"fingers crossed\",\n",
    "    \"fig\" : \"figure\",\n",
    "    \"fimh\" : \"forever in my heart\", \n",
    "    \"ft.\" : \"feet\",\n",
    "    \"ft\" : \"featuring\",\n",
    "    \"ftl\" : \"for the loss\",\n",
    "    \"ftw\" : \"for the win\",\n",
    "    \"fwiw\" : \"for what it is worth\",\n",
    "    \"fyi\" : \"for your information\",\n",
    "    \"g9\" : \"genius\",\n",
    "    \"gahoy\" : \"get a hold of yourself\",\n",
    "    \"gal\" : \"get a life\",\n",
    "    \"gcse\" : \"general certificate of secondary education\",\n",
    "    \"gfn\" : \"gone for now\",\n",
    "    \"gg\" : \"good game\",\n",
    "    \"gl\" : \"good luck\",\n",
    "    \"glhf\" : \"good luck have fun\",\n",
    "    \"gmt\" : \"greenwich mean time\",\n",
    "    \"gmta\" : \"great minds think alike\",\n",
    "    \"gn\" : \"good night\",\n",
    "    \"g.o.a.t\" : \"greatest of all time\",\n",
    "    \"goat\" : \"greatest of all time\",\n",
    "    \"goi\" : \"get over it\",\n",
    "    \"gps\" : \"global positioning system\",\n",
    "    \"gr8\" : \"great\",\n",
    "    \"gratz\" : \"congratulations\",\n",
    "    \"gyal\" : \"girl\",\n",
    "    \"h&c\" : \"hot and cold\",\n",
    "    \"hp\" : \"horsepower\",\n",
    "    \"hr\" : \"hour\",\n",
    "    \"hrh\" : \"his royal highness\",\n",
    "    \"ht\" : \"height\",\n",
    "    \"ibrb\" : \"i will be right back\",\n",
    "    \"ic\" : \"i see\",\n",
    "    \"icq\" : \"i seek you\",\n",
    "    \"icymi\" : \"in case you missed it\",\n",
    "    \"idc\" : \"i do not care\",\n",
    "    \"idgadf\" : \"i do not give a damn fuck\",\n",
    "    \"idgaf\" : \"i do not give a fuck\",\n",
    "    \"idk\" : \"i do not know\",\n",
    "    \"ie\" : \"that is\",\n",
    "    \"i.e\" : \"that is\",\n",
    "    \"ifyp\" : \"i feel your pain\",\n",
    "    \"ig\" : \"instagram\",\n",
    "    \"iirc\" : \"if i remember correctly\",\n",
    "    \"ilu\" : \"i love you\",\n",
    "    \"ily\" : \"i love you\",\n",
    "    \"imho\" : \"in my humble opinion\",\n",
    "    \"imo\" : \"in my opinion\",\n",
    "    \"imu\" : \"i miss you\",\n",
    "    \"iow\" : \"in other words\",\n",
    "    \"irl\" : \"in real life\",\n",
    "    \"j4f\" : \"just for fun\",\n",
    "    \"jic\" : \"just in case\",\n",
    "    \"jk\" : \"just kidding\",\n",
    "    \"jsyk\" : \"just so you know\",\n",
    "    \"l8r\" : \"later\",\n",
    "    \"lb\" : \"pound\",\n",
    "    \"lbs\" : \"pounds\",\n",
    "    \"ldr\" : \"long distance relationship\",\n",
    "    \"lmao\" : \"laugh my ass off\",\n",
    "    \"lmfao\" : \"laugh my fucking ass off\",\n",
    "    \"lol\" : \"laughing out loud\",\n",
    "    \"ltd\" : \"limited\",\n",
    "    \"ltns\" : \"long time no see\",\n",
    "    \"m8\" : \"mate\",\n",
    "    \"mf\" : \"motherfucker\",\n",
    "    \"mfs\" : \"motherfuckers\",\n",
    "    \"mfw\" : \"my face when\",\n",
    "    \"mofo\" : \"motherfucker\",\n",
    "    \"mph\" : \"miles per hour\",\n",
    "    \"mr\" : \"mister\",\n",
    "    \"mrw\" : \"my reaction when\",\n",
    "    \"ms\" : \"miss\",\n",
    "    \"mte\" : \"my thoughts exactly\",\n",
    "    \"nagi\" : \"not a good idea\",\n",
    "    \"nbc\" : \"national broadcasting company\",\n",
    "    \"nbd\" : \"not big deal\",\n",
    "    \"nfs\" : \"not for sale\",\n",
    "    \"ngl\" : \"not going to lie\",\n",
    "    \"nhs\" : \"national health service\",\n",
    "    \"nrn\" : \"no reply necessary\",\n",
    "    \"nsfl\" : \"not safe for life\",\n",
    "    \"nsfw\" : \"not safe for work\",\n",
    "    \"nth\" : \"nice to have\",\n",
    "    \"nvr\" : \"never\",\n",
    "    \"nyc\" : \"new york city\",\n",
    "    \"oc\" : \"original content\",\n",
    "    \"og\" : \"original\",\n",
    "    \"ohp\" : \"overhead projector\",\n",
    "    \"oic\" : \"oh i see\",\n",
    "    \"omdb\" : \"over my dead body\",\n",
    "    \"omg\" : \"oh my god\",\n",
    "    \"omw\" : \"on my way\",\n",
    "    \"p.a\" : \"per annum\",\n",
    "    \"p.m\" : \"after midday\",\n",
    "    \"pm\" : \"prime minister\",\n",
    "    \"poc\" : \"people of color\",\n",
    "    \"pov\" : \"point of view\",\n",
    "    \"pp\" : \"pages\",\n",
    "    \"ppl\" : \"people\",\n",
    "    \"prw\" : \"parents are watching\",\n",
    "    \"ps\" : \"postscript\",\n",
    "    \"pt\" : \"point\",\n",
    "    \"ptb\" : \"please text back\",\n",
    "    \"pto\" : \"please turn over\",\n",
    "    \"qpsa\" : \"what happens\", #\"que pasa\",\n",
    "    \"ratchet\" : \"rude\",\n",
    "    \"rbtl\" : \"read between the lines\",\n",
    "    \"rlrt\" : \"real life retweet\", \n",
    "    \"rofl\" : \"rolling on the floor laughing\",\n",
    "    \"roflol\" : \"rolling on the floor laughing out loud\",\n",
    "    \"rotflmao\" : \"rolling on the floor laughing my ass off\",\n",
    "    \"rt\" : \"retweet\",\n",
    "    \"ruok\" : \"are you ok\",\n",
    "    \"sfw\" : \"safe for work\",\n",
    "    \"sk8\" : \"skate\",\n",
    "    \"smh\" : \"shake my head\",\n",
    "    \"sq\" : \"square\",\n",
    "    \"srsly\" : \"seriously\", \n",
    "    \"ssdd\" : \"same stuff different day\",\n",
    "    \"tbh\" : \"to be honest\",\n",
    "    \"tbs\" : \"tablespooful\",\n",
    "    \"tbsp\" : \"tablespooful\",\n",
    "    \"tfw\" : \"that feeling when\",\n",
    "    \"thks\" : \"thank you\",\n",
    "    \"tho\" : \"though\",\n",
    "    \"thx\" : \"thank you\",\n",
    "    \"tia\" : \"thanks in advance\",\n",
    "    \"til\" : \"today i learned\",\n",
    "    \"tl;dr\" : \"too long i did not read\",\n",
    "    \"tldr\" : \"too long i did not read\",\n",
    "    \"tmb\" : \"tweet me back\",\n",
    "    \"tntl\" : \"trying not to laugh\",\n",
    "    \"ttyl\" : \"talk to you later\",\n",
    "    \"u\" : \"you\",\n",
    "    \"u2\" : \"you too\",\n",
    "    \"u4e\" : \"yours for ever\",\n",
    "    \"utc\" : \"coordinated universal time\",\n",
    "    \"w/\" : \"with\",\n",
    "    \"w/o\" : \"without\",\n",
    "    \"w8\" : \"wait\",\n",
    "    \"wassup\" : \"what is up\",\n",
    "    \"wb\" : \"welcome back\",\n",
    "    \"wtf\" : \"what the fuck\",\n",
    "    \"wtg\" : \"way to go\",\n",
    "    \"wtpa\" : \"where the party at\",\n",
    "    \"wuf\" : \"where are you from\",\n",
    "    \"wuzup\" : \"what is up\",\n",
    "    \"wywh\" : \"wish you were here\",\n",
    "    \"yd\" : \"yard\",\n",
    "    \"ygtr\" : \"you got that right\",\n",
    "    \"ynk\" : \"you never know\",\n",
    "    \"zzz\" : \"sleeping bored and tired\"\n",
    "}"
   ]
  },
  {
   "cell_type": "code",
   "execution_count": 16,
   "id": "d227c132",
   "metadata": {
    "execution": {
     "iopub.execute_input": "2022-08-15T00:25:10.616587Z",
     "iopub.status.busy": "2022-08-15T00:25:10.616281Z",
     "iopub.status.idle": "2022-08-15T00:25:20.574427Z",
     "shell.execute_reply": "2022-08-15T00:25:20.573478Z"
    },
    "papermill": {
     "duration": 9.968731,
     "end_time": "2022-08-15T00:25:20.576803",
     "exception": false,
     "start_time": "2022-08-15T00:25:10.608072",
     "status": "completed"
    },
    "tags": []
   },
   "outputs": [
    {
     "data": {
      "text/html": [
       "<div>\n",
       "<style scoped>\n",
       "    .dataframe tbody tr th:only-of-type {\n",
       "        vertical-align: middle;\n",
       "    }\n",
       "\n",
       "    .dataframe tbody tr th {\n",
       "        vertical-align: top;\n",
       "    }\n",
       "\n",
       "    .dataframe thead th {\n",
       "        text-align: right;\n",
       "    }\n",
       "</style>\n",
       "<table border=\"1\" class=\"dataframe\">\n",
       "  <thead>\n",
       "    <tr style=\"text-align: right;\">\n",
       "      <th></th>\n",
       "      <th>id</th>\n",
       "      <th>keyword</th>\n",
       "      <th>location</th>\n",
       "      <th>text</th>\n",
       "      <th>target</th>\n",
       "      <th>clean_text</th>\n",
       "    </tr>\n",
       "  </thead>\n",
       "  <tbody>\n",
       "    <tr>\n",
       "      <th>0</th>\n",
       "      <td>59</td>\n",
       "      <td>ablaze</td>\n",
       "      <td>Live On Webcam</td>\n",
       "      <td>Check these out: http://t.co/rOI2NSmEJJ http:/...</td>\n",
       "      <td>0</td>\n",
       "      <td>check nsfw</td>\n",
       "    </tr>\n",
       "    <tr>\n",
       "      <th>1</th>\n",
       "      <td>156</td>\n",
       "      <td>aftershock</td>\n",
       "      <td>US</td>\n",
       "      <td>320 [IR] ICEMOON [AFTERSHOCK] | http://t.co/vA...</td>\n",
       "      <td>0</td>\n",
       "      <td>icemoon aftershock djicemoon dubstep trapmusic...</td>\n",
       "    </tr>\n",
       "    <tr>\n",
       "      <th>2</th>\n",
       "      <td>171</td>\n",
       "      <td>aftershock</td>\n",
       "      <td>Switzerland</td>\n",
       "      <td>320 [IR] ICEMOON [AFTERSHOCK] | http://t.co/TH...</td>\n",
       "      <td>0</td>\n",
       "      <td>icemoon aftershock djicemoon dubstep trapmusic...</td>\n",
       "    </tr>\n",
       "    <tr>\n",
       "      <th>3</th>\n",
       "      <td>211</td>\n",
       "      <td>airplane%20accident</td>\n",
       "      <td>NaN</td>\n",
       "      <td>Experts in France begin examining airplane deb...</td>\n",
       "      <td>1</td>\n",
       "      <td>experts france begin examining airplane debris...</td>\n",
       "    </tr>\n",
       "    <tr>\n",
       "      <th>4</th>\n",
       "      <td>1634</td>\n",
       "      <td>bombing</td>\n",
       "      <td>NaN</td>\n",
       "      <td>Japan on Thursday marks the 70th anniversary o...</td>\n",
       "      <td>1</td>\n",
       "      <td>japan thursday marks anniversary atomic bombin...</td>\n",
       "    </tr>\n",
       "  </tbody>\n",
       "</table>\n",
       "</div>"
      ],
      "text/plain": [
       "     id              keyword        location  \\\n",
       "0    59               ablaze  Live On Webcam   \n",
       "1   156           aftershock              US   \n",
       "2   171           aftershock     Switzerland   \n",
       "3   211  airplane%20accident             NaN   \n",
       "4  1634              bombing             NaN   \n",
       "\n",
       "                                                text target  \\\n",
       "0  Check these out: http://t.co/rOI2NSmEJJ http:/...      0   \n",
       "1  320 [IR] ICEMOON [AFTERSHOCK] | http://t.co/vA...      0   \n",
       "2  320 [IR] ICEMOON [AFTERSHOCK] | http://t.co/TH...      0   \n",
       "3  Experts in France begin examining airplane deb...      1   \n",
       "4  Japan on Thursday marks the 70th anniversary o...      1   \n",
       "\n",
       "                                          clean_text  \n",
       "0                                         check nsfw  \n",
       "1  icemoon aftershock djicemoon dubstep trapmusic...  \n",
       "2  icemoon aftershock djicemoon dubstep trapmusic...  \n",
       "3  experts france begin examining airplane debris...  \n",
       "4  japan thursday marks anniversary atomic bombin...  "
      ]
     },
     "execution_count": 16,
     "metadata": {},
     "output_type": "execute_result"
    }
   ],
   "source": [
    "# Clean up tweet content\n",
    "\n",
    "lemmatizer = WordNetLemmatizer()\n",
    "stemmer = PorterStemmer() \n",
    "\n",
    "def convert_abbrev(word):\n",
    "    return abbreviations[word] if word in abbreviations.keys() else word\n",
    "\n",
    "def preprocess_text(sentence):\n",
    "    sentence = str(sentence)\n",
    "    sentence = sentence.lower()          \n",
    "    sentence = sentence.replace('{html}', \"\") \n",
    "    rem_url = re.sub(r'http\\S+', '', sentence)\n",
    "    converted_abbrev = \" \".join([convert_abbrev(word) for word in rem_url.split(\" \")])\n",
    "    cleanr = re.compile('[^a-z ]+')\n",
    "    rem_num_non_alpha = re.sub(cleanr, '', converted_abbrev)\n",
    "    tokenizer = RegexpTokenizer(r'\\w+')\n",
    "    tokens = tokenizer.tokenize(rem_num_non_alpha)\n",
    "    filtered_words = [w for w in tokens if len(w) > 2 if not w in stopwords.words('english')]\n",
    "#     stem_words = [stemmer.stem(w) for w in filtered_words]\n",
    "#     lemma_words=[lemmatizer.lemmatize(w) for w in stem_words]\n",
    "    return \" \".join(filtered_words)\n",
    "\n",
    "train_set['clean_text'] = train_set['text'].map(lambda s:preprocess_text(s))\n",
    "train_set.head()"
   ]
  },
  {
   "cell_type": "code",
   "execution_count": 17,
   "id": "7cf29335",
   "metadata": {
    "execution": {
     "iopub.execute_input": "2022-08-15T00:25:20.592924Z",
     "iopub.status.busy": "2022-08-15T00:25:20.592608Z",
     "iopub.status.idle": "2022-08-15T00:25:21.142134Z",
     "shell.execute_reply": "2022-08-15T00:25:21.140979Z"
    },
    "papermill": {
     "duration": 0.560661,
     "end_time": "2022-08-15T00:25:21.145005",
     "exception": false,
     "start_time": "2022-08-15T00:25:20.584344",
     "status": "completed"
    },
    "tags": []
   },
   "outputs": [
    {
     "name": "stdout",
     "output_type": "stream",
     "text": [
      "Training Set X: (6720,), y: (6720,)\n",
      "Validation Set X: (765,), y: (765,)\n"
     ]
    }
   ],
   "source": [
    "X = train_set.loc(axis=1)['clean_text'].to_numpy()\n",
    "y = train_set.loc(axis=1)['target'].to_numpy().astype('float32')\n",
    "\n",
    "random.seed(42)\n",
    "train_indices = random.sample(range(len(y)), 6720)\n",
    "valid_indices = []\n",
    "for i in range(len(y)):\n",
    "    if i not in train_indices:\n",
    "        valid_indices.append(i)\n",
    "\n",
    "X_train, y_train = X[train_indices], y[train_indices]\n",
    "X_val, y_val = X[valid_indices], y[valid_indices]\n",
    "\n",
    "print(f'Training Set X: {X_train.shape}, y: {y_train.shape}')\n",
    "print(f'Validation Set X: {X_val.shape}, y: {y_val.shape}')"
   ]
  },
  {
   "cell_type": "code",
   "execution_count": 18,
   "id": "d250368c",
   "metadata": {
    "execution": {
     "iopub.execute_input": "2022-08-15T00:25:21.175323Z",
     "iopub.status.busy": "2022-08-15T00:25:21.174873Z",
     "iopub.status.idle": "2022-08-15T00:25:21.180794Z",
     "shell.execute_reply": "2022-08-15T00:25:21.179818Z"
    },
    "papermill": {
     "duration": 0.023214,
     "end_time": "2022-08-15T00:25:21.183234",
     "exception": false,
     "start_time": "2022-08-15T00:25:21.160020",
     "status": "completed"
    },
    "tags": []
   },
   "outputs": [],
   "source": [
    "def create_input(text):\n",
    "    bert_preprocess_model = hub.KerasLayer(tfhub_handle_preprocess)\n",
    "    text_preprocessed = bert_preprocess_model(text)\n",
    "    return text_preprocessed[\"input_word_ids\"], text_preprocessed[\"input_type_ids\"], text_preprocessed[\"input_mask\"]"
   ]
  },
  {
   "cell_type": "code",
   "execution_count": 19,
   "id": "70c37684",
   "metadata": {
    "execution": {
     "iopub.execute_input": "2022-08-15T00:25:21.211576Z",
     "iopub.status.busy": "2022-08-15T00:25:21.210602Z",
     "iopub.status.idle": "2022-08-15T00:27:43.975650Z",
     "shell.execute_reply": "2022-08-15T00:27:43.973370Z"
    },
    "papermill": {
     "duration": 142.785308,
     "end_time": "2022-08-15T00:27:43.981637",
     "exception": false,
     "start_time": "2022-08-15T00:25:21.196329",
     "status": "completed"
    },
    "tags": []
   },
   "outputs": [
    {
     "name": "stderr",
     "output_type": "stream",
     "text": [
      "/opt/conda/lib/python3.7/site-packages/ipykernel_launcher.py:10: TqdmDeprecationWarning: This function will be removed in tqdm==5.0.0\n",
      "Please use `tqdm.notebook.tqdm` instead of `tqdm.tqdm_notebook`\n",
      "  # Remove the CWD from sys.path while we load stuff.\n"
     ]
    },
    {
     "data": {
      "application/vnd.jupyter.widget-view+json": {
       "model_id": "e0d2df0b0e7c47fd8f8a6709ed762e1a",
       "version_major": 2,
       "version_minor": 0
      },
      "text/plain": [
       "  0%|          | 0/42 [00:00<?, ?it/s]"
      ]
     },
     "metadata": {},
     "output_type": "display_data"
    }
   ],
   "source": [
    "from tqdm import tqdm_notebook as tqdm\n",
    "\n",
    "train_word_ids = np.empty((0,128)).astype('float32')\n",
    "train_type_ids = np.empty((0,128)).astype('float32')\n",
    "train_mask = np.empty((0,128)).astype('float32')\n",
    "\n",
    "batch = 160\n",
    "num_steps = len(X_train) // batch\n",
    "\n",
    "for i in tqdm(range(num_steps)):\n",
    "    word_id, type_id, mask = create_input(X_train[i*batch:(i+1)*batch])\n",
    "    train_word_ids = np.append(train_word_ids, word_id, axis=0)\n",
    "    train_type_ids = np.append(train_type_ids, type_id, axis=0)\n",
    "    train_mask = np.append(train_mask, mask, axis=0)"
   ]
  },
  {
   "cell_type": "code",
   "execution_count": 20,
   "id": "a9a8b4a0",
   "metadata": {
    "execution": {
     "iopub.execute_input": "2022-08-15T00:27:44.029382Z",
     "iopub.status.busy": "2022-08-15T00:27:44.028939Z",
     "iopub.status.idle": "2022-08-15T00:27:44.035875Z",
     "shell.execute_reply": "2022-08-15T00:27:44.034046Z"
    },
    "papermill": {
     "duration": 0.032892,
     "end_time": "2022-08-15T00:27:44.039415",
     "exception": false,
     "start_time": "2022-08-15T00:27:44.006523",
     "status": "completed"
    },
    "tags": []
   },
   "outputs": [],
   "source": [
    "# %%time\n",
    "# train_word_ids, train_type_ids, train_mask = create_input(X_train)"
   ]
  },
  {
   "cell_type": "code",
   "execution_count": 21,
   "id": "1341ddb1",
   "metadata": {
    "execution": {
     "iopub.execute_input": "2022-08-15T00:27:44.073169Z",
     "iopub.status.busy": "2022-08-15T00:27:44.072586Z",
     "iopub.status.idle": "2022-08-15T00:27:44.080298Z",
     "shell.execute_reply": "2022-08-15T00:27:44.079264Z"
    },
    "papermill": {
     "duration": 0.029536,
     "end_time": "2022-08-15T00:27:44.086646",
     "exception": false,
     "start_time": "2022-08-15T00:27:44.057110",
     "status": "completed"
    },
    "tags": []
   },
   "outputs": [
    {
     "name": "stdout",
     "output_type": "stream",
     "text": [
      "Shape of train_word_ids: (6720, 128)\n",
      "Shape of train_type_ids: (6720, 128)\n",
      "Shape of train_mask: (6720, 128)\n"
     ]
    }
   ],
   "source": [
    "print('Shape of train_word_ids:', train_word_ids.shape)\n",
    "print('Shape of train_type_ids:', train_type_ids.shape)\n",
    "print('Shape of train_mask:', train_mask.shape)"
   ]
  },
  {
   "cell_type": "code",
   "execution_count": 22,
   "id": "0dfdd6b4",
   "metadata": {
    "execution": {
     "iopub.execute_input": "2022-08-15T00:27:44.112046Z",
     "iopub.status.busy": "2022-08-15T00:27:44.111562Z",
     "iopub.status.idle": "2022-08-15T00:28:03.082741Z",
     "shell.execute_reply": "2022-08-15T00:28:03.080686Z"
    },
    "papermill": {
     "duration": 18.985454,
     "end_time": "2022-08-15T00:28:03.085275",
     "exception": false,
     "start_time": "2022-08-15T00:27:44.099821",
     "status": "completed"
    },
    "tags": []
   },
   "outputs": [
    {
     "name": "stdout",
     "output_type": "stream",
     "text": [
      "CPU times: user 27.5 s, sys: 6.33 s, total: 33.8 s\n",
      "Wall time: 19 s\n"
     ]
    }
   ],
   "source": [
    "%%time\n",
    "val_word_ids, val_type_ids, val_mask = create_input(X_val)"
   ]
  },
  {
   "cell_type": "code",
   "execution_count": 23,
   "id": "d8c7d135",
   "metadata": {
    "execution": {
     "iopub.execute_input": "2022-08-15T00:28:03.149375Z",
     "iopub.status.busy": "2022-08-15T00:28:03.149015Z",
     "iopub.status.idle": "2022-08-15T00:28:03.156546Z",
     "shell.execute_reply": "2022-08-15T00:28:03.155545Z"
    },
    "papermill": {
     "duration": 0.061382,
     "end_time": "2022-08-15T00:28:03.158887",
     "exception": false,
     "start_time": "2022-08-15T00:28:03.097505",
     "status": "completed"
    },
    "tags": []
   },
   "outputs": [
    {
     "name": "stdout",
     "output_type": "stream",
     "text": [
      "Shape of valid_word_ids: (765, 128)\n",
      "Shape of valid_type_ids: (765, 128)\n",
      "Shape of valid_mask: (765, 128)\n"
     ]
    }
   ],
   "source": [
    "print('Shape of valid_word_ids:', val_word_ids.shape)\n",
    "print('Shape of valid_type_ids:', val_type_ids.shape)\n",
    "print('Shape of valid_mask:', val_mask.shape)"
   ]
  },
  {
   "cell_type": "code",
   "execution_count": 24,
   "id": "c8d2193a",
   "metadata": {
    "execution": {
     "iopub.execute_input": "2022-08-15T00:28:03.176319Z",
     "iopub.status.busy": "2022-08-15T00:28:03.175527Z",
     "iopub.status.idle": "2022-08-15T00:28:03.185008Z",
     "shell.execute_reply": "2022-08-15T00:28:03.184124Z"
    },
    "papermill": {
     "duration": 0.020217,
     "end_time": "2022-08-15T00:28:03.187007",
     "exception": false,
     "start_time": "2022-08-15T00:28:03.166790",
     "status": "completed"
    },
    "tags": []
   },
   "outputs": [],
   "source": [
    "loss = tf.keras.losses.BinaryCrossentropy()\n",
    "metrics = tf.metrics.BinaryAccuracy()"
   ]
  },
  {
   "cell_type": "code",
   "execution_count": 25,
   "id": "b535725d",
   "metadata": {
    "execution": {
     "iopub.execute_input": "2022-08-15T00:28:03.204159Z",
     "iopub.status.busy": "2022-08-15T00:28:03.203578Z",
     "iopub.status.idle": "2022-08-15T00:28:03.209876Z",
     "shell.execute_reply": "2022-08-15T00:28:03.208554Z"
    },
    "papermill": {
     "duration": 0.017129,
     "end_time": "2022-08-15T00:28:03.211968",
     "exception": false,
     "start_time": "2022-08-15T00:28:03.194839",
     "status": "completed"
    },
    "tags": []
   },
   "outputs": [
    {
     "name": "stdout",
     "output_type": "stream",
     "text": [
      "210 steps per epoch\n",
      "1260 training steps\n"
     ]
    }
   ],
   "source": [
    "NUM_EPOCHS = 6\n",
    "BATCH_SIZE = 32\n",
    "STEPS_PER_EPOCH = len(y_train) // BATCH_SIZE\n",
    "print(f'{STEPS_PER_EPOCH} steps per epoch')\n",
    "\n",
    "NUM_TRAIN_STEPS = STEPS_PER_EPOCH * NUM_EPOCHS\n",
    "NUM_WARMUP_STEPS = int(0.1*NUM_TRAIN_STEPS)\n",
    "print(f'{NUM_TRAIN_STEPS} training steps')"
   ]
  },
  {
   "cell_type": "code",
   "execution_count": 26,
   "id": "cfd17347",
   "metadata": {
    "execution": {
     "iopub.execute_input": "2022-08-15T00:28:03.229318Z",
     "iopub.status.busy": "2022-08-15T00:28:03.228579Z",
     "iopub.status.idle": "2022-08-15T00:28:03.234106Z",
     "shell.execute_reply": "2022-08-15T00:28:03.233232Z"
    },
    "papermill": {
     "duration": 0.016212,
     "end_time": "2022-08-15T00:28:03.236027",
     "exception": false,
     "start_time": "2022-08-15T00:28:03.219815",
     "status": "completed"
    },
    "tags": []
   },
   "outputs": [],
   "source": [
    "init_lr = 6e-6\n",
    "optimizer = optimization.create_optimizer(init_lr=init_lr,\n",
    "                                          num_train_steps=NUM_TRAIN_STEPS,\n",
    "                                          num_warmup_steps=NUM_WARMUP_STEPS,\n",
    "                                          optimizer_type='adamw')\n"
   ]
  },
  {
   "cell_type": "code",
   "execution_count": 27,
   "id": "d20d9a95",
   "metadata": {
    "execution": {
     "iopub.execute_input": "2022-08-15T00:28:03.253902Z",
     "iopub.status.busy": "2022-08-15T00:28:03.253142Z",
     "iopub.status.idle": "2022-08-15T00:28:03.265329Z",
     "shell.execute_reply": "2022-08-15T00:28:03.264419Z"
    },
    "papermill": {
     "duration": 0.023123,
     "end_time": "2022-08-15T00:28:03.267589",
     "exception": false,
     "start_time": "2022-08-15T00:28:03.244466",
     "status": "completed"
    },
    "tags": []
   },
   "outputs": [],
   "source": [
    "classifier_model.compile(optimizer=optimizer,\n",
    "                         loss=loss,\n",
    "                         metrics=metrics)"
   ]
  },
  {
   "cell_type": "code",
   "execution_count": 28,
   "id": "3649ef16",
   "metadata": {
    "execution": {
     "iopub.execute_input": "2022-08-15T00:28:03.286004Z",
     "iopub.status.busy": "2022-08-15T00:28:03.284442Z",
     "iopub.status.idle": "2022-08-15T00:28:03.289849Z",
     "shell.execute_reply": "2022-08-15T00:28:03.288957Z"
    },
    "papermill": {
     "duration": 0.01618,
     "end_time": "2022-08-15T00:28:03.291761",
     "exception": false,
     "start_time": "2022-08-15T00:28:03.275581",
     "status": "completed"
    },
    "tags": []
   },
   "outputs": [],
   "source": [
    "early_stopping = tf.keras.callbacks.EarlyStopping(monitor='val_loss', mode='min', patience=3, restore_best_weights=True)\n",
    "callback = [early_stopping]"
   ]
  },
  {
   "cell_type": "code",
   "execution_count": 29,
   "id": "4b00f613",
   "metadata": {
    "execution": {
     "iopub.execute_input": "2022-08-15T00:28:03.309373Z",
     "iopub.status.busy": "2022-08-15T00:28:03.308907Z",
     "iopub.status.idle": "2022-08-15T00:30:32.088285Z",
     "shell.execute_reply": "2022-08-15T00:30:32.087255Z"
    },
    "papermill": {
     "duration": 148.790709,
     "end_time": "2022-08-15T00:30:32.090952",
     "exception": false,
     "start_time": "2022-08-15T00:28:03.300243",
     "status": "completed"
    },
    "tags": []
   },
   "outputs": [
    {
     "name": "stdout",
     "output_type": "stream",
     "text": [
      "Epoch 1/6\n",
      "210/210 [==============================] - 31s 115ms/step - loss: 0.5779 - binary_accuracy: 0.6893 - val_loss: 0.4461 - val_binary_accuracy: 0.8078\n",
      "Epoch 2/6\n",
      "210/210 [==============================] - 24s 113ms/step - loss: 0.4442 - binary_accuracy: 0.8012 - val_loss: 0.4267 - val_binary_accuracy: 0.8065\n",
      "Epoch 3/6\n",
      "210/210 [==============================] - 24s 112ms/step - loss: 0.4227 - binary_accuracy: 0.8168 - val_loss: 0.4352 - val_binary_accuracy: 0.8065\n",
      "Epoch 4/6\n",
      "210/210 [==============================] - 24s 113ms/step - loss: 0.4007 - binary_accuracy: 0.8299 - val_loss: 0.4237 - val_binary_accuracy: 0.8065\n",
      "Epoch 5/6\n",
      "210/210 [==============================] - 24s 113ms/step - loss: 0.3903 - binary_accuracy: 0.8315 - val_loss: 0.4219 - val_binary_accuracy: 0.8105\n",
      "Epoch 6/6\n",
      "210/210 [==============================] - 24s 112ms/step - loss: 0.3788 - binary_accuracy: 0.8362 - val_loss: 0.4239 - val_binary_accuracy: 0.8118\n"
     ]
    }
   ],
   "source": [
    "history = classifier_model.fit(\n",
    "    [train_word_ids, train_type_ids, train_mask], y_train, \n",
    "    batch_size=BATCH_SIZE,\n",
    "    epochs=NUM_EPOCHS,\n",
    "    validation_data=([val_word_ids, val_type_ids, val_mask], y_val),\n",
    "    callbacks=callback\n",
    ")"
   ]
  },
  {
   "cell_type": "code",
   "execution_count": 30,
   "id": "a16dd3e0",
   "metadata": {
    "execution": {
     "iopub.execute_input": "2022-08-15T00:30:32.239091Z",
     "iopub.status.busy": "2022-08-15T00:30:32.238693Z",
     "iopub.status.idle": "2022-08-15T00:30:32.606764Z",
     "shell.execute_reply": "2022-08-15T00:30:32.605817Z"
    },
    "papermill": {
     "duration": 0.444127,
     "end_time": "2022-08-15T00:30:32.609182",
     "exception": false,
     "start_time": "2022-08-15T00:30:32.165055",
     "status": "completed"
    },
    "tags": []
   },
   "outputs": [
    {
     "data": {
      "text/plain": [
       "<matplotlib.legend.Legend at 0x7fa0d34f5710>"
      ]
     },
     "execution_count": 30,
     "metadata": {},
     "output_type": "execute_result"
    },
    {
     "data": {
      "image/png": "[encoded data removed]",
      "text/plain": [
       "<Figure size 1008x432 with 2 Axes>"
      ]
     },
     "metadata": {
      "needs_background": "light"
     },
     "output_type": "display_data"
    }
   ],
   "source": [
    "fig, axs = plt.subplots(ncols=2, nrows=1, figsize=(14,6))\n",
    "axs[0].plot(history.history['loss'], color='blue')\n",
    "axs[0].plot(history.history['val_loss'], color='red')\n",
    "axs[0].legend(['loss', 'val_loss'])\n",
    "\n",
    "axs[1].plot(history.history['binary_accuracy'], color='blue')\n",
    "axs[1].plot(history.history['val_binary_accuracy'], color='red')\n",
    "axs[1].legend(['binary_accuracy', 'val_binary_accuracy'])"
   ]
  },
  {
   "cell_type": "markdown",
   "id": "d70f7a31",
   "metadata": {
    "papermill": {
     "duration": 0.072712,
     "end_time": "2022-08-15T00:30:32.756363",
     "exception": false,
     "start_time": "2022-08-15T00:30:32.683651",
     "status": "completed"
    },
    "tags": []
   },
   "source": [
    "### Test Model"
   ]
  },
  {
   "cell_type": "code",
   "execution_count": 31,
   "id": "682ad929",
   "metadata": {
    "execution": {
     "iopub.execute_input": "2022-08-15T00:30:32.904000Z",
     "iopub.status.busy": "2022-08-15T00:30:32.903622Z",
     "iopub.status.idle": "2022-08-15T00:30:37.363169Z",
     "shell.execute_reply": "2022-08-15T00:30:37.362087Z"
    },
    "papermill": {
     "duration": 4.536151,
     "end_time": "2022-08-15T00:30:37.365570",
     "exception": false,
     "start_time": "2022-08-15T00:30:32.829419",
     "status": "completed"
    },
    "tags": []
   },
   "outputs": [],
   "source": [
    "test_set['clean_text'] = test_set['text'].map(lambda s:preprocess_text(s))\n",
    "X_test = test_set.loc(axis=1)['clean_text'].to_numpy()\n",
    "test_ids = test.loc(axis=1)['id']"
   ]
  },
  {
   "cell_type": "code",
   "execution_count": 32,
   "id": "1c53e6fe",
   "metadata": {
    "execution": {
     "iopub.execute_input": "2022-08-15T00:30:37.516363Z",
     "iopub.status.busy": "2022-08-15T00:30:37.516019Z",
     "iopub.status.idle": "2022-08-15T00:35:59.881092Z",
     "shell.execute_reply": "2022-08-15T00:35:59.879968Z"
    },
    "papermill": {
     "duration": 322.515429,
     "end_time": "2022-08-15T00:35:59.955631",
     "exception": false,
     "start_time": "2022-08-15T00:30:37.440202",
     "status": "completed"
    },
    "tags": []
   },
   "outputs": [
    {
     "data": {
      "text/html": [
       "<div>\n",
       "<style scoped>\n",
       "    .dataframe tbody tr th:only-of-type {\n",
       "        vertical-align: middle;\n",
       "    }\n",
       "\n",
       "    .dataframe tbody tr th {\n",
       "        vertical-align: top;\n",
       "    }\n",
       "\n",
       "    .dataframe thead th {\n",
       "        text-align: right;\n",
       "    }\n",
       "</style>\n",
       "<table border=\"1\" class=\"dataframe\">\n",
       "  <thead>\n",
       "    <tr style=\"text-align: right;\">\n",
       "      <th></th>\n",
       "      <th>id</th>\n",
       "      <th>target</th>\n",
       "    </tr>\n",
       "  </thead>\n",
       "  <tbody>\n",
       "    <tr>\n",
       "      <th>3258</th>\n",
       "      <td>10861</td>\n",
       "      <td>1</td>\n",
       "    </tr>\n",
       "    <tr>\n",
       "      <th>3259</th>\n",
       "      <td>10865</td>\n",
       "      <td>1</td>\n",
       "    </tr>\n",
       "    <tr>\n",
       "      <th>3260</th>\n",
       "      <td>10868</td>\n",
       "      <td>1</td>\n",
       "    </tr>\n",
       "    <tr>\n",
       "      <th>3261</th>\n",
       "      <td>10874</td>\n",
       "      <td>1</td>\n",
       "    </tr>\n",
       "    <tr>\n",
       "      <th>3262</th>\n",
       "      <td>10875</td>\n",
       "      <td>1</td>\n",
       "    </tr>\n",
       "  </tbody>\n",
       "</table>\n",
       "</div>"
      ],
      "text/plain": [
       "         id  target\n",
       "3258  10861       1\n",
       "3259  10865       1\n",
       "3260  10868       1\n",
       "3261  10874       1\n",
       "3262  10875       1"
      ]
     },
     "execution_count": 32,
     "metadata": {},
     "output_type": "execute_result"
    }
   ],
   "source": [
    "y_test_pred = pd.DataFrame(data=test_ids, columns=['id'])\n",
    "y_test_pred['target'] = np.round(classifier_model.predict(create_input(X_test))).astype('int')\n",
    "y_test_pred.to_csv('./submission.csv', index=False)\n",
    "y_test_pred.tail()"
   ]
  },
  {
   "cell_type": "code",
   "execution_count": null,
   "id": "44bfc592",
   "metadata": {
    "papermill": {
     "duration": 0.075302,
     "end_time": "2022-08-15T00:36:00.106077",
     "exception": false,
     "start_time": "2022-08-15T00:36:00.030775",
     "status": "completed"
    },
    "tags": []
   },
   "outputs": [],
   "source": []
  }
 ],
 "metadata": {
  "kernelspec": {
   "display_name": "Python 3",
   "language": "python",
   "name": "python3"
  },
  "language_info": {
   "codemirror_mode": {
    "name": "ipython",
    "version": 3
   },
   "file_extension": ".py",
   "mimetype": "text/x-python",
   "name": "python",
   "nbconvert_exporter": "python",
   "pygments_lexer": "ipython3",
   "version": "3.7.12"
  },
  "papermill": {
   "default_parameters": {},
   "duration": 794.738296,
   "end_time": "2022-08-15T00:36:03.268328",
   "environment_variables": {},
   "exception": null,
   "input_path": "__notebook__.ipynb",
   "output_path": "__notebook__.ipynb",
   "parameters": {},
   "start_time": "2022-08-15T00:22:48.530032",
   "version": "2.3.4"
  },
  "widgets": {
   "application/vnd.jupyter.widget-state+json": {
    "state": {
     "4617719d03e0449b82c1de634d280a6f": {
      "model_module": "@jupyter-widgets/controls",
      "model_module_version": "1.5.0",
      "model_name": "ProgressStyleModel",
      "state": {
       "_model_module": "@jupyter-widgets/controls",
       "_model_module_version": "1.5.0",
       "_model_name": "ProgressStyleModel",
       "_view_count": null,
       "_view_module": "@jupyter-widgets/base",
       "_view_module_version": "1.2.0",
       "_view_name": "StyleView",
       "bar_color": null,
       "description_width": ""
      }
     },
     "58774630cbbb4c54807484874058cd5d": {
      "model_module": "@jupyter-widgets/base",
      "model_module_version": "1.2.0",
      "model_name": "LayoutModel",
      "state": {
       "_model_module": "@jupyter-widgets/base",
       "_model_module_version": "1.2.0",
       "_model_name": "LayoutModel",
       "_view_count": null,
       "_view_module": "@jupyter-widgets/base",
       "_view_module_version": "1.2.0",
       "_view_name": "LayoutView",
       "align_content": null,
       "align_items": null,
       "align_self": null,
       "border": null,
       "bottom": null,
       "display": null,
       "flex": null,
       "flex_flow": null,
       "grid_area": null,
       "grid_auto_columns": null,
       "grid_auto_flow": null,
       "grid_auto_rows": null,
       "grid_column": null,
       "grid_gap": null,
       "grid_row": null,
       "grid_template_areas": null,
       "grid_template_columns": null,
       "grid_template_rows": null,
       "height": null,
       "justify_content": null,
       "justify_items": null,
       "left": null,
       "margin": null,
       "max_height": null,
       "max_width": null,
       "min_height": null,
       "min_width": null,
       "object_fit": null,
       "object_position": null,
       "order": null,
       "overflow": null,
       "overflow_x": null,
       "overflow_y": null,
       "padding": null,
       "right": null,
       "top": null,
       "visibility": null,
       "width": null
      }
     },
     "6305bc54c0fc44dc9154b9a4c9248ef3": {
      "model_module": "@jupyter-widgets/controls",
      "model_module_version": "1.5.0",
      "model_name": "HTMLModel",
      "state": {
       "_dom_classes": [],
       "_model_module": "@jupyter-widgets/controls",
       "_model_module_version": "1.5.0",
       "_model_name": "HTMLModel",
       "_view_count": null,
       "_view_module": "@jupyter-widgets/controls",
       "_view_module_version": "1.5.0",
       "_view_name": "HTMLView",
       "description": "",
       "description_tooltip": null,
       "layout": "IPY_MODEL_58774630cbbb4c54807484874058cd5d",
       "placeholder": "​",
       "style": "IPY_MODEL_bcc3b39352f34a05b8113f302dbcd957",
       "value": " 42/42 [02:22&lt;00:00,  3.60s/it]"
      }
     },
     "7fbe5292ded34bc99b7a8aca82e3ca19": {
      "model_module": "@jupyter-widgets/base",
      "model_module_version": "1.2.0",
      "model_name": "LayoutModel",
      "state": {
       "_model_module": "@jupyter-widgets/base",
       "_model_module_version": "1.2.0",
       "_model_name": "LayoutModel",
       "_view_count": null,
       "_view_module": "@jupyter-widgets/base",
       "_view_module_version": "1.2.0",
       "_view_name": "LayoutView",
       "align_content": null,
       "align_items": null,
       "align_self": null,
       "border": null,
       "bottom": null,
       "display": null,
       "flex": null,
       "flex_flow": null,
       "grid_area": null,
       "grid_auto_columns": null,
       "grid_auto_flow": null,
       "grid_auto_rows": null,
       "grid_column": null,
       "grid_gap": null,
       "grid_row": null,
       "grid_template_areas": null,
       "grid_template_columns": null,
       "grid_template_rows": null,
       "height": null,
       "justify_content": null,
       "justify_items": null,
       "left": null,
       "margin": null,
       "max_height": null,
       "max_width": null,
       "min_height": null,
       "min_width": null,
       "object_fit": null,
       "object_position": null,
       "order": null,
       "overflow": null,
       "overflow_x": null,
       "overflow_y": null,
       "padding": null,
       "right": null,
       "top": null,
       "visibility": null,
       "width": null
      }
     },
     "ba3eeecd83db49b788b315a721cf60bd": {
      "model_module": "@jupyter-widgets/base",
      "model_module_version": "1.2.0",
      "model_name": "LayoutModel",
      "state": {
       "_model_module": "@jupyter-widgets/base",
       "_model_module_version": "1.2.0",
       "_model_name": "LayoutModel",
       "_view_count": null,
       "_view_module": "@jupyter-widgets/base",
       "_view_module_version": "1.2.0",
       "_view_name": "LayoutView",
       "align_content": null,
       "align_items": null,
       "align_self": null,
       "border": null,
       "bottom": null,
       "display": null,
       "flex": null,
       "flex_flow": null,
       "grid_area": null,
       "grid_auto_columns": null,
       "grid_auto_flow": null,
       "grid_auto_rows": null,
       "grid_column": null,
       "grid_gap": null,
       "grid_row": null,
       "grid_template_areas": null,
       "grid_template_columns": null,
       "grid_template_rows": null,
       "height": null,
       "justify_content": null,
       "justify_items": null,
       "left": null,
       "margin": null,
       "max_height": null,
       "max_width": null,
       "min_height": null,
       "min_width": null,
       "object_fit": null,
       "object_position": null,
       "order": null,
       "overflow": null,
       "overflow_x": null,
       "overflow_y": null,
       "padding": null,
       "right": null,
       "top": null,
       "visibility": null,
       "width": null
      }
     },
     "bcc3b39352f34a05b8113f302dbcd957": {
      "model_module": "@jupyter-widgets/controls",
      "model_module_version": "1.5.0",
      "model_name": "DescriptionStyleModel",
      "state": {
       "_model_module": "@jupyter-widgets/controls",
       "_model_module_version": "1.5.0",
       "_model_name": "DescriptionStyleModel",
       "_view_count": null,
       "_view_module": "@jupyter-widgets/base",
       "_view_module_version": "1.2.0",
       "_view_name": "StyleView",
       "description_width": ""
      }
     },
     "c087084cf0e44451a8aaeaef84568466": {
      "model_module": "@jupyter-widgets/controls",
      "model_module_version": "1.5.0",
      "model_name": "FloatProgressModel",
      "state": {
       "_dom_classes": [],
       "_model_module": "@jupyter-widgets/controls",
       "_model_module_version": "1.5.0",
       "_model_name": "FloatProgressModel",
       "_view_count": null,
       "_view_module": "@jupyter-widgets/controls",
       "_view_module_version": "1.5.0",
       "_view_name": "ProgressView",
       "bar_style": "success",
       "description": "",
       "description_tooltip": null,
       "layout": "IPY_MODEL_ba3eeecd83db49b788b315a721cf60bd",
       "max": 42.0,
       "min": 0.0,
       "orientation": "horizontal",
       "style": "IPY_MODEL_4617719d03e0449b82c1de634d280a6f",
       "value": 42.0
      }
     },
     "c2b1fe0dd0f943469cb829a3691fd1ea": {
      "model_module": "@jupyter-widgets/controls",
      "model_module_version": "1.5.0",
      "model_name": "HTMLModel",
      "state": {
       "_dom_classes": [],
       "_model_module": "@jupyter-widgets/controls",
       "_model_module_version": "1.5.0",
       "_model_name": "HTMLModel",
       "_view_count": null,
       "_view_module": "@jupyter-widgets/controls",
       "_view_module_version": "1.5.0",
       "_view_name": "HTMLView",
       "description": "",
       "description_tooltip": null,
       "layout": "IPY_MODEL_f43d4e92d651466aa73c68b00e06dc58",
       "placeholder": "​",
       "style": "IPY_MODEL_c473f6d6e5974773a094734535ca2127",
       "value": "100%"
      }
     },
     "c473f6d6e5974773a094734535ca2127": {
      "model_module": "@jupyter-widgets/controls",
      "model_module_version": "1.5.0",
      "model_name": "DescriptionStyleModel",
      "state": {
       "_model_module": "@jupyter-widgets/controls",
       "_model_module_version": "1.5.0",
       "_model_name": "DescriptionStyleModel",
       "_view_count": null,
       "_view_module": "@jupyter-widgets/base",
       "_view_module_version": "1.2.0",
       "_view_name": "StyleView",
       "description_width": ""
      }
     },
     "e0d2df0b0e7c47fd8f8a6709ed762e1a": {
      "model_module": "@jupyter-widgets/controls",
      "model_module_version": "1.5.0",
      "model_name": "HBoxModel",
      "state": {
       "_dom_classes": [],
       "_model_module": "@jupyter-widgets/controls",
       "_model_module_version": "1.5.0",
       "_model_name": "HBoxModel",
       "_view_count": null,
       "_view_module": "@jupyter-widgets/controls",
       "_view_module_version": "1.5.0",
       "_view_name": "HBoxView",
       "box_style": "",
       "children": [
        "IPY_MODEL_c2b1fe0dd0f943469cb829a3691fd1ea",
        "IPY_MODEL_c087084cf0e44451a8aaeaef84568466",
        "IPY_MODEL_6305bc54c0fc44dc9154b9a4c9248ef3"
       ],
       "layout": "IPY_MODEL_7fbe5292ded34bc99b7a8aca82e3ca19"
      }
     },
     "f43d4e92d651466aa73c68b00e06dc58": {
      "model_module": "@jupyter-widgets/base",
      "model_module_version": "1.2.0",
      "model_name": "LayoutModel",
      "state": {
       "_model_module": "@jupyter-widgets/base",
       "_model_module_version": "1.2.0",
       "_model_name": "LayoutModel",
       "_view_count": null,
       "_view_module": "@jupyter-widgets/base",
       "_view_module_version": "1.2.0",
       "_view_name": "LayoutView",
       "align_content": null,
       "align_items": null,
       "align_self": null,
       "border": null,
       "bottom": null,
       "display": null,
       "flex": null,
       "flex_flow": null,
       "grid_area": null,
       "grid_auto_columns": null,
       "grid_auto_flow": null,
       "grid_auto_rows": null,
       "grid_column": null,
       "grid_gap": null,
       "grid_row": null,
       "grid_template_areas": null,
       "grid_template_columns": null,
       "grid_template_rows": null,
       "height": null,
       "justify_content": null,
       "justify_items": null,
       "left": null,
       "margin": null,
       "max_height": null,
       "max_width": null,
       "min_height": null,
       "min_width": null,
       "object_fit": null,
       "object_position": null,
       "order": null,
       "overflow": null,
       "overflow_x": null,
       "overflow_y": null,
       "padding": null,
       "right": null,
       "top": null,
       "visibility": null,
       "width": null
      }
     }
    },
    "version_major": 2,
    "version_minor": 0
   }
  }
 },
 "nbformat": 4,
 "nbformat_minor": 5
}
