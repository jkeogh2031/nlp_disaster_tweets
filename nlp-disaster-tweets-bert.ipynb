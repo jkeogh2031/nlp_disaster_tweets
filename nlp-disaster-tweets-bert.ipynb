{
 "cells": [
  {
   "cell_type": "code",
   "execution_count": 1,
   "id": "76a1f9ab",
   "metadata": {
    "execution": {
     "iopub.execute_input": "2022-08-14T23:40:59.062056Z",
     "iopub.status.busy": "2022-08-14T23:40:59.061119Z",
     "iopub.status.idle": "2022-08-14T23:42:37.139567Z",
     "shell.execute_reply": "2022-08-14T23:42:37.138361Z"
    },
    "papermill": {
     "duration": 98.092661,
     "end_time": "2022-08-14T23:42:37.143060",
     "exception": false,
     "start_time": "2022-08-14T23:40:59.050399",
     "status": "completed"
    },
    "tags": []
   },
   "outputs": [
    {
     "name": "stdout",
     "output_type": "stream",
     "text": [
      "\u001b[31mERROR: pip's dependency resolver does not currently take into account all the packages that are installed. This behaviour is the source of the following dependency conflicts.\r\n",
      "tfx-bsl 1.9.0 requires tensorflow!=2.0.*,!=2.1.*,!=2.2.*,!=2.3.*,!=2.4.*,!=2.5.*,!=2.6.*,!=2.7.*,!=2.8.*,<3,>=1.15.5, but you have tensorflow 2.8.2 which is incompatible.\r\n",
      "tensorflow-transform 1.9.0 requires tensorflow!=2.0.*,!=2.1.*,!=2.2.*,!=2.3.*,!=2.4.*,!=2.5.*,!=2.6.*,!=2.7.*,!=2.8.*,<2.10,>=1.15.5, but you have tensorflow 2.8.2 which is incompatible.\r\n",
      "tensorflow-serving-api 2.9.0 requires tensorflow<3,>=2.9.0, but you have tensorflow 2.8.2 which is incompatible.\r\n",
      "tensorflow-io 0.21.0 requires tensorflow<2.7.0,>=2.6.0, but you have tensorflow 2.8.2 which is incompatible.\r\n",
      "tensorflow-io 0.21.0 requires tensorflow-io-gcs-filesystem==0.21.0, but you have tensorflow-io-gcs-filesystem 0.26.0 which is incompatible.\u001b[0m\u001b[31m\r\n",
      "\u001b[0m\u001b[33mWARNING: Running pip as the 'root' user can result in broken permissions and conflicting behaviour with the system package manager. It is recommended to use a virtual environment instead: https://pip.pypa.io/warnings/venv\u001b[0m\u001b[33m\r\n",
      "\u001b[0m"
     ]
    }
   ],
   "source": [
    "!pip install -q -U \"tensorflow-text==2.8.*\""
   ]
  },
  {
   "cell_type": "code",
   "execution_count": 2,
   "id": "221d6248",
   "metadata": {
    "execution": {
     "iopub.execute_input": "2022-08-14T23:42:37.160417Z",
     "iopub.status.busy": "2022-08-14T23:42:37.160063Z",
     "iopub.status.idle": "2022-08-14T23:43:31.050038Z",
     "shell.execute_reply": "2022-08-14T23:43:31.048842Z"
    },
    "papermill": {
     "duration": 53.901446,
     "end_time": "2022-08-14T23:43:31.052570",
     "exception": false,
     "start_time": "2022-08-14T23:42:37.151124",
     "status": "completed"
    },
    "tags": []
   },
   "outputs": [
    {
     "name": "stdout",
     "output_type": "stream",
     "text": [
      "\u001b[33mWARNING: Running pip as the 'root' user can result in broken permissions and conflicting behaviour with the system package manager. It is recommended to use a virtual environment instead: https://pip.pypa.io/warnings/venv\u001b[0m\u001b[33m\r\n",
      "\u001b[0m"
     ]
    }
   ],
   "source": [
    "!pip install -q tf-models-official==2.7.0"
   ]
  },
  {
   "cell_type": "code",
   "execution_count": 3,
   "id": "40e2d642",
   "metadata": {
    "_cell_guid": "b1076dfc-b9ad-4769-8c92-a6c4dae69d19",
    "_uuid": "8f2839f25d086af736a60e9eeb907d3b93b6e0e5",
    "execution": {
     "iopub.execute_input": "2022-08-14T23:43:31.069847Z",
     "iopub.status.busy": "2022-08-14T23:43:31.069458Z",
     "iopub.status.idle": "2022-08-14T23:43:36.457945Z",
     "shell.execute_reply": "2022-08-14T23:43:36.456875Z"
    },
    "papermill": {
     "duration": 5.400631,
     "end_time": "2022-08-14T23:43:36.461259",
     "exception": false,
     "start_time": "2022-08-14T23:43:31.060628",
     "status": "completed"
    },
    "tags": []
   },
   "outputs": [
    {
     "name": "stderr",
     "output_type": "stream",
     "text": [
      "[nltk_data] Downloading package stopwords to /usr/share/nltk_data...\n",
      "[nltk_data]   Package stopwords is already up-to-date!\n",
      "[nltk_data] Downloading package omw-1.4 to /usr/share/nltk_data...\n",
      "/opt/conda/lib/python3.7/site-packages/tensorflow_addons/utils/ensure_tf_install.py:67: UserWarning: Tensorflow Addons supports using Python ops for all Tensorflow versions above or equal to 2.4.0 and strictly below 2.7.0 (nightly versions are not supported). \n",
      " The versions of TensorFlow you are currently using is 2.8.2 and is not supported. \n",
      "Some things might work, some things might not.\n",
      "If you were to encounter a bug, do not file an issue.\n",
      "If you want to make sure you're using a tested and supported configuration, either change the TensorFlow version or the TensorFlow Addons's version. \n",
      "You can find the compatibility matrix in TensorFlow Addon's readme:\n",
      "https://github.com/tensorflow/addons\n",
      "  UserWarning,\n"
     ]
    }
   ],
   "source": [
    "import os\n",
    "import shutil\n",
    "import numpy as np\n",
    "import pandas as pd\n",
    "import matplotlib.pyplot as plt\n",
    "import nltk\n",
    "from nltk.tokenize import RegexpTokenizer\n",
    "from nltk.stem import WordNetLemmatizer,PorterStemmer\n",
    "from nltk.corpus import stopwords\n",
    "nltk.download('stopwords')\n",
    "nltk.download('omw-1.4')\n",
    "import re\n",
    "from collections import Counter\n",
    "import random\n",
    "\n",
    "import tensorflow as tf\n",
    "from sklearn.model_selection import train_test_split\n",
    "import tensorflow_hub as hub\n",
    "import tensorflow_text as text\n",
    "from official.nlp import optimization\n",
    "\n",
    "tf.get_logger().setLevel('ERROR')"
   ]
  },
  {
   "cell_type": "code",
   "execution_count": 4,
   "id": "c12034c8",
   "metadata": {
    "execution": {
     "iopub.execute_input": "2022-08-14T23:43:36.479646Z",
     "iopub.status.busy": "2022-08-14T23:43:36.479020Z",
     "iopub.status.idle": "2022-08-14T23:43:36.554187Z",
     "shell.execute_reply": "2022-08-14T23:43:36.553246Z"
    },
    "papermill": {
     "duration": 0.087161,
     "end_time": "2022-08-14T23:43:36.556963",
     "exception": false,
     "start_time": "2022-08-14T23:43:36.469802",
     "status": "completed"
    },
    "tags": []
   },
   "outputs": [],
   "source": [
    "TRAIN_FP = '../input/nlp-getting-started/train.csv'\n",
    "TEST_FP = '../input/nlp-getting-started/test.csv'\n",
    "\n",
    "train = pd.read_csv(TRAIN_FP)\n",
    "test = pd.read_csv(TEST_FP)"
   ]
  },
  {
   "cell_type": "code",
   "execution_count": 5,
   "id": "ce5b713a",
   "metadata": {
    "execution": {
     "iopub.execute_input": "2022-08-14T23:43:36.575324Z",
     "iopub.status.busy": "2022-08-14T23:43:36.574975Z",
     "iopub.status.idle": "2022-08-14T23:43:36.589986Z",
     "shell.execute_reply": "2022-08-14T23:43:36.588872Z"
    },
    "papermill": {
     "duration": 0.026592,
     "end_time": "2022-08-14T23:43:36.592723",
     "exception": false,
     "start_time": "2022-08-14T23:43:36.566131",
     "status": "completed"
    },
    "tags": []
   },
   "outputs": [
    {
     "name": "stdout",
     "output_type": "stream",
     "text": [
      "3271 disasters, 42.97% of training set\n"
     ]
    }
   ],
   "source": [
    "disaster_tweets = train.loc[train['target'] == 1, :].shape[0]\n",
    "total_tweets = train.shape[0]\n",
    "print(f'{disaster_tweets} disasters, {(disaster_tweets/total_tweets)*100:.2f}% of training set')"
   ]
  },
  {
   "cell_type": "code",
   "execution_count": 6,
   "id": "1f2ee8da",
   "metadata": {
    "execution": {
     "iopub.execute_input": "2022-08-14T23:43:36.610216Z",
     "iopub.status.busy": "2022-08-14T23:43:36.609631Z",
     "iopub.status.idle": "2022-08-14T23:43:36.623722Z",
     "shell.execute_reply": "2022-08-14T23:43:36.622499Z"
    },
    "papermill": {
     "duration": 0.025058,
     "end_time": "2022-08-14T23:43:36.625786",
     "exception": false,
     "start_time": "2022-08-14T23:43:36.600728",
     "status": "completed"
    },
    "tags": []
   },
   "outputs": [
    {
     "name": "stdout",
     "output_type": "stream",
     "text": [
      "69 tweets duplicated, 179 total duplicates\n"
     ]
    }
   ],
   "source": [
    "train_duplicates = train.loc[train.duplicated(subset='text', keep=False), :]\n",
    "num_unique_duplicated_tweets = train_duplicates.loc(axis=1)['text'].unique().shape[0]\n",
    "num_total_duplicated_tweets = train_duplicates.shape[0]\n",
    "\n",
    "print(f'{num_unique_duplicated_tweets} tweets duplicated, {num_total_duplicated_tweets} total duplicates')"
   ]
  },
  {
   "cell_type": "code",
   "execution_count": 7,
   "id": "6297c694",
   "metadata": {
    "execution": {
     "iopub.execute_input": "2022-08-14T23:43:36.643013Z",
     "iopub.status.busy": "2022-08-14T23:43:36.642692Z",
     "iopub.status.idle": "2022-08-14T23:43:36.766016Z",
     "shell.execute_reply": "2022-08-14T23:43:36.764877Z"
    },
    "papermill": {
     "duration": 0.134842,
     "end_time": "2022-08-14T23:43:36.768728",
     "exception": false,
     "start_time": "2022-08-14T23:43:36.633886",
     "status": "completed"
    },
    "tags": []
   },
   "outputs": [
    {
     "name": "stdout",
     "output_type": "stream",
     "text": [
      "Remaining duplicates in training set: 0\n"
     ]
    }
   ],
   "source": [
    "# For the duplicated entries, if not marked the same => drop altogether\n",
    "duplicated_tweets = train_duplicates.loc(axis=1)['text'].unique()\n",
    "train_first_of_duplicate = pd.DataFrame(columns=train.columns)\n",
    "\n",
    "for tweet in duplicated_tweets:\n",
    "    if train_duplicates.loc(axis=0)[train_duplicates['text'] == tweet]['target'].unique().shape[0] == 1:\n",
    "        train_first_of_duplicate = pd.concat([\n",
    "            train_first_of_duplicate,\n",
    "            pd.DataFrame(train_duplicates.loc(axis=0)[train_duplicates['text'] == tweet].iloc[0]).T\n",
    "        ],\n",
    "            ignore_index=True\n",
    "        )\n",
    "\n",
    "# All of training set with none of the duplicates\n",
    "train_unduplicated = train.drop_duplicates(subset='text', keep=False)\n",
    "\n",
    "# All of training set with first instance of each duplicate included\n",
    "train_all_no_duplicates = pd.concat([\n",
    "    train_first_of_duplicate,\n",
    "    train_unduplicated     \n",
    "],\n",
    "    ignore_index=True\n",
    ")\n",
    "\n",
    "# Check no duplicates remain\n",
    "remaining_duplicates = train_all_no_duplicates.loc[train_all_no_duplicates.duplicated(subset='text', keep=False), :]\n",
    "print(f'Remaining duplicates in training set: {remaining_duplicates.shape[0]}')"
   ]
  },
  {
   "cell_type": "code",
   "execution_count": 8,
   "id": "37fd1b16",
   "metadata": {
    "execution": {
     "iopub.execute_input": "2022-08-14T23:43:36.787703Z",
     "iopub.status.busy": "2022-08-14T23:43:36.786024Z",
     "iopub.status.idle": "2022-08-14T23:43:36.791069Z",
     "shell.execute_reply": "2022-08-14T23:43:36.790168Z"
    },
    "papermill": {
     "duration": 0.015731,
     "end_time": "2022-08-14T23:43:36.793106",
     "exception": false,
     "start_time": "2022-08-14T23:43:36.777375",
     "status": "completed"
    },
    "tags": []
   },
   "outputs": [],
   "source": [
    "train_set = train_all_no_duplicates\n",
    "test_set = test"
   ]
  },
  {
   "cell_type": "markdown",
   "id": "b275907a",
   "metadata": {
    "papermill": {
     "duration": 0.007513,
     "end_time": "2022-08-14T23:43:36.808429",
     "exception": false,
     "start_time": "2022-08-14T23:43:36.800916",
     "status": "completed"
    },
    "tags": []
   },
   "source": [
    "### BERT Import"
   ]
  },
  {
   "cell_type": "code",
   "execution_count": 9,
   "id": "82fcc66b",
   "metadata": {
    "execution": {
     "iopub.execute_input": "2022-08-14T23:43:36.825637Z",
     "iopub.status.busy": "2022-08-14T23:43:36.824710Z",
     "iopub.status.idle": "2022-08-14T23:43:42.205390Z",
     "shell.execute_reply": "2022-08-14T23:43:42.204189Z"
    },
    "papermill": {
     "duration": 5.391835,
     "end_time": "2022-08-14T23:43:42.207983",
     "exception": false,
     "start_time": "2022-08-14T23:43:36.816148",
     "status": "completed"
    },
    "tags": []
   },
   "outputs": [],
   "source": [
    "tfhub_handle_encoder = 'https://tfhub.dev/tensorflow/small_bert/bert_en_uncased_L-4_H-512_A-8/1'\n",
    "tfhub_handle_preprocess = 'https://tfhub.dev/tensorflow/bert_en_uncased_preprocess/3'\n",
    "\n",
    "bert_preprocess_model = hub.KerasLayer(tfhub_handle_preprocess)"
   ]
  },
  {
   "cell_type": "code",
   "execution_count": 10,
   "id": "ec259a57",
   "metadata": {
    "execution": {
     "iopub.execute_input": "2022-08-14T23:43:42.226438Z",
     "iopub.status.busy": "2022-08-14T23:43:42.226078Z",
     "iopub.status.idle": "2022-08-14T23:43:42.419933Z",
     "shell.execute_reply": "2022-08-14T23:43:42.418906Z"
    },
    "papermill": {
     "duration": 0.20613,
     "end_time": "2022-08-14T23:43:42.422435",
     "exception": false,
     "start_time": "2022-08-14T23:43:42.216305",
     "status": "completed"
    },
    "tags": []
   },
   "outputs": [
    {
     "name": "stdout",
     "output_type": "stream",
     "text": [
      "[\"1st wk of Rainier Diet and my street Seward Park Ave is inundated w/ bypass traffic so @seattledot what's your plan? @seattletimes\"]\n",
      "Keys       : ['input_type_ids', 'input_word_ids', 'input_mask']\n",
      "Shape      : (1, 128)\n",
      "Word Ids   : [ 101 3083 1059 2243 1997 4542 3771 8738 1998 2026 2395 7367]\n",
      "Input Mask : [1 1 1 1 1 1 1 1 1 1 1 1]\n",
      "Type Ids   : [0 0 0 0 0 0 0 0 0 0 0 0]\n"
     ]
    }
   ],
   "source": [
    "example_num = random.randint(0, train_set.shape[0])\n",
    "text_test = [train_set['text'].iloc[example_num]]\n",
    "print(text_test)\n",
    "text_preprocessed = bert_preprocess_model(text_test)\n",
    "\n",
    "print(f'Keys       : {list(text_preprocessed.keys())}')\n",
    "print(f'Shape      : {text_preprocessed[\"input_word_ids\"].shape}')\n",
    "print(f'Word Ids   : {text_preprocessed[\"input_word_ids\"][0, :12]}')\n",
    "print(f'Input Mask : {text_preprocessed[\"input_mask\"][0, :12]}')\n",
    "print(f'Type Ids   : {text_preprocessed[\"input_type_ids\"][0, :12]}')"
   ]
  },
  {
   "cell_type": "code",
   "execution_count": 11,
   "id": "608d06ad",
   "metadata": {
    "execution": {
     "iopub.execute_input": "2022-08-14T23:43:42.441274Z",
     "iopub.status.busy": "2022-08-14T23:43:42.440154Z",
     "iopub.status.idle": "2022-08-14T23:43:50.209348Z",
     "shell.execute_reply": "2022-08-14T23:43:50.208344Z"
    },
    "papermill": {
     "duration": 7.781684,
     "end_time": "2022-08-14T23:43:50.212141",
     "exception": false,
     "start_time": "2022-08-14T23:43:42.430457",
     "status": "completed"
    },
    "tags": []
   },
   "outputs": [],
   "source": [
    "bert_model = hub.KerasLayer(tfhub_handle_encoder)"
   ]
  },
  {
   "cell_type": "code",
   "execution_count": 12,
   "id": "fe82c349",
   "metadata": {
    "execution": {
     "iopub.execute_input": "2022-08-14T23:43:50.229886Z",
     "iopub.status.busy": "2022-08-14T23:43:50.229272Z",
     "iopub.status.idle": "2022-08-14T23:43:51.313751Z",
     "shell.execute_reply": "2022-08-14T23:43:51.311520Z"
    },
    "papermill": {
     "duration": 1.096398,
     "end_time": "2022-08-14T23:43:51.316799",
     "exception": false,
     "start_time": "2022-08-14T23:43:50.220401",
     "status": "completed"
    },
    "tags": []
   },
   "outputs": [
    {
     "name": "stdout",
     "output_type": "stream",
     "text": [
      "Loaded BERT: https://tfhub.dev/tensorflow/small_bert/bert_en_uncased_L-4_H-512_A-8/1\n",
      "Pooled Outputs Shape:(1, 512)\n",
      "Pooled Outputs Values:[ 0.3557461   0.99050397  0.4576276   0.15787767  0.68987393  0.97661865\n",
      "  0.9959078  -0.9989945  -0.05199248 -0.943294    0.04525602 -0.45695522]\n",
      "Sequence Outputs Shape:(1, 128, 512)\n",
      "Sequence Outputs Values:[[-0.66431344  0.52802414  0.32961395 ... -0.5946729   0.41921282\n",
      "  -0.2076545 ]\n",
      " [ 0.3068892   0.8577228   0.3921191  ... -0.03954146  0.03544573\n",
      "   0.77303785]\n",
      " [-1.0591687   0.37008914  0.5872128  ... -0.70059955  0.8748958\n",
      "  -0.07650211]\n",
      " ...\n",
      " [-0.02850212 -0.35257927  1.4746848  ... -0.11458945  0.43073198\n",
      "   0.5468522 ]\n",
      " [-1.043777    0.49891028  0.6323359  ...  0.02179825  1.2834476\n",
      "  -0.06247672]\n",
      " [-2.0832288  -0.39171675  0.40721196 ...  0.15448111  0.9008073\n",
      "  -0.43935767]]\n"
     ]
    }
   ],
   "source": [
    "bert_results = bert_model(text_preprocessed)\n",
    "\n",
    "print(f'Loaded BERT: {tfhub_handle_encoder}')\n",
    "print(f'Pooled Outputs Shape:{bert_results[\"pooled_output\"].shape}')\n",
    "print(f'Pooled Outputs Values:{bert_results[\"pooled_output\"][0, :12]}')\n",
    "print(f'Sequence Outputs Shape:{bert_results[\"sequence_output\"].shape}')\n",
    "print(f'Sequence Outputs Values:{bert_results[\"sequence_output\"][0, :12]}')"
   ]
  },
  {
   "cell_type": "code",
   "execution_count": 13,
   "id": "69ec0b82",
   "metadata": {
    "execution": {
     "iopub.execute_input": "2022-08-14T23:43:51.335718Z",
     "iopub.status.busy": "2022-08-14T23:43:51.334755Z",
     "iopub.status.idle": "2022-08-14T23:43:51.343852Z",
     "shell.execute_reply": "2022-08-14T23:43:51.342911Z"
    },
    "papermill": {
     "duration": 0.020475,
     "end_time": "2022-08-14T23:43:51.346039",
     "exception": false,
     "start_time": "2022-08-14T23:43:51.325564",
     "status": "completed"
    },
    "tags": []
   },
   "outputs": [],
   "source": [
    "def build_classifier_model():\n",
    "    input_word_ids = tf.keras.layers.Input(shape=(None,), dtype=tf.int32, name=\"input_word_ids\")\n",
    "    input_type_ids = tf.keras.layers.Input(shape=(None,), dtype=tf.int32, name=\"input_type_ids\")\n",
    "    input_mask = tf.keras.layers.Input(shape=(None,), dtype=tf.int32, name=\"input_mask\")\n",
    "    \n",
    "    encoder_inputs = {\n",
    "        \"input_word_ids\": input_word_ids,\n",
    "        \"input_type_ids\": input_type_ids,\n",
    "        \"input_mask\": input_mask\n",
    "    }\n",
    "    \n",
    "    encoder = hub.KerasLayer(tfhub_handle_encoder, trainable=True, name='BERT_encoder')\n",
    "    outputs = encoder(encoder_inputs)\n",
    "    net = outputs['pooled_output']\n",
    "    net = tf.keras.layers.Dropout(0.1)(net)\n",
    "    net = tf.keras.layers.Dense(1, activation='sigmoid', name='classifier')(net)\n",
    "    return tf.keras.Model(inputs=[input_word_ids, input_type_ids, input_mask], outputs=net)\n",
    "    "
   ]
  },
  {
   "cell_type": "code",
   "execution_count": 14,
   "id": "c67af1de",
   "metadata": {
    "execution": {
     "iopub.execute_input": "2022-08-14T23:43:51.382567Z",
     "iopub.status.busy": "2022-08-14T23:43:51.381908Z",
     "iopub.status.idle": "2022-08-14T23:43:57.176113Z",
     "shell.execute_reply": "2022-08-14T23:43:57.174460Z"
    },
    "papermill": {
     "duration": 5.823877,
     "end_time": "2022-08-14T23:43:57.178574",
     "exception": false,
     "start_time": "2022-08-14T23:43:51.354697",
     "status": "completed"
    },
    "tags": []
   },
   "outputs": [
    {
     "name": "stdout",
     "output_type": "stream",
     "text": [
      "tf.Tensor([[0.24099681]], shape=(1, 1), dtype=float32)\n"
     ]
    }
   ],
   "source": [
    "classifier_model = build_classifier_model()\n",
    "bert_raw_result = classifier_model([\n",
    "    text_preprocessed[\"input_word_ids\"],\n",
    "    text_preprocessed[\"input_type_ids\"],\n",
    "    text_preprocessed[\"input_mask\"],\n",
    "])\n",
    "print(bert_raw_result)"
   ]
  },
  {
   "cell_type": "markdown",
   "id": "cc564bf6",
   "metadata": {
    "papermill": {
     "duration": 0.007889,
     "end_time": "2022-08-14T23:43:57.195393",
     "exception": false,
     "start_time": "2022-08-14T23:43:57.187504",
     "status": "completed"
    },
    "tags": []
   },
   "source": [
    "### Pre-Processing"
   ]
  },
  {
   "cell_type": "code",
   "execution_count": 15,
   "id": "9ba00fc5",
   "metadata": {
    "execution": {
     "iopub.execute_input": "2022-08-14T23:43:57.213629Z",
     "iopub.status.busy": "2022-08-14T23:43:57.213262Z",
     "iopub.status.idle": "2022-08-14T23:43:57.234552Z",
     "shell.execute_reply": "2022-08-14T23:43:57.233387Z"
    },
    "jupyter": {
     "source_hidden": true
    },
    "papermill": {
     "duration": 0.033983,
     "end_time": "2022-08-14T23:43:57.237362",
     "exception": false,
     "start_time": "2022-08-14T23:43:57.203379",
     "status": "completed"
    },
    "tags": []
   },
   "outputs": [],
   "source": [
    "abbreviations = {\n",
    "    \"$\" : \" dollar \",\n",
    "    \"€\" : \" euro \",\n",
    "    \"4ao\" : \"for adults only\",\n",
    "    \"a.m\" : \"before midday\",\n",
    "    \"a3\" : \"anytime anywhere anyplace\",\n",
    "    \"aamof\" : \"as a matter of fact\",\n",
    "    \"acct\" : \"account\",\n",
    "    \"adih\" : \"another day in hell\",\n",
    "    \"afaic\" : \"as far as i am concerned\",\n",
    "    \"afaict\" : \"as far as i can tell\",\n",
    "    \"afaik\" : \"as far as i know\",\n",
    "    \"afair\" : \"as far as i remember\",\n",
    "    \"afk\" : \"away from keyboard\",\n",
    "    \"app\" : \"application\",\n",
    "    \"approx\" : \"approximately\",\n",
    "    \"apps\" : \"applications\",\n",
    "    \"asap\" : \"as soon as possible\",\n",
    "    \"asl\" : \"age, sex, location\",\n",
    "    \"atk\" : \"at the keyboard\",\n",
    "    \"ave.\" : \"avenue\",\n",
    "    \"aymm\" : \"are you my mother\",\n",
    "    \"ayor\" : \"at your own risk\", \n",
    "    \"b&b\" : \"bed and breakfast\",\n",
    "    \"b+b\" : \"bed and breakfast\",\n",
    "    \"b.c\" : \"before christ\",\n",
    "    \"b2b\" : \"business to business\",\n",
    "    \"b2c\" : \"business to customer\",\n",
    "    \"b4\" : \"before\",\n",
    "    \"b4n\" : \"bye for now\",\n",
    "    \"b@u\" : \"back at you\",\n",
    "    \"bae\" : \"before anyone else\",\n",
    "    \"bak\" : \"back at keyboard\",\n",
    "    \"bbbg\" : \"bye bye be good\",\n",
    "    \"bbc\" : \"british broadcasting corporation\",\n",
    "    \"bbias\" : \"be back in a second\",\n",
    "    \"bbl\" : \"be back later\",\n",
    "    \"bbs\" : \"be back soon\",\n",
    "    \"be4\" : \"before\",\n",
    "    \"bfn\" : \"bye for now\",\n",
    "    \"blvd\" : \"boulevard\",\n",
    "    \"bout\" : \"about\",\n",
    "    \"brb\" : \"be right back\",\n",
    "    \"bros\" : \"brothers\",\n",
    "    \"brt\" : \"be right there\",\n",
    "    \"bsaaw\" : \"big smile and a wink\",\n",
    "    \"btw\" : \"by the way\",\n",
    "    \"bwl\" : \"bursting with laughter\",\n",
    "    \"c/o\" : \"care of\",\n",
    "    \"cet\" : \"central european time\",\n",
    "    \"cf\" : \"compare\",\n",
    "    \"cia\" : \"central intelligence agency\",\n",
    "    \"csl\" : \"can not stop laughing\",\n",
    "    \"cu\" : \"see you\",\n",
    "    \"cul8r\" : \"see you later\",\n",
    "    \"cv\" : \"curriculum vitae\",\n",
    "    \"cwot\" : \"complete waste of time\",\n",
    "    \"cya\" : \"see you\",\n",
    "    \"cyt\" : \"see you tomorrow\",\n",
    "    \"dae\" : \"does anyone else\",\n",
    "    \"dbmib\" : \"do not bother me i am busy\",\n",
    "    \"diy\" : \"do it yourself\",\n",
    "    \"dm\" : \"direct message\",\n",
    "    \"dwh\" : \"during work hours\",\n",
    "    \"e123\" : \"easy as one two three\",\n",
    "    \"eet\" : \"eastern european time\",\n",
    "    \"eg\" : \"example\",\n",
    "    \"embm\" : \"early morning business meeting\",\n",
    "    \"encl\" : \"enclosed\",\n",
    "    \"encl.\" : \"enclosed\",\n",
    "    \"etc\" : \"and so on\",\n",
    "    \"faq\" : \"frequently asked questions\",\n",
    "    \"fawc\" : \"for anyone who cares\",\n",
    "    \"fb\" : \"facebook\",\n",
    "    \"fc\" : \"fingers crossed\",\n",
    "    \"fig\" : \"figure\",\n",
    "    \"fimh\" : \"forever in my heart\", \n",
    "    \"ft.\" : \"feet\",\n",
    "    \"ft\" : \"featuring\",\n",
    "    \"ftl\" : \"for the loss\",\n",
    "    \"ftw\" : \"for the win\",\n",
    "    \"fwiw\" : \"for what it is worth\",\n",
    "    \"fyi\" : \"for your information\",\n",
    "    \"g9\" : \"genius\",\n",
    "    \"gahoy\" : \"get a hold of yourself\",\n",
    "    \"gal\" : \"get a life\",\n",
    "    \"gcse\" : \"general certificate of secondary education\",\n",
    "    \"gfn\" : \"gone for now\",\n",
    "    \"gg\" : \"good game\",\n",
    "    \"gl\" : \"good luck\",\n",
    "    \"glhf\" : \"good luck have fun\",\n",
    "    \"gmt\" : \"greenwich mean time\",\n",
    "    \"gmta\" : \"great minds think alike\",\n",
    "    \"gn\" : \"good night\",\n",
    "    \"g.o.a.t\" : \"greatest of all time\",\n",
    "    \"goat\" : \"greatest of all time\",\n",
    "    \"goi\" : \"get over it\",\n",
    "    \"gps\" : \"global positioning system\",\n",
    "    \"gr8\" : \"great\",\n",
    "    \"gratz\" : \"congratulations\",\n",
    "    \"gyal\" : \"girl\",\n",
    "    \"h&c\" : \"hot and cold\",\n",
    "    \"hp\" : \"horsepower\",\n",
    "    \"hr\" : \"hour\",\n",
    "    \"hrh\" : \"his royal highness\",\n",
    "    \"ht\" : \"height\",\n",
    "    \"ibrb\" : \"i will be right back\",\n",
    "    \"ic\" : \"i see\",\n",
    "    \"icq\" : \"i seek you\",\n",
    "    \"icymi\" : \"in case you missed it\",\n",
    "    \"idc\" : \"i do not care\",\n",
    "    \"idgadf\" : \"i do not give a damn fuck\",\n",
    "    \"idgaf\" : \"i do not give a fuck\",\n",
    "    \"idk\" : \"i do not know\",\n",
    "    \"ie\" : \"that is\",\n",
    "    \"i.e\" : \"that is\",\n",
    "    \"ifyp\" : \"i feel your pain\",\n",
    "    \"ig\" : \"instagram\",\n",
    "    \"iirc\" : \"if i remember correctly\",\n",
    "    \"ilu\" : \"i love you\",\n",
    "    \"ily\" : \"i love you\",\n",
    "    \"imho\" : \"in my humble opinion\",\n",
    "    \"imo\" : \"in my opinion\",\n",
    "    \"imu\" : \"i miss you\",\n",
    "    \"iow\" : \"in other words\",\n",
    "    \"irl\" : \"in real life\",\n",
    "    \"j4f\" : \"just for fun\",\n",
    "    \"jic\" : \"just in case\",\n",
    "    \"jk\" : \"just kidding\",\n",
    "    \"jsyk\" : \"just so you know\",\n",
    "    \"l8r\" : \"later\",\n",
    "    \"lb\" : \"pound\",\n",
    "    \"lbs\" : \"pounds\",\n",
    "    \"ldr\" : \"long distance relationship\",\n",
    "    \"lmao\" : \"laugh my ass off\",\n",
    "    \"lmfao\" : \"laugh my fucking ass off\",\n",
    "    \"lol\" : \"laughing out loud\",\n",
    "    \"ltd\" : \"limited\",\n",
    "    \"ltns\" : \"long time no see\",\n",
    "    \"m8\" : \"mate\",\n",
    "    \"mf\" : \"motherfucker\",\n",
    "    \"mfs\" : \"motherfuckers\",\n",
    "    \"mfw\" : \"my face when\",\n",
    "    \"mofo\" : \"motherfucker\",\n",
    "    \"mph\" : \"miles per hour\",\n",
    "    \"mr\" : \"mister\",\n",
    "    \"mrw\" : \"my reaction when\",\n",
    "    \"ms\" : \"miss\",\n",
    "    \"mte\" : \"my thoughts exactly\",\n",
    "    \"nagi\" : \"not a good idea\",\n",
    "    \"nbc\" : \"national broadcasting company\",\n",
    "    \"nbd\" : \"not big deal\",\n",
    "    \"nfs\" : \"not for sale\",\n",
    "    \"ngl\" : \"not going to lie\",\n",
    "    \"nhs\" : \"national health service\",\n",
    "    \"nrn\" : \"no reply necessary\",\n",
    "    \"nsfl\" : \"not safe for life\",\n",
    "    \"nsfw\" : \"not safe for work\",\n",
    "    \"nth\" : \"nice to have\",\n",
    "    \"nvr\" : \"never\",\n",
    "    \"nyc\" : \"new york city\",\n",
    "    \"oc\" : \"original content\",\n",
    "    \"og\" : \"original\",\n",
    "    \"ohp\" : \"overhead projector\",\n",
    "    \"oic\" : \"oh i see\",\n",
    "    \"omdb\" : \"over my dead body\",\n",
    "    \"omg\" : \"oh my god\",\n",
    "    \"omw\" : \"on my way\",\n",
    "    \"p.a\" : \"per annum\",\n",
    "    \"p.m\" : \"after midday\",\n",
    "    \"pm\" : \"prime minister\",\n",
    "    \"poc\" : \"people of color\",\n",
    "    \"pov\" : \"point of view\",\n",
    "    \"pp\" : \"pages\",\n",
    "    \"ppl\" : \"people\",\n",
    "    \"prw\" : \"parents are watching\",\n",
    "    \"ps\" : \"postscript\",\n",
    "    \"pt\" : \"point\",\n",
    "    \"ptb\" : \"please text back\",\n",
    "    \"pto\" : \"please turn over\",\n",
    "    \"qpsa\" : \"what happens\", #\"que pasa\",\n",
    "    \"ratchet\" : \"rude\",\n",
    "    \"rbtl\" : \"read between the lines\",\n",
    "    \"rlrt\" : \"real life retweet\", \n",
    "    \"rofl\" : \"rolling on the floor laughing\",\n",
    "    \"roflol\" : \"rolling on the floor laughing out loud\",\n",
    "    \"rotflmao\" : \"rolling on the floor laughing my ass off\",\n",
    "    \"rt\" : \"retweet\",\n",
    "    \"ruok\" : \"are you ok\",\n",
    "    \"sfw\" : \"safe for work\",\n",
    "    \"sk8\" : \"skate\",\n",
    "    \"smh\" : \"shake my head\",\n",
    "    \"sq\" : \"square\",\n",
    "    \"srsly\" : \"seriously\", \n",
    "    \"ssdd\" : \"same stuff different day\",\n",
    "    \"tbh\" : \"to be honest\",\n",
    "    \"tbs\" : \"tablespooful\",\n",
    "    \"tbsp\" : \"tablespooful\",\n",
    "    \"tfw\" : \"that feeling when\",\n",
    "    \"thks\" : \"thank you\",\n",
    "    \"tho\" : \"though\",\n",
    "    \"thx\" : \"thank you\",\n",
    "    \"tia\" : \"thanks in advance\",\n",
    "    \"til\" : \"today i learned\",\n",
    "    \"tl;dr\" : \"too long i did not read\",\n",
    "    \"tldr\" : \"too long i did not read\",\n",
    "    \"tmb\" : \"tweet me back\",\n",
    "    \"tntl\" : \"trying not to laugh\",\n",
    "    \"ttyl\" : \"talk to you later\",\n",
    "    \"u\" : \"you\",\n",
    "    \"u2\" : \"you too\",\n",
    "    \"u4e\" : \"yours for ever\",\n",
    "    \"utc\" : \"coordinated universal time\",\n",
    "    \"w/\" : \"with\",\n",
    "    \"w/o\" : \"without\",\n",
    "    \"w8\" : \"wait\",\n",
    "    \"wassup\" : \"what is up\",\n",
    "    \"wb\" : \"welcome back\",\n",
    "    \"wtf\" : \"what the fuck\",\n",
    "    \"wtg\" : \"way to go\",\n",
    "    \"wtpa\" : \"where the party at\",\n",
    "    \"wuf\" : \"where are you from\",\n",
    "    \"wuzup\" : \"what is up\",\n",
    "    \"wywh\" : \"wish you were here\",\n",
    "    \"yd\" : \"yard\",\n",
    "    \"ygtr\" : \"you got that right\",\n",
    "    \"ynk\" : \"you never know\",\n",
    "    \"zzz\" : \"sleeping bored and tired\"\n",
    "}"
   ]
  },
  {
   "cell_type": "code",
   "execution_count": 16,
   "id": "6a567a39",
   "metadata": {
    "execution": {
     "iopub.execute_input": "2022-08-14T23:43:57.256574Z",
     "iopub.status.busy": "2022-08-14T23:43:57.254733Z",
     "iopub.status.idle": "2022-08-14T23:44:08.418617Z",
     "shell.execute_reply": "2022-08-14T23:44:08.417511Z"
    },
    "papermill": {
     "duration": 11.175407,
     "end_time": "2022-08-14T23:44:08.420854",
     "exception": false,
     "start_time": "2022-08-14T23:43:57.245447",
     "status": "completed"
    },
    "tags": []
   },
   "outputs": [
    {
     "data": {
      "text/html": [
       "<div>\n",
       "<style scoped>\n",
       "    .dataframe tbody tr th:only-of-type {\n",
       "        vertical-align: middle;\n",
       "    }\n",
       "\n",
       "    .dataframe tbody tr th {\n",
       "        vertical-align: top;\n",
       "    }\n",
       "\n",
       "    .dataframe thead th {\n",
       "        text-align: right;\n",
       "    }\n",
       "</style>\n",
       "<table border=\"1\" class=\"dataframe\">\n",
       "  <thead>\n",
       "    <tr style=\"text-align: right;\">\n",
       "      <th></th>\n",
       "      <th>id</th>\n",
       "      <th>keyword</th>\n",
       "      <th>location</th>\n",
       "      <th>text</th>\n",
       "      <th>target</th>\n",
       "      <th>clean_text</th>\n",
       "    </tr>\n",
       "  </thead>\n",
       "  <tbody>\n",
       "    <tr>\n",
       "      <th>0</th>\n",
       "      <td>59</td>\n",
       "      <td>ablaze</td>\n",
       "      <td>Live On Webcam</td>\n",
       "      <td>Check these out: http://t.co/rOI2NSmEJJ http:/...</td>\n",
       "      <td>0</td>\n",
       "      <td>check nsfw</td>\n",
       "    </tr>\n",
       "    <tr>\n",
       "      <th>1</th>\n",
       "      <td>156</td>\n",
       "      <td>aftershock</td>\n",
       "      <td>US</td>\n",
       "      <td>320 [IR] ICEMOON [AFTERSHOCK] | http://t.co/vA...</td>\n",
       "      <td>0</td>\n",
       "      <td>icemoon aftershock djicemoon dubstep trapmusic...</td>\n",
       "    </tr>\n",
       "    <tr>\n",
       "      <th>2</th>\n",
       "      <td>171</td>\n",
       "      <td>aftershock</td>\n",
       "      <td>Switzerland</td>\n",
       "      <td>320 [IR] ICEMOON [AFTERSHOCK] | http://t.co/TH...</td>\n",
       "      <td>0</td>\n",
       "      <td>icemoon aftershock djicemoon dubstep trapmusic...</td>\n",
       "    </tr>\n",
       "    <tr>\n",
       "      <th>3</th>\n",
       "      <td>211</td>\n",
       "      <td>airplane%20accident</td>\n",
       "      <td>NaN</td>\n",
       "      <td>Experts in France begin examining airplane deb...</td>\n",
       "      <td>1</td>\n",
       "      <td>experts france begin examining airplane debris...</td>\n",
       "    </tr>\n",
       "    <tr>\n",
       "      <th>4</th>\n",
       "      <td>1634</td>\n",
       "      <td>bombing</td>\n",
       "      <td>NaN</td>\n",
       "      <td>Japan on Thursday marks the 70th anniversary o...</td>\n",
       "      <td>1</td>\n",
       "      <td>japan thursday marks anniversary atomic bombin...</td>\n",
       "    </tr>\n",
       "  </tbody>\n",
       "</table>\n",
       "</div>"
      ],
      "text/plain": [
       "     id              keyword        location  \\\n",
       "0    59               ablaze  Live On Webcam   \n",
       "1   156           aftershock              US   \n",
       "2   171           aftershock     Switzerland   \n",
       "3   211  airplane%20accident             NaN   \n",
       "4  1634              bombing             NaN   \n",
       "\n",
       "                                                text target  \\\n",
       "0  Check these out: http://t.co/rOI2NSmEJJ http:/...      0   \n",
       "1  320 [IR] ICEMOON [AFTERSHOCK] | http://t.co/vA...      0   \n",
       "2  320 [IR] ICEMOON [AFTERSHOCK] | http://t.co/TH...      0   \n",
       "3  Experts in France begin examining airplane deb...      1   \n",
       "4  Japan on Thursday marks the 70th anniversary o...      1   \n",
       "\n",
       "                                          clean_text  \n",
       "0                                         check nsfw  \n",
       "1  icemoon aftershock djicemoon dubstep trapmusic...  \n",
       "2  icemoon aftershock djicemoon dubstep trapmusic...  \n",
       "3  experts france begin examining airplane debris...  \n",
       "4  japan thursday marks anniversary atomic bombin...  "
      ]
     },
     "execution_count": 16,
     "metadata": {},
     "output_type": "execute_result"
    }
   ],
   "source": [
    "# Clean up tweet content\n",
    "\n",
    "lemmatizer = WordNetLemmatizer()\n",
    "stemmer = PorterStemmer() \n",
    "\n",
    "def convert_abbrev(word):\n",
    "    return abbreviations[word] if word in abbreviations.keys() else word\n",
    "\n",
    "def preprocess_text(sentence):\n",
    "    sentence = str(sentence)\n",
    "    sentence = sentence.lower()          \n",
    "    sentence = sentence.replace('{html}', \"\") \n",
    "    rem_url = re.sub(r'http\\S+', '', sentence)\n",
    "    converted_abbrev = \" \".join([convert_abbrev(word) for word in rem_url.split(\" \")])\n",
    "    cleanr = re.compile('[^a-z ]+')\n",
    "    rem_num_non_alpha = re.sub(cleanr, '', converted_abbrev)\n",
    "    tokenizer = RegexpTokenizer(r'\\w+')\n",
    "    tokens = tokenizer.tokenize(rem_num_non_alpha)\n",
    "    filtered_words = [w for w in tokens if len(w) > 2 if not w in stopwords.words('english')]\n",
    "#     stem_words = [stemmer.stem(w) for w in filtered_words]\n",
    "#     lemma_words=[lemmatizer.lemmatize(w) for w in stem_words]\n",
    "    return \" \".join(filtered_words)\n",
    "\n",
    "train_set['clean_text'] = train_set['text'].map(lambda s:preprocess_text(s))\n",
    "train_set.head()"
   ]
  },
  {
   "cell_type": "code",
   "execution_count": 17,
   "id": "786882cd",
   "metadata": {
    "execution": {
     "iopub.execute_input": "2022-08-14T23:44:08.439824Z",
     "iopub.status.busy": "2022-08-14T23:44:08.438992Z",
     "iopub.status.idle": "2022-08-14T23:44:08.920830Z",
     "shell.execute_reply": "2022-08-14T23:44:08.919799Z"
    },
    "papermill": {
     "duration": 0.494326,
     "end_time": "2022-08-14T23:44:08.923553",
     "exception": false,
     "start_time": "2022-08-14T23:44:08.429227",
     "status": "completed"
    },
    "tags": []
   },
   "outputs": [
    {
     "name": "stdout",
     "output_type": "stream",
     "text": [
      "Training Set X: (6720,), y: (6720,)\n",
      "Validation Set X: (765,), y: (765,)\n"
     ]
    }
   ],
   "source": [
    "X = train_set.loc(axis=1)['clean_text'].to_numpy()\n",
    "y = train_set.loc(axis=1)['target'].to_numpy().astype('float32')\n",
    "\n",
    "random.seed(42)\n",
    "train_indices = random.sample(range(len(y)), 6720)\n",
    "valid_indices = []\n",
    "for i in range(len(y)):\n",
    "    if i not in train_indices:\n",
    "        valid_indices.append(i)\n",
    "\n",
    "X_train, y_train = X[train_indices], y[train_indices]\n",
    "X_val, y_val = X[valid_indices], y[valid_indices]\n",
    "\n",
    "print(f'Training Set X: {X_train.shape}, y: {y_train.shape}')\n",
    "print(f'Validation Set X: {X_val.shape}, y: {y_val.shape}')"
   ]
  },
  {
   "cell_type": "code",
   "execution_count": 18,
   "id": "65d52478",
   "metadata": {
    "execution": {
     "iopub.execute_input": "2022-08-14T23:44:08.942315Z",
     "iopub.status.busy": "2022-08-14T23:44:08.942000Z",
     "iopub.status.idle": "2022-08-14T23:44:08.947016Z",
     "shell.execute_reply": "2022-08-14T23:44:08.946003Z"
    },
    "papermill": {
     "duration": 0.016315,
     "end_time": "2022-08-14T23:44:08.949056",
     "exception": false,
     "start_time": "2022-08-14T23:44:08.932741",
     "status": "completed"
    },
    "tags": []
   },
   "outputs": [],
   "source": [
    "def create_input(text):\n",
    "    bert_preprocess_model = hub.KerasLayer(tfhub_handle_preprocess)\n",
    "    text_preprocessed = bert_preprocess_model(text)\n",
    "    return text_preprocessed[\"input_word_ids\"], text_preprocessed[\"input_type_ids\"], text_preprocessed[\"input_mask\"]"
   ]
  },
  {
   "cell_type": "code",
   "execution_count": 19,
   "id": "30b54ad5",
   "metadata": {
    "execution": {
     "iopub.execute_input": "2022-08-14T23:44:08.967330Z",
     "iopub.status.busy": "2022-08-14T23:44:08.966422Z",
     "iopub.status.idle": "2022-08-14T23:46:38.816428Z",
     "shell.execute_reply": "2022-08-14T23:46:38.815395Z"
    },
    "papermill": {
     "duration": 149.861198,
     "end_time": "2022-08-14T23:46:38.818480",
     "exception": false,
     "start_time": "2022-08-14T23:44:08.957282",
     "status": "completed"
    },
    "tags": []
   },
   "outputs": [
    {
     "name": "stderr",
     "output_type": "stream",
     "text": [
      "/opt/conda/lib/python3.7/site-packages/ipykernel_launcher.py:10: TqdmDeprecationWarning: This function will be removed in tqdm==5.0.0\n",
      "Please use `tqdm.notebook.tqdm` instead of `tqdm.tqdm_notebook`\n",
      "  # Remove the CWD from sys.path while we load stuff.\n"
     ]
    },
    {
     "data": {
      "application/vnd.jupyter.widget-view+json": {
       "model_id": "beaf9bb632694149bab05a1d7bb6faa8",
       "version_major": 2,
       "version_minor": 0
      },
      "text/plain": [
       "  0%|          | 0/42 [00:00<?, ?it/s]"
      ]
     },
     "metadata": {},
     "output_type": "display_data"
    }
   ],
   "source": [
    "from tqdm import tqdm_notebook as tqdm\n",
    "\n",
    "train_word_ids = np.empty((0,128)).astype('float32')\n",
    "train_type_ids = np.empty((0,128)).astype('float32')\n",
    "train_mask = np.empty((0,128)).astype('float32')\n",
    "\n",
    "batch = 160\n",
    "num_steps = len(X_train) // batch\n",
    "\n",
    "for i in tqdm(range(num_steps)):\n",
    "    word_id, type_id, mask = create_input(X_train[i*batch:(i+1)*batch])\n",
    "    train_word_ids = np.append(train_word_ids, word_id, axis=0)\n",
    "    train_type_ids = np.append(train_type_ids, type_id, axis=0)\n",
    "    train_mask = np.append(train_mask, mask, axis=0)"
   ]
  },
  {
   "cell_type": "code",
   "execution_count": 20,
   "id": "c9206529",
   "metadata": {
    "execution": {
     "iopub.execute_input": "2022-08-14T23:46:38.837135Z",
     "iopub.status.busy": "2022-08-14T23:46:38.836801Z",
     "iopub.status.idle": "2022-08-14T23:46:38.840970Z",
     "shell.execute_reply": "2022-08-14T23:46:38.839957Z"
    },
    "papermill": {
     "duration": 0.015987,
     "end_time": "2022-08-14T23:46:38.843224",
     "exception": false,
     "start_time": "2022-08-14T23:46:38.827237",
     "status": "completed"
    },
    "tags": []
   },
   "outputs": [],
   "source": [
    "# %%time\n",
    "# train_word_ids, train_type_ids, train_mask = create_input(X_train)"
   ]
  },
  {
   "cell_type": "code",
   "execution_count": 21,
   "id": "805d8bf6",
   "metadata": {
    "execution": {
     "iopub.execute_input": "2022-08-14T23:46:38.861296Z",
     "iopub.status.busy": "2022-08-14T23:46:38.860963Z",
     "iopub.status.idle": "2022-08-14T23:46:38.868131Z",
     "shell.execute_reply": "2022-08-14T23:46:38.866523Z"
    },
    "papermill": {
     "duration": 0.019481,
     "end_time": "2022-08-14T23:46:38.870792",
     "exception": false,
     "start_time": "2022-08-14T23:46:38.851311",
     "status": "completed"
    },
    "tags": []
   },
   "outputs": [
    {
     "name": "stdout",
     "output_type": "stream",
     "text": [
      "Shape of train_word_ids: (6720, 128)\n",
      "Shape of train_type_ids: (6720, 128)\n",
      "Shape of train_mask: (6720, 128)\n"
     ]
    }
   ],
   "source": [
    "print('Shape of train_word_ids:', train_word_ids.shape)\n",
    "print('Shape of train_type_ids:', train_type_ids.shape)\n",
    "print('Shape of train_mask:', train_mask.shape)"
   ]
  },
  {
   "cell_type": "code",
   "execution_count": 22,
   "id": "e8486540",
   "metadata": {
    "execution": {
     "iopub.execute_input": "2022-08-14T23:46:38.889444Z",
     "iopub.status.busy": "2022-08-14T23:46:38.889136Z",
     "iopub.status.idle": "2022-08-14T23:46:59.927993Z",
     "shell.execute_reply": "2022-08-14T23:46:59.926179Z"
    },
    "papermill": {
     "duration": 21.052724,
     "end_time": "2022-08-14T23:46:59.932475",
     "exception": false,
     "start_time": "2022-08-14T23:46:38.879751",
     "status": "completed"
    },
    "tags": []
   },
   "outputs": [
    {
     "name": "stdout",
     "output_type": "stream",
     "text": [
      "CPU times: user 29 s, sys: 6.79 s, total: 35.8 s\n",
      "Wall time: 21 s\n"
     ]
    }
   ],
   "source": [
    "%%time\n",
    "val_word_ids, val_type_ids, val_mask = create_input(X_val)"
   ]
  },
  {
   "cell_type": "code",
   "execution_count": 23,
   "id": "ac526252",
   "metadata": {
    "execution": {
     "iopub.execute_input": "2022-08-14T23:46:59.964759Z",
     "iopub.status.busy": "2022-08-14T23:46:59.964361Z",
     "iopub.status.idle": "2022-08-14T23:46:59.973369Z",
     "shell.execute_reply": "2022-08-14T23:46:59.972361Z"
    },
    "papermill": {
     "duration": 0.034435,
     "end_time": "2022-08-14T23:46:59.976341",
     "exception": false,
     "start_time": "2022-08-14T23:46:59.941906",
     "status": "completed"
    },
    "tags": []
   },
   "outputs": [
    {
     "name": "stdout",
     "output_type": "stream",
     "text": [
      "Shape of valid_word_ids: (765, 128)\n",
      "Shape of valid_type_ids: (765, 128)\n",
      "Shape of valid_mask: (765, 128)\n"
     ]
    }
   ],
   "source": [
    "print('Shape of valid_word_ids:', val_word_ids.shape)\n",
    "print('Shape of valid_type_ids:', val_type_ids.shape)\n",
    "print('Shape of valid_mask:', val_mask.shape)"
   ]
  },
  {
   "cell_type": "code",
   "execution_count": 24,
   "id": "1be9e65a",
   "metadata": {
    "execution": {
     "iopub.execute_input": "2022-08-14T23:46:59.997055Z",
     "iopub.status.busy": "2022-08-14T23:46:59.996104Z",
     "iopub.status.idle": "2022-08-14T23:47:00.006085Z",
     "shell.execute_reply": "2022-08-14T23:47:00.005195Z"
    },
    "papermill": {
     "duration": 0.022246,
     "end_time": "2022-08-14T23:47:00.008223",
     "exception": false,
     "start_time": "2022-08-14T23:46:59.985977",
     "status": "completed"
    },
    "tags": []
   },
   "outputs": [],
   "source": [
    "loss = tf.keras.losses.BinaryCrossentropy()\n",
    "metrics = tf.metrics.BinaryAccuracy()"
   ]
  },
  {
   "cell_type": "code",
   "execution_count": 25,
   "id": "6bbb0e2a",
   "metadata": {
    "execution": {
     "iopub.execute_input": "2022-08-14T23:47:00.027086Z",
     "iopub.status.busy": "2022-08-14T23:47:00.026727Z",
     "iopub.status.idle": "2022-08-14T23:47:00.032878Z",
     "shell.execute_reply": "2022-08-14T23:47:00.031884Z"
    },
    "papermill": {
     "duration": 0.018535,
     "end_time": "2022-08-14T23:47:00.035423",
     "exception": false,
     "start_time": "2022-08-14T23:47:00.016888",
     "status": "completed"
    },
    "tags": []
   },
   "outputs": [
    {
     "name": "stdout",
     "output_type": "stream",
     "text": [
      "42 steps per epoch\n",
      "252 training steps\n"
     ]
    }
   ],
   "source": [
    "NUM_EPOCHS = 6\n",
    "BATCH_SIZE = 160\n",
    "STEPS_PER_EPOCH = len(y_train) // BATCH_SIZE\n",
    "print(f'{STEPS_PER_EPOCH} steps per epoch')\n",
    "\n",
    "NUM_TRAIN_STEPS = STEPS_PER_EPOCH * NUM_EPOCHS\n",
    "NUM_WARMUP_STEPS = int(0.1*NUM_TRAIN_STEPS)\n",
    "print(f'{NUM_TRAIN_STEPS} training steps')"
   ]
  },
  {
   "cell_type": "code",
   "execution_count": 26,
   "id": "2b2e0145",
   "metadata": {
    "execution": {
     "iopub.execute_input": "2022-08-14T23:47:00.054218Z",
     "iopub.status.busy": "2022-08-14T23:47:00.053534Z",
     "iopub.status.idle": "2022-08-14T23:47:00.060150Z",
     "shell.execute_reply": "2022-08-14T23:47:00.059255Z"
    },
    "papermill": {
     "duration": 0.018414,
     "end_time": "2022-08-14T23:47:00.062287",
     "exception": false,
     "start_time": "2022-08-14T23:47:00.043873",
     "status": "completed"
    },
    "tags": []
   },
   "outputs": [],
   "source": [
    "init_lr = 5e-5\n",
    "optimizer = optimization.create_optimizer(init_lr=init_lr,\n",
    "                                          num_train_steps=NUM_TRAIN_STEPS,\n",
    "                                          num_warmup_steps=NUM_WARMUP_STEPS,\n",
    "                                          optimizer_type='adamw')\n"
   ]
  },
  {
   "cell_type": "code",
   "execution_count": 27,
   "id": "a7500661",
   "metadata": {
    "execution": {
     "iopub.execute_input": "2022-08-14T23:47:00.082066Z",
     "iopub.status.busy": "2022-08-14T23:47:00.081186Z",
     "iopub.status.idle": "2022-08-14T23:47:00.094966Z",
     "shell.execute_reply": "2022-08-14T23:47:00.094011Z"
    },
    "papermill": {
     "duration": 0.025392,
     "end_time": "2022-08-14T23:47:00.097120",
     "exception": false,
     "start_time": "2022-08-14T23:47:00.071728",
     "status": "completed"
    },
    "tags": []
   },
   "outputs": [],
   "source": [
    "classifier_model.compile(optimizer=optimizer,\n",
    "                         loss=loss,\n",
    "                         metrics=metrics)"
   ]
  },
  {
   "cell_type": "code",
   "execution_count": 28,
   "id": "e756f23c",
   "metadata": {
    "execution": {
     "iopub.execute_input": "2022-08-14T23:47:00.116355Z",
     "iopub.status.busy": "2022-08-14T23:47:00.115337Z",
     "iopub.status.idle": "2022-08-14T23:47:00.120832Z",
     "shell.execute_reply": "2022-08-14T23:47:00.119893Z"
    },
    "papermill": {
     "duration": 0.017106,
     "end_time": "2022-08-14T23:47:00.122932",
     "exception": false,
     "start_time": "2022-08-14T23:47:00.105826",
     "status": "completed"
    },
    "tags": []
   },
   "outputs": [],
   "source": [
    "early_stopping = tf.keras.callbacks.EarlyStopping(monitor='val_loss', mode='min', patience=3, restore_best_weights=True)\n",
    "callback = [early_stopping]"
   ]
  },
  {
   "cell_type": "code",
   "execution_count": 29,
   "id": "a2b396e7",
   "metadata": {
    "execution": {
     "iopub.execute_input": "2022-08-14T23:47:00.143317Z",
     "iopub.status.busy": "2022-08-14T23:47:00.141626Z",
     "iopub.status.idle": "2022-08-14T23:49:02.244437Z",
     "shell.execute_reply": "2022-08-14T23:49:02.243430Z"
    },
    "papermill": {
     "duration": 122.114787,
     "end_time": "2022-08-14T23:49:02.247016",
     "exception": false,
     "start_time": "2022-08-14T23:47:00.132229",
     "status": "completed"
    },
    "tags": []
   },
   "outputs": [
    {
     "name": "stdout",
     "output_type": "stream",
     "text": [
      "Epoch 1/6\n",
      "42/42 [==============================] - 26s 477ms/step - loss: 0.5503 - binary_accuracy: 0.7247 - val_loss: 0.4277 - val_binary_accuracy: 0.8065\n",
      "Epoch 2/6\n",
      "42/42 [==============================] - 19s 457ms/step - loss: 0.4220 - binary_accuracy: 0.8159 - val_loss: 0.4368 - val_binary_accuracy: 0.8052\n",
      "Epoch 3/6\n",
      "42/42 [==============================] - 19s 459ms/step - loss: 0.3685 - binary_accuracy: 0.8472 - val_loss: 0.4130 - val_binary_accuracy: 0.8170\n",
      "Epoch 4/6\n",
      "42/42 [==============================] - 19s 457ms/step - loss: 0.3308 - binary_accuracy: 0.8667 - val_loss: 0.4264 - val_binary_accuracy: 0.8118\n",
      "Epoch 5/6\n",
      "42/42 [==============================] - 19s 457ms/step - loss: 0.3037 - binary_accuracy: 0.8763 - val_loss: 0.4437 - val_binary_accuracy: 0.8065\n",
      "Epoch 6/6\n",
      "42/42 [==============================] - 19s 459ms/step - loss: 0.2790 - binary_accuracy: 0.8891 - val_loss: 0.4598 - val_binary_accuracy: 0.8013\n"
     ]
    }
   ],
   "source": [
    "history = classifier_model.fit(\n",
    "    [train_word_ids, train_type_ids, train_mask], y_train, \n",
    "    batch_size=BATCH_SIZE,\n",
    "    epochs=NUM_EPOCHS,\n",
    "    validation_data=([val_word_ids, val_type_ids, val_mask], y_val),\n",
    "    callbacks=callback\n",
    ")"
   ]
  },
  {
   "cell_type": "code",
   "execution_count": 30,
   "id": "eb96f408",
   "metadata": {
    "execution": {
     "iopub.execute_input": "2022-08-14T23:49:02.315804Z",
     "iopub.status.busy": "2022-08-14T23:49:02.315190Z",
     "iopub.status.idle": "2022-08-14T23:49:02.859691Z",
     "shell.execute_reply": "2022-08-14T23:49:02.858438Z"
    },
    "papermill": {
     "duration": 0.590203,
     "end_time": "2022-08-14T23:49:02.862426",
     "exception": false,
     "start_time": "2022-08-14T23:49:02.272223",
     "status": "completed"
    },
    "tags": []
   },
   "outputs": [
    {
     "data": {
      "text/plain": [
       "<matplotlib.legend.Legend at 0x7fcc5d87c0d0>"
      ]
     },
     "execution_count": 30,
     "metadata": {},
     "output_type": "execute_result"
    },
    {
     "data": {
      "image/png": "[encoded data removed]",
      "text/plain": [
       "<Figure size 1008x432 with 2 Axes>"
      ]
     },
     "metadata": {
      "needs_background": "light"
     },
     "output_type": "display_data"
    }
   ],
   "source": [
    "fig, axs = plt.subplots(ncols=2, nrows=1, figsize=(14,6))\n",
    "axs[0].plot(history.history['loss'], color='blue')\n",
    "axs[0].plot(history.history['val_loss'], color='red')\n",
    "axs[0].legend(['loss', 'val_loss'])\n",
    "\n",
    "axs[1].plot(history.history['binary_accuracy'], color='blue')\n",
    "axs[1].plot(history.history['val_binary_accuracy'], color='red')\n",
    "axs[1].legend(['binary_accuracy', 'val_binary_accuracy'])"
   ]
  },
  {
   "cell_type": "markdown",
   "id": "796475e3",
   "metadata": {
    "papermill": {
     "duration": 0.042647,
     "end_time": "2022-08-14T23:49:02.935620",
     "exception": false,
     "start_time": "2022-08-14T23:49:02.892973",
     "status": "completed"
    },
    "tags": []
   },
   "source": [
    "### Test Model"
   ]
  },
  {
   "cell_type": "code",
   "execution_count": 31,
   "id": "aa679619",
   "metadata": {
    "execution": {
     "iopub.execute_input": "2022-08-14T23:49:03.007788Z",
     "iopub.status.busy": "2022-08-14T23:49:03.007365Z",
     "iopub.status.idle": "2022-08-14T23:49:07.988604Z",
     "shell.execute_reply": "2022-08-14T23:49:07.987493Z"
    },
    "papermill": {
     "duration": 5.020696,
     "end_time": "2022-08-14T23:49:07.991509",
     "exception": false,
     "start_time": "2022-08-14T23:49:02.970813",
     "status": "completed"
    },
    "tags": []
   },
   "outputs": [],
   "source": [
    "test_set['clean_text'] = test_set['text'].map(lambda s:preprocess_text(s))\n",
    "X_test = test_set.loc(axis=1)['clean_text'].to_numpy()\n",
    "test_ids = test.loc(axis=1)['id']"
   ]
  },
  {
   "cell_type": "code",
   "execution_count": 32,
   "id": "ec854972",
   "metadata": {
    "execution": {
     "iopub.execute_input": "2022-08-14T23:49:08.044224Z",
     "iopub.status.busy": "2022-08-14T23:49:08.043539Z",
     "iopub.status.idle": "2022-08-14T23:54:46.780355Z",
     "shell.execute_reply": "2022-08-14T23:54:46.779404Z"
    },
    "papermill": {
     "duration": 338.788103,
     "end_time": "2022-08-14T23:54:46.804999",
     "exception": false,
     "start_time": "2022-08-14T23:49:08.016896",
     "status": "completed"
    },
    "tags": []
   },
   "outputs": [
    {
     "data": {
      "text/html": [
       "<div>\n",
       "<style scoped>\n",
       "    .dataframe tbody tr th:only-of-type {\n",
       "        vertical-align: middle;\n",
       "    }\n",
       "\n",
       "    .dataframe tbody tr th {\n",
       "        vertical-align: top;\n",
       "    }\n",
       "\n",
       "    .dataframe thead th {\n",
       "        text-align: right;\n",
       "    }\n",
       "</style>\n",
       "<table border=\"1\" class=\"dataframe\">\n",
       "  <thead>\n",
       "    <tr style=\"text-align: right;\">\n",
       "      <th></th>\n",
       "      <th>id</th>\n",
       "      <th>target</th>\n",
       "    </tr>\n",
       "  </thead>\n",
       "  <tbody>\n",
       "    <tr>\n",
       "      <th>3258</th>\n",
       "      <td>10861</td>\n",
       "      <td>1</td>\n",
       "    </tr>\n",
       "    <tr>\n",
       "      <th>3259</th>\n",
       "      <td>10865</td>\n",
       "      <td>1</td>\n",
       "    </tr>\n",
       "    <tr>\n",
       "      <th>3260</th>\n",
       "      <td>10868</td>\n",
       "      <td>1</td>\n",
       "    </tr>\n",
       "    <tr>\n",
       "      <th>3261</th>\n",
       "      <td>10874</td>\n",
       "      <td>1</td>\n",
       "    </tr>\n",
       "    <tr>\n",
       "      <th>3262</th>\n",
       "      <td>10875</td>\n",
       "      <td>1</td>\n",
       "    </tr>\n",
       "  </tbody>\n",
       "</table>\n",
       "</div>"
      ],
      "text/plain": [
       "         id  target\n",
       "3258  10861       1\n",
       "3259  10865       1\n",
       "3260  10868       1\n",
       "3261  10874       1\n",
       "3262  10875       1"
      ]
     },
     "execution_count": 32,
     "metadata": {},
     "output_type": "execute_result"
    }
   ],
   "source": [
    "y_test_pred = pd.DataFrame(data=test_ids, columns=['id'])\n",
    "y_test_pred['target'] = np.round(classifier_model.predict(create_input(X_test))).astype('int')\n",
    "y_test_pred.to_csv('./submission.csv', index=False)\n",
    "y_test_pred.tail()"
   ]
  },
  {
   "cell_type": "code",
   "execution_count": null,
   "id": "a7c9de49",
   "metadata": {
    "papermill": {
     "duration": 0.02255,
     "end_time": "2022-08-14T23:54:46.851693",
     "exception": false,
     "start_time": "2022-08-14T23:54:46.829143",
     "status": "completed"
    },
    "tags": []
   },
   "outputs": [],
   "source": []
  }
 ],
 "metadata": {
  "kernelspec": {
   "display_name": "Python 3",
   "language": "python",
   "name": "python3"
  },
  "language_info": {
   "codemirror_mode": {
    "name": "ipython",
    "version": 3
   },
   "file_extension": ".py",
   "mimetype": "text/x-python",
   "name": "python",
   "nbconvert_exporter": "python",
   "pygments_lexer": "ipython3",
   "version": "3.7.12"
  },
  "papermill": {
   "default_parameters": {},
   "duration": 838.70697,
   "end_time": "2022-08-14T23:54:49.708611",
   "environment_variables": {},
   "exception": null,
   "input_path": "__notebook__.ipynb",
   "output_path": "__notebook__.ipynb",
   "parameters": {},
   "start_time": "2022-08-14T23:40:51.001641",
   "version": "2.3.4"
  },
  "widgets": {
   "application/vnd.jupyter.widget-state+json": {
    "state": {
     "0b60486368744f4891c130db143e2470": {
      "model_module": "@jupyter-widgets/base",
      "model_module_version": "1.2.0",
      "model_name": "LayoutModel",
      "state": {
       "_model_module": "@jupyter-widgets/base",
       "_model_module_version": "1.2.0",
       "_model_name": "LayoutModel",
       "_view_count": null,
       "_view_module": "@jupyter-widgets/base",
       "_view_module_version": "1.2.0",
       "_view_name": "LayoutView",
       "align_content": null,
       "align_items": null,
       "align_self": null,
       "border": null,
       "bottom": null,
       "display": null,
       "flex": null,
       "flex_flow": null,
       "grid_area": null,
       "grid_auto_columns": null,
       "grid_auto_flow": null,
       "grid_auto_rows": null,
       "grid_column": null,
       "grid_gap": null,
       "grid_row": null,
       "grid_template_areas": null,
       "grid_template_columns": null,
       "grid_template_rows": null,
       "height": null,
       "justify_content": null,
       "justify_items": null,
       "left": null,
       "margin": null,
       "max_height": null,
       "max_width": null,
       "min_height": null,
       "min_width": null,
       "object_fit": null,
       "object_position": null,
       "order": null,
       "overflow": null,
       "overflow_x": null,
       "overflow_y": null,
       "padding": null,
       "right": null,
       "top": null,
       "visibility": null,
       "width": null
      }
     },
     "3f4c130ba2814388b1d8a6e7eccc963b": {
      "model_module": "@jupyter-widgets/controls",
      "model_module_version": "1.5.0",
      "model_name": "DescriptionStyleModel",
      "state": {
       "_model_module": "@jupyter-widgets/controls",
       "_model_module_version": "1.5.0",
       "_model_name": "DescriptionStyleModel",
       "_view_count": null,
       "_view_module": "@jupyter-widgets/base",
       "_view_module_version": "1.2.0",
       "_view_name": "StyleView",
       "description_width": ""
      }
     },
     "4d3711596f3547b9abb88c40c0faeb90": {
      "model_module": "@jupyter-widgets/controls",
      "model_module_version": "1.5.0",
      "model_name": "ProgressStyleModel",
      "state": {
       "_model_module": "@jupyter-widgets/controls",
       "_model_module_version": "1.5.0",
       "_model_name": "ProgressStyleModel",
       "_view_count": null,
       "_view_module": "@jupyter-widgets/base",
       "_view_module_version": "1.2.0",
       "_view_name": "StyleView",
       "bar_color": null,
       "description_width": ""
      }
     },
     "5535af8434b14ede8a7c77cd971df4c4": {
      "model_module": "@jupyter-widgets/base",
      "model_module_version": "1.2.0",
      "model_name": "LayoutModel",
      "state": {
       "_model_module": "@jupyter-widgets/base",
       "_model_module_version": "1.2.0",
       "_model_name": "LayoutModel",
       "_view_count": null,
       "_view_module": "@jupyter-widgets/base",
       "_view_module_version": "1.2.0",
       "_view_name": "LayoutView",
       "align_content": null,
       "align_items": null,
       "align_self": null,
       "border": null,
       "bottom": null,
       "display": null,
       "flex": null,
       "flex_flow": null,
       "grid_area": null,
       "grid_auto_columns": null,
       "grid_auto_flow": null,
       "grid_auto_rows": null,
       "grid_column": null,
       "grid_gap": null,
       "grid_row": null,
       "grid_template_areas": null,
       "grid_template_columns": null,
       "grid_template_rows": null,
       "height": null,
       "justify_content": null,
       "justify_items": null,
       "left": null,
       "margin": null,
       "max_height": null,
       "max_width": null,
       "min_height": null,
       "min_width": null,
       "object_fit": null,
       "object_position": null,
       "order": null,
       "overflow": null,
       "overflow_x": null,
       "overflow_y": null,
       "padding": null,
       "right": null,
       "top": null,
       "visibility": null,
       "width": null
      }
     },
     "558877125bff4dbfa75f2a233b20319f": {
      "model_module": "@jupyter-widgets/controls",
      "model_module_version": "1.5.0",
      "model_name": "DescriptionStyleModel",
      "state": {
       "_model_module": "@jupyter-widgets/controls",
       "_model_module_version": "1.5.0",
       "_model_name": "DescriptionStyleModel",
       "_view_count": null,
       "_view_module": "@jupyter-widgets/base",
       "_view_module_version": "1.2.0",
       "_view_name": "StyleView",
       "description_width": ""
      }
     },
     "84ea47d379fe4f0fafb5f95a7d45bb69": {
      "model_module": "@jupyter-widgets/controls",
      "model_module_version": "1.5.0",
      "model_name": "FloatProgressModel",
      "state": {
       "_dom_classes": [],
       "_model_module": "@jupyter-widgets/controls",
       "_model_module_version": "1.5.0",
       "_model_name": "FloatProgressModel",
       "_view_count": null,
       "_view_module": "@jupyter-widgets/controls",
       "_view_module_version": "1.5.0",
       "_view_name": "ProgressView",
       "bar_style": "success",
       "description": "",
       "description_tooltip": null,
       "layout": "IPY_MODEL_5535af8434b14ede8a7c77cd971df4c4",
       "max": 42.0,
       "min": 0.0,
       "orientation": "horizontal",
       "style": "IPY_MODEL_4d3711596f3547b9abb88c40c0faeb90",
       "value": 42.0
      }
     },
     "beaf9bb632694149bab05a1d7bb6faa8": {
      "model_module": "@jupyter-widgets/controls",
      "model_module_version": "1.5.0",
      "model_name": "HBoxModel",
      "state": {
       "_dom_classes": [],
       "_model_module": "@jupyter-widgets/controls",
       "_model_module_version": "1.5.0",
       "_model_name": "HBoxModel",
       "_view_count": null,
       "_view_module": "@jupyter-widgets/controls",
       "_view_module_version": "1.5.0",
       "_view_name": "HBoxView",
       "box_style": "",
       "children": [
        "IPY_MODEL_ce9b5a7ae5de4fe2a4512fef9b4de9a7",
        "IPY_MODEL_84ea47d379fe4f0fafb5f95a7d45bb69",
        "IPY_MODEL_f3d518251f7c411891a40f75c57cb304"
       ],
       "layout": "IPY_MODEL_f56bfaf3ce62417ca473265ffaaf25f1"
      }
     },
     "ce9b5a7ae5de4fe2a4512fef9b4de9a7": {
      "model_module": "@jupyter-widgets/controls",
      "model_module_version": "1.5.0",
      "model_name": "HTMLModel",
      "state": {
       "_dom_classes": [],
       "_model_module": "@jupyter-widgets/controls",
       "_model_module_version": "1.5.0",
       "_model_name": "HTMLModel",
       "_view_count": null,
       "_view_module": "@jupyter-widgets/controls",
       "_view_module_version": "1.5.0",
       "_view_name": "HTMLView",
       "description": "",
       "description_tooltip": null,
       "layout": "IPY_MODEL_f0ef71f31ded4221af4deb8c8dd9eb29",
       "placeholder": "​",
       "style": "IPY_MODEL_558877125bff4dbfa75f2a233b20319f",
       "value": "100%"
      }
     },
     "f0ef71f31ded4221af4deb8c8dd9eb29": {
      "model_module": "@jupyter-widgets/base",
      "model_module_version": "1.2.0",
      "model_name": "LayoutModel",
      "state": {
       "_model_module": "@jupyter-widgets/base",
       "_model_module_version": "1.2.0",
       "_model_name": "LayoutModel",
       "_view_count": null,
       "_view_module": "@jupyter-widgets/base",
       "_view_module_version": "1.2.0",
       "_view_name": "LayoutView",
       "align_content": null,
       "align_items": null,
       "align_self": null,
       "border": null,
       "bottom": null,
       "display": null,
       "flex": null,
       "flex_flow": null,
       "grid_area": null,
       "grid_auto_columns": null,
       "grid_auto_flow": null,
       "grid_auto_rows": null,
       "grid_column": null,
       "grid_gap": null,
       "grid_row": null,
       "grid_template_areas": null,
       "grid_template_columns": null,
       "grid_template_rows": null,
       "height": null,
       "justify_content": null,
       "justify_items": null,
       "left": null,
       "margin": null,
       "max_height": null,
       "max_width": null,
       "min_height": null,
       "min_width": null,
       "object_fit": null,
       "object_position": null,
       "order": null,
       "overflow": null,
       "overflow_x": null,
       "overflow_y": null,
       "padding": null,
       "right": null,
       "top": null,
       "visibility": null,
       "width": null
      }
     },
     "f3d518251f7c411891a40f75c57cb304": {
      "model_module": "@jupyter-widgets/controls",
      "model_module_version": "1.5.0",
      "model_name": "HTMLModel",
      "state": {
       "_dom_classes": [],
       "_model_module": "@jupyter-widgets/controls",
       "_model_module_version": "1.5.0",
       "_model_name": "HTMLModel",
       "_view_count": null,
       "_view_module": "@jupyter-widgets/controls",
       "_view_module_version": "1.5.0",
       "_view_name": "HTMLView",
       "description": "",
       "description_tooltip": null,
       "layout": "IPY_MODEL_0b60486368744f4891c130db143e2470",
       "placeholder": "​",
       "style": "IPY_MODEL_3f4c130ba2814388b1d8a6e7eccc963b",
       "value": " 42/42 [02:29&lt;00:00,  3.76s/it]"
      }
     },
     "f56bfaf3ce62417ca473265ffaaf25f1": {
      "model_module": "@jupyter-widgets/base",
      "model_module_version": "1.2.0",
      "model_name": "LayoutModel",
      "state": {
       "_model_module": "@jupyter-widgets/base",
       "_model_module_version": "1.2.0",
       "_model_name": "LayoutModel",
       "_view_count": null,
       "_view_module": "@jupyter-widgets/base",
       "_view_module_version": "1.2.0",
       "_view_name": "LayoutView",
       "align_content": null,
       "align_items": null,
       "align_self": null,
       "border": null,
       "bottom": null,
       "display": null,
       "flex": null,
       "flex_flow": null,
       "grid_area": null,
       "grid_auto_columns": null,
       "grid_auto_flow": null,
       "grid_auto_rows": null,
       "grid_column": null,
       "grid_gap": null,
       "grid_row": null,
       "grid_template_areas": null,
       "grid_template_columns": null,
       "grid_template_rows": null,
       "height": null,
       "justify_content": null,
       "justify_items": null,
       "left": null,
       "margin": null,
       "max_height": null,
       "max_width": null,
       "min_height": null,
       "min_width": null,
       "object_fit": null,
       "object_position": null,
       "order": null,
       "overflow": null,
       "overflow_x": null,
       "overflow_y": null,
       "padding": null,
       "right": null,
       "top": null,
       "visibility": null,
       "width": null
      }
     }
    },
    "version_major": 2,
    "version_minor": 0
   }
  }
 },
 "nbformat": 4,
 "nbformat_minor": 5
}
