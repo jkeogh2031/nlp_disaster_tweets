{
 "cells": [
  {
   "cell_type": "code",
   "execution_count": 1,
   "id": "66b1447b",
   "metadata": {
    "execution": {
     "iopub.execute_input": "2022-08-15T00:01:40.805950Z",
     "iopub.status.busy": "2022-08-15T00:01:40.804809Z",
     "iopub.status.idle": "2022-08-15T00:02:50.918453Z",
     "shell.execute_reply": "2022-08-15T00:02:50.917272Z"
    },
    "papermill": {
     "duration": 70.125286,
     "end_time": "2022-08-15T00:02:50.921389",
     "exception": false,
     "start_time": "2022-08-15T00:01:40.796103",
     "status": "completed"
    },
    "tags": []
   },
   "outputs": [
    {
     "name": "stdout",
     "output_type": "stream",
     "text": [
      "\u001b[31mERROR: pip's dependency resolver does not currently take into account all the packages that are installed. This behaviour is the source of the following dependency conflicts.\r\n",
      "tfx-bsl 1.9.0 requires tensorflow!=2.0.*,!=2.1.*,!=2.2.*,!=2.3.*,!=2.4.*,!=2.5.*,!=2.6.*,!=2.7.*,!=2.8.*,<3,>=1.15.5, but you have tensorflow 2.8.2 which is incompatible.\r\n",
      "tensorflow-transform 1.9.0 requires tensorflow!=2.0.*,!=2.1.*,!=2.2.*,!=2.3.*,!=2.4.*,!=2.5.*,!=2.6.*,!=2.7.*,!=2.8.*,<2.10,>=1.15.5, but you have tensorflow 2.8.2 which is incompatible.\r\n",
      "tensorflow-serving-api 2.9.0 requires tensorflow<3,>=2.9.0, but you have tensorflow 2.8.2 which is incompatible.\r\n",
      "tensorflow-io 0.21.0 requires tensorflow<2.7.0,>=2.6.0, but you have tensorflow 2.8.2 which is incompatible.\r\n",
      "tensorflow-io 0.21.0 requires tensorflow-io-gcs-filesystem==0.21.0, but you have tensorflow-io-gcs-filesystem 0.26.0 which is incompatible.\u001b[0m\u001b[31m\r\n",
      "\u001b[0m\u001b[33mWARNING: Running pip as the 'root' user can result in broken permissions and conflicting behaviour with the system package manager. It is recommended to use a virtual environment instead: https://pip.pypa.io/warnings/venv\u001b[0m\u001b[33m\r\n",
      "\u001b[0m"
     ]
    }
   ],
   "source": [
    "!pip install -q -U \"tensorflow-text==2.8.*\""
   ]
  },
  {
   "cell_type": "code",
   "execution_count": 2,
   "id": "cf08f8fa",
   "metadata": {
    "execution": {
     "iopub.execute_input": "2022-08-15T00:02:50.935104Z",
     "iopub.status.busy": "2022-08-15T00:02:50.934787Z",
     "iopub.status.idle": "2022-08-15T00:03:32.758927Z",
     "shell.execute_reply": "2022-08-15T00:03:32.757799Z"
    },
    "papermill": {
     "duration": 41.834147,
     "end_time": "2022-08-15T00:03:32.761851",
     "exception": false,
     "start_time": "2022-08-15T00:02:50.927704",
     "status": "completed"
    },
    "tags": []
   },
   "outputs": [
    {
     "name": "stdout",
     "output_type": "stream",
     "text": [
      "\u001b[33mWARNING: Running pip as the 'root' user can result in broken permissions and conflicting behaviour with the system package manager. It is recommended to use a virtual environment instead: https://pip.pypa.io/warnings/venv\u001b[0m\u001b[33m\r\n",
      "\u001b[0m"
     ]
    }
   ],
   "source": [
    "!pip install -q tf-models-official==2.7.0"
   ]
  },
  {
   "cell_type": "code",
   "execution_count": 3,
   "id": "8e2a782e",
   "metadata": {
    "_cell_guid": "b1076dfc-b9ad-4769-8c92-a6c4dae69d19",
    "_uuid": "8f2839f25d086af736a60e9eeb907d3b93b6e0e5",
    "execution": {
     "iopub.execute_input": "2022-08-15T00:03:32.775989Z",
     "iopub.status.busy": "2022-08-15T00:03:32.775660Z",
     "iopub.status.idle": "2022-08-15T00:03:38.321737Z",
     "shell.execute_reply": "2022-08-15T00:03:38.319159Z"
    },
    "papermill": {
     "duration": 5.556581,
     "end_time": "2022-08-15T00:03:38.324580",
     "exception": false,
     "start_time": "2022-08-15T00:03:32.767999",
     "status": "completed"
    },
    "tags": []
   },
   "outputs": [
    {
     "name": "stderr",
     "output_type": "stream",
     "text": [
      "[nltk_data] Downloading package stopwords to /usr/share/nltk_data...\n",
      "[nltk_data]   Package stopwords is already up-to-date!\n",
      "[nltk_data] Downloading package omw-1.4 to /usr/share/nltk_data...\n",
      "/opt/conda/lib/python3.7/site-packages/tensorflow_addons/utils/ensure_tf_install.py:67: UserWarning: Tensorflow Addons supports using Python ops for all Tensorflow versions above or equal to 2.4.0 and strictly below 2.7.0 (nightly versions are not supported). \n",
      " The versions of TensorFlow you are currently using is 2.8.2 and is not supported. \n",
      "Some things might work, some things might not.\n",
      "If you were to encounter a bug, do not file an issue.\n",
      "If you want to make sure you're using a tested and supported configuration, either change the TensorFlow version or the TensorFlow Addons's version. \n",
      "You can find the compatibility matrix in TensorFlow Addon's readme:\n",
      "https://github.com/tensorflow/addons\n",
      "  UserWarning,\n"
     ]
    }
   ],
   "source": [
    "import os\n",
    "import shutil\n",
    "import numpy as np\n",
    "import pandas as pd\n",
    "import matplotlib.pyplot as plt\n",
    "import nltk\n",
    "from nltk.tokenize import RegexpTokenizer\n",
    "from nltk.stem import WordNetLemmatizer,PorterStemmer\n",
    "from nltk.corpus import stopwords\n",
    "nltk.download('stopwords')\n",
    "nltk.download('omw-1.4')\n",
    "import re\n",
    "from collections import Counter\n",
    "import random\n",
    "\n",
    "import tensorflow as tf\n",
    "from sklearn.model_selection import train_test_split\n",
    "import tensorflow_hub as hub\n",
    "import tensorflow_text as text\n",
    "from official.nlp import optimization\n",
    "\n",
    "tf.get_logger().setLevel('ERROR')"
   ]
  },
  {
   "cell_type": "code",
   "execution_count": 4,
   "id": "d910094c",
   "metadata": {
    "execution": {
     "iopub.execute_input": "2022-08-15T00:03:38.339181Z",
     "iopub.status.busy": "2022-08-15T00:03:38.338079Z",
     "iopub.status.idle": "2022-08-15T00:03:38.398246Z",
     "shell.execute_reply": "2022-08-15T00:03:38.397163Z"
    },
    "papermill": {
     "duration": 0.069473,
     "end_time": "2022-08-15T00:03:38.400573",
     "exception": false,
     "start_time": "2022-08-15T00:03:38.331100",
     "status": "completed"
    },
    "tags": []
   },
   "outputs": [],
   "source": [
    "TRAIN_FP = '../input/nlp-getting-started/train.csv'\n",
    "TEST_FP = '../input/nlp-getting-started/test.csv'\n",
    "\n",
    "train = pd.read_csv(TRAIN_FP)\n",
    "test = pd.read_csv(TEST_FP)"
   ]
  },
  {
   "cell_type": "code",
   "execution_count": 5,
   "id": "965fdb10",
   "metadata": {
    "execution": {
     "iopub.execute_input": "2022-08-15T00:03:38.415405Z",
     "iopub.status.busy": "2022-08-15T00:03:38.413746Z",
     "iopub.status.idle": "2022-08-15T00:03:38.428756Z",
     "shell.execute_reply": "2022-08-15T00:03:38.427066Z"
    },
    "papermill": {
     "duration": 0.02475,
     "end_time": "2022-08-15T00:03:38.431457",
     "exception": false,
     "start_time": "2022-08-15T00:03:38.406707",
     "status": "completed"
    },
    "tags": []
   },
   "outputs": [
    {
     "name": "stdout",
     "output_type": "stream",
     "text": [
      "3271 disasters, 42.97% of training set\n"
     ]
    }
   ],
   "source": [
    "disaster_tweets = train.loc[train['target'] == 1, :].shape[0]\n",
    "total_tweets = train.shape[0]\n",
    "print(f'{disaster_tweets} disasters, {(disaster_tweets/total_tweets)*100:.2f}% of training set')"
   ]
  },
  {
   "cell_type": "code",
   "execution_count": 6,
   "id": "956aff7d",
   "metadata": {
    "execution": {
     "iopub.execute_input": "2022-08-15T00:03:38.446575Z",
     "iopub.status.busy": "2022-08-15T00:03:38.446289Z",
     "iopub.status.idle": "2022-08-15T00:03:38.460944Z",
     "shell.execute_reply": "2022-08-15T00:03:38.459400Z"
    },
    "papermill": {
     "duration": 0.026092,
     "end_time": "2022-08-15T00:03:38.463903",
     "exception": false,
     "start_time": "2022-08-15T00:03:38.437811",
     "status": "completed"
    },
    "tags": []
   },
   "outputs": [
    {
     "name": "stdout",
     "output_type": "stream",
     "text": [
      "69 tweets duplicated, 179 total duplicates\n"
     ]
    }
   ],
   "source": [
    "train_duplicates = train.loc[train.duplicated(subset='text', keep=False), :]\n",
    "num_unique_duplicated_tweets = train_duplicates.loc(axis=1)['text'].unique().shape[0]\n",
    "num_total_duplicated_tweets = train_duplicates.shape[0]\n",
    "\n",
    "print(f'{num_unique_duplicated_tweets} tweets duplicated, {num_total_duplicated_tweets} total duplicates')"
   ]
  },
  {
   "cell_type": "code",
   "execution_count": 7,
   "id": "1e1e5fd3",
   "metadata": {
    "execution": {
     "iopub.execute_input": "2022-08-15T00:03:38.480105Z",
     "iopub.status.busy": "2022-08-15T00:03:38.479811Z",
     "iopub.status.idle": "2022-08-15T00:03:38.604878Z",
     "shell.execute_reply": "2022-08-15T00:03:38.603390Z"
    },
    "papermill": {
     "duration": 0.136146,
     "end_time": "2022-08-15T00:03:38.607664",
     "exception": false,
     "start_time": "2022-08-15T00:03:38.471518",
     "status": "completed"
    },
    "tags": []
   },
   "outputs": [
    {
     "name": "stdout",
     "output_type": "stream",
     "text": [
      "Remaining duplicates in training set: 0\n"
     ]
    }
   ],
   "source": [
    "# For the duplicated entries, if not marked the same => drop altogether\n",
    "duplicated_tweets = train_duplicates.loc(axis=1)['text'].unique()\n",
    "train_first_of_duplicate = pd.DataFrame(columns=train.columns)\n",
    "\n",
    "for tweet in duplicated_tweets:\n",
    "    if train_duplicates.loc(axis=0)[train_duplicates['text'] == tweet]['target'].unique().shape[0] == 1:\n",
    "        train_first_of_duplicate = pd.concat([\n",
    "            train_first_of_duplicate,\n",
    "            pd.DataFrame(train_duplicates.loc(axis=0)[train_duplicates['text'] == tweet].iloc[0]).T\n",
    "        ],\n",
    "            ignore_index=True\n",
    "        )\n",
    "\n",
    "# All of training set with none of the duplicates\n",
    "train_unduplicated = train.drop_duplicates(subset='text', keep=False)\n",
    "\n",
    "# All of training set with first instance of each duplicate included\n",
    "train_all_no_duplicates = pd.concat([\n",
    "    train_first_of_duplicate,\n",
    "    train_unduplicated     \n",
    "],\n",
    "    ignore_index=True\n",
    ")\n",
    "\n",
    "# Check no duplicates remain\n",
    "remaining_duplicates = train_all_no_duplicates.loc[train_all_no_duplicates.duplicated(subset='text', keep=False), :]\n",
    "print(f'Remaining duplicates in training set: {remaining_duplicates.shape[0]}')"
   ]
  },
  {
   "cell_type": "code",
   "execution_count": 8,
   "id": "c40bee03",
   "metadata": {
    "execution": {
     "iopub.execute_input": "2022-08-15T00:03:38.622443Z",
     "iopub.status.busy": "2022-08-15T00:03:38.622141Z",
     "iopub.status.idle": "2022-08-15T00:03:38.625925Z",
     "shell.execute_reply": "2022-08-15T00:03:38.624927Z"
    },
    "papermill": {
     "duration": 0.013342,
     "end_time": "2022-08-15T00:03:38.627900",
     "exception": false,
     "start_time": "2022-08-15T00:03:38.614558",
     "status": "completed"
    },
    "tags": []
   },
   "outputs": [],
   "source": [
    "train_set = train_all_no_duplicates\n",
    "test_set = test"
   ]
  },
  {
   "cell_type": "markdown",
   "id": "c0f59a46",
   "metadata": {
    "papermill": {
     "duration": 0.006069,
     "end_time": "2022-08-15T00:03:38.640264",
     "exception": false,
     "start_time": "2022-08-15T00:03:38.634195",
     "status": "completed"
    },
    "tags": []
   },
   "source": [
    "### BERT Import"
   ]
  },
  {
   "cell_type": "code",
   "execution_count": 9,
   "id": "70dbd33c",
   "metadata": {
    "execution": {
     "iopub.execute_input": "2022-08-15T00:03:38.654784Z",
     "iopub.status.busy": "2022-08-15T00:03:38.654528Z",
     "iopub.status.idle": "2022-08-15T00:03:42.357627Z",
     "shell.execute_reply": "2022-08-15T00:03:42.356502Z"
    },
    "papermill": {
     "duration": 3.713545,
     "end_time": "2022-08-15T00:03:42.360384",
     "exception": false,
     "start_time": "2022-08-15T00:03:38.646839",
     "status": "completed"
    },
    "tags": []
   },
   "outputs": [],
   "source": [
    "tfhub_handle_encoder = 'https://tfhub.dev/tensorflow/small_bert/bert_en_uncased_L-4_H-512_A-8/1'\n",
    "tfhub_handle_preprocess = 'https://tfhub.dev/tensorflow/bert_en_uncased_preprocess/3'\n",
    "\n",
    "bert_preprocess_model = hub.KerasLayer(tfhub_handle_preprocess)"
   ]
  },
  {
   "cell_type": "code",
   "execution_count": 10,
   "id": "ad387353",
   "metadata": {
    "execution": {
     "iopub.execute_input": "2022-08-15T00:03:42.375347Z",
     "iopub.status.busy": "2022-08-15T00:03:42.375036Z",
     "iopub.status.idle": "2022-08-15T00:03:42.560755Z",
     "shell.execute_reply": "2022-08-15T00:03:42.559637Z"
    },
    "papermill": {
     "duration": 0.196265,
     "end_time": "2022-08-15T00:03:42.563890",
     "exception": false,
     "start_time": "2022-08-15T00:03:42.367625",
     "status": "completed"
    },
    "tags": []
   },
   "outputs": [
    {
     "name": "stdout",
     "output_type": "stream",
     "text": [
      "['Illinois Tornado Slipped Under The Radar Emergency Officials Say http://t.co/P4KOfYtkdx']\n",
      "Keys       : ['input_mask', 'input_type_ids', 'input_word_ids']\n",
      "Shape      : (1, 128)\n",
      "Word Ids   : [  101  4307 11352  5707  2104  1996  7217  5057  4584  2360  8299  1024]\n",
      "Input Mask : [1 1 1 1 1 1 1 1 1 1 1 1]\n",
      "Type Ids   : [0 0 0 0 0 0 0 0 0 0 0 0]\n"
     ]
    }
   ],
   "source": [
    "example_num = random.randint(0, train_set.shape[0])\n",
    "text_test = [train_set['text'].iloc[example_num]]\n",
    "print(text_test)\n",
    "text_preprocessed = bert_preprocess_model(text_test)\n",
    "\n",
    "print(f'Keys       : {list(text_preprocessed.keys())}')\n",
    "print(f'Shape      : {text_preprocessed[\"input_word_ids\"].shape}')\n",
    "print(f'Word Ids   : {text_preprocessed[\"input_word_ids\"][0, :12]}')\n",
    "print(f'Input Mask : {text_preprocessed[\"input_mask\"][0, :12]}')\n",
    "print(f'Type Ids   : {text_preprocessed[\"input_type_ids\"][0, :12]}')"
   ]
  },
  {
   "cell_type": "code",
   "execution_count": 11,
   "id": "89072a7f",
   "metadata": {
    "execution": {
     "iopub.execute_input": "2022-08-15T00:03:42.579841Z",
     "iopub.status.busy": "2022-08-15T00:03:42.579244Z",
     "iopub.status.idle": "2022-08-15T00:03:48.573194Z",
     "shell.execute_reply": "2022-08-15T00:03:48.572081Z"
    },
    "papermill": {
     "duration": 6.004247,
     "end_time": "2022-08-15T00:03:48.575747",
     "exception": false,
     "start_time": "2022-08-15T00:03:42.571500",
     "status": "completed"
    },
    "tags": []
   },
   "outputs": [],
   "source": [
    "bert_model = hub.KerasLayer(tfhub_handle_encoder)"
   ]
  },
  {
   "cell_type": "code",
   "execution_count": 12,
   "id": "62a92a68",
   "metadata": {
    "execution": {
     "iopub.execute_input": "2022-08-15T00:03:48.591310Z",
     "iopub.status.busy": "2022-08-15T00:03:48.590245Z",
     "iopub.status.idle": "2022-08-15T00:03:49.785415Z",
     "shell.execute_reply": "2022-08-15T00:03:49.783734Z"
    },
    "papermill": {
     "duration": 1.205013,
     "end_time": "2022-08-15T00:03:49.787844",
     "exception": false,
     "start_time": "2022-08-15T00:03:48.582831",
     "status": "completed"
    },
    "tags": []
   },
   "outputs": [
    {
     "name": "stdout",
     "output_type": "stream",
     "text": [
      "Loaded BERT: https://tfhub.dev/tensorflow/small_bert/bert_en_uncased_L-4_H-512_A-8/1\n",
      "Pooled Outputs Shape:(1, 512)\n",
      "Pooled Outputs Values:[ 0.8844844   0.9967306   0.24577737  0.2052948   0.41838053  0.624643\n",
      "  0.98742205 -0.996818   -0.3656802  -0.8112729   0.02072321 -0.29745165]\n",
      "Sequence Outputs Shape:(1, 128, 512)\n",
      "Sequence Outputs Values:[[-0.58391833 -0.26815656  0.6468274  ... -0.5526948   0.669403\n",
      "   0.7051046 ]\n",
      " [-1.1556492  -0.58805084  0.5148251  ... -0.6957811  -0.65898854\n",
      "   0.30932945]\n",
      " [-1.4050707  -0.63141024  1.1090816  ... -0.11508945 -0.195117\n",
      "   1.0922925 ]\n",
      " ...\n",
      " [-0.06617551 -1.0483196   0.7008393  ... -0.6694847   0.804911\n",
      "   0.7448319 ]\n",
      " [ 0.85901976  0.50396395  0.7900193  ... -0.38401812  0.37821126\n",
      "  -0.66779166]\n",
      " [ 0.12199186 -0.34872767  0.5538878  ...  0.38463527 -0.8972739\n",
      "  -1.7408229 ]]\n"
     ]
    }
   ],
   "source": [
    "bert_results = bert_model(text_preprocessed)\n",
    "\n",
    "print(f'Loaded BERT: {tfhub_handle_encoder}')\n",
    "print(f'Pooled Outputs Shape:{bert_results[\"pooled_output\"].shape}')\n",
    "print(f'Pooled Outputs Values:{bert_results[\"pooled_output\"][0, :12]}')\n",
    "print(f'Sequence Outputs Shape:{bert_results[\"sequence_output\"].shape}')\n",
    "print(f'Sequence Outputs Values:{bert_results[\"sequence_output\"][0, :12]}')"
   ]
  },
  {
   "cell_type": "code",
   "execution_count": 13,
   "id": "980d3785",
   "metadata": {
    "execution": {
     "iopub.execute_input": "2022-08-15T00:03:49.805711Z",
     "iopub.status.busy": "2022-08-15T00:03:49.805407Z",
     "iopub.status.idle": "2022-08-15T00:03:49.813545Z",
     "shell.execute_reply": "2022-08-15T00:03:49.812229Z"
    },
    "papermill": {
     "duration": 0.019233,
     "end_time": "2022-08-15T00:03:49.816075",
     "exception": false,
     "start_time": "2022-08-15T00:03:49.796842",
     "status": "completed"
    },
    "tags": []
   },
   "outputs": [],
   "source": [
    "def build_classifier_model():\n",
    "    input_word_ids = tf.keras.layers.Input(shape=(None,), dtype=tf.int32, name=\"input_word_ids\")\n",
    "    input_type_ids = tf.keras.layers.Input(shape=(None,), dtype=tf.int32, name=\"input_type_ids\")\n",
    "    input_mask = tf.keras.layers.Input(shape=(None,), dtype=tf.int32, name=\"input_mask\")\n",
    "    \n",
    "    encoder_inputs = {\n",
    "        \"input_word_ids\": input_word_ids,\n",
    "        \"input_type_ids\": input_type_ids,\n",
    "        \"input_mask\": input_mask\n",
    "    }\n",
    "    \n",
    "    encoder = hub.KerasLayer(tfhub_handle_encoder, trainable=True, name='BERT_encoder')\n",
    "    outputs = encoder(encoder_inputs)\n",
    "    net = outputs['pooled_output']\n",
    "#     net = tf.keras.layers.Dropout(0.1)(net)\n",
    "    net = tf.keras.layers.Dense(1, activation='sigmoid', name='classifier')(net)\n",
    "    return tf.keras.Model(inputs=[input_word_ids, input_type_ids, input_mask], outputs=net)\n",
    "    "
   ]
  },
  {
   "cell_type": "code",
   "execution_count": 14,
   "id": "929b79c5",
   "metadata": {
    "execution": {
     "iopub.execute_input": "2022-08-15T00:03:49.832546Z",
     "iopub.status.busy": "2022-08-15T00:03:49.831971Z",
     "iopub.status.idle": "2022-08-15T00:03:55.288014Z",
     "shell.execute_reply": "2022-08-15T00:03:55.286913Z"
    },
    "papermill": {
     "duration": 5.467033,
     "end_time": "2022-08-15T00:03:55.290653",
     "exception": false,
     "start_time": "2022-08-15T00:03:49.823620",
     "status": "completed"
    },
    "tags": []
   },
   "outputs": [
    {
     "name": "stdout",
     "output_type": "stream",
     "text": [
      "tf.Tensor([[0.4147902]], shape=(1, 1), dtype=float32)\n"
     ]
    }
   ],
   "source": [
    "classifier_model = build_classifier_model()\n",
    "bert_raw_result = classifier_model([\n",
    "    text_preprocessed[\"input_word_ids\"],\n",
    "    text_preprocessed[\"input_type_ids\"],\n",
    "    text_preprocessed[\"input_mask\"],\n",
    "])\n",
    "print(bert_raw_result)"
   ]
  },
  {
   "cell_type": "markdown",
   "id": "2febe2b7",
   "metadata": {
    "papermill": {
     "duration": 0.008127,
     "end_time": "2022-08-15T00:03:55.306705",
     "exception": false,
     "start_time": "2022-08-15T00:03:55.298578",
     "status": "completed"
    },
    "tags": []
   },
   "source": [
    "### Pre-Processing"
   ]
  },
  {
   "cell_type": "code",
   "execution_count": 15,
   "id": "3c5a86a1",
   "metadata": {
    "execution": {
     "iopub.execute_input": "2022-08-15T00:03:55.324449Z",
     "iopub.status.busy": "2022-08-15T00:03:55.323627Z",
     "iopub.status.idle": "2022-08-15T00:03:55.348380Z",
     "shell.execute_reply": "2022-08-15T00:03:55.347381Z"
    },
    "jupyter": {
     "source_hidden": true
    },
    "papermill": {
     "duration": 0.036772,
     "end_time": "2022-08-15T00:03:55.350977",
     "exception": false,
     "start_time": "2022-08-15T00:03:55.314205",
     "status": "completed"
    },
    "tags": []
   },
   "outputs": [],
   "source": [
    "abbreviations = {\n",
    "    \"$\" : \" dollar \",\n",
    "    \"€\" : \" euro \",\n",
    "    \"4ao\" : \"for adults only\",\n",
    "    \"a.m\" : \"before midday\",\n",
    "    \"a3\" : \"anytime anywhere anyplace\",\n",
    "    \"aamof\" : \"as a matter of fact\",\n",
    "    \"acct\" : \"account\",\n",
    "    \"adih\" : \"another day in hell\",\n",
    "    \"afaic\" : \"as far as i am concerned\",\n",
    "    \"afaict\" : \"as far as i can tell\",\n",
    "    \"afaik\" : \"as far as i know\",\n",
    "    \"afair\" : \"as far as i remember\",\n",
    "    \"afk\" : \"away from keyboard\",\n",
    "    \"app\" : \"application\",\n",
    "    \"approx\" : \"approximately\",\n",
    "    \"apps\" : \"applications\",\n",
    "    \"asap\" : \"as soon as possible\",\n",
    "    \"asl\" : \"age, sex, location\",\n",
    "    \"atk\" : \"at the keyboard\",\n",
    "    \"ave.\" : \"avenue\",\n",
    "    \"aymm\" : \"are you my mother\",\n",
    "    \"ayor\" : \"at your own risk\", \n",
    "    \"b&b\" : \"bed and breakfast\",\n",
    "    \"b+b\" : \"bed and breakfast\",\n",
    "    \"b.c\" : \"before christ\",\n",
    "    \"b2b\" : \"business to business\",\n",
    "    \"b2c\" : \"business to customer\",\n",
    "    \"b4\" : \"before\",\n",
    "    \"b4n\" : \"bye for now\",\n",
    "    \"b@u\" : \"back at you\",\n",
    "    \"bae\" : \"before anyone else\",\n",
    "    \"bak\" : \"back at keyboard\",\n",
    "    \"bbbg\" : \"bye bye be good\",\n",
    "    \"bbc\" : \"british broadcasting corporation\",\n",
    "    \"bbias\" : \"be back in a second\",\n",
    "    \"bbl\" : \"be back later\",\n",
    "    \"bbs\" : \"be back soon\",\n",
    "    \"be4\" : \"before\",\n",
    "    \"bfn\" : \"bye for now\",\n",
    "    \"blvd\" : \"boulevard\",\n",
    "    \"bout\" : \"about\",\n",
    "    \"brb\" : \"be right back\",\n",
    "    \"bros\" : \"brothers\",\n",
    "    \"brt\" : \"be right there\",\n",
    "    \"bsaaw\" : \"big smile and a wink\",\n",
    "    \"btw\" : \"by the way\",\n",
    "    \"bwl\" : \"bursting with laughter\",\n",
    "    \"c/o\" : \"care of\",\n",
    "    \"cet\" : \"central european time\",\n",
    "    \"cf\" : \"compare\",\n",
    "    \"cia\" : \"central intelligence agency\",\n",
    "    \"csl\" : \"can not stop laughing\",\n",
    "    \"cu\" : \"see you\",\n",
    "    \"cul8r\" : \"see you later\",\n",
    "    \"cv\" : \"curriculum vitae\",\n",
    "    \"cwot\" : \"complete waste of time\",\n",
    "    \"cya\" : \"see you\",\n",
    "    \"cyt\" : \"see you tomorrow\",\n",
    "    \"dae\" : \"does anyone else\",\n",
    "    \"dbmib\" : \"do not bother me i am busy\",\n",
    "    \"diy\" : \"do it yourself\",\n",
    "    \"dm\" : \"direct message\",\n",
    "    \"dwh\" : \"during work hours\",\n",
    "    \"e123\" : \"easy as one two three\",\n",
    "    \"eet\" : \"eastern european time\",\n",
    "    \"eg\" : \"example\",\n",
    "    \"embm\" : \"early morning business meeting\",\n",
    "    \"encl\" : \"enclosed\",\n",
    "    \"encl.\" : \"enclosed\",\n",
    "    \"etc\" : \"and so on\",\n",
    "    \"faq\" : \"frequently asked questions\",\n",
    "    \"fawc\" : \"for anyone who cares\",\n",
    "    \"fb\" : \"facebook\",\n",
    "    \"fc\" : \"fingers crossed\",\n",
    "    \"fig\" : \"figure\",\n",
    "    \"fimh\" : \"forever in my heart\", \n",
    "    \"ft.\" : \"feet\",\n",
    "    \"ft\" : \"featuring\",\n",
    "    \"ftl\" : \"for the loss\",\n",
    "    \"ftw\" : \"for the win\",\n",
    "    \"fwiw\" : \"for what it is worth\",\n",
    "    \"fyi\" : \"for your information\",\n",
    "    \"g9\" : \"genius\",\n",
    "    \"gahoy\" : \"get a hold of yourself\",\n",
    "    \"gal\" : \"get a life\",\n",
    "    \"gcse\" : \"general certificate of secondary education\",\n",
    "    \"gfn\" : \"gone for now\",\n",
    "    \"gg\" : \"good game\",\n",
    "    \"gl\" : \"good luck\",\n",
    "    \"glhf\" : \"good luck have fun\",\n",
    "    \"gmt\" : \"greenwich mean time\",\n",
    "    \"gmta\" : \"great minds think alike\",\n",
    "    \"gn\" : \"good night\",\n",
    "    \"g.o.a.t\" : \"greatest of all time\",\n",
    "    \"goat\" : \"greatest of all time\",\n",
    "    \"goi\" : \"get over it\",\n",
    "    \"gps\" : \"global positioning system\",\n",
    "    \"gr8\" : \"great\",\n",
    "    \"gratz\" : \"congratulations\",\n",
    "    \"gyal\" : \"girl\",\n",
    "    \"h&c\" : \"hot and cold\",\n",
    "    \"hp\" : \"horsepower\",\n",
    "    \"hr\" : \"hour\",\n",
    "    \"hrh\" : \"his royal highness\",\n",
    "    \"ht\" : \"height\",\n",
    "    \"ibrb\" : \"i will be right back\",\n",
    "    \"ic\" : \"i see\",\n",
    "    \"icq\" : \"i seek you\",\n",
    "    \"icymi\" : \"in case you missed it\",\n",
    "    \"idc\" : \"i do not care\",\n",
    "    \"idgadf\" : \"i do not give a damn fuck\",\n",
    "    \"idgaf\" : \"i do not give a fuck\",\n",
    "    \"idk\" : \"i do not know\",\n",
    "    \"ie\" : \"that is\",\n",
    "    \"i.e\" : \"that is\",\n",
    "    \"ifyp\" : \"i feel your pain\",\n",
    "    \"ig\" : \"instagram\",\n",
    "    \"iirc\" : \"if i remember correctly\",\n",
    "    \"ilu\" : \"i love you\",\n",
    "    \"ily\" : \"i love you\",\n",
    "    \"imho\" : \"in my humble opinion\",\n",
    "    \"imo\" : \"in my opinion\",\n",
    "    \"imu\" : \"i miss you\",\n",
    "    \"iow\" : \"in other words\",\n",
    "    \"irl\" : \"in real life\",\n",
    "    \"j4f\" : \"just for fun\",\n",
    "    \"jic\" : \"just in case\",\n",
    "    \"jk\" : \"just kidding\",\n",
    "    \"jsyk\" : \"just so you know\",\n",
    "    \"l8r\" : \"later\",\n",
    "    \"lb\" : \"pound\",\n",
    "    \"lbs\" : \"pounds\",\n",
    "    \"ldr\" : \"long distance relationship\",\n",
    "    \"lmao\" : \"laugh my ass off\",\n",
    "    \"lmfao\" : \"laugh my fucking ass off\",\n",
    "    \"lol\" : \"laughing out loud\",\n",
    "    \"ltd\" : \"limited\",\n",
    "    \"ltns\" : \"long time no see\",\n",
    "    \"m8\" : \"mate\",\n",
    "    \"mf\" : \"motherfucker\",\n",
    "    \"mfs\" : \"motherfuckers\",\n",
    "    \"mfw\" : \"my face when\",\n",
    "    \"mofo\" : \"motherfucker\",\n",
    "    \"mph\" : \"miles per hour\",\n",
    "    \"mr\" : \"mister\",\n",
    "    \"mrw\" : \"my reaction when\",\n",
    "    \"ms\" : \"miss\",\n",
    "    \"mte\" : \"my thoughts exactly\",\n",
    "    \"nagi\" : \"not a good idea\",\n",
    "    \"nbc\" : \"national broadcasting company\",\n",
    "    \"nbd\" : \"not big deal\",\n",
    "    \"nfs\" : \"not for sale\",\n",
    "    \"ngl\" : \"not going to lie\",\n",
    "    \"nhs\" : \"national health service\",\n",
    "    \"nrn\" : \"no reply necessary\",\n",
    "    \"nsfl\" : \"not safe for life\",\n",
    "    \"nsfw\" : \"not safe for work\",\n",
    "    \"nth\" : \"nice to have\",\n",
    "    \"nvr\" : \"never\",\n",
    "    \"nyc\" : \"new york city\",\n",
    "    \"oc\" : \"original content\",\n",
    "    \"og\" : \"original\",\n",
    "    \"ohp\" : \"overhead projector\",\n",
    "    \"oic\" : \"oh i see\",\n",
    "    \"omdb\" : \"over my dead body\",\n",
    "    \"omg\" : \"oh my god\",\n",
    "    \"omw\" : \"on my way\",\n",
    "    \"p.a\" : \"per annum\",\n",
    "    \"p.m\" : \"after midday\",\n",
    "    \"pm\" : \"prime minister\",\n",
    "    \"poc\" : \"people of color\",\n",
    "    \"pov\" : \"point of view\",\n",
    "    \"pp\" : \"pages\",\n",
    "    \"ppl\" : \"people\",\n",
    "    \"prw\" : \"parents are watching\",\n",
    "    \"ps\" : \"postscript\",\n",
    "    \"pt\" : \"point\",\n",
    "    \"ptb\" : \"please text back\",\n",
    "    \"pto\" : \"please turn over\",\n",
    "    \"qpsa\" : \"what happens\", #\"que pasa\",\n",
    "    \"ratchet\" : \"rude\",\n",
    "    \"rbtl\" : \"read between the lines\",\n",
    "    \"rlrt\" : \"real life retweet\", \n",
    "    \"rofl\" : \"rolling on the floor laughing\",\n",
    "    \"roflol\" : \"rolling on the floor laughing out loud\",\n",
    "    \"rotflmao\" : \"rolling on the floor laughing my ass off\",\n",
    "    \"rt\" : \"retweet\",\n",
    "    \"ruok\" : \"are you ok\",\n",
    "    \"sfw\" : \"safe for work\",\n",
    "    \"sk8\" : \"skate\",\n",
    "    \"smh\" : \"shake my head\",\n",
    "    \"sq\" : \"square\",\n",
    "    \"srsly\" : \"seriously\", \n",
    "    \"ssdd\" : \"same stuff different day\",\n",
    "    \"tbh\" : \"to be honest\",\n",
    "    \"tbs\" : \"tablespooful\",\n",
    "    \"tbsp\" : \"tablespooful\",\n",
    "    \"tfw\" : \"that feeling when\",\n",
    "    \"thks\" : \"thank you\",\n",
    "    \"tho\" : \"though\",\n",
    "    \"thx\" : \"thank you\",\n",
    "    \"tia\" : \"thanks in advance\",\n",
    "    \"til\" : \"today i learned\",\n",
    "    \"tl;dr\" : \"too long i did not read\",\n",
    "    \"tldr\" : \"too long i did not read\",\n",
    "    \"tmb\" : \"tweet me back\",\n",
    "    \"tntl\" : \"trying not to laugh\",\n",
    "    \"ttyl\" : \"talk to you later\",\n",
    "    \"u\" : \"you\",\n",
    "    \"u2\" : \"you too\",\n",
    "    \"u4e\" : \"yours for ever\",\n",
    "    \"utc\" : \"coordinated universal time\",\n",
    "    \"w/\" : \"with\",\n",
    "    \"w/o\" : \"without\",\n",
    "    \"w8\" : \"wait\",\n",
    "    \"wassup\" : \"what is up\",\n",
    "    \"wb\" : \"welcome back\",\n",
    "    \"wtf\" : \"what the fuck\",\n",
    "    \"wtg\" : \"way to go\",\n",
    "    \"wtpa\" : \"where the party at\",\n",
    "    \"wuf\" : \"where are you from\",\n",
    "    \"wuzup\" : \"what is up\",\n",
    "    \"wywh\" : \"wish you were here\",\n",
    "    \"yd\" : \"yard\",\n",
    "    \"ygtr\" : \"you got that right\",\n",
    "    \"ynk\" : \"you never know\",\n",
    "    \"zzz\" : \"sleeping bored and tired\"\n",
    "}"
   ]
  },
  {
   "cell_type": "code",
   "execution_count": 16,
   "id": "a0dc7d1c",
   "metadata": {
    "execution": {
     "iopub.execute_input": "2022-08-15T00:03:55.367510Z",
     "iopub.status.busy": "2022-08-15T00:03:55.367173Z",
     "iopub.status.idle": "2022-08-15T00:04:07.052209Z",
     "shell.execute_reply": "2022-08-15T00:04:07.051235Z"
    },
    "papermill": {
     "duration": 11.695481,
     "end_time": "2022-08-15T00:04:07.054252",
     "exception": false,
     "start_time": "2022-08-15T00:03:55.358771",
     "status": "completed"
    },
    "tags": []
   },
   "outputs": [
    {
     "data": {
      "text/html": [
       "<div>\n",
       "<style scoped>\n",
       "    .dataframe tbody tr th:only-of-type {\n",
       "        vertical-align: middle;\n",
       "    }\n",
       "\n",
       "    .dataframe tbody tr th {\n",
       "        vertical-align: top;\n",
       "    }\n",
       "\n",
       "    .dataframe thead th {\n",
       "        text-align: right;\n",
       "    }\n",
       "</style>\n",
       "<table border=\"1\" class=\"dataframe\">\n",
       "  <thead>\n",
       "    <tr style=\"text-align: right;\">\n",
       "      <th></th>\n",
       "      <th>id</th>\n",
       "      <th>keyword</th>\n",
       "      <th>location</th>\n",
       "      <th>text</th>\n",
       "      <th>target</th>\n",
       "      <th>clean_text</th>\n",
       "    </tr>\n",
       "  </thead>\n",
       "  <tbody>\n",
       "    <tr>\n",
       "      <th>0</th>\n",
       "      <td>59</td>\n",
       "      <td>ablaze</td>\n",
       "      <td>Live On Webcam</td>\n",
       "      <td>Check these out: http://t.co/rOI2NSmEJJ http:/...</td>\n",
       "      <td>0</td>\n",
       "      <td>check nsfw</td>\n",
       "    </tr>\n",
       "    <tr>\n",
       "      <th>1</th>\n",
       "      <td>156</td>\n",
       "      <td>aftershock</td>\n",
       "      <td>US</td>\n",
       "      <td>320 [IR] ICEMOON [AFTERSHOCK] | http://t.co/vA...</td>\n",
       "      <td>0</td>\n",
       "      <td>icemoon aftershock djicemoon dubstep trapmusic...</td>\n",
       "    </tr>\n",
       "    <tr>\n",
       "      <th>2</th>\n",
       "      <td>171</td>\n",
       "      <td>aftershock</td>\n",
       "      <td>Switzerland</td>\n",
       "      <td>320 [IR] ICEMOON [AFTERSHOCK] | http://t.co/TH...</td>\n",
       "      <td>0</td>\n",
       "      <td>icemoon aftershock djicemoon dubstep trapmusic...</td>\n",
       "    </tr>\n",
       "    <tr>\n",
       "      <th>3</th>\n",
       "      <td>211</td>\n",
       "      <td>airplane%20accident</td>\n",
       "      <td>NaN</td>\n",
       "      <td>Experts in France begin examining airplane deb...</td>\n",
       "      <td>1</td>\n",
       "      <td>experts france begin examining airplane debris...</td>\n",
       "    </tr>\n",
       "    <tr>\n",
       "      <th>4</th>\n",
       "      <td>1634</td>\n",
       "      <td>bombing</td>\n",
       "      <td>NaN</td>\n",
       "      <td>Japan on Thursday marks the 70th anniversary o...</td>\n",
       "      <td>1</td>\n",
       "      <td>japan thursday marks anniversary atomic bombin...</td>\n",
       "    </tr>\n",
       "  </tbody>\n",
       "</table>\n",
       "</div>"
      ],
      "text/plain": [
       "     id              keyword        location  \\\n",
       "0    59               ablaze  Live On Webcam   \n",
       "1   156           aftershock              US   \n",
       "2   171           aftershock     Switzerland   \n",
       "3   211  airplane%20accident             NaN   \n",
       "4  1634              bombing             NaN   \n",
       "\n",
       "                                                text target  \\\n",
       "0  Check these out: http://t.co/rOI2NSmEJJ http:/...      0   \n",
       "1  320 [IR] ICEMOON [AFTERSHOCK] | http://t.co/vA...      0   \n",
       "2  320 [IR] ICEMOON [AFTERSHOCK] | http://t.co/TH...      0   \n",
       "3  Experts in France begin examining airplane deb...      1   \n",
       "4  Japan on Thursday marks the 70th anniversary o...      1   \n",
       "\n",
       "                                          clean_text  \n",
       "0                                         check nsfw  \n",
       "1  icemoon aftershock djicemoon dubstep trapmusic...  \n",
       "2  icemoon aftershock djicemoon dubstep trapmusic...  \n",
       "3  experts france begin examining airplane debris...  \n",
       "4  japan thursday marks anniversary atomic bombin...  "
      ]
     },
     "execution_count": 16,
     "metadata": {},
     "output_type": "execute_result"
    }
   ],
   "source": [
    "# Clean up tweet content\n",
    "\n",
    "lemmatizer = WordNetLemmatizer()\n",
    "stemmer = PorterStemmer() \n",
    "\n",
    "def convert_abbrev(word):\n",
    "    return abbreviations[word] if word in abbreviations.keys() else word\n",
    "\n",
    "def preprocess_text(sentence):\n",
    "    sentence = str(sentence)\n",
    "    sentence = sentence.lower()          \n",
    "    sentence = sentence.replace('{html}', \"\") \n",
    "    rem_url = re.sub(r'http\\S+', '', sentence)\n",
    "    converted_abbrev = \" \".join([convert_abbrev(word) for word in rem_url.split(\" \")])\n",
    "    cleanr = re.compile('[^a-z ]+')\n",
    "    rem_num_non_alpha = re.sub(cleanr, '', converted_abbrev)\n",
    "    tokenizer = RegexpTokenizer(r'\\w+')\n",
    "    tokens = tokenizer.tokenize(rem_num_non_alpha)\n",
    "    filtered_words = [w for w in tokens if len(w) > 2 if not w in stopwords.words('english')]\n",
    "#     stem_words = [stemmer.stem(w) for w in filtered_words]\n",
    "#     lemma_words=[lemmatizer.lemmatize(w) for w in stem_words]\n",
    "    return \" \".join(filtered_words)\n",
    "\n",
    "train_set['clean_text'] = train_set['text'].map(lambda s:preprocess_text(s))\n",
    "train_set.head()"
   ]
  },
  {
   "cell_type": "code",
   "execution_count": 17,
   "id": "4fe1a99b",
   "metadata": {
    "execution": {
     "iopub.execute_input": "2022-08-15T00:04:07.070731Z",
     "iopub.status.busy": "2022-08-15T00:04:07.069923Z",
     "iopub.status.idle": "2022-08-15T00:04:07.562856Z",
     "shell.execute_reply": "2022-08-15T00:04:07.561168Z"
    },
    "papermill": {
     "duration": 0.503169,
     "end_time": "2022-08-15T00:04:07.565021",
     "exception": false,
     "start_time": "2022-08-15T00:04:07.061852",
     "status": "completed"
    },
    "tags": []
   },
   "outputs": [
    {
     "name": "stdout",
     "output_type": "stream",
     "text": [
      "Training Set X: (6720,), y: (6720,)\n",
      "Validation Set X: (765,), y: (765,)\n"
     ]
    }
   ],
   "source": [
    "X = train_set.loc(axis=1)['clean_text'].to_numpy()\n",
    "y = train_set.loc(axis=1)['target'].to_numpy().astype('float32')\n",
    "\n",
    "random.seed(42)\n",
    "train_indices = random.sample(range(len(y)), 6720)\n",
    "valid_indices = []\n",
    "for i in range(len(y)):\n",
    "    if i not in train_indices:\n",
    "        valid_indices.append(i)\n",
    "\n",
    "X_train, y_train = X[train_indices], y[train_indices]\n",
    "X_val, y_val = X[valid_indices], y[valid_indices]\n",
    "\n",
    "print(f'Training Set X: {X_train.shape}, y: {y_train.shape}')\n",
    "print(f'Validation Set X: {X_val.shape}, y: {y_val.shape}')"
   ]
  },
  {
   "cell_type": "code",
   "execution_count": 18,
   "id": "69e48ec8",
   "metadata": {
    "execution": {
     "iopub.execute_input": "2022-08-15T00:04:07.581701Z",
     "iopub.status.busy": "2022-08-15T00:04:07.580885Z",
     "iopub.status.idle": "2022-08-15T00:04:07.586482Z",
     "shell.execute_reply": "2022-08-15T00:04:07.585614Z"
    },
    "papermill": {
     "duration": 0.015984,
     "end_time": "2022-08-15T00:04:07.588519",
     "exception": false,
     "start_time": "2022-08-15T00:04:07.572535",
     "status": "completed"
    },
    "tags": []
   },
   "outputs": [],
   "source": [
    "def create_input(text):\n",
    "    bert_preprocess_model = hub.KerasLayer(tfhub_handle_preprocess)\n",
    "    text_preprocessed = bert_preprocess_model(text)\n",
    "    return text_preprocessed[\"input_word_ids\"], text_preprocessed[\"input_type_ids\"], text_preprocessed[\"input_mask\"]"
   ]
  },
  {
   "cell_type": "code",
   "execution_count": 19,
   "id": "318d0759",
   "metadata": {
    "execution": {
     "iopub.execute_input": "2022-08-15T00:04:07.604112Z",
     "iopub.status.busy": "2022-08-15T00:04:07.603802Z",
     "iopub.status.idle": "2022-08-15T00:06:28.090457Z",
     "shell.execute_reply": "2022-08-15T00:06:28.089545Z"
    },
    "papermill": {
     "duration": 140.49746,
     "end_time": "2022-08-15T00:06:28.093261",
     "exception": false,
     "start_time": "2022-08-15T00:04:07.595801",
     "status": "completed"
    },
    "tags": []
   },
   "outputs": [
    {
     "name": "stderr",
     "output_type": "stream",
     "text": [
      "/opt/conda/lib/python3.7/site-packages/ipykernel_launcher.py:10: TqdmDeprecationWarning: This function will be removed in tqdm==5.0.0\n",
      "Please use `tqdm.notebook.tqdm` instead of `tqdm.tqdm_notebook`\n",
      "  # Remove the CWD from sys.path while we load stuff.\n"
     ]
    },
    {
     "data": {
      "application/vnd.jupyter.widget-view+json": {
       "model_id": "b2fc196acb224f5e8b69b95b506e228a",
       "version_major": 2,
       "version_minor": 0
      },
      "text/plain": [
       "  0%|          | 0/42 [00:00<?, ?it/s]"
      ]
     },
     "metadata": {},
     "output_type": "display_data"
    }
   ],
   "source": [
    "from tqdm import tqdm_notebook as tqdm\n",
    "\n",
    "train_word_ids = np.empty((0,128)).astype('float32')\n",
    "train_type_ids = np.empty((0,128)).astype('float32')\n",
    "train_mask = np.empty((0,128)).astype('float32')\n",
    "\n",
    "batch = 160\n",
    "num_steps = len(X_train) // batch\n",
    "\n",
    "for i in tqdm(range(num_steps)):\n",
    "    word_id, type_id, mask = create_input(X_train[i*batch:(i+1)*batch])\n",
    "    train_word_ids = np.append(train_word_ids, word_id, axis=0)\n",
    "    train_type_ids = np.append(train_type_ids, type_id, axis=0)\n",
    "    train_mask = np.append(train_mask, mask, axis=0)"
   ]
  },
  {
   "cell_type": "code",
   "execution_count": 20,
   "id": "11b2e65d",
   "metadata": {
    "execution": {
     "iopub.execute_input": "2022-08-15T00:06:28.118939Z",
     "iopub.status.busy": "2022-08-15T00:06:28.118542Z",
     "iopub.status.idle": "2022-08-15T00:06:28.122698Z",
     "shell.execute_reply": "2022-08-15T00:06:28.121879Z"
    },
    "papermill": {
     "duration": 0.021402,
     "end_time": "2022-08-15T00:06:28.127055",
     "exception": false,
     "start_time": "2022-08-15T00:06:28.105653",
     "status": "completed"
    },
    "tags": []
   },
   "outputs": [],
   "source": [
    "# %%time\n",
    "# train_word_ids, train_type_ids, train_mask = create_input(X_train)"
   ]
  },
  {
   "cell_type": "code",
   "execution_count": 21,
   "id": "7c5da27e",
   "metadata": {
    "execution": {
     "iopub.execute_input": "2022-08-15T00:06:28.150546Z",
     "iopub.status.busy": "2022-08-15T00:06:28.150209Z",
     "iopub.status.idle": "2022-08-15T00:06:28.155961Z",
     "shell.execute_reply": "2022-08-15T00:06:28.155113Z"
    },
    "papermill": {
     "duration": 0.023126,
     "end_time": "2022-08-15T00:06:28.161491",
     "exception": false,
     "start_time": "2022-08-15T00:06:28.138365",
     "status": "completed"
    },
    "tags": []
   },
   "outputs": [
    {
     "name": "stdout",
     "output_type": "stream",
     "text": [
      "Shape of train_word_ids: (6720, 128)\n",
      "Shape of train_type_ids: (6720, 128)\n",
      "Shape of train_mask: (6720, 128)\n"
     ]
    }
   ],
   "source": [
    "print('Shape of train_word_ids:', train_word_ids.shape)\n",
    "print('Shape of train_type_ids:', train_type_ids.shape)\n",
    "print('Shape of train_mask:', train_mask.shape)"
   ]
  },
  {
   "cell_type": "code",
   "execution_count": 22,
   "id": "73fa3d7e",
   "metadata": {
    "execution": {
     "iopub.execute_input": "2022-08-15T00:06:28.185880Z",
     "iopub.status.busy": "2022-08-15T00:06:28.185582Z",
     "iopub.status.idle": "2022-08-15T00:06:48.020542Z",
     "shell.execute_reply": "2022-08-15T00:06:48.019059Z"
    },
    "papermill": {
     "duration": 19.850357,
     "end_time": "2022-08-15T00:06:48.023674",
     "exception": false,
     "start_time": "2022-08-15T00:06:28.173317",
     "status": "completed"
    },
    "tags": []
   },
   "outputs": [
    {
     "name": "stdout",
     "output_type": "stream",
     "text": [
      "CPU times: user 28.5 s, sys: 5.97 s, total: 34.4 s\n",
      "Wall time: 19.8 s\n"
     ]
    }
   ],
   "source": [
    "%%time\n",
    "val_word_ids, val_type_ids, val_mask = create_input(X_val)"
   ]
  },
  {
   "cell_type": "code",
   "execution_count": 23,
   "id": "64d91a91",
   "metadata": {
    "execution": {
     "iopub.execute_input": "2022-08-15T00:06:48.054819Z",
     "iopub.status.busy": "2022-08-15T00:06:48.054510Z",
     "iopub.status.idle": "2022-08-15T00:06:48.064051Z",
     "shell.execute_reply": "2022-08-15T00:06:48.062946Z"
    },
    "papermill": {
     "duration": 0.032515,
     "end_time": "2022-08-15T00:06:48.066878",
     "exception": false,
     "start_time": "2022-08-15T00:06:48.034363",
     "status": "completed"
    },
    "tags": []
   },
   "outputs": [
    {
     "name": "stdout",
     "output_type": "stream",
     "text": [
      "Shape of valid_word_ids: (765, 128)\n",
      "Shape of valid_type_ids: (765, 128)\n",
      "Shape of valid_mask: (765, 128)\n"
     ]
    }
   ],
   "source": [
    "print('Shape of valid_word_ids:', val_word_ids.shape)\n",
    "print('Shape of valid_type_ids:', val_type_ids.shape)\n",
    "print('Shape of valid_mask:', val_mask.shape)"
   ]
  },
  {
   "cell_type": "code",
   "execution_count": 24,
   "id": "48bcb53c",
   "metadata": {
    "execution": {
     "iopub.execute_input": "2022-08-15T00:06:48.085232Z",
     "iopub.status.busy": "2022-08-15T00:06:48.084941Z",
     "iopub.status.idle": "2022-08-15T00:06:48.094542Z",
     "shell.execute_reply": "2022-08-15T00:06:48.093695Z"
    },
    "papermill": {
     "duration": 0.020522,
     "end_time": "2022-08-15T00:06:48.096713",
     "exception": false,
     "start_time": "2022-08-15T00:06:48.076191",
     "status": "completed"
    },
    "tags": []
   },
   "outputs": [],
   "source": [
    "loss = tf.keras.losses.BinaryCrossentropy()\n",
    "metrics = tf.metrics.BinaryAccuracy()"
   ]
  },
  {
   "cell_type": "code",
   "execution_count": 25,
   "id": "f5531f43",
   "metadata": {
    "execution": {
     "iopub.execute_input": "2022-08-15T00:06:48.114198Z",
     "iopub.status.busy": "2022-08-15T00:06:48.113930Z",
     "iopub.status.idle": "2022-08-15T00:06:48.120891Z",
     "shell.execute_reply": "2022-08-15T00:06:48.119471Z"
    },
    "papermill": {
     "duration": 0.01834,
     "end_time": "2022-08-15T00:06:48.123432",
     "exception": false,
     "start_time": "2022-08-15T00:06:48.105092",
     "status": "completed"
    },
    "tags": []
   },
   "outputs": [
    {
     "name": "stdout",
     "output_type": "stream",
     "text": [
      "42 steps per epoch\n",
      "252 training steps\n"
     ]
    }
   ],
   "source": [
    "NUM_EPOCHS = 6\n",
    "BATCH_SIZE = 160\n",
    "STEPS_PER_EPOCH = len(y_train) // BATCH_SIZE\n",
    "print(f'{STEPS_PER_EPOCH} steps per epoch')\n",
    "\n",
    "NUM_TRAIN_STEPS = STEPS_PER_EPOCH * NUM_EPOCHS\n",
    "NUM_WARMUP_STEPS = int(0.1*NUM_TRAIN_STEPS)\n",
    "print(f'{NUM_TRAIN_STEPS} training steps')"
   ]
  },
  {
   "cell_type": "code",
   "execution_count": 26,
   "id": "42db0ff0",
   "metadata": {
    "execution": {
     "iopub.execute_input": "2022-08-15T00:06:48.141022Z",
     "iopub.status.busy": "2022-08-15T00:06:48.140757Z",
     "iopub.status.idle": "2022-08-15T00:06:48.145971Z",
     "shell.execute_reply": "2022-08-15T00:06:48.144951Z"
    },
    "papermill": {
     "duration": 0.016253,
     "end_time": "2022-08-15T00:06:48.148365",
     "exception": false,
     "start_time": "2022-08-15T00:06:48.132112",
     "status": "completed"
    },
    "tags": []
   },
   "outputs": [],
   "source": [
    "init_lr = 5e-5\n",
    "optimizer = optimization.create_optimizer(init_lr=init_lr,\n",
    "                                          num_train_steps=NUM_TRAIN_STEPS,\n",
    "                                          num_warmup_steps=NUM_WARMUP_STEPS,\n",
    "                                          optimizer_type='adamw')\n"
   ]
  },
  {
   "cell_type": "code",
   "execution_count": 27,
   "id": "a1f80b11",
   "metadata": {
    "execution": {
     "iopub.execute_input": "2022-08-15T00:06:48.165708Z",
     "iopub.status.busy": "2022-08-15T00:06:48.165451Z",
     "iopub.status.idle": "2022-08-15T00:06:48.177872Z",
     "shell.execute_reply": "2022-08-15T00:06:48.177040Z"
    },
    "papermill": {
     "duration": 0.023046,
     "end_time": "2022-08-15T00:06:48.179747",
     "exception": false,
     "start_time": "2022-08-15T00:06:48.156701",
     "status": "completed"
    },
    "tags": []
   },
   "outputs": [],
   "source": [
    "classifier_model.compile(optimizer=optimizer,\n",
    "                         loss=loss,\n",
    "                         metrics=metrics)"
   ]
  },
  {
   "cell_type": "code",
   "execution_count": 28,
   "id": "8cf5d052",
   "metadata": {
    "execution": {
     "iopub.execute_input": "2022-08-15T00:06:48.197182Z",
     "iopub.status.busy": "2022-08-15T00:06:48.196917Z",
     "iopub.status.idle": "2022-08-15T00:06:48.201437Z",
     "shell.execute_reply": "2022-08-15T00:06:48.200492Z"
    },
    "papermill": {
     "duration": 0.015872,
     "end_time": "2022-08-15T00:06:48.203584",
     "exception": false,
     "start_time": "2022-08-15T00:06:48.187712",
     "status": "completed"
    },
    "tags": []
   },
   "outputs": [],
   "source": [
    "early_stopping = tf.keras.callbacks.EarlyStopping(monitor='val_loss', mode='min', patience=3, restore_best_weights=True)\n",
    "callback = [early_stopping]"
   ]
  },
  {
   "cell_type": "code",
   "execution_count": 29,
   "id": "94024209",
   "metadata": {
    "execution": {
     "iopub.execute_input": "2022-08-15T00:06:48.221150Z",
     "iopub.status.busy": "2022-08-15T00:06:48.220892Z",
     "iopub.status.idle": "2022-08-15T00:08:49.926790Z",
     "shell.execute_reply": "2022-08-15T00:08:49.925317Z"
    },
    "papermill": {
     "duration": 121.716982,
     "end_time": "2022-08-15T00:08:49.928883",
     "exception": false,
     "start_time": "2022-08-15T00:06:48.211901",
     "status": "completed"
    },
    "tags": []
   },
   "outputs": [
    {
     "name": "stdout",
     "output_type": "stream",
     "text": [
      "Epoch 1/6\n",
      "42/42 [==============================] - 26s 472ms/step - loss: 0.5464 - binary_accuracy: 0.7143 - val_loss: 0.4257 - val_binary_accuracy: 0.8078\n",
      "Epoch 2/6\n",
      "42/42 [==============================] - 19s 457ms/step - loss: 0.4068 - binary_accuracy: 0.8307 - val_loss: 0.4365 - val_binary_accuracy: 0.8013\n",
      "Epoch 3/6\n",
      "42/42 [==============================] - 19s 459ms/step - loss: 0.3561 - binary_accuracy: 0.8515 - val_loss: 0.4157 - val_binary_accuracy: 0.8288\n",
      "Epoch 4/6\n",
      "42/42 [==============================] - 19s 457ms/step - loss: 0.3154 - binary_accuracy: 0.8716 - val_loss: 0.4714 - val_binary_accuracy: 0.7843\n",
      "Epoch 5/6\n",
      "42/42 [==============================] - 19s 457ms/step - loss: 0.2837 - binary_accuracy: 0.8875 - val_loss: 0.4662 - val_binary_accuracy: 0.7974\n",
      "Epoch 6/6\n",
      "42/42 [==============================] - 19s 458ms/step - loss: 0.2674 - binary_accuracy: 0.8960 - val_loss: 0.4763 - val_binary_accuracy: 0.7948\n"
     ]
    }
   ],
   "source": [
    "history = classifier_model.fit(\n",
    "    [train_word_ids, train_type_ids, train_mask], y_train, \n",
    "    batch_size=BATCH_SIZE,\n",
    "    epochs=NUM_EPOCHS,\n",
    "    validation_data=([val_word_ids, val_type_ids, val_mask], y_val),\n",
    "    callbacks=callback\n",
    ")"
   ]
  },
  {
   "cell_type": "code",
   "execution_count": 30,
   "id": "65714c93",
   "metadata": {
    "execution": {
     "iopub.execute_input": "2022-08-15T00:08:49.975505Z",
     "iopub.status.busy": "2022-08-15T00:08:49.973832Z",
     "iopub.status.idle": "2022-08-15T00:09:16.205350Z",
     "shell.execute_reply": "2022-08-15T00:09:16.204311Z"
    },
    "papermill": {
     "duration": 26.256208,
     "end_time": "2022-08-15T00:09:16.207499",
     "exception": false,
     "start_time": "2022-08-15T00:08:49.951291",
     "status": "completed"
    },
    "tags": []
   },
   "outputs": [
    {
     "data": {
      "text/plain": [
       "<matplotlib.legend.Legend at 0x7fafe3744f50>"
      ]
     },
     "execution_count": 30,
     "metadata": {},
     "output_type": "execute_result"
    },
    {
     "data": {
      "image/png": "[encoded data removed]",
      "text/plain": [
       "<Figure size 1008x432 with 2 Axes>"
      ]
     },
     "metadata": {
      "needs_background": "light"
     },
     "output_type": "display_data"
    }
   ],
   "source": [
    "fig, axs = plt.subplots(ncols=2, nrows=1, figsize=(14,6))\n",
    "axs[0].plot(history.history['loss'], color='blue')\n",
    "axs[0].plot(history.history['val_loss'], color='red')\n",
    "axs[0].legend(['loss', 'val_loss'])\n",
    "\n",
    "axs[1].plot(history.history['binary_accuracy'], color='blue')\n",
    "axs[1].plot(history.history['val_binary_accuracy'], color='red')\n",
    "axs[1].legend(['binary_accuracy', 'val_binary_accuracy'])"
   ]
  },
  {
   "cell_type": "markdown",
   "id": "5a685503",
   "metadata": {
    "papermill": {
     "duration": 0.022129,
     "end_time": "2022-08-15T00:09:16.251778",
     "exception": false,
     "start_time": "2022-08-15T00:09:16.229649",
     "status": "completed"
    },
    "tags": []
   },
   "source": [
    "### Test Model"
   ]
  },
  {
   "cell_type": "code",
   "execution_count": 31,
   "id": "fc9cde68",
   "metadata": {
    "execution": {
     "iopub.execute_input": "2022-08-15T00:09:16.298029Z",
     "iopub.status.busy": "2022-08-15T00:09:16.297428Z",
     "iopub.status.idle": "2022-08-15T00:09:21.326708Z",
     "shell.execute_reply": "2022-08-15T00:09:21.325482Z"
    },
    "papermill": {
     "duration": 5.054478,
     "end_time": "2022-08-15T00:09:21.329134",
     "exception": false,
     "start_time": "2022-08-15T00:09:16.274656",
     "status": "completed"
    },
    "tags": []
   },
   "outputs": [],
   "source": [
    "test_set['clean_text'] = test_set['text'].map(lambda s:preprocess_text(s))\n",
    "X_test = test_set.loc(axis=1)['clean_text'].to_numpy()\n",
    "test_ids = test.loc(axis=1)['id']"
   ]
  },
  {
   "cell_type": "code",
   "execution_count": 32,
   "id": "45b3bef6",
   "metadata": {
    "execution": {
     "iopub.execute_input": "2022-08-15T00:09:21.380432Z",
     "iopub.status.busy": "2022-08-15T00:09:21.379883Z",
     "iopub.status.idle": "2022-08-15T00:14:45.264222Z",
     "shell.execute_reply": "2022-08-15T00:14:45.263276Z"
    },
    "papermill": {
     "duration": 323.934801,
     "end_time": "2022-08-15T00:14:45.288760",
     "exception": false,
     "start_time": "2022-08-15T00:09:21.353959",
     "status": "completed"
    },
    "tags": []
   },
   "outputs": [
    {
     "data": {
      "text/html": [
       "<div>\n",
       "<style scoped>\n",
       "    .dataframe tbody tr th:only-of-type {\n",
       "        vertical-align: middle;\n",
       "    }\n",
       "\n",
       "    .dataframe tbody tr th {\n",
       "        vertical-align: top;\n",
       "    }\n",
       "\n",
       "    .dataframe thead th {\n",
       "        text-align: right;\n",
       "    }\n",
       "</style>\n",
       "<table border=\"1\" class=\"dataframe\">\n",
       "  <thead>\n",
       "    <tr style=\"text-align: right;\">\n",
       "      <th></th>\n",
       "      <th>id</th>\n",
       "      <th>target</th>\n",
       "    </tr>\n",
       "  </thead>\n",
       "  <tbody>\n",
       "    <tr>\n",
       "      <th>3258</th>\n",
       "      <td>10861</td>\n",
       "      <td>1</td>\n",
       "    </tr>\n",
       "    <tr>\n",
       "      <th>3259</th>\n",
       "      <td>10865</td>\n",
       "      <td>1</td>\n",
       "    </tr>\n",
       "    <tr>\n",
       "      <th>3260</th>\n",
       "      <td>10868</td>\n",
       "      <td>1</td>\n",
       "    </tr>\n",
       "    <tr>\n",
       "      <th>3261</th>\n",
       "      <td>10874</td>\n",
       "      <td>1</td>\n",
       "    </tr>\n",
       "    <tr>\n",
       "      <th>3262</th>\n",
       "      <td>10875</td>\n",
       "      <td>1</td>\n",
       "    </tr>\n",
       "  </tbody>\n",
       "</table>\n",
       "</div>"
      ],
      "text/plain": [
       "         id  target\n",
       "3258  10861       1\n",
       "3259  10865       1\n",
       "3260  10868       1\n",
       "3261  10874       1\n",
       "3262  10875       1"
      ]
     },
     "execution_count": 32,
     "metadata": {},
     "output_type": "execute_result"
    }
   ],
   "source": [
    "y_test_pred = pd.DataFrame(data=test_ids, columns=['id'])\n",
    "y_test_pred['target'] = np.round(classifier_model.predict(create_input(X_test))).astype('int')\n",
    "y_test_pred.to_csv('./submission.csv', index=False)\n",
    "y_test_pred.tail()"
   ]
  },
  {
   "cell_type": "code",
   "execution_count": null,
   "id": "5e2aee7c",
   "metadata": {
    "papermill": {
     "duration": 0.021951,
     "end_time": "2022-08-15T00:14:45.333872",
     "exception": false,
     "start_time": "2022-08-15T00:14:45.311921",
     "status": "completed"
    },
    "tags": []
   },
   "outputs": [],
   "source": []
  }
 ],
 "metadata": {
  "kernelspec": {
   "display_name": "Python 3",
   "language": "python",
   "name": "python3"
  },
  "language_info": {
   "codemirror_mode": {
    "name": "ipython",
    "version": 3
   },
   "file_extension": ".py",
   "mimetype": "text/x-python",
   "name": "python",
   "nbconvert_exporter": "python",
   "pygments_lexer": "ipython3",
   "version": "3.7.12"
  },
  "papermill": {
   "default_parameters": {},
   "duration": 795.686871,
   "end_time": "2022-08-15T00:14:48.434394",
   "environment_variables": {},
   "exception": null,
   "input_path": "__notebook__.ipynb",
   "output_path": "__notebook__.ipynb",
   "parameters": {},
   "start_time": "2022-08-15T00:01:32.747523",
   "version": "2.3.4"
  },
  "widgets": {
   "application/vnd.jupyter.widget-state+json": {
    "state": {
     "435974515f7b43bbb48071369041962c": {
      "model_module": "@jupyter-widgets/base",
      "model_module_version": "1.2.0",
      "model_name": "LayoutModel",
      "state": {
       "_model_module": "@jupyter-widgets/base",
       "_model_module_version": "1.2.0",
       "_model_name": "LayoutModel",
       "_view_count": null,
       "_view_module": "@jupyter-widgets/base",
       "_view_module_version": "1.2.0",
       "_view_name": "LayoutView",
       "align_content": null,
       "align_items": null,
       "align_self": null,
       "border": null,
       "bottom": null,
       "display": null,
       "flex": null,
       "flex_flow": null,
       "grid_area": null,
       "grid_auto_columns": null,
       "grid_auto_flow": null,
       "grid_auto_rows": null,
       "grid_column": null,
       "grid_gap": null,
       "grid_row": null,
       "grid_template_areas": null,
       "grid_template_columns": null,
       "grid_template_rows": null,
       "height": null,
       "justify_content": null,
       "justify_items": null,
       "left": null,
       "margin": null,
       "max_height": null,
       "max_width": null,
       "min_height": null,
       "min_width": null,
       "object_fit": null,
       "object_position": null,
       "order": null,
       "overflow": null,
       "overflow_x": null,
       "overflow_y": null,
       "padding": null,
       "right": null,
       "top": null,
       "visibility": null,
       "width": null
      }
     },
     "53ddc9ee6cda485dbbb30041e2232e81": {
      "model_module": "@jupyter-widgets/controls",
      "model_module_version": "1.5.0",
      "model_name": "FloatProgressModel",
      "state": {
       "_dom_classes": [],
       "_model_module": "@jupyter-widgets/controls",
       "_model_module_version": "1.5.0",
       "_model_name": "FloatProgressModel",
       "_view_count": null,
       "_view_module": "@jupyter-widgets/controls",
       "_view_module_version": "1.5.0",
       "_view_name": "ProgressView",
       "bar_style": "success",
       "description": "",
       "description_tooltip": null,
       "layout": "IPY_MODEL_59de61bf0f7447fb8f558056bf34d43a",
       "max": 42.0,
       "min": 0.0,
       "orientation": "horizontal",
       "style": "IPY_MODEL_7cccf2c9eb614c4abee7ab061b998199",
       "value": 42.0
      }
     },
     "59de61bf0f7447fb8f558056bf34d43a": {
      "model_module": "@jupyter-widgets/base",
      "model_module_version": "1.2.0",
      "model_name": "LayoutModel",
      "state": {
       "_model_module": "@jupyter-widgets/base",
       "_model_module_version": "1.2.0",
       "_model_name": "LayoutModel",
       "_view_count": null,
       "_view_module": "@jupyter-widgets/base",
       "_view_module_version": "1.2.0",
       "_view_name": "LayoutView",
       "align_content": null,
       "align_items": null,
       "align_self": null,
       "border": null,
       "bottom": null,
       "display": null,
       "flex": null,
       "flex_flow": null,
       "grid_area": null,
       "grid_auto_columns": null,
       "grid_auto_flow": null,
       "grid_auto_rows": null,
       "grid_column": null,
       "grid_gap": null,
       "grid_row": null,
       "grid_template_areas": null,
       "grid_template_columns": null,
       "grid_template_rows": null,
       "height": null,
       "justify_content": null,
       "justify_items": null,
       "left": null,
       "margin": null,
       "max_height": null,
       "max_width": null,
       "min_height": null,
       "min_width": null,
       "object_fit": null,
       "object_position": null,
       "order": null,
       "overflow": null,
       "overflow_x": null,
       "overflow_y": null,
       "padding": null,
       "right": null,
       "top": null,
       "visibility": null,
       "width": null
      }
     },
     "5c2e03afb9254e07ab89c8ad7483249f": {
      "model_module": "@jupyter-widgets/controls",
      "model_module_version": "1.5.0",
      "model_name": "HTMLModel",
      "state": {
       "_dom_classes": [],
       "_model_module": "@jupyter-widgets/controls",
       "_model_module_version": "1.5.0",
       "_model_name": "HTMLModel",
       "_view_count": null,
       "_view_module": "@jupyter-widgets/controls",
       "_view_module_version": "1.5.0",
       "_view_name": "HTMLView",
       "description": "",
       "description_tooltip": null,
       "layout": "IPY_MODEL_e747f5993c7240a6b1aab41ab7cb6339",
       "placeholder": "​",
       "style": "IPY_MODEL_8346466b320340089c29a60d755f21c7",
       "value": "100%"
      }
     },
     "6b4ceb875c554e4e81f211f8aa9f9581": {
      "model_module": "@jupyter-widgets/base",
      "model_module_version": "1.2.0",
      "model_name": "LayoutModel",
      "state": {
       "_model_module": "@jupyter-widgets/base",
       "_model_module_version": "1.2.0",
       "_model_name": "LayoutModel",
       "_view_count": null,
       "_view_module": "@jupyter-widgets/base",
       "_view_module_version": "1.2.0",
       "_view_name": "LayoutView",
       "align_content": null,
       "align_items": null,
       "align_self": null,
       "border": null,
       "bottom": null,
       "display": null,
       "flex": null,
       "flex_flow": null,
       "grid_area": null,
       "grid_auto_columns": null,
       "grid_auto_flow": null,
       "grid_auto_rows": null,
       "grid_column": null,
       "grid_gap": null,
       "grid_row": null,
       "grid_template_areas": null,
       "grid_template_columns": null,
       "grid_template_rows": null,
       "height": null,
       "justify_content": null,
       "justify_items": null,
       "left": null,
       "margin": null,
       "max_height": null,
       "max_width": null,
       "min_height": null,
       "min_width": null,
       "object_fit": null,
       "object_position": null,
       "order": null,
       "overflow": null,
       "overflow_x": null,
       "overflow_y": null,
       "padding": null,
       "right": null,
       "top": null,
       "visibility": null,
       "width": null
      }
     },
     "7cccf2c9eb614c4abee7ab061b998199": {
      "model_module": "@jupyter-widgets/controls",
      "model_module_version": "1.5.0",
      "model_name": "ProgressStyleModel",
      "state": {
       "_model_module": "@jupyter-widgets/controls",
       "_model_module_version": "1.5.0",
       "_model_name": "ProgressStyleModel",
       "_view_count": null,
       "_view_module": "@jupyter-widgets/base",
       "_view_module_version": "1.2.0",
       "_view_name": "StyleView",
       "bar_color": null,
       "description_width": ""
      }
     },
     "8346466b320340089c29a60d755f21c7": {
      "model_module": "@jupyter-widgets/controls",
      "model_module_version": "1.5.0",
      "model_name": "DescriptionStyleModel",
      "state": {
       "_model_module": "@jupyter-widgets/controls",
       "_model_module_version": "1.5.0",
       "_model_name": "DescriptionStyleModel",
       "_view_count": null,
       "_view_module": "@jupyter-widgets/base",
       "_view_module_version": "1.2.0",
       "_view_name": "StyleView",
       "description_width": ""
      }
     },
     "83e34e752b7f4c4eaf431eb1c4c31e68": {
      "model_module": "@jupyter-widgets/controls",
      "model_module_version": "1.5.0",
      "model_name": "DescriptionStyleModel",
      "state": {
       "_model_module": "@jupyter-widgets/controls",
       "_model_module_version": "1.5.0",
       "_model_name": "DescriptionStyleModel",
       "_view_count": null,
       "_view_module": "@jupyter-widgets/base",
       "_view_module_version": "1.2.0",
       "_view_name": "StyleView",
       "description_width": ""
      }
     },
     "b2fc196acb224f5e8b69b95b506e228a": {
      "model_module": "@jupyter-widgets/controls",
      "model_module_version": "1.5.0",
      "model_name": "HBoxModel",
      "state": {
       "_dom_classes": [],
       "_model_module": "@jupyter-widgets/controls",
       "_model_module_version": "1.5.0",
       "_model_name": "HBoxModel",
       "_view_count": null,
       "_view_module": "@jupyter-widgets/controls",
       "_view_module_version": "1.5.0",
       "_view_name": "HBoxView",
       "box_style": "",
       "children": [
        "IPY_MODEL_5c2e03afb9254e07ab89c8ad7483249f",
        "IPY_MODEL_53ddc9ee6cda485dbbb30041e2232e81",
        "IPY_MODEL_ba6ebae9d35042839d7770d92d84fdee"
       ],
       "layout": "IPY_MODEL_6b4ceb875c554e4e81f211f8aa9f9581"
      }
     },
     "ba6ebae9d35042839d7770d92d84fdee": {
      "model_module": "@jupyter-widgets/controls",
      "model_module_version": "1.5.0",
      "model_name": "HTMLModel",
      "state": {
       "_dom_classes": [],
       "_model_module": "@jupyter-widgets/controls",
       "_model_module_version": "1.5.0",
       "_model_name": "HTMLModel",
       "_view_count": null,
       "_view_module": "@jupyter-widgets/controls",
       "_view_module_version": "1.5.0",
       "_view_name": "HTMLView",
       "description": "",
       "description_tooltip": null,
       "layout": "IPY_MODEL_435974515f7b43bbb48071369041962c",
       "placeholder": "​",
       "style": "IPY_MODEL_83e34e752b7f4c4eaf431eb1c4c31e68",
       "value": " 42/42 [02:20&lt;00:00,  3.51s/it]"
      }
     },
     "e747f5993c7240a6b1aab41ab7cb6339": {
      "model_module": "@jupyter-widgets/base",
      "model_module_version": "1.2.0",
      "model_name": "LayoutModel",
      "state": {
       "_model_module": "@jupyter-widgets/base",
       "_model_module_version": "1.2.0",
       "_model_name": "LayoutModel",
       "_view_count": null,
       "_view_module": "@jupyter-widgets/base",
       "_view_module_version": "1.2.0",
       "_view_name": "LayoutView",
       "align_content": null,
       "align_items": null,
       "align_self": null,
       "border": null,
       "bottom": null,
       "display": null,
       "flex": null,
       "flex_flow": null,
       "grid_area": null,
       "grid_auto_columns": null,
       "grid_auto_flow": null,
       "grid_auto_rows": null,
       "grid_column": null,
       "grid_gap": null,
       "grid_row": null,
       "grid_template_areas": null,
       "grid_template_columns": null,
       "grid_template_rows": null,
       "height": null,
       "justify_content": null,
       "justify_items": null,
       "left": null,
       "margin": null,
       "max_height": null,
       "max_width": null,
       "min_height": null,
       "min_width": null,
       "object_fit": null,
       "object_position": null,
       "order": null,
       "overflow": null,
       "overflow_x": null,
       "overflow_y": null,
       "padding": null,
       "right": null,
       "top": null,
       "visibility": null,
       "width": null
      }
     }
    },
    "version_major": 2,
    "version_minor": 0
   }
  }
 },
 "nbformat": 4,
 "nbformat_minor": 5
}
