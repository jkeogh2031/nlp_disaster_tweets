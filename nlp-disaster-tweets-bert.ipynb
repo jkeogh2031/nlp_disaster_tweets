{
 "cells": [
  {
   "cell_type": "code",
   "execution_count": 1,
   "id": "1a38a903",
   "metadata": {
    "execution": {
     "iopub.execute_input": "2022-08-15T08:37:02.054443Z",
     "iopub.status.busy": "2022-08-15T08:37:02.053878Z",
     "iopub.status.idle": "2022-08-15T08:38:25.262561Z",
     "shell.execute_reply": "2022-08-15T08:38:25.261305Z"
    },
    "papermill": {
     "duration": 83.22186,
     "end_time": "2022-08-15T08:38:25.265311",
     "exception": false,
     "start_time": "2022-08-15T08:37:02.043451",
     "status": "completed"
    },
    "tags": []
   },
   "outputs": [
    {
     "name": "stdout",
     "output_type": "stream",
     "text": [
      "\u001b[31mERROR: pip's dependency resolver does not currently take into account all the packages that are installed. This behaviour is the source of the following dependency conflicts.\r\n",
      "tfx-bsl 1.9.0 requires tensorflow!=2.0.*,!=2.1.*,!=2.2.*,!=2.3.*,!=2.4.*,!=2.5.*,!=2.6.*,!=2.7.*,!=2.8.*,<3,>=1.15.5, but you have tensorflow 2.8.2 which is incompatible.\r\n",
      "tensorflow-transform 1.9.0 requires tensorflow!=2.0.*,!=2.1.*,!=2.2.*,!=2.3.*,!=2.4.*,!=2.5.*,!=2.6.*,!=2.7.*,!=2.8.*,<2.10,>=1.15.5, but you have tensorflow 2.8.2 which is incompatible.\r\n",
      "tensorflow-serving-api 2.9.0 requires tensorflow<3,>=2.9.0, but you have tensorflow 2.8.2 which is incompatible.\r\n",
      "tensorflow-io 0.21.0 requires tensorflow<2.7.0,>=2.6.0, but you have tensorflow 2.8.2 which is incompatible.\r\n",
      "tensorflow-io 0.21.0 requires tensorflow-io-gcs-filesystem==0.21.0, but you have tensorflow-io-gcs-filesystem 0.26.0 which is incompatible.\u001b[0m\u001b[31m\r\n",
      "\u001b[0m\u001b[33mWARNING: Running pip as the 'root' user can result in broken permissions and conflicting behaviour with the system package manager. It is recommended to use a virtual environment instead: https://pip.pypa.io/warnings/venv\u001b[0m\u001b[33m\r\n",
      "\u001b[0m"
     ]
    }
   ],
   "source": [
    "!pip install -q -U \"tensorflow-text==2.8.*\""
   ]
  },
  {
   "cell_type": "code",
   "execution_count": 2,
   "id": "570613b6",
   "metadata": {
    "execution": {
     "iopub.execute_input": "2022-08-15T08:38:25.282923Z",
     "iopub.status.busy": "2022-08-15T08:38:25.282190Z",
     "iopub.status.idle": "2022-08-15T08:39:12.187265Z",
     "shell.execute_reply": "2022-08-15T08:39:12.186111Z"
    },
    "papermill": {
     "duration": 46.916934,
     "end_time": "2022-08-15T08:39:12.189945",
     "exception": false,
     "start_time": "2022-08-15T08:38:25.273011",
     "status": "completed"
    },
    "tags": []
   },
   "outputs": [
    {
     "name": "stdout",
     "output_type": "stream",
     "text": [
      "\u001b[33mWARNING: Running pip as the 'root' user can result in broken permissions and conflicting behaviour with the system package manager. It is recommended to use a virtual environment instead: https://pip.pypa.io/warnings/venv\u001b[0m\u001b[33m\r\n",
      "\u001b[0m"
     ]
    }
   ],
   "source": [
    "!pip install -q tf-models-official==2.7.0"
   ]
  },
  {
   "cell_type": "code",
   "execution_count": 3,
   "id": "754d8561",
   "metadata": {
    "_cell_guid": "b1076dfc-b9ad-4769-8c92-a6c4dae69d19",
    "_uuid": "8f2839f25d086af736a60e9eeb907d3b93b6e0e5",
    "execution": {
     "iopub.execute_input": "2022-08-15T08:39:12.206275Z",
     "iopub.status.busy": "2022-08-15T08:39:12.205947Z",
     "iopub.status.idle": "2022-08-15T08:39:17.765948Z",
     "shell.execute_reply": "2022-08-15T08:39:17.764914Z"
    },
    "papermill": {
     "duration": 5.571443,
     "end_time": "2022-08-15T08:39:17.768836",
     "exception": false,
     "start_time": "2022-08-15T08:39:12.197393",
     "status": "completed"
    },
    "tags": []
   },
   "outputs": [
    {
     "name": "stderr",
     "output_type": "stream",
     "text": [
      "[nltk_data] Downloading package stopwords to /usr/share/nltk_data...\n",
      "[nltk_data]   Package stopwords is already up-to-date!\n",
      "[nltk_data] Downloading package omw-1.4 to /usr/share/nltk_data...\n",
      "/opt/conda/lib/python3.7/site-packages/tensorflow_addons/utils/ensure_tf_install.py:67: UserWarning: Tensorflow Addons supports using Python ops for all Tensorflow versions above or equal to 2.4.0 and strictly below 2.7.0 (nightly versions are not supported). \n",
      " The versions of TensorFlow you are currently using is 2.8.2 and is not supported. \n",
      "Some things might work, some things might not.\n",
      "If you were to encounter a bug, do not file an issue.\n",
      "If you want to make sure you're using a tested and supported configuration, either change the TensorFlow version or the TensorFlow Addons's version. \n",
      "You can find the compatibility matrix in TensorFlow Addon's readme:\n",
      "https://github.com/tensorflow/addons\n",
      "  UserWarning,\n"
     ]
    }
   ],
   "source": [
    "import os\n",
    "import shutil\n",
    "import numpy as np\n",
    "import pandas as pd\n",
    "import matplotlib.pyplot as plt\n",
    "import nltk\n",
    "from nltk.tokenize import RegexpTokenizer\n",
    "from nltk.stem import WordNetLemmatizer,PorterStemmer\n",
    "from nltk.corpus import stopwords\n",
    "nltk.download('stopwords')\n",
    "nltk.download('omw-1.4')\n",
    "import re\n",
    "from collections import Counter\n",
    "import random\n",
    "\n",
    "import tensorflow as tf\n",
    "from sklearn.model_selection import train_test_split\n",
    "import tensorflow_hub as hub\n",
    "import tensorflow_text as text\n",
    "from official.nlp import optimization\n",
    "\n",
    "tf.get_logger().setLevel('ERROR')"
   ]
  },
  {
   "cell_type": "code",
   "execution_count": 4,
   "id": "8d77764f",
   "metadata": {
    "execution": {
     "iopub.execute_input": "2022-08-15T08:39:17.786642Z",
     "iopub.status.busy": "2022-08-15T08:39:17.785996Z",
     "iopub.status.idle": "2022-08-15T08:39:17.863964Z",
     "shell.execute_reply": "2022-08-15T08:39:17.862790Z"
    },
    "papermill": {
     "duration": 0.089634,
     "end_time": "2022-08-15T08:39:17.866817",
     "exception": false,
     "start_time": "2022-08-15T08:39:17.777183",
     "status": "completed"
    },
    "tags": []
   },
   "outputs": [],
   "source": [
    "TRAIN_FP = '../input/nlp-getting-started/train.csv'\n",
    "TEST_FP = '../input/nlp-getting-started/test.csv'\n",
    "\n",
    "train = pd.read_csv(TRAIN_FP)\n",
    "test = pd.read_csv(TEST_FP)"
   ]
  },
  {
   "cell_type": "code",
   "execution_count": 5,
   "id": "d7241635",
   "metadata": {
    "execution": {
     "iopub.execute_input": "2022-08-15T08:39:17.884251Z",
     "iopub.status.busy": "2022-08-15T08:39:17.882741Z",
     "iopub.status.idle": "2022-08-15T08:39:17.896860Z",
     "shell.execute_reply": "2022-08-15T08:39:17.895793Z"
    },
    "papermill": {
     "duration": 0.025284,
     "end_time": "2022-08-15T08:39:17.899687",
     "exception": false,
     "start_time": "2022-08-15T08:39:17.874403",
     "status": "completed"
    },
    "tags": []
   },
   "outputs": [
    {
     "name": "stdout",
     "output_type": "stream",
     "text": [
      "3271 disasters, 42.97% of training set\n"
     ]
    }
   ],
   "source": [
    "disaster_tweets = train.loc[train['target'] == 1, :].shape[0]\n",
    "total_tweets = train.shape[0]\n",
    "print(f'{disaster_tweets} disasters, {(disaster_tweets/total_tweets)*100:.2f}% of training set')"
   ]
  },
  {
   "cell_type": "code",
   "execution_count": 6,
   "id": "a881ba44",
   "metadata": {
    "execution": {
     "iopub.execute_input": "2022-08-15T08:39:17.917655Z",
     "iopub.status.busy": "2022-08-15T08:39:17.917376Z",
     "iopub.status.idle": "2022-08-15T08:39:17.931358Z",
     "shell.execute_reply": "2022-08-15T08:39:17.930260Z"
    },
    "papermill": {
     "duration": 0.026023,
     "end_time": "2022-08-15T08:39:17.934016",
     "exception": false,
     "start_time": "2022-08-15T08:39:17.907993",
     "status": "completed"
    },
    "tags": []
   },
   "outputs": [
    {
     "name": "stdout",
     "output_type": "stream",
     "text": [
      "69 tweets duplicated, 179 total duplicates\n"
     ]
    }
   ],
   "source": [
    "train_duplicates = train.loc[train.duplicated(subset='text', keep=False), :]\n",
    "num_unique_duplicated_tweets = train_duplicates.loc(axis=1)['text'].unique().shape[0]\n",
    "num_total_duplicated_tweets = train_duplicates.shape[0]\n",
    "\n",
    "print(f'{num_unique_duplicated_tweets} tweets duplicated, {num_total_duplicated_tweets} total duplicates')"
   ]
  },
  {
   "cell_type": "code",
   "execution_count": 7,
   "id": "194a96ad",
   "metadata": {
    "execution": {
     "iopub.execute_input": "2022-08-15T08:39:17.950264Z",
     "iopub.status.busy": "2022-08-15T08:39:17.949996Z",
     "iopub.status.idle": "2022-08-15T08:39:18.070910Z",
     "shell.execute_reply": "2022-08-15T08:39:18.069895Z"
    },
    "papermill": {
     "duration": 0.131848,
     "end_time": "2022-08-15T08:39:18.073513",
     "exception": false,
     "start_time": "2022-08-15T08:39:17.941665",
     "status": "completed"
    },
    "tags": []
   },
   "outputs": [
    {
     "name": "stdout",
     "output_type": "stream",
     "text": [
      "Remaining duplicates in training set: 0\n"
     ]
    }
   ],
   "source": [
    "# For the duplicated entries, if not marked the same => drop altogether\n",
    "duplicated_tweets = train_duplicates.loc(axis=1)['text'].unique()\n",
    "train_first_of_duplicate = pd.DataFrame(columns=train.columns)\n",
    "\n",
    "for tweet in duplicated_tweets:\n",
    "    if train_duplicates.loc(axis=0)[train_duplicates['text'] == tweet]['target'].unique().shape[0] == 1:\n",
    "        train_first_of_duplicate = pd.concat([\n",
    "            train_first_of_duplicate,\n",
    "            pd.DataFrame(train_duplicates.loc(axis=0)[train_duplicates['text'] == tweet].iloc[0]).T\n",
    "        ],\n",
    "            ignore_index=True\n",
    "        )\n",
    "\n",
    "# All of training set with none of the duplicates\n",
    "train_unduplicated = train.drop_duplicates(subset='text', keep=False)\n",
    "\n",
    "# All of training set with first instance of each duplicate included\n",
    "train_all_no_duplicates = pd.concat([\n",
    "    train_first_of_duplicate,\n",
    "    train_unduplicated     \n",
    "],\n",
    "    ignore_index=True\n",
    ")\n",
    "\n",
    "# Check no duplicates remain\n",
    "remaining_duplicates = train_all_no_duplicates.loc[train_all_no_duplicates.duplicated(subset='text', keep=False), :]\n",
    "print(f'Remaining duplicates in training set: {remaining_duplicates.shape[0]}')"
   ]
  },
  {
   "cell_type": "code",
   "execution_count": 8,
   "id": "15894e45",
   "metadata": {
    "execution": {
     "iopub.execute_input": "2022-08-15T08:39:18.091526Z",
     "iopub.status.busy": "2022-08-15T08:39:18.090260Z",
     "iopub.status.idle": "2022-08-15T08:39:18.095009Z",
     "shell.execute_reply": "2022-08-15T08:39:18.094121Z"
    },
    "papermill": {
     "duration": 0.01506,
     "end_time": "2022-08-15T08:39:18.096987",
     "exception": false,
     "start_time": "2022-08-15T08:39:18.081927",
     "status": "completed"
    },
    "tags": []
   },
   "outputs": [],
   "source": [
    "train_set = train_all_no_duplicates\n",
    "test_set = test"
   ]
  },
  {
   "cell_type": "markdown",
   "id": "b62975cd",
   "metadata": {
    "papermill": {
     "duration": 0.007624,
     "end_time": "2022-08-15T08:39:18.112004",
     "exception": false,
     "start_time": "2022-08-15T08:39:18.104380",
     "status": "completed"
    },
    "tags": []
   },
   "source": [
    "### BERT Import"
   ]
  },
  {
   "cell_type": "code",
   "execution_count": 9,
   "id": "04e57bb6",
   "metadata": {
    "execution": {
     "iopub.execute_input": "2022-08-15T08:39:18.127917Z",
     "iopub.status.busy": "2022-08-15T08:39:18.127628Z",
     "iopub.status.idle": "2022-08-15T08:39:21.946315Z",
     "shell.execute_reply": "2022-08-15T08:39:21.945084Z"
    },
    "papermill": {
     "duration": 3.829306,
     "end_time": "2022-08-15T08:39:21.948706",
     "exception": false,
     "start_time": "2022-08-15T08:39:18.119400",
     "status": "completed"
    },
    "tags": []
   },
   "outputs": [],
   "source": [
    "tfhub_handle_encoder = 'https://tfhub.dev/tensorflow/small_bert/bert_en_uncased_L-4_H-512_A-8/1'\n",
    "tfhub_handle_preprocess = 'https://tfhub.dev/tensorflow/bert_en_uncased_preprocess/3'\n",
    "\n",
    "bert_preprocess_model = hub.KerasLayer(tfhub_handle_preprocess)"
   ]
  },
  {
   "cell_type": "code",
   "execution_count": 10,
   "id": "2d4d9efd",
   "metadata": {
    "execution": {
     "iopub.execute_input": "2022-08-15T08:39:21.966379Z",
     "iopub.status.busy": "2022-08-15T08:39:21.965516Z",
     "iopub.status.idle": "2022-08-15T08:39:22.152496Z",
     "shell.execute_reply": "2022-08-15T08:39:22.151431Z"
    },
    "papermill": {
     "duration": 0.199032,
     "end_time": "2022-08-15T08:39:22.155960",
     "exception": false,
     "start_time": "2022-08-15T08:39:21.956928",
     "status": "completed"
    },
    "tags": []
   },
   "outputs": [
    {
     "name": "stdout",
     "output_type": "stream",
     "text": [
      "['The United Kingdom and France are bombing Daesh in Syria - Voltaire Network http://t.co/zYSsObXNtC']\n",
      "Keys       : ['input_mask', 'input_word_ids', 'input_type_ids']\n",
      "Shape      : (1, 128)\n",
      "Word Ids   : [ 101 1996 2142 2983 1998 2605 2024 8647 4830 9953 1999 7795]\n",
      "Input Mask : [1 1 1 1 1 1 1 1 1 1 1 1]\n",
      "Type Ids   : [0 0 0 0 0 0 0 0 0 0 0 0]\n"
     ]
    }
   ],
   "source": [
    "example_num = random.randint(0, train_set.shape[0])\n",
    "text_test = [train_set['text'].iloc[example_num]]\n",
    "print(text_test)\n",
    "text_preprocessed = bert_preprocess_model(text_test)\n",
    "\n",
    "print(f'Keys       : {list(text_preprocessed.keys())}')\n",
    "print(f'Shape      : {text_preprocessed[\"input_word_ids\"].shape}')\n",
    "print(f'Word Ids   : {text_preprocessed[\"input_word_ids\"][0, :12]}')\n",
    "print(f'Input Mask : {text_preprocessed[\"input_mask\"][0, :12]}')\n",
    "print(f'Type Ids   : {text_preprocessed[\"input_type_ids\"][0, :12]}')"
   ]
  },
  {
   "cell_type": "code",
   "execution_count": 11,
   "id": "98756b79",
   "metadata": {
    "execution": {
     "iopub.execute_input": "2022-08-15T08:39:22.174836Z",
     "iopub.status.busy": "2022-08-15T08:39:22.174525Z",
     "iopub.status.idle": "2022-08-15T08:39:29.693950Z",
     "shell.execute_reply": "2022-08-15T08:39:29.692972Z"
    },
    "papermill": {
     "duration": 7.530633,
     "end_time": "2022-08-15T08:39:29.696540",
     "exception": false,
     "start_time": "2022-08-15T08:39:22.165907",
     "status": "completed"
    },
    "tags": []
   },
   "outputs": [],
   "source": [
    "bert_model = hub.KerasLayer(tfhub_handle_encoder)"
   ]
  },
  {
   "cell_type": "code",
   "execution_count": 12,
   "id": "779982e2",
   "metadata": {
    "execution": {
     "iopub.execute_input": "2022-08-15T08:39:29.715427Z",
     "iopub.status.busy": "2022-08-15T08:39:29.713748Z",
     "iopub.status.idle": "2022-08-15T08:39:30.854019Z",
     "shell.execute_reply": "2022-08-15T08:39:30.852578Z"
    },
    "papermill": {
     "duration": 1.151941,
     "end_time": "2022-08-15T08:39:30.856850",
     "exception": false,
     "start_time": "2022-08-15T08:39:29.704909",
     "status": "completed"
    },
    "tags": []
   },
   "outputs": [
    {
     "name": "stdout",
     "output_type": "stream",
     "text": [
      "Loaded BERT: https://tfhub.dev/tensorflow/small_bert/bert_en_uncased_L-4_H-512_A-8/1\n",
      "Pooled Outputs Shape:(1, 512)\n",
      "Pooled Outputs Values:[ 0.98438525  0.9864037  -0.09586595  0.04142182  0.2002271   0.9517356\n",
      "  0.9972878  -0.9921906   0.29973978 -0.99172884  0.22162972 -0.8640669 ]\n",
      "Sequence Outputs Shape:(1, 128, 512)\n",
      "Sequence Outputs Values:[[ 0.7205717   0.47285283  0.1908226  ... -0.7430383   0.5793655\n",
      "   0.26321638]\n",
      " [ 0.7426969   0.2474195  -1.4088069  ... -1.088355    0.32386014\n",
      "   0.4840374 ]\n",
      " [ 0.13445586  0.2036423  -0.30296332 ... -0.5558567   0.4371761\n",
      "   0.88481486]\n",
      " ...\n",
      " [-0.74530196 -0.8325824   0.01167186 ... -0.2945523  -0.7498554\n",
      "   1.1088502 ]\n",
      " [ 0.33540463 -0.4615992   0.08725515 ... -0.13282494 -0.58687115\n",
      "   1.0408769 ]\n",
      " [-0.62442946 -0.42513     0.03164848 ...  0.99508965  0.06068611\n",
      "  -0.4791151 ]]\n"
     ]
    }
   ],
   "source": [
    "bert_results = bert_model(text_preprocessed)\n",
    "\n",
    "print(f'Loaded BERT: {tfhub_handle_encoder}')\n",
    "print(f'Pooled Outputs Shape:{bert_results[\"pooled_output\"].shape}')\n",
    "print(f'Pooled Outputs Values:{bert_results[\"pooled_output\"][0, :12]}')\n",
    "print(f'Sequence Outputs Shape:{bert_results[\"sequence_output\"].shape}')\n",
    "print(f'Sequence Outputs Values:{bert_results[\"sequence_output\"][0, :12]}')"
   ]
  },
  {
   "cell_type": "code",
   "execution_count": 13,
   "id": "098d254b",
   "metadata": {
    "execution": {
     "iopub.execute_input": "2022-08-15T08:39:30.874822Z",
     "iopub.status.busy": "2022-08-15T08:39:30.874239Z",
     "iopub.status.idle": "2022-08-15T08:39:30.881256Z",
     "shell.execute_reply": "2022-08-15T08:39:30.880338Z"
    },
    "papermill": {
     "duration": 0.01821,
     "end_time": "2022-08-15T08:39:30.883400",
     "exception": false,
     "start_time": "2022-08-15T08:39:30.865190",
     "status": "completed"
    },
    "tags": []
   },
   "outputs": [],
   "source": [
    "def build_classifier_model():\n",
    "    input_word_ids = tf.keras.layers.Input(shape=(None,), dtype=tf.int32, name=\"input_word_ids\")\n",
    "    input_type_ids = tf.keras.layers.Input(shape=(None,), dtype=tf.int32, name=\"input_type_ids\")\n",
    "    input_mask = tf.keras.layers.Input(shape=(None,), dtype=tf.int32, name=\"input_mask\")\n",
    "    \n",
    "    encoder_inputs = {\n",
    "        \"input_word_ids\": input_word_ids,\n",
    "        \"input_type_ids\": input_type_ids,\n",
    "        \"input_mask\": input_mask\n",
    "    }\n",
    "    \n",
    "    encoder = hub.KerasLayer(tfhub_handle_encoder, trainable=True, name='BERT_encoder')\n",
    "    outputs = encoder(encoder_inputs)\n",
    "    net = outputs['pooled_output']\n",
    "#     net = tf.keras.layers.Dropout(0.1)(net)\n",
    "    net = tf.keras.layers.Dense(1, activation='sigmoid', name='classifier')(net)\n",
    "    return tf.keras.Model(inputs=[input_word_ids, input_type_ids, input_mask], outputs=net)\n",
    "    "
   ]
  },
  {
   "cell_type": "code",
   "execution_count": 14,
   "id": "554d8042",
   "metadata": {
    "execution": {
     "iopub.execute_input": "2022-08-15T08:39:30.899909Z",
     "iopub.status.busy": "2022-08-15T08:39:30.899635Z",
     "iopub.status.idle": "2022-08-15T08:39:36.850841Z",
     "shell.execute_reply": "2022-08-15T08:39:36.848649Z"
    },
    "papermill": {
     "duration": 5.961883,
     "end_time": "2022-08-15T08:39:36.853113",
     "exception": false,
     "start_time": "2022-08-15T08:39:30.891230",
     "status": "completed"
    },
    "tags": []
   },
   "outputs": [
    {
     "name": "stdout",
     "output_type": "stream",
     "text": [
      "tf.Tensor([[0.6624731]], shape=(1, 1), dtype=float32)\n"
     ]
    }
   ],
   "source": [
    "classifier_model = build_classifier_model()\n",
    "bert_raw_result = classifier_model([\n",
    "    text_preprocessed[\"input_word_ids\"],\n",
    "    text_preprocessed[\"input_type_ids\"],\n",
    "    text_preprocessed[\"input_mask\"],\n",
    "])\n",
    "print(bert_raw_result)"
   ]
  },
  {
   "cell_type": "markdown",
   "id": "7c09bce3",
   "metadata": {
    "papermill": {
     "duration": 0.007824,
     "end_time": "2022-08-15T08:39:36.869058",
     "exception": false,
     "start_time": "2022-08-15T08:39:36.861234",
     "status": "completed"
    },
    "tags": []
   },
   "source": [
    "### Pre-Processing"
   ]
  },
  {
   "cell_type": "code",
   "execution_count": 15,
   "id": "676cb800",
   "metadata": {
    "execution": {
     "iopub.execute_input": "2022-08-15T08:39:36.888423Z",
     "iopub.status.busy": "2022-08-15T08:39:36.888083Z",
     "iopub.status.idle": "2022-08-15T08:39:36.908788Z",
     "shell.execute_reply": "2022-08-15T08:39:36.907780Z"
    },
    "jupyter": {
     "source_hidden": true
    },
    "papermill": {
     "duration": 0.033633,
     "end_time": "2022-08-15T08:39:36.910791",
     "exception": false,
     "start_time": "2022-08-15T08:39:36.877158",
     "status": "completed"
    },
    "tags": []
   },
   "outputs": [],
   "source": [
    "abbreviations = {\n",
    "    \"$\" : \" dollar \",\n",
    "    \"€\" : \" euro \",\n",
    "    \"4ao\" : \"for adults only\",\n",
    "    \"a.m\" : \"before midday\",\n",
    "    \"a3\" : \"anytime anywhere anyplace\",\n",
    "    \"aamof\" : \"as a matter of fact\",\n",
    "    \"acct\" : \"account\",\n",
    "    \"adih\" : \"another day in hell\",\n",
    "    \"afaic\" : \"as far as i am concerned\",\n",
    "    \"afaict\" : \"as far as i can tell\",\n",
    "    \"afaik\" : \"as far as i know\",\n",
    "    \"afair\" : \"as far as i remember\",\n",
    "    \"afk\" : \"away from keyboard\",\n",
    "    \"app\" : \"application\",\n",
    "    \"approx\" : \"approximately\",\n",
    "    \"apps\" : \"applications\",\n",
    "    \"asap\" : \"as soon as possible\",\n",
    "    \"asl\" : \"age, sex, location\",\n",
    "    \"atk\" : \"at the keyboard\",\n",
    "    \"ave.\" : \"avenue\",\n",
    "    \"aymm\" : \"are you my mother\",\n",
    "    \"ayor\" : \"at your own risk\", \n",
    "    \"b&b\" : \"bed and breakfast\",\n",
    "    \"b+b\" : \"bed and breakfast\",\n",
    "    \"b.c\" : \"before christ\",\n",
    "    \"b2b\" : \"business to business\",\n",
    "    \"b2c\" : \"business to customer\",\n",
    "    \"b4\" : \"before\",\n",
    "    \"b4n\" : \"bye for now\",\n",
    "    \"b@u\" : \"back at you\",\n",
    "    \"bae\" : \"before anyone else\",\n",
    "    \"bak\" : \"back at keyboard\",\n",
    "    \"bbbg\" : \"bye bye be good\",\n",
    "    \"bbc\" : \"british broadcasting corporation\",\n",
    "    \"bbias\" : \"be back in a second\",\n",
    "    \"bbl\" : \"be back later\",\n",
    "    \"bbs\" : \"be back soon\",\n",
    "    \"be4\" : \"before\",\n",
    "    \"bfn\" : \"bye for now\",\n",
    "    \"blvd\" : \"boulevard\",\n",
    "    \"bout\" : \"about\",\n",
    "    \"brb\" : \"be right back\",\n",
    "    \"bros\" : \"brothers\",\n",
    "    \"brt\" : \"be right there\",\n",
    "    \"bsaaw\" : \"big smile and a wink\",\n",
    "    \"btw\" : \"by the way\",\n",
    "    \"bwl\" : \"bursting with laughter\",\n",
    "    \"c/o\" : \"care of\",\n",
    "    \"cet\" : \"central european time\",\n",
    "    \"cf\" : \"compare\",\n",
    "    \"cia\" : \"central intelligence agency\",\n",
    "    \"csl\" : \"can not stop laughing\",\n",
    "    \"cu\" : \"see you\",\n",
    "    \"cul8r\" : \"see you later\",\n",
    "    \"cv\" : \"curriculum vitae\",\n",
    "    \"cwot\" : \"complete waste of time\",\n",
    "    \"cya\" : \"see you\",\n",
    "    \"cyt\" : \"see you tomorrow\",\n",
    "    \"dae\" : \"does anyone else\",\n",
    "    \"dbmib\" : \"do not bother me i am busy\",\n",
    "    \"diy\" : \"do it yourself\",\n",
    "    \"dm\" : \"direct message\",\n",
    "    \"dwh\" : \"during work hours\",\n",
    "    \"e123\" : \"easy as one two three\",\n",
    "    \"eet\" : \"eastern european time\",\n",
    "    \"eg\" : \"example\",\n",
    "    \"embm\" : \"early morning business meeting\",\n",
    "    \"encl\" : \"enclosed\",\n",
    "    \"encl.\" : \"enclosed\",\n",
    "    \"etc\" : \"and so on\",\n",
    "    \"faq\" : \"frequently asked questions\",\n",
    "    \"fawc\" : \"for anyone who cares\",\n",
    "    \"fb\" : \"facebook\",\n",
    "    \"fc\" : \"fingers crossed\",\n",
    "    \"fig\" : \"figure\",\n",
    "    \"fimh\" : \"forever in my heart\", \n",
    "    \"ft.\" : \"feet\",\n",
    "    \"ft\" : \"featuring\",\n",
    "    \"ftl\" : \"for the loss\",\n",
    "    \"ftw\" : \"for the win\",\n",
    "    \"fwiw\" : \"for what it is worth\",\n",
    "    \"fyi\" : \"for your information\",\n",
    "    \"g9\" : \"genius\",\n",
    "    \"gahoy\" : \"get a hold of yourself\",\n",
    "    \"gal\" : \"get a life\",\n",
    "    \"gcse\" : \"general certificate of secondary education\",\n",
    "    \"gfn\" : \"gone for now\",\n",
    "    \"gg\" : \"good game\",\n",
    "    \"gl\" : \"good luck\",\n",
    "    \"glhf\" : \"good luck have fun\",\n",
    "    \"gmt\" : \"greenwich mean time\",\n",
    "    \"gmta\" : \"great minds think alike\",\n",
    "    \"gn\" : \"good night\",\n",
    "    \"g.o.a.t\" : \"greatest of all time\",\n",
    "    \"goat\" : \"greatest of all time\",\n",
    "    \"goi\" : \"get over it\",\n",
    "    \"gps\" : \"global positioning system\",\n",
    "    \"gr8\" : \"great\",\n",
    "    \"gratz\" : \"congratulations\",\n",
    "    \"gyal\" : \"girl\",\n",
    "    \"h&c\" : \"hot and cold\",\n",
    "    \"hp\" : \"horsepower\",\n",
    "    \"hr\" : \"hour\",\n",
    "    \"hrh\" : \"his royal highness\",\n",
    "    \"ht\" : \"height\",\n",
    "    \"ibrb\" : \"i will be right back\",\n",
    "    \"ic\" : \"i see\",\n",
    "    \"icq\" : \"i seek you\",\n",
    "    \"icymi\" : \"in case you missed it\",\n",
    "    \"idc\" : \"i do not care\",\n",
    "    \"idgadf\" : \"i do not give a damn fuck\",\n",
    "    \"idgaf\" : \"i do not give a fuck\",\n",
    "    \"idk\" : \"i do not know\",\n",
    "    \"ie\" : \"that is\",\n",
    "    \"i.e\" : \"that is\",\n",
    "    \"ifyp\" : \"i feel your pain\",\n",
    "    \"ig\" : \"instagram\",\n",
    "    \"iirc\" : \"if i remember correctly\",\n",
    "    \"ilu\" : \"i love you\",\n",
    "    \"ily\" : \"i love you\",\n",
    "    \"imho\" : \"in my humble opinion\",\n",
    "    \"imo\" : \"in my opinion\",\n",
    "    \"imu\" : \"i miss you\",\n",
    "    \"iow\" : \"in other words\",\n",
    "    \"irl\" : \"in real life\",\n",
    "    \"j4f\" : \"just for fun\",\n",
    "    \"jic\" : \"just in case\",\n",
    "    \"jk\" : \"just kidding\",\n",
    "    \"jsyk\" : \"just so you know\",\n",
    "    \"l8r\" : \"later\",\n",
    "    \"lb\" : \"pound\",\n",
    "    \"lbs\" : \"pounds\",\n",
    "    \"ldr\" : \"long distance relationship\",\n",
    "    \"lmao\" : \"laugh my ass off\",\n",
    "    \"lmfao\" : \"laugh my fucking ass off\",\n",
    "    \"lol\" : \"laughing out loud\",\n",
    "    \"ltd\" : \"limited\",\n",
    "    \"ltns\" : \"long time no see\",\n",
    "    \"m8\" : \"mate\",\n",
    "    \"mf\" : \"motherfucker\",\n",
    "    \"mfs\" : \"motherfuckers\",\n",
    "    \"mfw\" : \"my face when\",\n",
    "    \"mofo\" : \"motherfucker\",\n",
    "    \"mph\" : \"miles per hour\",\n",
    "    \"mr\" : \"mister\",\n",
    "    \"mrw\" : \"my reaction when\",\n",
    "    \"ms\" : \"miss\",\n",
    "    \"mte\" : \"my thoughts exactly\",\n",
    "    \"nagi\" : \"not a good idea\",\n",
    "    \"nbc\" : \"national broadcasting company\",\n",
    "    \"nbd\" : \"not big deal\",\n",
    "    \"nfs\" : \"not for sale\",\n",
    "    \"ngl\" : \"not going to lie\",\n",
    "    \"nhs\" : \"national health service\",\n",
    "    \"nrn\" : \"no reply necessary\",\n",
    "    \"nsfl\" : \"not safe for life\",\n",
    "    \"nsfw\" : \"not safe for work\",\n",
    "    \"nth\" : \"nice to have\",\n",
    "    \"nvr\" : \"never\",\n",
    "    \"nyc\" : \"new york city\",\n",
    "    \"oc\" : \"original content\",\n",
    "    \"og\" : \"original\",\n",
    "    \"ohp\" : \"overhead projector\",\n",
    "    \"oic\" : \"oh i see\",\n",
    "    \"omdb\" : \"over my dead body\",\n",
    "    \"omg\" : \"oh my god\",\n",
    "    \"omw\" : \"on my way\",\n",
    "    \"p.a\" : \"per annum\",\n",
    "    \"p.m\" : \"after midday\",\n",
    "    \"pm\" : \"prime minister\",\n",
    "    \"poc\" : \"people of color\",\n",
    "    \"pov\" : \"point of view\",\n",
    "    \"pp\" : \"pages\",\n",
    "    \"ppl\" : \"people\",\n",
    "    \"prw\" : \"parents are watching\",\n",
    "    \"ps\" : \"postscript\",\n",
    "    \"pt\" : \"point\",\n",
    "    \"ptb\" : \"please text back\",\n",
    "    \"pto\" : \"please turn over\",\n",
    "    \"qpsa\" : \"what happens\", #\"que pasa\",\n",
    "    \"ratchet\" : \"rude\",\n",
    "    \"rbtl\" : \"read between the lines\",\n",
    "    \"rlrt\" : \"real life retweet\", \n",
    "    \"rofl\" : \"rolling on the floor laughing\",\n",
    "    \"roflol\" : \"rolling on the floor laughing out loud\",\n",
    "    \"rotflmao\" : \"rolling on the floor laughing my ass off\",\n",
    "    \"rt\" : \"retweet\",\n",
    "    \"ruok\" : \"are you ok\",\n",
    "    \"sfw\" : \"safe for work\",\n",
    "    \"sk8\" : \"skate\",\n",
    "    \"smh\" : \"shake my head\",\n",
    "    \"sq\" : \"square\",\n",
    "    \"srsly\" : \"seriously\", \n",
    "    \"ssdd\" : \"same stuff different day\",\n",
    "    \"tbh\" : \"to be honest\",\n",
    "    \"tbs\" : \"tablespooful\",\n",
    "    \"tbsp\" : \"tablespooful\",\n",
    "    \"tfw\" : \"that feeling when\",\n",
    "    \"thks\" : \"thank you\",\n",
    "    \"tho\" : \"though\",\n",
    "    \"thx\" : \"thank you\",\n",
    "    \"tia\" : \"thanks in advance\",\n",
    "    \"til\" : \"today i learned\",\n",
    "    \"tl;dr\" : \"too long i did not read\",\n",
    "    \"tldr\" : \"too long i did not read\",\n",
    "    \"tmb\" : \"tweet me back\",\n",
    "    \"tntl\" : \"trying not to laugh\",\n",
    "    \"ttyl\" : \"talk to you later\",\n",
    "    \"u\" : \"you\",\n",
    "    \"u2\" : \"you too\",\n",
    "    \"u4e\" : \"yours for ever\",\n",
    "    \"utc\" : \"coordinated universal time\",\n",
    "    \"w/\" : \"with\",\n",
    "    \"w/o\" : \"without\",\n",
    "    \"w8\" : \"wait\",\n",
    "    \"wassup\" : \"what is up\",\n",
    "    \"wb\" : \"welcome back\",\n",
    "    \"wtf\" : \"what the fuck\",\n",
    "    \"wtg\" : \"way to go\",\n",
    "    \"wtpa\" : \"where the party at\",\n",
    "    \"wuf\" : \"where are you from\",\n",
    "    \"wuzup\" : \"what is up\",\n",
    "    \"wywh\" : \"wish you were here\",\n",
    "    \"yd\" : \"yard\",\n",
    "    \"ygtr\" : \"you got that right\",\n",
    "    \"ynk\" : \"you never know\",\n",
    "    \"zzz\" : \"sleeping bored and tired\"\n",
    "}"
   ]
  },
  {
   "cell_type": "code",
   "execution_count": 16,
   "id": "fe60d5b5",
   "metadata": {
    "execution": {
     "iopub.execute_input": "2022-08-15T08:39:36.927884Z",
     "iopub.status.busy": "2022-08-15T08:39:36.927082Z",
     "iopub.status.idle": "2022-08-15T08:39:36.948861Z",
     "shell.execute_reply": "2022-08-15T08:39:36.948021Z"
    },
    "papermill": {
     "duration": 0.032388,
     "end_time": "2022-08-15T08:39:36.950805",
     "exception": false,
     "start_time": "2022-08-15T08:39:36.918417",
     "status": "completed"
    },
    "tags": []
   },
   "outputs": [
    {
     "data": {
      "text/html": [
       "<div>\n",
       "<style scoped>\n",
       "    .dataframe tbody tr th:only-of-type {\n",
       "        vertical-align: middle;\n",
       "    }\n",
       "\n",
       "    .dataframe tbody tr th {\n",
       "        vertical-align: top;\n",
       "    }\n",
       "\n",
       "    .dataframe thead th {\n",
       "        text-align: right;\n",
       "    }\n",
       "</style>\n",
       "<table border=\"1\" class=\"dataframe\">\n",
       "  <thead>\n",
       "    <tr style=\"text-align: right;\">\n",
       "      <th></th>\n",
       "      <th>id</th>\n",
       "      <th>keyword</th>\n",
       "      <th>location</th>\n",
       "      <th>text</th>\n",
       "      <th>target</th>\n",
       "    </tr>\n",
       "  </thead>\n",
       "  <tbody>\n",
       "    <tr>\n",
       "      <th>0</th>\n",
       "      <td>59</td>\n",
       "      <td>ablaze</td>\n",
       "      <td>Live On Webcam</td>\n",
       "      <td>Check these out: http://t.co/rOI2NSmEJJ http:/...</td>\n",
       "      <td>0</td>\n",
       "    </tr>\n",
       "    <tr>\n",
       "      <th>1</th>\n",
       "      <td>156</td>\n",
       "      <td>aftershock</td>\n",
       "      <td>US</td>\n",
       "      <td>320 [IR] ICEMOON [AFTERSHOCK] | http://t.co/vA...</td>\n",
       "      <td>0</td>\n",
       "    </tr>\n",
       "    <tr>\n",
       "      <th>2</th>\n",
       "      <td>171</td>\n",
       "      <td>aftershock</td>\n",
       "      <td>Switzerland</td>\n",
       "      <td>320 [IR] ICEMOON [AFTERSHOCK] | http://t.co/TH...</td>\n",
       "      <td>0</td>\n",
       "    </tr>\n",
       "    <tr>\n",
       "      <th>3</th>\n",
       "      <td>211</td>\n",
       "      <td>airplane%20accident</td>\n",
       "      <td>NaN</td>\n",
       "      <td>Experts in France begin examining airplane deb...</td>\n",
       "      <td>1</td>\n",
       "    </tr>\n",
       "    <tr>\n",
       "      <th>4</th>\n",
       "      <td>1634</td>\n",
       "      <td>bombing</td>\n",
       "      <td>NaN</td>\n",
       "      <td>Japan on Thursday marks the 70th anniversary o...</td>\n",
       "      <td>1</td>\n",
       "    </tr>\n",
       "  </tbody>\n",
       "</table>\n",
       "</div>"
      ],
      "text/plain": [
       "     id              keyword        location  \\\n",
       "0    59               ablaze  Live On Webcam   \n",
       "1   156           aftershock              US   \n",
       "2   171           aftershock     Switzerland   \n",
       "3   211  airplane%20accident             NaN   \n",
       "4  1634              bombing             NaN   \n",
       "\n",
       "                                                text target  \n",
       "0  Check these out: http://t.co/rOI2NSmEJJ http:/...      0  \n",
       "1  320 [IR] ICEMOON [AFTERSHOCK] | http://t.co/vA...      0  \n",
       "2  320 [IR] ICEMOON [AFTERSHOCK] | http://t.co/TH...      0  \n",
       "3  Experts in France begin examining airplane deb...      1  \n",
       "4  Japan on Thursday marks the 70th anniversary o...      1  "
      ]
     },
     "execution_count": 16,
     "metadata": {},
     "output_type": "execute_result"
    }
   ],
   "source": [
    "# Clean up tweet content\n",
    "\n",
    "lemmatizer = WordNetLemmatizer()\n",
    "stemmer = PorterStemmer() \n",
    "\n",
    "def convert_abbrev(word):\n",
    "    return abbreviations[word] if word in abbreviations.keys() else word\n",
    "\n",
    "def preprocess_text(sentence):\n",
    "    sentence = str(sentence)\n",
    "    sentence = sentence.lower()          \n",
    "    sentence = sentence.replace('{html}', \"\") \n",
    "    rem_url = re.sub(r'http\\S+', '', sentence)\n",
    "    converted_abbrev = \" \".join([convert_abbrev(word) for word in rem_url.split(\" \")])\n",
    "    cleanr = re.compile('[^a-z ]+')\n",
    "    rem_num_non_alpha = re.sub(cleanr, '', converted_abbrev)\n",
    "    tokenizer = RegexpTokenizer(r'\\w+')\n",
    "    tokens = tokenizer.tokenize(rem_num_non_alpha)\n",
    "    filtered_words = [w for w in tokens if len(w) > 2 if not w in stopwords.words('english')]\n",
    "#     stem_words = [stemmer.stem(w) for w in filtered_words]\n",
    "#     lemma_words=[lemmatizer.lemmatize(w) for w in stem_words]\n",
    "    return \" \".join(filtered_words)\n",
    "\n",
    "# train_set['clean_text'] = train_set['text'].map(lambda s:preprocess_text(s))\n",
    "train_set.head()"
   ]
  },
  {
   "cell_type": "code",
   "execution_count": 17,
   "id": "aafe4254",
   "metadata": {
    "execution": {
     "iopub.execute_input": "2022-08-15T08:39:36.969349Z",
     "iopub.status.busy": "2022-08-15T08:39:36.967772Z",
     "iopub.status.idle": "2022-08-15T08:39:37.436898Z",
     "shell.execute_reply": "2022-08-15T08:39:37.435237Z"
    },
    "papermill": {
     "duration": 0.481008,
     "end_time": "2022-08-15T08:39:37.439664",
     "exception": false,
     "start_time": "2022-08-15T08:39:36.958656",
     "status": "completed"
    },
    "tags": []
   },
   "outputs": [
    {
     "name": "stdout",
     "output_type": "stream",
     "text": [
      "Training Set X: (6720,), y: (6720,)\n",
      "Validation Set X: (765,), y: (765,)\n"
     ]
    }
   ],
   "source": [
    "X = train_set.loc(axis=1)['text'].to_numpy()\n",
    "y = train_set.loc(axis=1)['target'].to_numpy().astype('float32')\n",
    "\n",
    "random.seed(42)\n",
    "train_indices = random.sample(range(len(y)), 6720)\n",
    "valid_indices = []\n",
    "for i in range(len(y)):\n",
    "    if i not in train_indices:\n",
    "        valid_indices.append(i)\n",
    "\n",
    "X_train, y_train = X[train_indices], y[train_indices]\n",
    "X_val, y_val = X[valid_indices], y[valid_indices]\n",
    "\n",
    "print(f'Training Set X: {X_train.shape}, y: {y_train.shape}')\n",
    "print(f'Validation Set X: {X_val.shape}, y: {y_val.shape}')"
   ]
  },
  {
   "cell_type": "code",
   "execution_count": 18,
   "id": "4ae4ff0f",
   "metadata": {
    "execution": {
     "iopub.execute_input": "2022-08-15T08:39:37.457632Z",
     "iopub.status.busy": "2022-08-15T08:39:37.457337Z",
     "iopub.status.idle": "2022-08-15T08:39:37.463051Z",
     "shell.execute_reply": "2022-08-15T08:39:37.461961Z"
    },
    "papermill": {
     "duration": 0.016778,
     "end_time": "2022-08-15T08:39:37.465167",
     "exception": false,
     "start_time": "2022-08-15T08:39:37.448389",
     "status": "completed"
    },
    "tags": []
   },
   "outputs": [],
   "source": [
    "def create_input(text):\n",
    "    bert_preprocess_model = hub.KerasLayer(tfhub_handle_preprocess)\n",
    "    text_preprocessed = bert_preprocess_model(text)\n",
    "    return text_preprocessed[\"input_word_ids\"], text_preprocessed[\"input_type_ids\"], text_preprocessed[\"input_mask\"]"
   ]
  },
  {
   "cell_type": "code",
   "execution_count": 19,
   "id": "f111e2be",
   "metadata": {
    "execution": {
     "iopub.execute_input": "2022-08-15T08:39:37.482092Z",
     "iopub.status.busy": "2022-08-15T08:39:37.481825Z",
     "iopub.status.idle": "2022-08-15T08:41:59.273216Z",
     "shell.execute_reply": "2022-08-15T08:41:59.272244Z"
    },
    "papermill": {
     "duration": 141.802144,
     "end_time": "2022-08-15T08:41:59.275317",
     "exception": false,
     "start_time": "2022-08-15T08:39:37.473173",
     "status": "completed"
    },
    "tags": []
   },
   "outputs": [
    {
     "name": "stderr",
     "output_type": "stream",
     "text": [
      "/opt/conda/lib/python3.7/site-packages/ipykernel_launcher.py:10: TqdmDeprecationWarning: This function will be removed in tqdm==5.0.0\n",
      "Please use `tqdm.notebook.tqdm` instead of `tqdm.tqdm_notebook`\n",
      "  # Remove the CWD from sys.path while we load stuff.\n"
     ]
    },
    {
     "data": {
      "application/vnd.jupyter.widget-view+json": {
       "model_id": "61d0e2ac33c64a0da2d20377c2fe1bc3",
       "version_major": 2,
       "version_minor": 0
      },
      "text/plain": [
       "  0%|          | 0/42 [00:00<?, ?it/s]"
      ]
     },
     "metadata": {},
     "output_type": "display_data"
    }
   ],
   "source": [
    "from tqdm import tqdm_notebook as tqdm\n",
    "\n",
    "train_word_ids = np.empty((0,128)).astype('float32')\n",
    "train_type_ids = np.empty((0,128)).astype('float32')\n",
    "train_mask = np.empty((0,128)).astype('float32')\n",
    "\n",
    "batch = 160\n",
    "num_steps = len(X_train) // batch\n",
    "\n",
    "for i in tqdm(range(num_steps)):\n",
    "    word_id, type_id, mask = create_input(X_train[i*batch:(i+1)*batch])\n",
    "    train_word_ids = np.append(train_word_ids, word_id, axis=0)\n",
    "    train_type_ids = np.append(train_type_ids, type_id, axis=0)\n",
    "    train_mask = np.append(train_mask, mask, axis=0)"
   ]
  },
  {
   "cell_type": "code",
   "execution_count": 20,
   "id": "f37ee568",
   "metadata": {
    "execution": {
     "iopub.execute_input": "2022-08-15T08:41:59.292848Z",
     "iopub.status.busy": "2022-08-15T08:41:59.292551Z",
     "iopub.status.idle": "2022-08-15T08:41:59.296633Z",
     "shell.execute_reply": "2022-08-15T08:41:59.295607Z"
    },
    "papermill": {
     "duration": 0.015608,
     "end_time": "2022-08-15T08:41:59.299176",
     "exception": false,
     "start_time": "2022-08-15T08:41:59.283568",
     "status": "completed"
    },
    "tags": []
   },
   "outputs": [],
   "source": [
    "# %%time\n",
    "# train_word_ids, train_type_ids, train_mask = create_input(X_train)"
   ]
  },
  {
   "cell_type": "code",
   "execution_count": 21,
   "id": "b689b5cb",
   "metadata": {
    "execution": {
     "iopub.execute_input": "2022-08-15T08:41:59.316704Z",
     "iopub.status.busy": "2022-08-15T08:41:59.316376Z",
     "iopub.status.idle": "2022-08-15T08:41:59.321950Z",
     "shell.execute_reply": "2022-08-15T08:41:59.321016Z"
    },
    "papermill": {
     "duration": 0.017912,
     "end_time": "2022-08-15T08:41:59.324914",
     "exception": false,
     "start_time": "2022-08-15T08:41:59.307002",
     "status": "completed"
    },
    "tags": []
   },
   "outputs": [
    {
     "name": "stdout",
     "output_type": "stream",
     "text": [
      "Shape of train_word_ids: (6720, 128)\n",
      "Shape of train_type_ids: (6720, 128)\n",
      "Shape of train_mask: (6720, 128)\n"
     ]
    }
   ],
   "source": [
    "print('Shape of train_word_ids:', train_word_ids.shape)\n",
    "print('Shape of train_type_ids:', train_type_ids.shape)\n",
    "print('Shape of train_mask:', train_mask.shape)"
   ]
  },
  {
   "cell_type": "code",
   "execution_count": 22,
   "id": "f219e7c9",
   "metadata": {
    "execution": {
     "iopub.execute_input": "2022-08-15T08:41:59.343346Z",
     "iopub.status.busy": "2022-08-15T08:41:59.342804Z",
     "iopub.status.idle": "2022-08-15T08:42:19.488778Z",
     "shell.execute_reply": "2022-08-15T08:42:19.487145Z"
    },
    "papermill": {
     "duration": 20.161425,
     "end_time": "2022-08-15T08:42:19.494514",
     "exception": false,
     "start_time": "2022-08-15T08:41:59.333089",
     "status": "completed"
    },
    "tags": []
   },
   "outputs": [
    {
     "name": "stdout",
     "output_type": "stream",
     "text": [
      "CPU times: user 27.8 s, sys: 6.61 s, total: 34.4 s\n",
      "Wall time: 20.1 s\n"
     ]
    }
   ],
   "source": [
    "%%time\n",
    "val_word_ids, val_type_ids, val_mask = create_input(X_val)"
   ]
  },
  {
   "cell_type": "code",
   "execution_count": 23,
   "id": "7bdc9dce",
   "metadata": {
    "execution": {
     "iopub.execute_input": "2022-08-15T08:42:19.526239Z",
     "iopub.status.busy": "2022-08-15T08:42:19.525523Z",
     "iopub.status.idle": "2022-08-15T08:42:19.534636Z",
     "shell.execute_reply": "2022-08-15T08:42:19.533270Z"
    },
    "papermill": {
     "duration": 0.034254,
     "end_time": "2022-08-15T08:42:19.537209",
     "exception": false,
     "start_time": "2022-08-15T08:42:19.502955",
     "status": "completed"
    },
    "tags": []
   },
   "outputs": [
    {
     "name": "stdout",
     "output_type": "stream",
     "text": [
      "Shape of valid_word_ids: (765, 128)\n",
      "Shape of valid_type_ids: (765, 128)\n",
      "Shape of valid_mask: (765, 128)\n"
     ]
    }
   ],
   "source": [
    "print('Shape of valid_word_ids:', val_word_ids.shape)\n",
    "print('Shape of valid_type_ids:', val_type_ids.shape)\n",
    "print('Shape of valid_mask:', val_mask.shape)"
   ]
  },
  {
   "cell_type": "code",
   "execution_count": 24,
   "id": "5cd3a5aa",
   "metadata": {
    "execution": {
     "iopub.execute_input": "2022-08-15T08:42:19.555890Z",
     "iopub.status.busy": "2022-08-15T08:42:19.555184Z",
     "iopub.status.idle": "2022-08-15T08:42:19.565417Z",
     "shell.execute_reply": "2022-08-15T08:42:19.564459Z"
    },
    "papermill": {
     "duration": 0.021396,
     "end_time": "2022-08-15T08:42:19.567612",
     "exception": false,
     "start_time": "2022-08-15T08:42:19.546216",
     "status": "completed"
    },
    "tags": []
   },
   "outputs": [],
   "source": [
    "loss = tf.keras.losses.BinaryCrossentropy()\n",
    "metrics = tf.metrics.BinaryAccuracy()"
   ]
  },
  {
   "cell_type": "code",
   "execution_count": 25,
   "id": "1565f139",
   "metadata": {
    "execution": {
     "iopub.execute_input": "2022-08-15T08:42:19.586553Z",
     "iopub.status.busy": "2022-08-15T08:42:19.584759Z",
     "iopub.status.idle": "2022-08-15T08:42:19.591728Z",
     "shell.execute_reply": "2022-08-15T08:42:19.590341Z"
    },
    "papermill": {
     "duration": 0.017926,
     "end_time": "2022-08-15T08:42:19.593648",
     "exception": false,
     "start_time": "2022-08-15T08:42:19.575722",
     "status": "completed"
    },
    "tags": []
   },
   "outputs": [
    {
     "name": "stdout",
     "output_type": "stream",
     "text": [
      "42 steps per epoch\n",
      "420 training steps\n"
     ]
    }
   ],
   "source": [
    "NUM_EPOCHS = 10\n",
    "BATCH_SIZE = 160\n",
    "STEPS_PER_EPOCH = len(y_train) // BATCH_SIZE\n",
    "print(f'{STEPS_PER_EPOCH} steps per epoch')\n",
    "\n",
    "NUM_TRAIN_STEPS = STEPS_PER_EPOCH * NUM_EPOCHS\n",
    "NUM_WARMUP_STEPS = int(0.1*NUM_TRAIN_STEPS)\n",
    "print(f'{NUM_TRAIN_STEPS} training steps')"
   ]
  },
  {
   "cell_type": "code",
   "execution_count": 26,
   "id": "db48bfa7",
   "metadata": {
    "execution": {
     "iopub.execute_input": "2022-08-15T08:42:19.612136Z",
     "iopub.status.busy": "2022-08-15T08:42:19.611244Z",
     "iopub.status.idle": "2022-08-15T08:42:19.617087Z",
     "shell.execute_reply": "2022-08-15T08:42:19.616237Z"
    },
    "papermill": {
     "duration": 0.017298,
     "end_time": "2022-08-15T08:42:19.619058",
     "exception": false,
     "start_time": "2022-08-15T08:42:19.601760",
     "status": "completed"
    },
    "tags": []
   },
   "outputs": [],
   "source": [
    "init_lr = 2e-5\n",
    "optimizer = optimization.create_optimizer(init_lr=init_lr,\n",
    "                                          num_train_steps=NUM_TRAIN_STEPS,\n",
    "                                          num_warmup_steps=NUM_WARMUP_STEPS,\n",
    "                                          optimizer_type='adamw')\n"
   ]
  },
  {
   "cell_type": "code",
   "execution_count": 27,
   "id": "d4b8bdc2",
   "metadata": {
    "execution": {
     "iopub.execute_input": "2022-08-15T08:42:19.638420Z",
     "iopub.status.busy": "2022-08-15T08:42:19.636895Z",
     "iopub.status.idle": "2022-08-15T08:42:19.650320Z",
     "shell.execute_reply": "2022-08-15T08:42:19.649501Z"
    },
    "papermill": {
     "duration": 0.024316,
     "end_time": "2022-08-15T08:42:19.652253",
     "exception": false,
     "start_time": "2022-08-15T08:42:19.627937",
     "status": "completed"
    },
    "tags": []
   },
   "outputs": [],
   "source": [
    "classifier_model.compile(optimizer=optimizer,\n",
    "                         loss=loss,\n",
    "                         metrics=metrics)"
   ]
  },
  {
   "cell_type": "code",
   "execution_count": 28,
   "id": "4c900bb7",
   "metadata": {
    "execution": {
     "iopub.execute_input": "2022-08-15T08:42:19.671111Z",
     "iopub.status.busy": "2022-08-15T08:42:19.670218Z",
     "iopub.status.idle": "2022-08-15T08:42:19.675324Z",
     "shell.execute_reply": "2022-08-15T08:42:19.674487Z"
    },
    "papermill": {
     "duration": 0.016412,
     "end_time": "2022-08-15T08:42:19.677303",
     "exception": false,
     "start_time": "2022-08-15T08:42:19.660891",
     "status": "completed"
    },
    "tags": []
   },
   "outputs": [],
   "source": [
    "early_stopping = tf.keras.callbacks.EarlyStopping(monitor='val_binary_accuracy', mode='max', patience=3, restore_best_weights=True)\n",
    "callback = [early_stopping]"
   ]
  },
  {
   "cell_type": "code",
   "execution_count": 29,
   "id": "af48c87d",
   "metadata": {
    "execution": {
     "iopub.execute_input": "2022-08-15T08:42:19.696096Z",
     "iopub.status.busy": "2022-08-15T08:42:19.695202Z",
     "iopub.status.idle": "2022-08-15T08:45:19.277910Z",
     "shell.execute_reply": "2022-08-15T08:45:19.276706Z"
    },
    "papermill": {
     "duration": 179.594989,
     "end_time": "2022-08-15T08:45:19.280584",
     "exception": false,
     "start_time": "2022-08-15T08:42:19.685595",
     "status": "completed"
    },
    "tags": []
   },
   "outputs": [
    {
     "name": "stdout",
     "output_type": "stream",
     "text": [
      "Epoch 1/10\n",
      "42/42 [==============================] - 26s 472ms/step - loss: 0.5912 - binary_accuracy: 0.6833 - val_loss: 0.4561 - val_binary_accuracy: 0.7948\n",
      "Epoch 2/10\n",
      "42/42 [==============================] - 19s 459ms/step - loss: 0.4377 - binary_accuracy: 0.8055 - val_loss: 0.4279 - val_binary_accuracy: 0.8039\n",
      "Epoch 3/10\n",
      "42/42 [==============================] - 19s 457ms/step - loss: 0.3885 - binary_accuracy: 0.8332 - val_loss: 0.4298 - val_binary_accuracy: 0.8000\n",
      "Epoch 4/10\n",
      "42/42 [==============================] - 19s 462ms/step - loss: 0.3622 - binary_accuracy: 0.8476 - val_loss: 0.4221 - val_binary_accuracy: 0.8105\n",
      "Epoch 5/10\n",
      "42/42 [==============================] - 19s 458ms/step - loss: 0.3334 - binary_accuracy: 0.8604 - val_loss: 0.4342 - val_binary_accuracy: 0.8157\n",
      "Epoch 6/10\n",
      "42/42 [==============================] - 19s 459ms/step - loss: 0.3121 - binary_accuracy: 0.8750 - val_loss: 0.4485 - val_binary_accuracy: 0.8170\n",
      "Epoch 7/10\n",
      "42/42 [==============================] - 19s 457ms/step - loss: 0.2957 - binary_accuracy: 0.8836 - val_loss: 0.4447 - val_binary_accuracy: 0.8105\n",
      "Epoch 8/10\n",
      "42/42 [==============================] - 19s 457ms/step - loss: 0.2862 - binary_accuracy: 0.8856 - val_loss: 0.4473 - val_binary_accuracy: 0.8078\n",
      "Epoch 9/10\n",
      "42/42 [==============================] - 19s 459ms/step - loss: 0.2776 - binary_accuracy: 0.8900 - val_loss: 0.4734 - val_binary_accuracy: 0.8065\n"
     ]
    }
   ],
   "source": [
    "history = classifier_model.fit(\n",
    "    [train_word_ids, train_type_ids, train_mask], y_train, \n",
    "    batch_size=BATCH_SIZE,\n",
    "    epochs=NUM_EPOCHS,\n",
    "    validation_data=([val_word_ids, val_type_ids, val_mask], y_val),\n",
    "    callbacks=callback\n",
    ")"
   ]
  },
  {
   "cell_type": "code",
   "execution_count": 30,
   "id": "b2b06090",
   "metadata": {
    "execution": {
     "iopub.execute_input": "2022-08-15T08:45:19.339492Z",
     "iopub.status.busy": "2022-08-15T08:45:19.338718Z",
     "iopub.status.idle": "2022-08-15T08:45:19.824944Z",
     "shell.execute_reply": "2022-08-15T08:45:19.823961Z"
    },
    "papermill": {
     "duration": 0.51847,
     "end_time": "2022-08-15T08:45:19.827826",
     "exception": false,
     "start_time": "2022-08-15T08:45:19.309356",
     "status": "completed"
    },
    "tags": []
   },
   "outputs": [
    {
     "data": {
      "text/plain": [
       "<matplotlib.legend.Legend at 0x7fe997dd33d0>"
      ]
     },
     "execution_count": 30,
     "metadata": {},
     "output_type": "execute_result"
    },
    {
     "data": {
      "image/png": "[encoded data removed]",
      "text/plain": [
       "<Figure size 1008x432 with 2 Axes>"
      ]
     },
     "metadata": {
      "needs_background": "light"
     },
     "output_type": "display_data"
    }
   ],
   "source": [
    "fig, axs = plt.subplots(ncols=2, nrows=1, figsize=(14,6))\n",
    "axs[0].plot(history.history['loss'], color='blue')\n",
    "axs[0].plot(history.history['val_loss'], color='red')\n",
    "axs[0].legend(['loss', 'val_loss'])\n",
    "\n",
    "axs[1].plot(history.history['binary_accuracy'], color='blue')\n",
    "axs[1].plot(history.history['val_binary_accuracy'], color='red')\n",
    "axs[1].legend(['binary_accuracy', 'val_binary_accuracy'])"
   ]
  },
  {
   "cell_type": "markdown",
   "id": "8fab82af",
   "metadata": {
    "papermill": {
     "duration": 0.047921,
     "end_time": "2022-08-15T08:45:19.926190",
     "exception": false,
     "start_time": "2022-08-15T08:45:19.878269",
     "status": "completed"
    },
    "tags": []
   },
   "source": [
    "### Test Model"
   ]
  },
  {
   "cell_type": "code",
   "execution_count": 31,
   "id": "0ca96d64",
   "metadata": {
    "execution": {
     "iopub.execute_input": "2022-08-15T08:45:20.020775Z",
     "iopub.status.busy": "2022-08-15T08:45:20.020363Z",
     "iopub.status.idle": "2022-08-15T08:45:20.028434Z",
     "shell.execute_reply": "2022-08-15T08:45:20.027522Z"
    },
    "papermill": {
     "duration": 0.056126,
     "end_time": "2022-08-15T08:45:20.030937",
     "exception": false,
     "start_time": "2022-08-15T08:45:19.974811",
     "status": "completed"
    },
    "tags": []
   },
   "outputs": [],
   "source": [
    "# test_set['clean_text'] = test_set['text'].map(lambda s:preprocess_text(s))\n",
    "X_test = test_set.loc(axis=1)['text'].to_numpy()\n",
    "test_ids = test.loc(axis=1)['id']"
   ]
  },
  {
   "cell_type": "code",
   "execution_count": 32,
   "id": "4c9e05b3",
   "metadata": {
    "execution": {
     "iopub.execute_input": "2022-08-15T08:45:20.130214Z",
     "iopub.status.busy": "2022-08-15T08:45:20.129873Z",
     "iopub.status.idle": "2022-08-15T08:50:46.602219Z",
     "shell.execute_reply": "2022-08-15T08:50:46.601292Z"
    },
    "papermill": {
     "duration": 326.557585,
     "end_time": "2022-08-15T08:50:46.632588",
     "exception": false,
     "start_time": "2022-08-15T08:45:20.075003",
     "status": "completed"
    },
    "tags": []
   },
   "outputs": [
    {
     "data": {
      "text/html": [
       "<div>\n",
       "<style scoped>\n",
       "    .dataframe tbody tr th:only-of-type {\n",
       "        vertical-align: middle;\n",
       "    }\n",
       "\n",
       "    .dataframe tbody tr th {\n",
       "        vertical-align: top;\n",
       "    }\n",
       "\n",
       "    .dataframe thead th {\n",
       "        text-align: right;\n",
       "    }\n",
       "</style>\n",
       "<table border=\"1\" class=\"dataframe\">\n",
       "  <thead>\n",
       "    <tr style=\"text-align: right;\">\n",
       "      <th></th>\n",
       "      <th>id</th>\n",
       "      <th>target</th>\n",
       "    </tr>\n",
       "  </thead>\n",
       "  <tbody>\n",
       "    <tr>\n",
       "      <th>3258</th>\n",
       "      <td>10861</td>\n",
       "      <td>1</td>\n",
       "    </tr>\n",
       "    <tr>\n",
       "      <th>3259</th>\n",
       "      <td>10865</td>\n",
       "      <td>1</td>\n",
       "    </tr>\n",
       "    <tr>\n",
       "      <th>3260</th>\n",
       "      <td>10868</td>\n",
       "      <td>1</td>\n",
       "    </tr>\n",
       "    <tr>\n",
       "      <th>3261</th>\n",
       "      <td>10874</td>\n",
       "      <td>1</td>\n",
       "    </tr>\n",
       "    <tr>\n",
       "      <th>3262</th>\n",
       "      <td>10875</td>\n",
       "      <td>1</td>\n",
       "    </tr>\n",
       "  </tbody>\n",
       "</table>\n",
       "</div>"
      ],
      "text/plain": [
       "         id  target\n",
       "3258  10861       1\n",
       "3259  10865       1\n",
       "3260  10868       1\n",
       "3261  10874       1\n",
       "3262  10875       1"
      ]
     },
     "execution_count": 32,
     "metadata": {},
     "output_type": "execute_result"
    }
   ],
   "source": [
    "y_test_pred = pd.DataFrame(data=test_ids, columns=['id'])\n",
    "y_test_pred['target'] = np.round(classifier_model.predict(create_input(X_test))).astype('int')\n",
    "y_test_pred.to_csv('./submission.csv', index=False)\n",
    "y_test_pred.tail()"
   ]
  },
  {
   "cell_type": "code",
   "execution_count": null,
   "id": "35ca809d",
   "metadata": {
    "papermill": {
     "duration": 0.028481,
     "end_time": "2022-08-15T08:50:46.690271",
     "exception": false,
     "start_time": "2022-08-15T08:50:46.661790",
     "status": "completed"
    },
    "tags": []
   },
   "outputs": [],
   "source": []
  }
 ],
 "metadata": {
  "kernelspec": {
   "display_name": "Python 3",
   "language": "python",
   "name": "python3"
  },
  "language_info": {
   "codemirror_mode": {
    "name": "ipython",
    "version": 3
   },
   "file_extension": ".py",
   "mimetype": "text/x-python",
   "name": "python",
   "nbconvert_exporter": "python",
   "pygments_lexer": "ipython3",
   "version": "3.7.12"
  },
  "papermill": {
   "default_parameters": {},
   "duration": 835.692166,
   "end_time": "2022-08-15T08:50:49.913894",
   "environment_variables": {},
   "exception": null,
   "input_path": "__notebook__.ipynb",
   "output_path": "__notebook__.ipynb",
   "parameters": {},
   "start_time": "2022-08-15T08:36:54.221728",
   "version": "2.3.4"
  },
  "widgets": {
   "application/vnd.jupyter.widget-state+json": {
    "state": {
     "082c4ae8144043fab9fd54ee21c6592d": {
      "model_module": "@jupyter-widgets/controls",
      "model_module_version": "1.5.0",
      "model_name": "ProgressStyleModel",
      "state": {
       "_model_module": "@jupyter-widgets/controls",
       "_model_module_version": "1.5.0",
       "_model_name": "ProgressStyleModel",
       "_view_count": null,
       "_view_module": "@jupyter-widgets/base",
       "_view_module_version": "1.2.0",
       "_view_name": "StyleView",
       "bar_color": null,
       "description_width": ""
      }
     },
     "0976a62c6c90471894ae500aa0de7af7": {
      "model_module": "@jupyter-widgets/base",
      "model_module_version": "1.2.0",
      "model_name": "LayoutModel",
      "state": {
       "_model_module": "@jupyter-widgets/base",
       "_model_module_version": "1.2.0",
       "_model_name": "LayoutModel",
       "_view_count": null,
       "_view_module": "@jupyter-widgets/base",
       "_view_module_version": "1.2.0",
       "_view_name": "LayoutView",
       "align_content": null,
       "align_items": null,
       "align_self": null,
       "border": null,
       "bottom": null,
       "display": null,
       "flex": null,
       "flex_flow": null,
       "grid_area": null,
       "grid_auto_columns": null,
       "grid_auto_flow": null,
       "grid_auto_rows": null,
       "grid_column": null,
       "grid_gap": null,
       "grid_row": null,
       "grid_template_areas": null,
       "grid_template_columns": null,
       "grid_template_rows": null,
       "height": null,
       "justify_content": null,
       "justify_items": null,
       "left": null,
       "margin": null,
       "max_height": null,
       "max_width": null,
       "min_height": null,
       "min_width": null,
       "object_fit": null,
       "object_position": null,
       "order": null,
       "overflow": null,
       "overflow_x": null,
       "overflow_y": null,
       "padding": null,
       "right": null,
       "top": null,
       "visibility": null,
       "width": null
      }
     },
     "1a8d675bb0bc474da7f94a017d3371d0": {
      "model_module": "@jupyter-widgets/base",
      "model_module_version": "1.2.0",
      "model_name": "LayoutModel",
      "state": {
       "_model_module": "@jupyter-widgets/base",
       "_model_module_version": "1.2.0",
       "_model_name": "LayoutModel",
       "_view_count": null,
       "_view_module": "@jupyter-widgets/base",
       "_view_module_version": "1.2.0",
       "_view_name": "LayoutView",
       "align_content": null,
       "align_items": null,
       "align_self": null,
       "border": null,
       "bottom": null,
       "display": null,
       "flex": null,
       "flex_flow": null,
       "grid_area": null,
       "grid_auto_columns": null,
       "grid_auto_flow": null,
       "grid_auto_rows": null,
       "grid_column": null,
       "grid_gap": null,
       "grid_row": null,
       "grid_template_areas": null,
       "grid_template_columns": null,
       "grid_template_rows": null,
       "height": null,
       "justify_content": null,
       "justify_items": null,
       "left": null,
       "margin": null,
       "max_height": null,
       "max_width": null,
       "min_height": null,
       "min_width": null,
       "object_fit": null,
       "object_position": null,
       "order": null,
       "overflow": null,
       "overflow_x": null,
       "overflow_y": null,
       "padding": null,
       "right": null,
       "top": null,
       "visibility": null,
       "width": null
      }
     },
     "2360b4b54efd4f38baffad563e57cd14": {
      "model_module": "@jupyter-widgets/base",
      "model_module_version": "1.2.0",
      "model_name": "LayoutModel",
      "state": {
       "_model_module": "@jupyter-widgets/base",
       "_model_module_version": "1.2.0",
       "_model_name": "LayoutModel",
       "_view_count": null,
       "_view_module": "@jupyter-widgets/base",
       "_view_module_version": "1.2.0",
       "_view_name": "LayoutView",
       "align_content": null,
       "align_items": null,
       "align_self": null,
       "border": null,
       "bottom": null,
       "display": null,
       "flex": null,
       "flex_flow": null,
       "grid_area": null,
       "grid_auto_columns": null,
       "grid_auto_flow": null,
       "grid_auto_rows": null,
       "grid_column": null,
       "grid_gap": null,
       "grid_row": null,
       "grid_template_areas": null,
       "grid_template_columns": null,
       "grid_template_rows": null,
       "height": null,
       "justify_content": null,
       "justify_items": null,
       "left": null,
       "margin": null,
       "max_height": null,
       "max_width": null,
       "min_height": null,
       "min_width": null,
       "object_fit": null,
       "object_position": null,
       "order": null,
       "overflow": null,
       "overflow_x": null,
       "overflow_y": null,
       "padding": null,
       "right": null,
       "top": null,
       "visibility": null,
       "width": null
      }
     },
     "25ee4e04f8164eebafc365fca916a2df": {
      "model_module": "@jupyter-widgets/controls",
      "model_module_version": "1.5.0",
      "model_name": "DescriptionStyleModel",
      "state": {
       "_model_module": "@jupyter-widgets/controls",
       "_model_module_version": "1.5.0",
       "_model_name": "DescriptionStyleModel",
       "_view_count": null,
       "_view_module": "@jupyter-widgets/base",
       "_view_module_version": "1.2.0",
       "_view_name": "StyleView",
       "description_width": ""
      }
     },
     "4fb6f51c70cd45b1813ae138734a4f29": {
      "model_module": "@jupyter-widgets/controls",
      "model_module_version": "1.5.0",
      "model_name": "DescriptionStyleModel",
      "state": {
       "_model_module": "@jupyter-widgets/controls",
       "_model_module_version": "1.5.0",
       "_model_name": "DescriptionStyleModel",
       "_view_count": null,
       "_view_module": "@jupyter-widgets/base",
       "_view_module_version": "1.2.0",
       "_view_name": "StyleView",
       "description_width": ""
      }
     },
     "52e0e051b7904be09eb394846b059461": {
      "model_module": "@jupyter-widgets/base",
      "model_module_version": "1.2.0",
      "model_name": "LayoutModel",
      "state": {
       "_model_module": "@jupyter-widgets/base",
       "_model_module_version": "1.2.0",
       "_model_name": "LayoutModel",
       "_view_count": null,
       "_view_module": "@jupyter-widgets/base",
       "_view_module_version": "1.2.0",
       "_view_name": "LayoutView",
       "align_content": null,
       "align_items": null,
       "align_self": null,
       "border": null,
       "bottom": null,
       "display": null,
       "flex": null,
       "flex_flow": null,
       "grid_area": null,
       "grid_auto_columns": null,
       "grid_auto_flow": null,
       "grid_auto_rows": null,
       "grid_column": null,
       "grid_gap": null,
       "grid_row": null,
       "grid_template_areas": null,
       "grid_template_columns": null,
       "grid_template_rows": null,
       "height": null,
       "justify_content": null,
       "justify_items": null,
       "left": null,
       "margin": null,
       "max_height": null,
       "max_width": null,
       "min_height": null,
       "min_width": null,
       "object_fit": null,
       "object_position": null,
       "order": null,
       "overflow": null,
       "overflow_x": null,
       "overflow_y": null,
       "padding": null,
       "right": null,
       "top": null,
       "visibility": null,
       "width": null
      }
     },
     "61d0e2ac33c64a0da2d20377c2fe1bc3": {
      "model_module": "@jupyter-widgets/controls",
      "model_module_version": "1.5.0",
      "model_name": "HBoxModel",
      "state": {
       "_dom_classes": [],
       "_model_module": "@jupyter-widgets/controls",
       "_model_module_version": "1.5.0",
       "_model_name": "HBoxModel",
       "_view_count": null,
       "_view_module": "@jupyter-widgets/controls",
       "_view_module_version": "1.5.0",
       "_view_name": "HBoxView",
       "box_style": "",
       "children": [
        "IPY_MODEL_9d79e502e37a45d6bf549ce80ac90b81",
        "IPY_MODEL_df140509047046bfb0f336e053faf89c",
        "IPY_MODEL_96e03e02ab904eb0a6a27e4c3b7143a2"
       ],
       "layout": "IPY_MODEL_0976a62c6c90471894ae500aa0de7af7"
      }
     },
     "96e03e02ab904eb0a6a27e4c3b7143a2": {
      "model_module": "@jupyter-widgets/controls",
      "model_module_version": "1.5.0",
      "model_name": "HTMLModel",
      "state": {
       "_dom_classes": [],
       "_model_module": "@jupyter-widgets/controls",
       "_model_module_version": "1.5.0",
       "_model_name": "HTMLModel",
       "_view_count": null,
       "_view_module": "@jupyter-widgets/controls",
       "_view_module_version": "1.5.0",
       "_view_name": "HTMLView",
       "description": "",
       "description_tooltip": null,
       "layout": "IPY_MODEL_52e0e051b7904be09eb394846b059461",
       "placeholder": "​",
       "style": "IPY_MODEL_4fb6f51c70cd45b1813ae138734a4f29",
       "value": " 42/42 [02:21&lt;00:00,  3.54s/it]"
      }
     },
     "9d79e502e37a45d6bf549ce80ac90b81": {
      "model_module": "@jupyter-widgets/controls",
      "model_module_version": "1.5.0",
      "model_name": "HTMLModel",
      "state": {
       "_dom_classes": [],
       "_model_module": "@jupyter-widgets/controls",
       "_model_module_version": "1.5.0",
       "_model_name": "HTMLModel",
       "_view_count": null,
       "_view_module": "@jupyter-widgets/controls",
       "_view_module_version": "1.5.0",
       "_view_name": "HTMLView",
       "description": "",
       "description_tooltip": null,
       "layout": "IPY_MODEL_1a8d675bb0bc474da7f94a017d3371d0",
       "placeholder": "​",
       "style": "IPY_MODEL_25ee4e04f8164eebafc365fca916a2df",
       "value": "100%"
      }
     },
     "df140509047046bfb0f336e053faf89c": {
      "model_module": "@jupyter-widgets/controls",
      "model_module_version": "1.5.0",
      "model_name": "FloatProgressModel",
      "state": {
       "_dom_classes": [],
       "_model_module": "@jupyter-widgets/controls",
       "_model_module_version": "1.5.0",
       "_model_name": "FloatProgressModel",
       "_view_count": null,
       "_view_module": "@jupyter-widgets/controls",
       "_view_module_version": "1.5.0",
       "_view_name": "ProgressView",
       "bar_style": "success",
       "description": "",
       "description_tooltip": null,
       "layout": "IPY_MODEL_2360b4b54efd4f38baffad563e57cd14",
       "max": 42.0,
       "min": 0.0,
       "orientation": "horizontal",
       "style": "IPY_MODEL_082c4ae8144043fab9fd54ee21c6592d",
       "value": 42.0
      }
     }
    },
    "version_major": 2,
    "version_minor": 0
   }
  }
 },
 "nbformat": 4,
 "nbformat_minor": 5
}
